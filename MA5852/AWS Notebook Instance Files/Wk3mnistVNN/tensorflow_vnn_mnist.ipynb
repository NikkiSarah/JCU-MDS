{
 "cells": [
  {
   "cell_type": "markdown",
   "metadata": {},
   "source": [
    "# Train and Host a Keras Model on Amazon SageMaker\n",
    "\n",
    "Amazon SageMaker is a fully-managed service that provides developers and data scientists with the ability to build, train, and deploy machine learning (ML) models quickly. Amazon SageMaker removes the heavy lifting from each step of the machine learning process to make it easier to develop high-quality models. The SageMaker Python SDK makes it easy to train and deploy models in Amazon SageMaker with several different machine learning and deep learning frameworks, including TensorFlow and Keras.\n",
    "\n",
    "In this notebook, we train and host a [Keras Sequential model](https://keras.io/getting-started/sequential-model-guide) on SageMaker. The model used for this notebook is a simple multi-layer perceptron neural network (VNN)."
   ]
  },
  {
   "cell_type": "markdown",
   "metadata": {},
   "source": [
    "## Setup\n",
    "\n",
    "First check the directory structure and modify permissions if a lost+found folder is present with root group and/or owner."
   ]
  },
  {
   "cell_type": "code",
   "execution_count": 1,
   "metadata": {},
   "outputs": [
    {
     "name": "stdout",
     "output_type": "stream",
     "text": [
      "total 240\n",
      "drwxrwxr-x 2 ec2-user ec2-user   4096 May 15 11:02 data\n",
      "drwx------ 2 ec2-user ec2-user  16384 May 15 10:52 lost+found\n",
      "-rw-rw-r-- 1 ec2-user ec2-user   4268 May 15 10:57 mnist_vnn_tf2.py\n",
      "-rw-rw-r-- 1 ec2-user ec2-user 217035 May 15 11:40 tensorflow_vnn_mnist.ipynb\n"
     ]
    }
   ],
   "source": [
    "%%sh\n",
    "ls -l"
   ]
  },
  {
   "cell_type": "code",
   "execution_count": 2,
   "metadata": {},
   "outputs": [
    {
     "name": "stdout",
     "output_type": "stream",
     "text": [
      "total 240\n",
      "drwxrwxr-x 2 ec2-user ec2-user   4096 May 15 11:02 data\n",
      "drwx------ 2 ec2-user ec2-user  16384 May 15 10:52 lost+found\n",
      "-rw-rw-r-- 1 ec2-user ec2-user   4268 May 15 10:57 mnist_vnn_tf2.py\n",
      "-rw-rw-r-- 1 ec2-user ec2-user 217035 May 15 11:40 tensorflow_vnn_mnist.ipynb\n"
     ]
    },
    {
     "name": "stderr",
     "output_type": "stream",
     "text": [
      "sh: line 3: fg: no job control\n"
     ]
    }
   ],
   "source": [
    "%%sh\n",
    "sudo chown ec2-user lost+found\n",
    "\n",
    "%%sh\n",
    "ls -l"
   ]
  },
  {
   "cell_type": "code",
   "execution_count": 3,
   "metadata": {},
   "outputs": [
    {
     "name": "stdout",
     "output_type": "stream",
     "text": [
      "total 240\n",
      "drwxrwxr-x 2 ec2-user ec2-user   4096 May 15 11:02 data\n",
      "drwx------ 2 ec2-user ec2-user  16384 May 15 10:52 lost+found\n",
      "-rw-rw-r-- 1 ec2-user ec2-user   4268 May 15 10:57 mnist_vnn_tf2.py\n",
      "-rw-rw-r-- 1 ec2-user ec2-user 217035 May 15 11:40 tensorflow_vnn_mnist.ipynb\n"
     ]
    },
    {
     "name": "stderr",
     "output_type": "stream",
     "text": [
      "sh: line 3: fg: no job control\n"
     ]
    }
   ],
   "source": [
    "%%sh\n",
    "sudo chgrp ec2-user lost+found\n",
    "\n",
    "%%sh\n",
    "ls -l "
   ]
  },
  {
   "cell_type": "markdown",
   "metadata": {},
   "source": [
    "Next define a few variables that will be needed later. Don't forget to change the kernel to **conda_tensorflow_p36**."
   ]
  },
  {
   "cell_type": "code",
   "execution_count": 4,
   "metadata": {},
   "outputs": [],
   "source": [
    "import sagemaker\n",
    "from sagemaker import get_execution_role\n",
    "\n",
    "sess = sagemaker.Session()\n",
    "\n",
    "role = get_execution_role()"
   ]
  },
  {
   "cell_type": "markdown",
   "metadata": {},
   "source": [
    "## The MNIST dataset\n",
    "\n",
    "The [MNIST dataset](https://deepai.org/dataset/mnist) is a low-complexity data collection of hand-written digits used to train and test various supervised machine learning algorithmsm. It is also considered to be the \"Hello, World!\" of machine learning. The database contains 70,000 28x28 black and white images representing the digits zero through nine. It is split into two subsets, with 60,000 images belonging to the training set and 10,000 images belonging to the testing set. The separation of images ensures that given what an adequately trained model has learned previously, it can accurately classify relevant images not previously examined."
   ]
  },
  {
   "cell_type": "markdown",
   "metadata": {},
   "source": [
    "### Prepare the dataset for training"
   ]
  },
  {
   "cell_type": "code",
   "execution_count": 7,
   "metadata": {},
   "outputs": [
    {
     "name": "stderr",
     "output_type": "stream",
     "text": [
      "Using TensorFlow backend.\n"
     ]
    },
    {
     "name": "stdout",
     "output_type": "stream",
     "text": [
      "WARNING:tensorflow:From /home/ec2-user/anaconda3/envs/tensorflow_p36/cpu/lib/python3.6/site-packages/tensorflow_core/__init__.py:1473: The name tf.estimator.inputs is deprecated. Please use tf.compat.v1.estimator.inputs instead.\n",
      "\n",
      "Downloading data from https://s3.amazonaws.com/img-datasets/mnist.npz\n",
      "11493376/11490434 [==============================] - 3s 0us/step\n"
     ]
    }
   ],
   "source": [
    "# Import os, keras, numpy, pyplot and the MNIST data \n",
    "import os\n",
    "import keras\n",
    "import numpy as np\n",
    "from keras.datasets import mnist\n",
    "from matplotlib import pyplot\n",
    "\n",
    "# mnist = tf.keras.datasets.mnist # get mnist from keras\n",
    "\n",
    "(x_train, y_train), (x_val, y_val) = mnist.load_data()"
   ]
  },
  {
   "cell_type": "code",
   "execution_count": 8,
   "metadata": {},
   "outputs": [
    {
     "name": "stdout",
     "output_type": "stream",
     "text": [
      "x_train_shape & data type: ((60000, 28, 28), dtype('uint8'))\n",
      "y_train_shape & data type: ((60000,), dtype('uint8'))\n"
     ]
    },
    {
     "data": {
      "image/png": "[encoded data removed]",
      "text/plain": [
       "<Figure size 432x288 with 9 Axes>"
      ]
     },
     "metadata": {
      "needs_background": "light"
     },
     "output_type": "display_data"
    }
   ],
   "source": [
    "# Take a quick look at the data \n",
    "\n",
    "# each image is represented as a 28x28 pixel grayscale images\n",
    "## view shape and type of data\n",
    "xtr = x_train.shape, x_train.dtype\n",
    "ytr = y_train.shape, y_train.dtype\n",
    "\n",
    "print(\"x_train_shape & data type:\", xtr)\n",
    "print(\"y_train_shape & data type:\", ytr)\n",
    "\n",
    "# plot some raw pixel data\n",
    "for i in range(9):  \n",
    "    pyplot.subplot(330 + 1 + i)\n",
    "    pyplot.imshow(x_train[i], cmap=pyplot.get_cmap('gray'))"
   ]
  },
  {
   "cell_type": "code",
   "execution_count": 9,
   "metadata": {},
   "outputs": [],
   "source": [
    "# Create local directory for the data and save the training and test data there\n",
    "os.makedirs(\"./data\", exist_ok=True)\n",
    "np.savez('./data/training', image = x_train, label=y_train)\n",
    "np.savez('./data/test', image=x_val, label=y_val)"
   ]
  },
  {
   "cell_type": "code",
   "execution_count": 10,
   "metadata": {},
   "outputs": [
    {
     "name": "stdout",
     "output_type": "stream",
     "text": [
      "total 53668\n",
      "-rw-rw-r-- 1 ec2-user ec2-user  7850506 May 16 01:56 test.npz\n",
      "-rw-rw-r-- 1 ec2-user ec2-user 47100506 May 16 01:56 training.npz\n"
     ]
    }
   ],
   "source": [
    "%%sh \n",
    "ls -l data ## Check that the directories have been created and the files have been saved successfully"
   ]
  },
  {
   "cell_type": "markdown",
   "metadata": {},
   "source": [
    "### Verify the training code"
   ]
  },
  {
   "cell_type": "markdown",
   "metadata": {},
   "source": [
    "Next train the model on the local instance - this is an optional step and is to check if the code will run on AWS. The model is trained using TensorFlow() to create a tf_estimator object.\n",
    "\n",
    "In more detail, before running the baseline training job, [the SageMaker Python SDK's Local Mode feature](https://sagemaker.readthedocs.io/en/stable/overview.html#local-mode) is first used to check that the code works with SageMaker's TensorFlow environment. Local Mode downloads the [prebuilt Docker image for TensorFlow](https://docs.aws.amazon.com/deep-learning-containers/latest/devguide/deep-learning-containers-images.html) and runs a Docker container locally for a training job. A TensorFlow estimator is created, and the `instance_type` is specified as to be `'local'` or `'local_gpu'`, depending on the local instance type. This tells the estimator to run the training job locally (as opposed to on SageMaker). The  training code is also only run for only one epoch because the intent is to verify the code, not train an accurate model."
   ]
  },
  {
   "cell_type": "markdown",
   "metadata": {},
   "source": [
    "**Don't forget to upload the python script into the same notebook instance.**"
   ]
  },
  {
   "cell_type": "code",
   "execution_count": 11,
   "metadata": {},
   "outputs": [],
   "source": [
    "import subprocess\n",
    "# import tensorflow from sagemaker\n",
    "from sagemaker.tensorflow import TensorFlow\n",
    "\n",
    "# Set environment variables - file paths to data and for output\n",
    "local_training_input_path = 'file://data/training.npz'\n",
    "local_test_input_path = 'file://data/test.npz'\n",
    "output = 'file:///tmp'\n",
    "\n",
    "instance_type = \"local\"\n",
    "\n",
    "if subprocess.call(\"nvidia-smi\") == 0:\n",
    "    instance_type = \"local_gpu\" # set instance_type to GPU if one is present\n",
    "    \n",
    "local_hyperparameters = {\"epochs\": 1, \"batch-size\": 64}\n",
    "\n",
    "tf_estimator = TensorFlow(entry_point='mnist_vnn_tf2.py', # path to local python source file to be executed\n",
    "                          role = role, # the IAM ROLE ARN for the model - unique user ID\n",
    "                          source_dir ='.', # path to the directory where any other dependancies are apart from entry point\n",
    "                          instance_count = 1, #the number of EC2 intances to use\n",
    "                          instance_type = instance_type, # Type of EC2 instance to use local = this one! \n",
    "                          framework_version = '2.1.0', # Tensorflow version for executing the tf code\n",
    "                          py_version ='py3',\n",
    "                          script_mode =True,\n",
    "                          hyperparameters=local_hyperparameters,\n",
    "                          output_path = output) # location for saving the results. Default = saved in the default S3 bucket."
   ]
  },
  {
   "cell_type": "code",
   "execution_count": 12,
   "metadata": {},
   "outputs": [
    {
     "name": "stdout",
     "output_type": "stream",
     "text": [
      "Creating a3ylmtbsrd-algo-1-8wj8z ... \n",
      "Creating a3ylmtbsrd-algo-1-8wj8z ... done\n",
      "Attaching to a3ylmtbsrd-algo-1-8wj8z\n",
      "\u001b[36ma3ylmtbsrd-algo-1-8wj8z |\u001b[0m 2021-05-16 01:58:42,148 sagemaker-containers INFO     Imported framework sagemaker_tensorflow_container.training\n",
      "\u001b[36ma3ylmtbsrd-algo-1-8wj8z |\u001b[0m 2021-05-16 01:58:42,155 sagemaker-containers INFO     No GPUs detected (normal if no gpus installed)\n",
      "\u001b[36ma3ylmtbsrd-algo-1-8wj8z |\u001b[0m 2021-05-16 01:58:42,987 sagemaker-containers INFO     No GPUs detected (normal if no gpus installed)\n",
      "\u001b[36ma3ylmtbsrd-algo-1-8wj8z |\u001b[0m 2021-05-16 01:58:43,007 sagemaker-containers INFO     No GPUs detected (normal if no gpus installed)\n",
      "\u001b[36ma3ylmtbsrd-algo-1-8wj8z |\u001b[0m 2021-05-16 01:58:43,026 sagemaker-containers INFO     No GPUs detected (normal if no gpus installed)\n",
      "\u001b[36ma3ylmtbsrd-algo-1-8wj8z |\u001b[0m 2021-05-16 01:58:43,039 sagemaker-containers INFO     Invoking user script\n",
      "\u001b[36ma3ylmtbsrd-algo-1-8wj8z |\u001b[0m \n",
      "\u001b[36ma3ylmtbsrd-algo-1-8wj8z |\u001b[0m Training Env:\n",
      "\u001b[36ma3ylmtbsrd-algo-1-8wj8z |\u001b[0m \n",
      "\u001b[36ma3ylmtbsrd-algo-1-8wj8z |\u001b[0m {\n",
      "\u001b[36ma3ylmtbsrd-algo-1-8wj8z |\u001b[0m     \"additional_framework_parameters\": {},\n",
      "\u001b[36ma3ylmtbsrd-algo-1-8wj8z |\u001b[0m     \"channel_input_dirs\": {\n",
      "\u001b[36ma3ylmtbsrd-algo-1-8wj8z |\u001b[0m         \"training\": \"/opt/ml/input/data/training\",\n",
      "\u001b[36ma3ylmtbsrd-algo-1-8wj8z |\u001b[0m         \"validation\": \"/opt/ml/input/data/validation\"\n",
      "\u001b[36ma3ylmtbsrd-algo-1-8wj8z |\u001b[0m     },\n",
      "\u001b[36ma3ylmtbsrd-algo-1-8wj8z |\u001b[0m     \"current_host\": \"algo-1-8wj8z\",\n",
      "\u001b[36ma3ylmtbsrd-algo-1-8wj8z |\u001b[0m     \"framework_module\": \"sagemaker_tensorflow_container.training:main\",\n",
      "\u001b[36ma3ylmtbsrd-algo-1-8wj8z |\u001b[0m     \"hosts\": [\n",
      "\u001b[36ma3ylmtbsrd-algo-1-8wj8z |\u001b[0m         \"algo-1-8wj8z\"\n",
      "\u001b[36ma3ylmtbsrd-algo-1-8wj8z |\u001b[0m     ],\n",
      "\u001b[36ma3ylmtbsrd-algo-1-8wj8z |\u001b[0m     \"hyperparameters\": {\n",
      "\u001b[36ma3ylmtbsrd-algo-1-8wj8z |\u001b[0m         \"epochs\": 1,\n",
      "\u001b[36ma3ylmtbsrd-algo-1-8wj8z |\u001b[0m         \"batch-size\": 64,\n",
      "\u001b[36ma3ylmtbsrd-algo-1-8wj8z |\u001b[0m         \"model_dir\": \"file:/tmp/tensorflow-training-2021-05-16-01-57-23-645/model\"\n",
      "\u001b[36ma3ylmtbsrd-algo-1-8wj8z |\u001b[0m     },\n",
      "\u001b[36ma3ylmtbsrd-algo-1-8wj8z |\u001b[0m     \"input_config_dir\": \"/opt/ml/input/config\",\n",
      "\u001b[36ma3ylmtbsrd-algo-1-8wj8z |\u001b[0m     \"input_data_config\": {\n",
      "\u001b[36ma3ylmtbsrd-algo-1-8wj8z |\u001b[0m         \"training\": {\n",
      "\u001b[36ma3ylmtbsrd-algo-1-8wj8z |\u001b[0m             \"TrainingInputMode\": \"File\"\n",
      "\u001b[36ma3ylmtbsrd-algo-1-8wj8z |\u001b[0m         },\n",
      "\u001b[36ma3ylmtbsrd-algo-1-8wj8z |\u001b[0m         \"validation\": {\n",
      "\u001b[36ma3ylmtbsrd-algo-1-8wj8z |\u001b[0m             \"TrainingInputMode\": \"File\"\n",
      "\u001b[36ma3ylmtbsrd-algo-1-8wj8z |\u001b[0m         }\n",
      "\u001b[36ma3ylmtbsrd-algo-1-8wj8z |\u001b[0m     },\n",
      "\u001b[36ma3ylmtbsrd-algo-1-8wj8z |\u001b[0m     \"input_dir\": \"/opt/ml/input\",\n",
      "\u001b[36ma3ylmtbsrd-algo-1-8wj8z |\u001b[0m     \"is_master\": true,\n",
      "\u001b[36ma3ylmtbsrd-algo-1-8wj8z |\u001b[0m     \"job_name\": \"tensorflow-training-2021-05-16-01-57-23-645\",\n",
      "\u001b[36ma3ylmtbsrd-algo-1-8wj8z |\u001b[0m     \"log_level\": 20,\n",
      "\u001b[36ma3ylmtbsrd-algo-1-8wj8z |\u001b[0m     \"master_hostname\": \"algo-1-8wj8z\",\n",
      "\u001b[36ma3ylmtbsrd-algo-1-8wj8z |\u001b[0m     \"model_dir\": \"/opt/ml/model\",\n",
      "\u001b[36ma3ylmtbsrd-algo-1-8wj8z |\u001b[0m     \"module_dir\": \"s3://sagemaker-ap-southeast-2-987959606453/tensorflow-training-2021-05-16-01-57-23-645/source/sourcedir.tar.gz\",\n",
      "\u001b[36ma3ylmtbsrd-algo-1-8wj8z |\u001b[0m     \"module_name\": \"mnist_vnn_tf2\",\n",
      "\u001b[36ma3ylmtbsrd-algo-1-8wj8z |\u001b[0m     \"network_interface_name\": \"eth0\",\n",
      "\u001b[36ma3ylmtbsrd-algo-1-8wj8z |\u001b[0m     \"num_cpus\": 2,\n",
      "\u001b[36ma3ylmtbsrd-algo-1-8wj8z |\u001b[0m     \"num_gpus\": 0,\n",
      "\u001b[36ma3ylmtbsrd-algo-1-8wj8z |\u001b[0m     \"output_data_dir\": \"/opt/ml/output/data\",\n",
      "\u001b[36ma3ylmtbsrd-algo-1-8wj8z |\u001b[0m     \"output_dir\": \"/opt/ml/output\",\n",
      "\u001b[36ma3ylmtbsrd-algo-1-8wj8z |\u001b[0m     \"output_intermediate_dir\": \"/opt/ml/output/intermediate\",\n",
      "\u001b[36ma3ylmtbsrd-algo-1-8wj8z |\u001b[0m     \"resource_config\": {\n",
      "\u001b[36ma3ylmtbsrd-algo-1-8wj8z |\u001b[0m         \"current_host\": \"algo-1-8wj8z\",\n",
      "\u001b[36ma3ylmtbsrd-algo-1-8wj8z |\u001b[0m         \"hosts\": [\n",
      "\u001b[36ma3ylmtbsrd-algo-1-8wj8z |\u001b[0m             \"algo-1-8wj8z\"\n",
      "\u001b[36ma3ylmtbsrd-algo-1-8wj8z |\u001b[0m         ]\n",
      "\u001b[36ma3ylmtbsrd-algo-1-8wj8z |\u001b[0m     },\n",
      "\u001b[36ma3ylmtbsrd-algo-1-8wj8z |\u001b[0m     \"user_entry_point\": \"mnist_vnn_tf2.py\"\n",
      "\u001b[36ma3ylmtbsrd-algo-1-8wj8z |\u001b[0m }\n",
      "\u001b[36ma3ylmtbsrd-algo-1-8wj8z |\u001b[0m \n",
      "\u001b[36ma3ylmtbsrd-algo-1-8wj8z |\u001b[0m Environment variables:\n",
      "\u001b[36ma3ylmtbsrd-algo-1-8wj8z |\u001b[0m \n",
      "\u001b[36ma3ylmtbsrd-algo-1-8wj8z |\u001b[0m SM_HOSTS=[\"algo-1-8wj8z\"]\n",
      "\u001b[36ma3ylmtbsrd-algo-1-8wj8z |\u001b[0m SM_NETWORK_INTERFACE_NAME=eth0\n",
      "\u001b[36ma3ylmtbsrd-algo-1-8wj8z |\u001b[0m SM_HPS={\"batch-size\":64,\"epochs\":1,\"model_dir\":\"file:/tmp/tensorflow-training-2021-05-16-01-57-23-645/model\"}\n",
      "\u001b[36ma3ylmtbsrd-algo-1-8wj8z |\u001b[0m SM_USER_ENTRY_POINT=mnist_vnn_tf2.py\n",
      "\u001b[36ma3ylmtbsrd-algo-1-8wj8z |\u001b[0m SM_FRAMEWORK_PARAMS={}\n",
      "\u001b[36ma3ylmtbsrd-algo-1-8wj8z |\u001b[0m SM_RESOURCE_CONFIG={\"current_host\":\"algo-1-8wj8z\",\"hosts\":[\"algo-1-8wj8z\"]}\n",
      "\u001b[36ma3ylmtbsrd-algo-1-8wj8z |\u001b[0m SM_INPUT_DATA_CONFIG={\"training\":{\"TrainingInputMode\":\"File\"},\"validation\":{\"TrainingInputMode\":\"File\"}}\n",
      "\u001b[36ma3ylmtbsrd-algo-1-8wj8z |\u001b[0m SM_OUTPUT_DATA_DIR=/opt/ml/output/data\n",
      "\u001b[36ma3ylmtbsrd-algo-1-8wj8z |\u001b[0m SM_CHANNELS=[\"training\",\"validation\"]\n",
      "\u001b[36ma3ylmtbsrd-algo-1-8wj8z |\u001b[0m SM_CURRENT_HOST=algo-1-8wj8z\n",
      "\u001b[36ma3ylmtbsrd-algo-1-8wj8z |\u001b[0m SM_MODULE_NAME=mnist_vnn_tf2\n",
      "\u001b[36ma3ylmtbsrd-algo-1-8wj8z |\u001b[0m SM_LOG_LEVEL=20\n",
      "\u001b[36ma3ylmtbsrd-algo-1-8wj8z |\u001b[0m SM_FRAMEWORK_MODULE=sagemaker_tensorflow_container.training:main\n",
      "\u001b[36ma3ylmtbsrd-algo-1-8wj8z |\u001b[0m SM_INPUT_DIR=/opt/ml/input\n",
      "\u001b[36ma3ylmtbsrd-algo-1-8wj8z |\u001b[0m SM_INPUT_CONFIG_DIR=/opt/ml/input/config\n",
      "\u001b[36ma3ylmtbsrd-algo-1-8wj8z |\u001b[0m SM_OUTPUT_DIR=/opt/ml/output\n",
      "\u001b[36ma3ylmtbsrd-algo-1-8wj8z |\u001b[0m SM_NUM_CPUS=2\n",
      "\u001b[36ma3ylmtbsrd-algo-1-8wj8z |\u001b[0m SM_NUM_GPUS=0\n",
      "\u001b[36ma3ylmtbsrd-algo-1-8wj8z |\u001b[0m SM_MODEL_DIR=/opt/ml/model\n",
      "\u001b[36ma3ylmtbsrd-algo-1-8wj8z |\u001b[0m SM_MODULE_DIR=s3://sagemaker-ap-southeast-2-987959606453/tensorflow-training-2021-05-16-01-57-23-645/source/sourcedir.tar.gz\n",
      "\u001b[36ma3ylmtbsrd-algo-1-8wj8z |\u001b[0m SM_TRAINING_ENV={\"additional_framework_parameters\":{},\"channel_input_dirs\":{\"training\":\"/opt/ml/input/data/training\",\"validation\":\"/opt/ml/input/data/validation\"},\"current_host\":\"algo-1-8wj8z\",\"framework_module\":\"sagemaker_tensorflow_container.training:main\",\"hosts\":[\"algo-1-8wj8z\"],\"hyperparameters\":{\"batch-size\":64,\"epochs\":1,\"model_dir\":\"file:/tmp/tensorflow-training-2021-05-16-01-57-23-645/model\"},\"input_config_dir\":\"/opt/ml/input/config\",\"input_data_config\":{\"training\":{\"TrainingInputMode\":\"File\"},\"validation\":{\"TrainingInputMode\":\"File\"}},\"input_dir\":\"/opt/ml/input\",\"is_master\":true,\"job_name\":\"tensorflow-training-2021-05-16-01-57-23-645\",\"log_level\":20,\"master_hostname\":\"algo-1-8wj8z\",\"model_dir\":\"/opt/ml/model\",\"module_dir\":\"s3://sagemaker-ap-southeast-2-987959606453/tensorflow-training-2021-05-16-01-57-23-645/source/sourcedir.tar.gz\",\"module_name\":\"mnist_vnn_tf2\",\"network_interface_name\":\"eth0\",\"num_cpus\":2,\"num_gpus\":0,\"output_data_dir\":\"/opt/ml/output/data\",\"output_dir\":\"/opt/ml/output\",\"output_intermediate_dir\":\"/opt/ml/output/intermediate\",\"resource_config\":{\"current_host\":\"algo-1-8wj8z\",\"hosts\":[\"algo-1-8wj8z\"]},\"user_entry_point\":\"mnist_vnn_tf2.py\"}\n",
      "\u001b[36ma3ylmtbsrd-algo-1-8wj8z |\u001b[0m SM_USER_ARGS=[\"--batch-size\",\"64\",\"--epochs\",\"1\",\"--model_dir\",\"file:/tmp/tensorflow-training-2021-05-16-01-57-23-645/model\"]\n",
      "\u001b[36ma3ylmtbsrd-algo-1-8wj8z |\u001b[0m SM_OUTPUT_INTERMEDIATE_DIR=/opt/ml/output/intermediate\n",
      "\u001b[36ma3ylmtbsrd-algo-1-8wj8z |\u001b[0m SM_CHANNEL_TRAINING=/opt/ml/input/data/training\n",
      "\u001b[36ma3ylmtbsrd-algo-1-8wj8z |\u001b[0m SM_CHANNEL_VALIDATION=/opt/ml/input/data/validation\n",
      "\u001b[36ma3ylmtbsrd-algo-1-8wj8z |\u001b[0m SM_HP_EPOCHS=1\n",
      "\u001b[36ma3ylmtbsrd-algo-1-8wj8z |\u001b[0m SM_HP_BATCH-SIZE=64\n",
      "\u001b[36ma3ylmtbsrd-algo-1-8wj8z |\u001b[0m SM_HP_MODEL_DIR=file:/tmp/tensorflow-training-2021-05-16-01-57-23-645/model\n",
      "\u001b[36ma3ylmtbsrd-algo-1-8wj8z |\u001b[0m PYTHONPATH=/opt/ml/code:/usr/local/bin:/usr/lib/python36.zip:/usr/lib/python3.6:/usr/lib/python3.6/lib-dynload:/usr/local/lib/python3.6/dist-packages:/usr/lib/python3/dist-packages\n",
      "\u001b[36ma3ylmtbsrd-algo-1-8wj8z |\u001b[0m \n",
      "\u001b[36ma3ylmtbsrd-algo-1-8wj8z |\u001b[0m Invoking script with the following command:\n",
      "\u001b[36ma3ylmtbsrd-algo-1-8wj8z |\u001b[0m \n",
      "\u001b[36ma3ylmtbsrd-algo-1-8wj8z |\u001b[0m /usr/bin/python3 mnist_vnn_tf2.py --batch-size 64 --epochs 1 --model_dir file:/tmp/tensorflow-training-2021-05-16-01-57-23-645/model\n",
      "\u001b[36ma3ylmtbsrd-algo-1-8wj8z |\u001b[0m \n",
      "\u001b[36ma3ylmtbsrd-algo-1-8wj8z |\u001b[0m \n"
     ]
    },
    {
     "name": "stdout",
     "output_type": "stream",
     "text": [
      "\u001b[36ma3ylmtbsrd-algo-1-8wj8z |\u001b[0m Using TensorFlow backend.\n",
      "\u001b[36ma3ylmtbsrd-algo-1-8wj8z |\u001b[0m Collecting keras-metrics\n",
      "\u001b[36ma3ylmtbsrd-algo-1-8wj8z |\u001b[0m   Downloading keras_metrics-1.1.0-py2.py3-none-any.whl (5.6 kB)\n",
      "\u001b[36ma3ylmtbsrd-algo-1-8wj8z |\u001b[0m Requirement already satisfied: Keras>=2.1.5 in /usr/local/lib/python3.6/dist-packages (from keras-metrics) (2.3.1)\n",
      "\u001b[36ma3ylmtbsrd-algo-1-8wj8z |\u001b[0m Requirement already satisfied: keras-preprocessing>=1.0.5 in /usr/local/lib/python3.6/dist-packages (from Keras>=2.1.5->keras-metrics) (1.1.0)\n",
      "\u001b[36ma3ylmtbsrd-algo-1-8wj8z |\u001b[0m Requirement already satisfied: six>=1.9.0 in /usr/local/lib/python3.6/dist-packages (from Keras>=2.1.5->keras-metrics) (1.14.0)\n",
      "\u001b[36ma3ylmtbsrd-algo-1-8wj8z |\u001b[0m Requirement already satisfied: keras-applications>=1.0.6 in /usr/local/lib/python3.6/dist-packages (from Keras>=2.1.5->keras-metrics) (1.0.8)\n",
      "\u001b[36ma3ylmtbsrd-algo-1-8wj8z |\u001b[0m Requirement already satisfied: scipy>=0.14 in /usr/local/lib/python3.6/dist-packages (from Keras>=2.1.5->keras-metrics) (1.4.1)\n",
      "\u001b[36ma3ylmtbsrd-algo-1-8wj8z |\u001b[0m Requirement already satisfied: h5py in /usr/local/lib/python3.6/dist-packages (from Keras>=2.1.5->keras-metrics) (2.10.0)\n",
      "\u001b[36ma3ylmtbsrd-algo-1-8wj8z |\u001b[0m Requirement already satisfied: pyyaml in /usr/local/lib/python3.6/dist-packages (from Keras>=2.1.5->keras-metrics) (5.3.1)\n",
      "\u001b[36ma3ylmtbsrd-algo-1-8wj8z |\u001b[0m Requirement already satisfied: numpy>=1.9.1 in /usr/local/lib/python3.6/dist-packages (from Keras>=2.1.5->keras-metrics) (1.18.1)\n",
      "\u001b[36ma3ylmtbsrd-algo-1-8wj8z |\u001b[0m Installing collected packages: keras-metrics\n",
      "\u001b[36ma3ylmtbsrd-algo-1-8wj8z |\u001b[0m Successfully installed keras-metrics-1.1.0\n",
      "\u001b[36ma3ylmtbsrd-algo-1-8wj8z |\u001b[0m \u001b[33mWARNING: You are using pip version 20.0.2; however, version 21.1.1 is available.\n",
      "\u001b[36ma3ylmtbsrd-algo-1-8wj8z |\u001b[0m You should consider upgrading via the '/usr/bin/python3 -m pip install --upgrade pip' command.\u001b[0m\n",
      "\u001b[36ma3ylmtbsrd-algo-1-8wj8z |\u001b[0m x_train shape: (60000, 28, 28, 1)\n",
      "\u001b[36ma3ylmtbsrd-algo-1-8wj8z |\u001b[0m 60000 train samples\n",
      "\u001b[36ma3ylmtbsrd-algo-1-8wj8z |\u001b[0m 10000 test samples\n",
      "\u001b[36ma3ylmtbsrd-algo-1-8wj8z |\u001b[0m tracking <tf.Variable 'Variable:0' shape=() dtype=int32, numpy=0> tp\n",
      "\u001b[36ma3ylmtbsrd-algo-1-8wj8z |\u001b[0m tracking <tf.Variable 'Variable:0' shape=() dtype=int32, numpy=0> fp\n",
      "\u001b[36ma3ylmtbsrd-algo-1-8wj8z |\u001b[0m tracking <tf.Variable 'Variable:0' shape=() dtype=int32, numpy=0> tp\n",
      "\u001b[36ma3ylmtbsrd-algo-1-8wj8z |\u001b[0m tracking <tf.Variable 'Variable:0' shape=() dtype=int32, numpy=0> fn\n",
      "\u001b[36ma3ylmtbsrd-algo-1-8wj8z |\u001b[0m tracking <tf.Variable 'Variable:0' shape=() dtype=int32, numpy=0> tp\n",
      "\u001b[36ma3ylmtbsrd-algo-1-8wj8z |\u001b[0m tracking <tf.Variable 'Variable:0' shape=() dtype=int32, numpy=0> fp\n",
      "\u001b[36ma3ylmtbsrd-algo-1-8wj8z |\u001b[0m tracking <tf.Variable 'Variable:0' shape=() dtype=int32, numpy=0> tp\n",
      "\u001b[36ma3ylmtbsrd-algo-1-8wj8z |\u001b[0m tracking <tf.Variable 'Variable:0' shape=() dtype=int32, numpy=0> fn\n",
      "\u001b[36ma3ylmtbsrd-algo-1-8wj8z |\u001b[0m Train on 54000 samples, validate on 6000 samples\n",
      "54000/54000 [==============================] - 3s 60us/sample - loss: 0.4105 - accuracy: 0.8802 - precision: 0.9328 - recall: 0.7720 - f1_score: 0.8324 - val_loss: 0.1785 - val_accuracy: 0.9485 - val_precision: 0.9646 - val_recall: 0.9117 - val_f1_score: 0.9374\n",
      "\u001b[36ma3ylmtbsrd-algo-1-8wj8z |\u001b[0m Model: \"sequential\"\n",
      "\u001b[36ma3ylmtbsrd-algo-1-8wj8z |\u001b[0m _________________________________________________________________\n",
      "\u001b[36ma3ylmtbsrd-algo-1-8wj8z |\u001b[0m Layer (type)                 Output Shape              Param #   \n",
      "\u001b[36ma3ylmtbsrd-algo-1-8wj8z |\u001b[0m =================================================================\n",
      "\u001b[36ma3ylmtbsrd-algo-1-8wj8z |\u001b[0m flatten (Flatten)            multiple                  0         \n",
      "\u001b[36ma3ylmtbsrd-algo-1-8wj8z |\u001b[0m _________________________________________________________________\n",
      "\u001b[36ma3ylmtbsrd-algo-1-8wj8z |\u001b[0m dense (Dense)                multiple                  50240     \n",
      "\u001b[36ma3ylmtbsrd-algo-1-8wj8z |\u001b[0m _________________________________________________________________\n",
      "\u001b[36ma3ylmtbsrd-algo-1-8wj8z |\u001b[0m dense_1 (Dense)              multiple                  2080      \n",
      "\u001b[36ma3ylmtbsrd-algo-1-8wj8z |\u001b[0m _________________________________________________________________\n",
      "\u001b[36ma3ylmtbsrd-algo-1-8wj8z |\u001b[0m dense_2 (Dense)              multiple                  330       \n",
      "\u001b[36ma3ylmtbsrd-algo-1-8wj8z |\u001b[0m =================================================================\n",
      "\u001b[36ma3ylmtbsrd-algo-1-8wj8z |\u001b[0m Total params: 52,650\n",
      "\u001b[36ma3ylmtbsrd-algo-1-8wj8z |\u001b[0m Trainable params: 52,650\n",
      "\u001b[36ma3ylmtbsrd-algo-1-8wj8z |\u001b[0m Non-trainable params: 0\n",
      "\u001b[36ma3ylmtbsrd-algo-1-8wj8z |\u001b[0m _________________________________________________________________\n",
      "\u001b[36ma3ylmtbsrd-algo-1-8wj8z |\u001b[0m None\n",
      "\u001b[36ma3ylmtbsrd-algo-1-8wj8z |\u001b[0m Validation loss    : 0.21627213105559348\n",
      "\u001b[36ma3ylmtbsrd-algo-1-8wj8z |\u001b[0m Validation accuracy: 0.9358\n",
      "\u001b[36ma3ylmtbsrd-algo-1-8wj8z |\u001b[0m 2021-05-16 01:58:51.810333: W tensorflow/python/util/util.cc:319] Sets are not currently considered sequences, but this may change in the future, so consider avoiding using them.\n",
      "\u001b[36ma3ylmtbsrd-algo-1-8wj8z |\u001b[0m WARNING:tensorflow:From /usr/local/lib/python3.6/dist-packages/tensorflow_core/python/ops/resource_variable_ops.py:1786: calling BaseResourceVariable.__init__ (from tensorflow.python.ops.resource_variable_ops) with constraint is deprecated and will be removed in a future version.\n",
      "\u001b[36ma3ylmtbsrd-algo-1-8wj8z |\u001b[0m Instructions for updating:\n",
      "\u001b[36ma3ylmtbsrd-algo-1-8wj8z |\u001b[0m If using Keras pass *_constraint arguments to layers.\n",
      "\u001b[36ma3ylmtbsrd-algo-1-8wj8z |\u001b[0m WARNING:tensorflow:From /usr/local/lib/python3.6/dist-packages/tensorflow_core/python/ops/resource_variable_ops.py:1786: calling BaseResourceVariable.__init__ (from tensorflow.python.ops.resource_variable_ops) with constraint is deprecated and will be removed in a future version.\n",
      "\u001b[36ma3ylmtbsrd-algo-1-8wj8z |\u001b[0m Instructions for updating:\n",
      "\u001b[36ma3ylmtbsrd-algo-1-8wj8z |\u001b[0m If using Keras pass *_constraint arguments to layers.\n",
      "\u001b[36ma3ylmtbsrd-algo-1-8wj8z |\u001b[0m INFO:tensorflow:Assets written to: /opt/ml/model/1/assets\n",
      "\u001b[36ma3ylmtbsrd-algo-1-8wj8z |\u001b[0m INFO:tensorflow:Assets written to: /opt/ml/model/1/assets\n",
      "\u001b[36ma3ylmtbsrd-algo-1-8wj8z |\u001b[0m 2021-05-16 01:58:52,414 sagemaker-containers INFO     Reporting training SUCCESS\n",
      "\u001b[36ma3ylmtbsrd-algo-1-8wj8z exited with code 0\n",
      "\u001b[0mAborting on container exit...\n",
      "===== Job Complete =====\n"
     ]
    }
   ],
   "source": [
    "# fit is used to train the model saved in the estimator object. The local files paths to the traiing and test data also \n",
    "# need to be passed in\n",
    "tf_estimator.fit({'training': local_training_input_path, 'validation': local_test_input_path})"
   ]
  },
  {
   "cell_type": "markdown",
   "metadata": {},
   "source": [
    "### Train the model in AWS\n",
    "\n",
    "Now that it has been determined the code is working on SageMaker (note, this is only possible because it's a small dataset and a shallow neural network - it won't work with large datasets or deep neural networks), the model can be trained on a larger instance. \n",
    "\n",
    "1. Upload the dataset to S3. S3 is a default bucket for storing data and model output in AWS\n",
    "2. Select the [EC2 instance type](https://aws.amazon.com/ec2/instance-types/) for the model. MA5852 will mainly use *ml.m4.xlarge*. EC stands for Elastic Compute Cloud, and its a web service where AWS subscribers can request and provision compute services in the AWS cloud. The user is charged per hour with different rates, depending on the instance chosen. Don't forget to terminate the instance when done to stop being over-charged. "
   ]
  },
  {
   "cell_type": "code",
   "execution_count": 13,
   "metadata": {},
   "outputs": [
    {
     "name": "stdout",
     "output_type": "stream",
     "text": [
      "s3://sagemaker-ap-southeast-2-987959606453/keras-mnist/training/training.npz\n",
      "s3://sagemaker-ap-southeast-2-987959606453/keras-mnist/validation/test.npz\n"
     ]
    }
   ],
   "source": [
    "from sagemaker.s3 import S3Uploader\n",
    "\n",
    "prefix = 'keras-mnist'\n",
    "\n",
    "training_input_path = sess.upload_data('data/training.npz', key_prefix = prefix+'/training')\n",
    "test_input_path = sess.upload_data('data/test.npz', key_prefix = prefix+'/validation')\n",
    "\n",
    "print(training_input_path)\n",
    "print(test_input_path)"
   ]
  },
  {
   "cell_type": "code",
   "execution_count": 16,
   "metadata": {},
   "outputs": [],
   "source": [
    "from sagemaker.tensorflow import TensorFlow\n",
    "\n",
    "hyperparameters = {\"epochs\": 3}\n",
    "#hyperparameters = {\"epochs\": 10, \"batch-size\": 256}\n",
    "\n",
    "tf_estimator = TensorFlow(entry_point=\"mnist_vnn_tf2.py\",\n",
    "                          role=role,\n",
    "                          source_dir='.',\n",
    "                          hyperparameters=hyperparameters,\n",
    "                          framework_version=\"2.1.0\",\n",
    "                          py_version=\"py3\",\n",
    "                          instance_count=1,\n",
    "                          instance_type=\"ml.m4.xlarge\",\n",
    "                          script_mode = True\n",
    "                          )"
   ]
  },
  {
   "cell_type": "code",
   "execution_count": 17,
   "metadata": {},
   "outputs": [
    {
     "name": "stdout",
     "output_type": "stream",
     "text": [
      "2021-05-16 02:10:24 Starting - Starting the training job...\n",
      "2021-05-16 02:10:48 Starting - Launching requested ML instancesProfilerReport-1621131003: InProgress\n",
      "......\n",
      "2021-05-16 02:11:48 Starting - Preparing the instances for training......\n",
      "2021-05-16 02:12:48 Downloading - Downloading input data...\n",
      "2021-05-16 02:13:25 Training - Training image download completed. Training in progress...\u001b[34m2021-05-16 02:13:32,567 sagemaker-containers INFO     Imported framework sagemaker_tensorflow_container.training\u001b[0m\n",
      "\u001b[34m2021-05-16 02:13:32,575 sagemaker-containers INFO     No GPUs detected (normal if no gpus installed)\u001b[0m\n",
      "\u001b[34m2021-05-16 02:13:33,755 sagemaker-containers INFO     No GPUs detected (normal if no gpus installed)\u001b[0m\n",
      "\u001b[34m2021-05-16 02:13:33,777 sagemaker-containers INFO     No GPUs detected (normal if no gpus installed)\u001b[0m\n",
      "\u001b[34m2021-05-16 02:13:33,797 sagemaker-containers INFO     No GPUs detected (normal if no gpus installed)\u001b[0m\n",
      "\u001b[34m2021-05-16 02:13:33,811 sagemaker-containers INFO     Invoking user script\n",
      "\u001b[0m\n",
      "\u001b[34mTraining Env:\n",
      "\u001b[0m\n",
      "\u001b[34m{\n",
      "    \"additional_framework_parameters\": {},\n",
      "    \"channel_input_dirs\": {\n",
      "        \"training\": \"/opt/ml/input/data/training\",\n",
      "        \"validation\": \"/opt/ml/input/data/validation\"\n",
      "    },\n",
      "    \"current_host\": \"algo-1\",\n",
      "    \"framework_module\": \"sagemaker_tensorflow_container.training:main\",\n",
      "    \"hosts\": [\n",
      "        \"algo-1\"\n",
      "    ],\n",
      "    \"hyperparameters\": {\n",
      "        \"model_dir\": \"s3://sagemaker-ap-southeast-2-987959606453/tensorflow-training-2021-05-16-02-10-03-036/model\",\n",
      "        \"epochs\": 3\n",
      "    },\n",
      "    \"input_config_dir\": \"/opt/ml/input/config\",\n",
      "    \"input_data_config\": {\n",
      "        \"training\": {\n",
      "            \"TrainingInputMode\": \"File\",\n",
      "            \"S3DistributionType\": \"FullyReplicated\",\n",
      "            \"RecordWrapperType\": \"None\"\n",
      "        },\n",
      "        \"validation\": {\n",
      "            \"TrainingInputMode\": \"File\",\n",
      "            \"S3DistributionType\": \"FullyReplicated\",\n",
      "            \"RecordWrapperType\": \"None\"\n",
      "        }\n",
      "    },\n",
      "    \"input_dir\": \"/opt/ml/input\",\n",
      "    \"is_master\": true,\n",
      "    \"job_name\": \"tensorflow-training-2021-05-16-02-10-03-036\",\n",
      "    \"log_level\": 20,\n",
      "    \"master_hostname\": \"algo-1\",\n",
      "    \"model_dir\": \"/opt/ml/model\",\n",
      "    \"module_dir\": \"s3://sagemaker-ap-southeast-2-987959606453/tensorflow-training-2021-05-16-02-10-03-036/source/sourcedir.tar.gz\",\n",
      "    \"module_name\": \"mnist_vnn_tf2\",\n",
      "    \"network_interface_name\": \"eth0\",\n",
      "    \"num_cpus\": 4,\n",
      "    \"num_gpus\": 0,\n",
      "    \"output_data_dir\": \"/opt/ml/output/data\",\n",
      "    \"output_dir\": \"/opt/ml/output\",\n",
      "    \"output_intermediate_dir\": \"/opt/ml/output/intermediate\",\n",
      "    \"resource_config\": {\n",
      "        \"current_host\": \"algo-1\",\n",
      "        \"hosts\": [\n",
      "            \"algo-1\"\n",
      "        ],\n",
      "        \"network_interface_name\": \"eth0\"\n",
      "    },\n",
      "    \"user_entry_point\": \"mnist_vnn_tf2.py\"\u001b[0m\n",
      "\u001b[34m}\n",
      "\u001b[0m\n",
      "\u001b[34mEnvironment variables:\n",
      "\u001b[0m\n",
      "\u001b[34mSM_HOSTS=[\"algo-1\"]\u001b[0m\n",
      "\u001b[34mSM_NETWORK_INTERFACE_NAME=eth0\u001b[0m\n",
      "\u001b[34mSM_HPS={\"epochs\":3,\"model_dir\":\"s3://sagemaker-ap-southeast-2-987959606453/tensorflow-training-2021-05-16-02-10-03-036/model\"}\u001b[0m\n",
      "\u001b[34mSM_USER_ENTRY_POINT=mnist_vnn_tf2.py\u001b[0m\n",
      "\u001b[34mSM_FRAMEWORK_PARAMS={}\u001b[0m\n",
      "\u001b[34mSM_RESOURCE_CONFIG={\"current_host\":\"algo-1\",\"hosts\":[\"algo-1\"],\"network_interface_name\":\"eth0\"}\u001b[0m\n",
      "\u001b[34mSM_INPUT_DATA_CONFIG={\"training\":{\"RecordWrapperType\":\"None\",\"S3DistributionType\":\"FullyReplicated\",\"TrainingInputMode\":\"File\"},\"validation\":{\"RecordWrapperType\":\"None\",\"S3DistributionType\":\"FullyReplicated\",\"TrainingInputMode\":\"File\"}}\u001b[0m\n",
      "\u001b[34mSM_OUTPUT_DATA_DIR=/opt/ml/output/data\u001b[0m\n",
      "\u001b[34mSM_CHANNELS=[\"training\",\"validation\"]\u001b[0m\n",
      "\u001b[34mSM_CURRENT_HOST=algo-1\u001b[0m\n",
      "\u001b[34mSM_MODULE_NAME=mnist_vnn_tf2\u001b[0m\n",
      "\u001b[34mSM_LOG_LEVEL=20\u001b[0m\n",
      "\u001b[34mSM_FRAMEWORK_MODULE=sagemaker_tensorflow_container.training:main\u001b[0m\n",
      "\u001b[34mSM_INPUT_DIR=/opt/ml/input\u001b[0m\n",
      "\u001b[34mSM_INPUT_CONFIG_DIR=/opt/ml/input/config\u001b[0m\n",
      "\u001b[34mSM_OUTPUT_DIR=/opt/ml/output\u001b[0m\n",
      "\u001b[34mSM_NUM_CPUS=4\u001b[0m\n",
      "\u001b[34mSM_NUM_GPUS=0\u001b[0m\n",
      "\u001b[34mSM_MODEL_DIR=/opt/ml/model\u001b[0m\n",
      "\u001b[34mSM_MODULE_DIR=s3://sagemaker-ap-southeast-2-987959606453/tensorflow-training-2021-05-16-02-10-03-036/source/sourcedir.tar.gz\u001b[0m\n",
      "\u001b[34mSM_TRAINING_ENV={\"additional_framework_parameters\":{},\"channel_input_dirs\":{\"training\":\"/opt/ml/input/data/training\",\"validation\":\"/opt/ml/input/data/validation\"},\"current_host\":\"algo-1\",\"framework_module\":\"sagemaker_tensorflow_container.training:main\",\"hosts\":[\"algo-1\"],\"hyperparameters\":{\"epochs\":3,\"model_dir\":\"s3://sagemaker-ap-southeast-2-987959606453/tensorflow-training-2021-05-16-02-10-03-036/model\"},\"input_config_dir\":\"/opt/ml/input/config\",\"input_data_config\":{\"training\":{\"RecordWrapperType\":\"None\",\"S3DistributionType\":\"FullyReplicated\",\"TrainingInputMode\":\"File\"},\"validation\":{\"RecordWrapperType\":\"None\",\"S3DistributionType\":\"FullyReplicated\",\"TrainingInputMode\":\"File\"}},\"input_dir\":\"/opt/ml/input\",\"is_master\":true,\"job_name\":\"tensorflow-training-2021-05-16-02-10-03-036\",\"log_level\":20,\"master_hostname\":\"algo-1\",\"model_dir\":\"/opt/ml/model\",\"module_dir\":\"s3://sagemaker-ap-southeast-2-987959606453/tensorflow-training-2021-05-16-02-10-03-036/source/sourcedir.tar.gz\",\"module_name\":\"mnist_vnn_tf2\",\"network_interface_name\":\"eth0\",\"num_cpus\":4,\"num_gpus\":0,\"output_data_dir\":\"/opt/ml/output/data\",\"output_dir\":\"/opt/ml/output\",\"output_intermediate_dir\":\"/opt/ml/output/intermediate\",\"resource_config\":{\"current_host\":\"algo-1\",\"hosts\":[\"algo-1\"],\"network_interface_name\":\"eth0\"},\"user_entry_point\":\"mnist_vnn_tf2.py\"}\u001b[0m\n",
      "\u001b[34mSM_USER_ARGS=[\"--epochs\",\"3\",\"--model_dir\",\"s3://sagemaker-ap-southeast-2-987959606453/tensorflow-training-2021-05-16-02-10-03-036/model\"]\u001b[0m\n",
      "\u001b[34mSM_OUTPUT_INTERMEDIATE_DIR=/opt/ml/output/intermediate\u001b[0m\n",
      "\u001b[34mSM_CHANNEL_TRAINING=/opt/ml/input/data/training\u001b[0m\n",
      "\u001b[34mSM_CHANNEL_VALIDATION=/opt/ml/input/data/validation\u001b[0m\n",
      "\u001b[34mSM_HP_MODEL_DIR=s3://sagemaker-ap-southeast-2-987959606453/tensorflow-training-2021-05-16-02-10-03-036/model\u001b[0m\n",
      "\u001b[34mSM_HP_EPOCHS=3\u001b[0m\n",
      "\u001b[34mPYTHONPATH=/opt/ml/code:/usr/local/bin:/usr/lib/python36.zip:/usr/lib/python3.6:/usr/lib/python3.6/lib-dynload:/usr/local/lib/python3.6/dist-packages:/usr/lib/python3/dist-packages\n",
      "\u001b[0m\n",
      "\u001b[34mInvoking script with the following command:\n",
      "\u001b[0m\n",
      "\u001b[34m/usr/bin/python3 mnist_vnn_tf2.py --epochs 3 --model_dir s3://sagemaker-ap-southeast-2-987959606453/tensorflow-training-2021-05-16-02-10-03-036/model\n",
      "\n",
      "\u001b[0m\n",
      "\u001b[34mUsing TensorFlow backend.\u001b[0m\n",
      "\u001b[34mCollecting keras-metrics\n",
      "  Downloading keras_metrics-1.1.0-py2.py3-none-any.whl (5.6 kB)\u001b[0m\n",
      "\u001b[34mRequirement already satisfied: Keras>=2.1.5 in /usr/local/lib/python3.6/dist-packages (from keras-metrics) (2.3.1)\u001b[0m\n",
      "\u001b[34mRequirement already satisfied: six>=1.9.0 in /usr/local/lib/python3.6/dist-packages (from Keras>=2.1.5->keras-metrics) (1.14.0)\u001b[0m\n",
      "\u001b[34mRequirement already satisfied: keras-applications>=1.0.6 in /usr/local/lib/python3.6/dist-packages (from Keras>=2.1.5->keras-metrics) (1.0.8)\u001b[0m\n",
      "\u001b[34mRequirement already satisfied: h5py in /usr/local/lib/python3.6/dist-packages (from Keras>=2.1.5->keras-metrics) (2.10.0)\u001b[0m\n",
      "\u001b[34mRequirement already satisfied: keras-preprocessing>=1.0.5 in /usr/local/lib/python3.6/dist-packages (from Keras>=2.1.5->keras-metrics) (1.1.0)\u001b[0m\n",
      "\u001b[34mRequirement already satisfied: scipy>=0.14 in /usr/local/lib/python3.6/dist-packages (from Keras>=2.1.5->keras-metrics) (1.4.1)\u001b[0m\n",
      "\u001b[34mRequirement already satisfied: numpy>=1.9.1 in /usr/local/lib/python3.6/dist-packages (from Keras>=2.1.5->keras-metrics) (1.18.1)\u001b[0m\n",
      "\u001b[34mRequirement already satisfied: pyyaml in /usr/local/lib/python3.6/dist-packages (from Keras>=2.1.5->keras-metrics) (5.3.1)\u001b[0m\n",
      "\u001b[34mInstalling collected packages: keras-metrics\u001b[0m\n",
      "\u001b[34mSuccessfully installed keras-metrics-1.1.0\u001b[0m\n",
      "\u001b[34mWARNING: You are using pip version 20.0.2; however, version 21.1.1 is available.\u001b[0m\n",
      "\u001b[34mYou should consider upgrading via the '/usr/bin/python3 -m pip install --upgrade pip' command.\u001b[0m\n",
      "\u001b[34mx_train shape: (60000, 28, 28, 1)\u001b[0m\n",
      "\u001b[34m60000 train samples\u001b[0m\n",
      "\u001b[34m10000 test samples\u001b[0m\n",
      "\u001b[34mtracking <tf.Variable 'Variable:0' shape=() dtype=int32, numpy=0> tp\u001b[0m\n",
      "\u001b[34mtracking <tf.Variable 'Variable:0' shape=() dtype=int32, numpy=0> fp\u001b[0m\n",
      "\u001b[34mtracking <tf.Variable 'Variable:0' shape=() dtype=int32, numpy=0> tp\u001b[0m\n",
      "\u001b[34mtracking <tf.Variable 'Variable:0' shape=() dtype=int32, numpy=0> fn\u001b[0m\n",
      "\u001b[34mtracking <tf.Variable 'Variable:0' shape=() dtype=int32, numpy=0> tp\u001b[0m\n",
      "\u001b[34mtracking <tf.Variable 'Variable:0' shape=() dtype=int32, numpy=0> fp\u001b[0m\n",
      "\u001b[34mtracking <tf.Variable 'Variable:0' shape=() dtype=int32, numpy=0> tp\u001b[0m\n",
      "\u001b[34mtracking <tf.Variable 'Variable:0' shape=() dtype=int32, numpy=0> fn\u001b[0m\n",
      "\u001b[34m[2021-05-16 02:13:38.311 ip-10-0-126-201.ap-southeast-2.compute.internal:25 INFO json_config.py:90] Creating hook from json_config at /opt/ml/input/config/debughookconfig.json.\u001b[0m\n",
      "\u001b[34m[2021-05-16 02:13:38.312 ip-10-0-126-201.ap-southeast-2.compute.internal:25 INFO hook.py:183] tensorboard_dir has not been set for the hook. SMDebug will not be exporting tensorboard summaries.\u001b[0m\n",
      "\u001b[34m[2021-05-16 02:13:38.312 ip-10-0-126-201.ap-southeast-2.compute.internal:25 INFO hook.py:228] Saving to /opt/ml/output/tensors\u001b[0m\n",
      "\u001b[34mTrain on 54000 samples, validate on 6000 samples\u001b[0m\n",
      "\u001b[34m[2021-05-16 02:13:38.780 ip-10-0-126-201.ap-southeast-2.compute.internal:25 INFO keras.py:68] Executing in TF2.x eager mode.TF 2.x eager doesn't provide gradient and optimizer variable values.SageMaker Debugger will not be saving gradients and optimizer variables in this case\u001b[0m\n",
      "\u001b[34mEpoch 1/3\u001b[0m\n",
      "\u001b[34m[2021-05-16 02:13:38.796 ip-10-0-126-201.ap-southeast-2.compute.internal:25 INFO hook.py:364] Monitoring the collections: sm_metrics, metrics, losses\u001b[0m\n",
      "\u001b[34mERROR:root:'NoneType' object has no attribute 'write'\u001b[0m\n",
      "\u001b[34m#015  128/54000 [..............................] - ETA: 7:05 - loss: 2.3837 - accuracy: 0.0703 - precision: 0.0000e+00 - recall: 0.0000e+00 - f1_score: 0.0000e+00#010#010#010#010#010#010#010#010#010#010#010#010#010#010#010#010#010#010#010#010#010#010#010#010#010#010#010#010#010#010#010#010#010#010#010#010#010#010#010#010#010#010#010#010#010#010#010#010#010#010#010#010#010#010#010#010#010#010#010#010#010#010#010#010#010#010#010#010#010#010#010#010#010#010#010#010#010#010#010#010#010#010#010#010#010#010#010#010#010#010#010#010#010#010#010#010#010#010#010#010#010#010#010#010#010#010#010#010#010#010#010#010#010#010#010#010#010#010#010#010#010#010#010#010#010#010#010#010#010#010#010#010#010#010#010#010#010#010#010#010#010#010#010#010#010#010#010#010#010#010#010#010#010#010#010#010#010#010#015  896/54000 [..............................] - ETA: 1:03 - loss: 2.3136 - accuracy: 0.1228 - precision: 0.0000e+00 - recall: 0.0000e+00 - f1_score: 0.0000e+00#010#010#010#010#010#010#010#010#010#010#010#010#010#010#010#010#010#010#010#010#010#010#010#010#010#010#010#010#010#010#010#010#010#010#010#010#010#010#010#010#010#010#010#010#010#010#010#010#010#010#010#010#010#010#010#010#010#010#010#010#010#010#010#010#010#010#010#010#010#010#010#010#010#010#010#010#010#010#010#010#010#010#010#010#010#010#010#010#010#010#010#010#010#010#010#010#010#010#010#010#010#010#010#010#010#010#010#010#010#010#010#010#010#010#010#010#010#010#010#010#010#010#010#010#010#010#010#010#010#010#010#010#010#010#010#010#010#010#010#010#010#010#010#010#010#010#010#010#010#010#010#010#010#010#010#010#010#010#015 1664/54000 [..............................] - ETA: 35s - loss: 2.2522 - accuracy: 0.2001 - precision: 0.0000e+00 - recall: 0.0000e+00 - f1_score: 0.0000e+00 #010#010#010#010#010#010#010#010#010#010#010#010#010#010#010#010#010#010#010#010#010#010#010#010#010#010#010#010#010#010#010#010#010#010#010#010#010#010#010#010#010#010#010#010#010#010#010#010#010#010#010#010#010#010#010#010#010#010#010#010#010#010#010#010#010#010#010#010#010#010#010#010#010#010#010#010#010#010#010#010#010#010#010#010#010#010#010#010#010#010#010#010#010#010#010#010#010#010#010#010#010#010#010#010#010#010#010#010#010#010#010#010#010#010#010#010#010#010#010#010#010#010#010#010#010#010#010#010#010#010#010#010#010#010#010#010#010#010#010#010#010#010#010#010#010#010#010#010#010#010#010#010#010#010#010#010#010#015 2944/54000 [>.............................] - ETA: 20s - loss: 2.1300 - accuracy: 0.3196 - precision: 0.0870 - recall: 7.2827e-04 - f1_score: 0.0014        #010#010#010#010#010#010#010#010#010#010#010#010#010#010#010#010#010#010#010#010#010#010#010#010#010#010#010#010#010#010#010#010#010#010#010#010#010#010#010#010#010#010#010#010#010#010#010#010#010#010#010#010#010#010#010#010#010#010#010#010#010#010#010#010#010#010#010#010#010#010#010#010#010#010#010#010#010#010#010#010#010#010#010#010#010#010#010#010#010#010#010#010#010#010#010#010#010#010#010#010#010#010#010#010#010#010#010#010#010#010#010#010#010#010#010#010#010#010#010#010#010#010#010#010#010#010#010#010#010#010#010#010#010#010#010#010#010#010#010#010#010#010#010#010#010#010#010#010#010#015 3840/54000 [=>............................] - ETA: 16s - loss: 2.0221 - accuracy: 0.3792 - precision: 0.3000 - recall: 0.0124 - f1_score: 0.0234    #010#010#010#010#010#010#010#010#010#010#010#010#010#010#010#010#010#010#010#010#010#010#010#010#010#010#010#010#010#010#010#010#010#010#010#010#010#010#010#010#010#010#010#010#010#010#010#010#010#010#010#010#010#010#010#010#010#010#010#010#010#010#010#010#010#010#010#010#010#010#010#010#010#010#010#010#010#010#010#010#010#010#010#010#010#010#010#010#010#010#010#010#010#010#010#010#010#010#010#010#010#010#010#010#010#010#010#010#010#010#010#010#010#010#010#010#010#010#010#010#010#010#010#010#010#010#010#010#010#010#010#010#010#010#010#010#010#010#010#010#010#010#010#010#010#015 4736/54000 [=>............................] - ETA: 13s - loss: 1.9076 - accuracy: 0.4242 - precision: 0.4324 - recall: 0.0353 - f1_score: 0.0633#010#010#010#010#010#010#010#010#010#010#010#010#010#010#010#010#010#010#010#010#010#010#010#010#010#010#010#010#010#010#010#010#010#010#010#010#010#010#010#010#010#010#010#010#010#010#010#010#010#010#010#010#010#010#010#010#010#010#010#010#010#010#010#010#010#010#010#010#010#010#010#010#010#010#010#010#010#010#010#010#010#010#010#010#010#010#010#010#010#010#010#010#010#010#010#010#010#010#010#010#010#010#010#010#010#010#010#010#010#010#010#010#010#010#010#010#010#010#010#010#010#010#010#010#010#010#010#010#010#010#010#010#010#010#010#010#010#010#010#010#010#010#010#010#010#015 6272/54000 [==>...........................] - ETA: 10s - loss: 1.7012 - accuracy: 0.4982 - precision: 0.5690 - recall: 0.0852 - f1_score: 0.1419#010#010#010#010#010#010#010#010#010#010#010#010#010#010#010#010#010#010#010#010#010#010#010#010#010#010#010#010#010#010#010#010#010#010#010#010#010#010#010#010#010#010#010#010#010#010#010#010#010#010#010#010#010#010#010#010#010#010#010#010#010#010#010#010#010#010#010#010#010#010#010#010#010#010#010#010#010#010#010#010#010#010#010#010#010#010#010#010#010#010#010#010#010#010#010#010#010#010#010#010#010#010#010#010#010#010#010#010#010#010#010#010#010#010#010#010#010#010#010#010#010#010#010#010#010#010#010#010#010#010#010#010#010#010#010#010#010#010#010#010#010#010#010#010#010#015 7808/54000 [===>..........................] - ETA: 8s - loss: 1.5213 - accuracy: 0.5569 - precision: 0.6512 - recall: 0.1375 - f1_score: 0.2157 #010#010#010#010#010#010#010#010#010#010#010#010#010#010#010#010#010#010#010#010#010#010#010#010#010#010#010#010#010#010#010#010#010#010#010#010#010#010#010#010#010#010#010#010#010#010#010#010#010#010#010#010#010#010#010#010#010#010#010#010#010#010#010#010#010#010#010#010#010#010#010#010#010#010#010#010#010#010#010#010#010#010#010#010#010#010#010#010#010#010#010#010#010#010#010#010#010#010#010#010#010#010#010#010#010#010#010#010#010#010#010#010#010#010#010#010#010#010#010#010#010#010#010#010#010#010#010#010#010#010#010#010#010#010#010#010#010#010#010#010#010#010#010#010#015 9472/54000 [====>.........................] - ETA: 6s - loss: 1.3679 - accuracy: 0.6027 - precision: 0.7090 - recall: 0.1926 - f1_score: 0.2862#010#010#010#010#010#010#010#010#010#010#010#010#010#010#010#010#010#010#010#010#010#010#010#010#010#010#010#010#010#010#010#010#010#010#010#010#010#010#010#010#010#010#010#010#010#010#010#010#010#010#010#010#010#010#010#010#010#010#010#010#010#010#010#010#010#010#010#010#010#010#010#010#010#010#010#010#010#010#010#010#010#010#010#010#010#010#010#010#010#010#010#010#010#010#010#010#010#010#010#010#010#010#010#010#010#010#010#010#010#010#010#010#010#010#010#010#010#010#010#010#010#010#010#010#010#010#010#010#010#010#010#010#010#010#010#010#010#010#010#010#010#010#010#010#01511264/54000 [=====>........................] - ETA: 5s - loss: 1.2435 - accuracy: 0.6395 - precision: 0.7502 - recall: 0.2450 - f1_score: 0.3486#010#010#010#010#010#010#010#010#010#010#010#010#010#010#010#010#010#010#010#010#010#010#010#010#010#010#010#010#010#010#010#010#010#010#010#010#010#010#010#010#010#010#010#010#010#010#010#010#010#010#010#010#010#010#010#010#010#010#010#010#010#010#010#010#010#010#010#010#010#010#010#010#010#010#010#010#010#010#010#010#010#010#010#010#010#010#010#010#010#010#010#010#010#010#010#010#010#010#010#010#010#010#010#010#010#010#010#010#010#010#010#010#010#010#010#010#010#010#010#010#010#010#010#010#010#010#010#010#010#010#010#010#010#010#010#010#010#010#010#010#010#010#010#010#01512928/54000 [======>.......................] - ETA: 4s - loss: 1.1521 - accuracy: 0.6662 - precision: 0.7781 - recall: 0.2879 - f1_score: 0.3968#010#010#010#010#010#010#010#010#010#010#010#010#010#010#010#010#010#010#010#010#010#010#010#010#010#010#010#010#010#010#010#010#010#010#010#010#010#010#010#010#010#010#010#010#010#010#010#010#010#010#010#010#010#010#010#010#010#010#010#010#010#010#010#010#010#010#010#010#010#010#010#010#010#010#010#010#010#010#010#010#010#010#010#010#010#010#010#010#010#010#010#010#010#010#010#010#010#010#010#010#010#010#010#010#010#010#010#010#010#010#010#010#010#010#010#010#010#010#010#010#010#010#010#010#010#010#010#010#010#010#010#010#010#010#010#010#010#010#010#010#010#010#010#010#01514592/54000 [=======>......................] - ETA: 4s - loss: 1.0793 - accuracy: 0.6876 - precision: 0.7989 - recall: 0.3248 - f1_score: 0.4368#010#010#010#010#010#010#010#010#010#010#010#010#010#010#010#010#010#010#010#010#010#010#010#010#010#010#010#010#010#010#010#010#010#010#010#010#010#010#010#010#010#010#010#010#010#010#010#010#010#010#010#010#010#010#010#010#010#010#010#010#010#010#010#010#010#010#010#010#010#010#010#010#010#010#010#010#010#010#010#010#010#010#010#010#010#010#010#010#010#010#010#010#010#010#010#010#010#010#010#010#010#010#010#010#010#010#010#010#010#010#010#010#010#010#010#010#010#010#010#010#010#010#010#010#010#010#010#010#010#010#010#010#010#010#010#010#010#010#010#010#010#010#010#010#01516384/54000 [========>.....................] - ETA: 3s - loss: 1.0116 - accuracy: 0.7079 - precision: 0.8163 - recall: 0.3600 - f1_score: 0.4735#010#010#010#010#010#010#010#010#010#010#010#010#010#010#010#010#010#010#010#010#010#010#010#010#010#010#010#010#010#010#010#010#010#010#010#010#010#010#010#010#010#010#010#010#010#010#010#010#010#010#010#010#010#010#010#010#010#010#010#010#010#010#010#010#010#010#010#010#010#010#010#010#010#010#010#010#010#010#010#010#010#010#010#010#010#010#010#010#010#010#010#010#010#010#010#010#010#010#010#010#010#010#010#010#010#010#010#010#010#010#010#010#010#010#010#010#010#010#010#010#010#010#010#010#010#010#010#010#010#010#010#010#010#010#010#010#010#010#010#010#010#010#010#010#01517920/54000 [========>.....................] - ETA: 3s - loss: 0.9600 - accuracy: 0.7230 - precision: 0.8286 - recall: 0.3870 - f1_score: 0.5008#010#010#010#010#010#010#010#010#010#010#010#010#010#010#010#010#010#010#010#010#010#010#010#010#010#010#010#010#010#010#010#010#010#010#010#010#010#010#010#010#010#010#010#010#010#010#010#010#010#010#010#010#010#010#010#010#010#010#010#010#010#010#010#010#010#010#010#010#010#010#010#010#010#010#010#010#010#010#010#010#010#010#010#010#010#010#010#010#010#010#010#010#010#010#010#010#010#010#010#010#010#010#010#010#010#010#010#010#010#010#010#010#010#010#010#010#010#010#010#010#010#010#010#010#010#010#010#010#010#010#010#010#010#010#010#010#010#010#010#010#010#010#010#010#01519584/54000 [=========>....................] - ETA: 3s - loss: 0.9129 - accuracy: 0.7366 - precision: 0.8396 - recall: 0.4132 - f1_score: 0.5268#010#010#010#010#010#010#010#010#010#010#010#010#010#010#010#010#010#010#010#010#010#010#010#010#010#010#010#010#010#010#010#010#010#010#010#010#010#010#010#010#010#010#010#010#010#010#010#010#010#010#010#010#010#010#010#010#010#010#010#010#010#010#010#010#010#010#010#010#010#010#010#010#010#010#010#010#010#010#010#010#010#010#010#010#010#010#010#010#010#010#010#010#010#010#010#010#010#010#010#010#010#010#010#010#010#010#010#010#010#010#010#010#010#010#010#010#010#010#010#010#010#010#010#010#010#010#010#010#010#010#010#010#010#010#010#010#010#010#010#010#010#010#010#010#01520992/54000 [==========>...................] - ETA: 2s - loss: 0.8795 - accuracy: 0.7467 - precision: 0.8474 - recall: 0.4333 - f1_score: 0.5462#010#010#010#010#010#010#010#010#010#010#010#010#010#010#010#010#010#010#010#010#010#010#010#010#010#010#010#010#010#010#010#010#010#010#010#010#010#010#010#010#010#010#010#010#010#010#010#010#010#010#010#010#010#010#010#010#010#010#010#010#010#010#010#010#010#010#010#010#010#010#010#010#010#010#010#010#010#010#010#010#010#010#010#010#010#010#010#010#010#010#010#010#010#010#010#010#010#010#010#010#010#010#010#010#010#010#010#010#010#010#010#010#010#010#010#010#010#010#010#010#010#010#010#010#010#010#010#010#010#010#010#010#010#010#010#010#010#010#010#010#010#010#010#010#01522784/54000 [===========>..................] - ETA: 2s - loss: 0.8408 - accuracy: 0.7581 - precision: 0.8559 - recall: 0.4566 - f1_score: 0.5683#010#010#010#010#010#010#010#010#010#010#010#010#010#010#010#010#010#010#010#010#010#010#010#010#010#010#010#010#010#010#010#010#010#010#010#010#010#010#010#010#010#010#010#010#010#010#010#010#010#010#010#010#010#010#010#010#010#010#010#010#010#010#010#010#010#010#010#010#010#010#010#010#010#010#010#010#010#010#010#010#010#010#010#010#010#010#010#010#010#010#010#010#010#010#010#010#010#010#010#010#010#010#010#010#010#010#010#010#010#010#010#010#010#010#010#010#010#010#010#010#010#010#010#010#010#010#010#010#010#010#010#010#010#010#010#010#010#010#010#010#010#010#010#010#01524448/54000 [============>.................] - ETA: 2s - loss: 0.8104 - accuracy: 0.7672 - precision: 0.8626 - recall: 0.4763 - f1_score: 0.5866#010#010#010#010#010#010#010#010#010#010#010#010#010#010#010#010#010#010#010#010#010#010#010#010#010#010#010#010#010#010#010#010#010#010#010#010#010#010#010#010#010#010#010#010#010#010#010#010#010#010#010#010#010#010#010#010#010#010#010#010#010#010#010#010#010#010#010#010#010#010#010#010#010#010#010#010#010#010#010#010#010#010#010#010#010#010#010#010#010#010#010#010#010#010#010#010#010#010#010#010#010#010#010#010#010#010#010#010#010#010#010#010#010#010#010#010#010#010#010#010#010#010#010#010#010#010#010#010#010#010#010#010#010#010#010#010#010#010#010#010#010#010#010#010#01526112/54000 [=============>................] - ETA: 2s - loss: 0.7837 - accuracy: 0.7744 - precision: 0.8685 - recall: 0.4943 - f1_score: 0.6031#010#010#010#010#010#010#010#010#010#010#010#010#010#010#010#010#010#010#010#010#010#010#010#010#010#010#010#010#010#010#010#010#010#010#010#010#010#010#010#010#010#010#010#010#010#010#010#010#010#010#010#010#010#010#010#010#010#010#010#010#010#010#010#010#010#010#010#010#010#010#010#010#010#010#010#010#010#010#010#010#010#010#010#010#010#010#010#010#010#010#010#010#010#010#010#010#010#010#010#010#010#010#010#010#010#010#010#010#010#010#010#010#010#010#010#010#010#010#010#010#010#010#010#010#010#010#010#010#010#010#010#010#010#010#010#010#010#010#010#010#010#010#010#010#01527648/54000 [==============>...............] - ETA: 1s - loss: 0.7615 - accuracy: 0.7810 - precision: 0.8732 - recall: 0.5095 - f1_score: 0.6169#010#010#010#010#010#010#010#010#010#010#010#010#010#010#010#010#010#010#010#010#010#010#010#010#010#010#010#010#010#010#010#010#010#010#010#010#010#010#010#010#010#010#010#010#010#010#010#010#010#010#010#010#010#010#010#010#010#010#010#010#010#010#010#010#010#010#010#010#010#010#010#010#010#010#010#010#010#010#010#010#010#010#010#010#010#010#010#010#010#010#010#010#010#010#010#010#010#010#010#010#010#010#010#010#010#010#010#010#010#010#010#010#010#010#010#010#010#010#010#010#010#010#010#010#010#010#010#010#010#010#010#010#010#010#010#010#010#010#010#010#010#010#010#010#01529440/54000 [===============>..............] - ETA: 1s - loss: 0.7359 - accuracy: 0.7887 - precision: 0.8782 - recall: 0.5258 - f1_score: 0.6315#010#010#010#010#010#010#010#010#010#010#010#010#010#010#010#010#010#010#010#010#010#010#010#010#010#010#010#010#010#010#010#010#010#010#010#010#010#010#010#010#010#010#010#010#010#010#010#010#010#010#010#010#010#010#010#010#010#010#010#010#010#010#010#010#010#010#010#010#010#010#010#010#010#010#010#010#010#010#010#010#010#010#010#010#010#010#010#010#010#010#010#010#010#010#010#010#010#010#010#010#010#010#010#010#010#010#010#010#010#010#010#010#010#010#010#010#010#010#010#010#010#010#010#010#010#010#010#010#010#010#010#010#010#010#010#010#010#010#010#010#010#010#010#010#01531104/54000 [================>.............] - ETA: 1s - loss: 0.7151 - accuracy: 0.7948 - precision: 0.8823 - recall: 0.5397 - f1_score: 0.6439#010#010#010#010#010#010#010#010#010#010#010#010#010#010#010#010#010#010#010#010#010#010#010#010#010#010#010#010#010#010#010#010#010#010#010#010#010#010#010#010#010#010#010#010#010#010#010#010#010#010#010#010#010#010#010#010#010#010#010#010#010#010#010#010#010#010#010#010#010#010#010#010#010#010#010#010#010#010#010#010#010#010#010#010#010#010#010#010#010#010#010#010#010#010#010#010#010#010#010#010#010#010#010#010#010#010#010#010#010#010#010#010#010#010#010#010#010#010#010#010#010#010#010#010#010#010#010#010#010#010#010#010#010#010#010#010#010#010#010#010#010#010#010#010#01532896/54000 [=================>............] - ETA: 1s - loss: 0.6955 - accuracy: 0.8001 - precision: 0.8864 - recall: 0.5535 - f1_score: 0.6560#010#010#010#010#010#010#010#010#010#010#010#010#010#010#010#010#010#010#010#010#010#010#010#010#010#010#010#010#010#010#010#010#010#010#010#010#010#010#010#010#010#010#010#010#010#010#010#010#010#010#010#010#010#010#010#010#010#010#010#010#010#010#010#010#010#010#010#010#010#010#010#010#010#010#010#010#010#010#010#010#010#010#010#010#010#010#010#010#010#010#010#010#010#010#010#010#010#010#010#010#010#010#010#010#010#010#010#010#010#010#010#010#010#010#010#010#010#010#010#010#010#010#010#010#010#010#010#010#010#010#010#010#010#010#010#010#010#010#010#010#010#010#010#010#01534432/54000 [==================>...........] - ETA: 1s - loss: 0.6794 - accuracy: 0.8050 - precision: 0.8894 - recall: 0.5646 - f1_score: 0.6656#010#010#010#010#010#010#010#010#010#010#010#010#010#010#010#010#010#010#010#010#010#010#010#010#010#010#010#010#010#010#010#010#010#010#010#010#010#010#010#010#010#010#010#010#010#010#010#010#010#010#010#010#010#010#010#010#010#010#010#010#010#010#010#010#010#010#010#010#010#010#010#010#010#010#010#010#010#010#010#010#010#010#010#010#010#010#010#010#010#010#010#010#010#010#010#010#010#010#010#010#010#010#010#010#010#010#010#010#010#010#010#010#010#010#010#010#010#010#010#010#010#010#010#010#010#010#010#010#010#010#010#010#010#010#010#010#010#010#010#010#010#010#010#010#01536224/54000 [===================>..........] - ETA: 1s - loss: 0.6623 - accuracy: 0.8096 - precision: 0.8926 - recall: 0.5766 - f1_score: 0.6760#010#010#010#010#010#010#010#010#010#010#010#010#010#010#010#010#010#010#010#010#010#010#010#010#010#010#010#010#010#010#010#010#010#010#010#010#010#010#010#010#010#010#010#010#010#010#010#010#010#010#010#010#010#010#010#010#010#010#010#010#010#010#010#010#010#010#010#010#010#010#010#010#010#010#010#010#010#010#010#010#010#010#010#010#010#010#010#010#010#010#010#010#010#010#010#010#010#010#010#010#010#010#010#010#010#010#010#010#010#010#010#010#010#010#010#010#010#010#010#010#010#010#010#010#010#010#010#010#010#010#010#010#010#010#010#010#010#010#010#010#010#010#010#010#01537888/54000 [====================>.........] - ETA: 0s - loss: 0.6456 - accuracy: 0.8145 - precision: 0.8953 - recall: 0.5870 - f1_score: 0.6849#010#010#010#010#010#010#010#010#010#010#010#010#010#010#010#010#010#010#010#010#010#010#010#010#010#010#010#010#010#010#010#010#010#010#010#010#010#010#010#010#010#010#010#010#010#010#010#010#010#010#010#010#010#010#010#010#010#010#010#010#010#010#010#010#010#010#010#010#010#010#010#010#010#010#010#010#010#010#010#010#010#010#010#010#010#010#010#010#010#010#010#010#010#010#010#010#010#010#010#010#010#010#010#010#010#010#010#010#010#010#010#010#010#010#010#010#010#010#010#010#010#010#010#010#010#010#010#010#010#010#010#010#010#010#010#010#010#010#010#010#010#010#010#010#01539552/54000 [====================>.........] - ETA: 0s - loss: 0.6316 - accuracy: 0.8185 - precision: 0.8978 - recall: 0.5968 - f1_score: 0.6932#010#010#010#010#010#010#010#010#010#010#010#010#010#010#010#010#010#010#010#010#010#010#010#010#010#010#010#010#010#010#010#010#010#010#010#010#010#010#010#010#010#010#010#010#010#010#010#010#010#010#010#010#010#010#010#010#010#010#010#010#010#010#010#010#010#010#010#010#010#010#010#010#010#010#010#010#010#010#010#010#010#010#010#010#010#010#010#010#010#010#010#010#010#010#010#010#010#010#010#010#010#010#010#010#010#010#010#010#010#010#010#010#010#010#010#010#010#010#010#010#010#010#010#010#010#010#010#010#010#010#010#010#010#010#010#010#010#010#010#010#010#010#010#010#01541472/54000 [======================>.......] - ETA: 0s - loss: 0.6183 - accuracy: 0.8223 - precision: 0.9004 - recall: 0.6074 - f1_score: 0.7020#010#010#010#010#010#010#010#010#010#010#010#010#010#010#010#010#010#010#010#010#010#010#010#010#010#010#010#010#010#010#010#010#010#010#010#010#010#010#010#010#010#010#010#010#010#010#010#010#010#010#010#010#010#010#010#010#010#010#010#010#010#010#010#010#010#010#010#010#010#010#010#010#010#010#010#010#010#010#010#010#010#010#010#010#010#010#010#010#010#010#010#010#010#010#010#010#010#010#010#010#010#010#010#010#010#010#010#010#010#010#010#010#010#010#010#010#010#010#010#010#010#010#010#010#010#010#010#010#010#010#010#010#010#010#010#010#010#010#010#010#010#010#010#010#01543136/54000 [======================>.......] - ETA: 0s - loss: 0.6066 - accuracy: 0.8260 - precision: 0.9024 - recall: 0.6160 - f1_score: 0.7092#010#010#010#010#010#010#010#010#010#010#010#010#010#010#010#010#010#010#010#010#010#010#010#010#010#010#010#010#010#010#010#010#010#010#010#010#010#010#010#010#010#010#010#010#010#010#010#010#010#010#010#010#010#010#010#010#010#010#010#010#010#010#010#010#010#010#010#010#010#010#010#010#010#010#010#010#010#010#010#010#010#010#010#010#010#010#010#010#010#010#010#010#010#010#010#010#010#010#010#010#010#010#010#010#010#010#010#010#010#010#010#010#010#010#010#010#010#010#010#010#010#010#010#010#010#010#010#010#010#010#010#010#010#010#010#010#010#010#010#010#010#010#010#010#01544288/54000 [=======================>......] - ETA: 0s - loss: 0.5998 - accuracy: 0.8280 - precision: 0.9038 - recall: 0.6217 - f1_score: 0.7139#010#010#010#010#010#010#010#010#010#010#010#010#010#010#010#010#010#010#010#010#010#010#010#010#010#010#010#010#010#010#010#010#010#010#010#010#010#010#010#010#010#010#010#010#010#010#010#010#010#010#010#010#010#010#010#010#010#010#010#010#010#010#010#010#010#010#010#010#010#010#010#010#010#010#010#010#010#010#010#010#010#010#010#010#010#010#010#010#010#010#010#010#010#010#010#010#010#010#010#010#010#010#010#010#010#010#010#010#010#010#010#010#010#010#010#010#010#010#010#010#010#010#010#010#010#010#010#010#010#010#010#010#010#010#010#010#010#010#010#010#010#010#010#010#01544800/54000 [=======================>......] - ETA: 0s - loss: 0.5965 - accuracy: 0.8288 - precision: 0.9043 - recall: 0.6241 - f1_score: 0.7159#010#010#010#010#010#010#010#010#010#010#010#010#010#010#010#010#010#010#010#010#010#010#010#010#010#010#010#010#010#010#010#010#010#010#010#010#010#010#010#010#010#010#010#010#010#010#010#010#010#010#010#010#010#010#010#010#010#010#010#010#010#010#010#010#010#010#010#010#010#010#010#010#010#010#010#010#010#010#010#010#010#010#010#010#010#010#010#010#010#010#010#010#010#010#010#010#010#010#010#010#010#010#010#010#010#010#010#010#010#010#010#010#010#010#010#010#010#010#010#010#010#010#010#010#010#010#010#010#010#010#010#010#010#010#010#010#010#010#010#010#010#010#010#010#01545568/54000 [========================>.....] - ETA: 0s - loss: 0.5924 - accuracy: 0.8302 - precision: 0.9052 - recall: 0.6277 - f1_score: 0.7189#010#010#010#010#010#010#010#010#010#010#010#010#010#010#010#010#010#010#010#010#010#010#010#010#010#010#010#010#010#010#010#010#010#010#010#010#010#010#010#010#010#010#010#010#010#010#010#010#010#010#010#010#010#010#010#010#010#010#010#010#010#010#010#010#010#010#010#010#010#010#010#010#010#010#010#010#010#010#010#010#010#010#010#010#010#010#010#010#010#010#010#010#010#010#010#010#010#010#010#010#010#010#010#010#010#010#010#010#010#010#010#010#010#010#010#010#010#010#010#010#010#010#010#010#010#010#010#010#010#010#010#010#010#010#010#010#010#010#010#010#010#010#010#010#01546080/54000 [========================>.....] - ETA: 0s - loss: 0.5892 - accuracy: 0.8310 - precision: 0.9057 - recall: 0.6301 - f1_score: 0.7208#010#010#010#010#010#010#010#010#010#010#010#010#010#010#010#010#010#010#010#010#010#010#010#010#010#010#010#010#010#010#010#010#010#010#010#010#010#010#010#010#010#010#010#010#010#010#010#010#010#010#010#010#010#010#010#010#010#010#010#010#010#010#010#010#010#010#010#010#010#010#010#010#010#010#010#010#010#010#010#010#010#010#010#010#010#010#010#010#010#010#010#010#010#010#010#010#010#010#010#010#010#010#010#010#010#010#010#010#010#010#010#010#010#010#010#010#010#010#010#010#010#010#010#010#010#010#010#010#010#010#010#010#010#010#010#010#010#010#010#010#010#010#010#010#01547104/54000 [=========================>....] - ETA: 0s - loss: 0.5827 - accuracy: 0.8328 - precision: 0.9068 - recall: 0.6347 - f1_score: 0.7246#010#010#010#010#010#010#010#010#010#010#010#010#010#010#010#010#010#010#010#010#010#010#010#010#010#010#010#010#010#010#010#010#010#010#010#010#010#010#010#010#010#010#010#010#010#010#010#010#010#010#010#010#010#010#010#010#010#010#010#010#010#010#010#010#010#010#010#010#010#010#010#010#010#010#010#010#010#010#010#010#010#010#010#010#010#010#010#010#010#010#010#010#010#010#010#010#010#010#010#010#010#010#010#010#010#010#010#010#010#010#010#010#010#010#010#010#010#010#010#010#010#010#010#010#010#010#010#010#010#010#010#010#010#010#010#010#010#010#010#010#010#010#010#010#01548384/54000 [=========================>....] - ETA: 0s - loss: 0.5760 - accuracy: 0.8347 - precision: 0.9080 - recall: 0.6402 - f1_score: 0.7291#010#010#010#010#010#010#010#010#010#010#010#010#010#010#010#010#010#010#010#010#010#010#010#010#010#010#010#010#010#010#010#010#010#010#010#010#010#010#010#010#010#010#010#010#010#010#010#010#010#010#010#010#010#010#010#010#010#010#010#010#010#010#010#010#010#010#010#010#010#010#010#010#010#010#010#010#010#010#010#010#010#010#010#010#010#010#010#010#010#010#010#010#010#010#010#010#010#010#010#010#010#010#010#010#010#010#010#010#010#010#010#010#010#010#010#010#010#010#010#010#010#010#010#010#010#010#010#010#010#010#010#010#010#010#010#010#010#010#010#010#010#010#010#010#01549920/54000 [==========================>...] - ETA: 0s - loss: 0.5670 - accuracy: 0.8375 - precision: 0.9094 - recall: 0.6466 - f1_score: 0.7343#010#010#010#010#010#010#010#010#010#010#010#010#010#010#010#010#010#010#010#010#010#010#010#010#010#010#010#010#010#010#010#010#010#010#010#010#010#010#010#010#010#010#010#010#010#010#010#010#010#010#010#010#010#010#010#010#010#010#010#010#010#010#010#010#010#010#010#010#010#010#010#010#010#010#010#010#010#010#010#010#010#010#010#010#010#010#010#010#010#010#010#010#010#010#010#010#010#010#010#010#010#010#010#010#010#010#010#010#010#010#010#010#010#010#010#010#010#010#010#010#010#010#010#010#010#010#010#010#010#010#010#010#010#010#010#010#010#010#010#010#010#010#010#010#01551584/54000 [===========================>..] - ETA: 0s - loss: 0.5577 - accuracy: 0.8402 - precision: 0.9109 - recall: 0.6532 - f1_score: 0.7396#010#010#010#010#010#010#010#010#010#010#010#010#010#010#010#010#010#010#010#010#010#010#010#010#010#010#010#010#010#010#010#010#010#010#010#010#010#010#010#010#010#010#010#010#010#010#010#010#010#010#010#010#010#010#010#010#010#010#010#010#010#010#010#010#010#010#010#010#010#010#010#010#010#010#010#010#010#010#010#010#010#010#010#010#010#010#010#010#010#010#010#010#010#010#010#010#010#010#010#010#010#010#010#010#010#010#010#010#010#010#010#010#010#010#010#010#010#010#010#010#010#010#010#010#010#010#010#010#010#010#010#010#010#010#010#010#010#010#010#010#010#010#010#010#01553120/54000 [============================>.] - ETA: 0s - loss: 0.5491 - accuracy: 0.8428 - precision: 0.9122 - recall: 0.6590 - f1_score: 0.7443#010#010#010#010#010#010#010#010#010#010#010#010#010#010#010#010#010#010#010#010#010#010#010#010#010#010#010#010#010#010#010#010#010#010#010#010#010#010#010#010#010#010#010#010#010#010#010#010#010#010#010#010#010#010#010#010#010#010#010#010#010#010#010#010#010#010#010#010#010#010#010#010#010#010#010#010#010#010#010#010#010#010#010#010#010#010#010#010#010#010#010#010#010#010#010#010#010#010#010#010#010#010#010#010#010#010#010#010#010#010#010#010#010#010#010#010#010#010#010#010#010#010#010#010#010#010#010#010#010#010#010#010#010#010#010#010#010#010#010#010#010#010#010#010#01554000/54000 [==============================] - 4s 67us/sample - loss: 0.5453 - accuracy: 0.8438 - precision: 0.9129 - recall: 0.6623 - f1_score: 0.7470 - val_loss: 0.2292 - val_accuracy: 0.9337 - val_precision: 0.9572 - val_recall: 0.8629 - val_f1_score: 0.9076\u001b[0m\n",
      "\u001b[34mEpoch 2/3\u001b[0m\n"
     ]
    },
    {
     "name": "stdout",
     "output_type": "stream",
     "text": [
      "\n",
      "2021-05-16 02:13:51 Uploading - Uploading generated training model\u001b[34m#015  128/54000 [..............................] - ETA: 2s - loss: 0.1884 - accuracy: 0.9688 - precision: 0.9585 - recall: 0.8673 - f1_score: 0.9106#010#010#010#010#010#010#010#010#010#010#010#010#010#010#010#010#010#010#010#010#010#010#010#010#010#010#010#010#010#010#010#010#010#010#010#010#010#010#010#010#010#010#010#010#010#010#010#010#010#010#010#010#010#010#010#010#010#010#010#010#010#010#010#010#010#010#010#010#010#010#010#010#010#010#010#010#010#010#010#010#010#010#010#010#010#010#010#010#010#010#010#010#010#010#010#010#010#010#010#010#010#010#010#010#010#010#010#010#010#010#010#010#010#010#010#010#010#010#010#010#010#010#010#010#010#010#010#010#010#010#010#010#010#010#010#010#010#010#010#010#010#010#010#010#015 1920/54000 [>.............................] - ETA: 1s - loss: 0.2863 - accuracy: 0.9125 - precision: 0.9586 - recall: 0.8683 - f1_score: 0.9112#010#010#010#010#010#010#010#010#010#010#010#010#010#010#010#010#010#010#010#010#010#010#010#010#010#010#010#010#010#010#010#010#010#010#010#010#010#010#010#010#010#010#010#010#010#010#010#010#010#010#010#010#010#010#010#010#010#010#010#010#010#010#010#010#010#010#010#010#010#010#010#010#010#010#010#010#010#010#010#010#010#010#010#010#010#010#010#010#010#010#010#010#010#010#010#010#010#010#010#010#010#010#010#010#010#010#010#010#010#010#010#010#010#010#010#010#010#010#010#010#010#010#010#010#010#010#010#010#010#010#010#010#010#010#010#010#010#010#010#010#010#010#010#010#015 3456/54000 [>.............................] - ETA: 1s - loss: 0.2858 - accuracy: 0.9138 - precision: 0.9586 - recall: 0.8691 - f1_score: 0.9116#010#010#010#010#010#010#010#010#010#010#010#010#010#010#010#010#010#010#010#010#010#010#010#010#010#010#010#010#010#010#010#010#010#010#010#010#010#010#010#010#010#010#010#010#010#010#010#010#010#010#010#010#010#010#010#010#010#010#010#010#010#010#010#010#010#010#010#010#010#010#010#010#010#010#010#010#010#010#010#010#010#010#010#010#010#010#010#010#010#010#010#010#010#010#010#010#010#010#010#010#010#010#010#010#010#010#010#010#010#010#010#010#010#010#010#010#010#010#010#010#010#010#010#010#010#010#010#010#010#010#010#010#010#010#010#010#010#010#010#010#010#010#010#010#015 5120/54000 [=>............................] - ETA: 1s - loss: 0.2809 - accuracy: 0.9141 - precision: 0.9587 - recall: 0.8701 - f1_score: 0.9123#010#010#010#010#010#010#010#010#010#010#010#010#010#010#010#010#010#010#010#010#010#010#010#010#010#010#010#010#010#010#010#010#010#010#010#010#010#010#010#010#010#010#010#010#010#010#010#010#010#010#010#010#010#010#010#010#010#010#010#010#010#010#010#010#010#010#010#010#010#010#010#010#010#010#010#010#010#010#010#010#010#010#010#010#010#010#010#010#010#010#010#010#010#010#010#010#010#010#010#010#010#010#010#010#010#010#010#010#010#010#010#010#010#010#010#010#010#010#010#010#010#010#010#010#010#010#010#010#010#010#010#010#010#010#010#010#010#010#010#010#010#010#010#010#015 6528/54000 [==>...........................] - ETA: 1s - loss: 0.2748 - accuracy: 0.9180 - precision: 0.9588 - recall: 0.8711 - f1_score: 0.9129#010#010#010#010#010#010#010#010#010#010#010#010#010#010#010#010#010#010#010#010#010#010#010#010#010#010#010#010#010#010#010#010#010#010#010#010#010#010#010#010#010#010#010#010#010#010#010#010#010#010#010#010#010#010#010#010#010#010#010#010#010#010#010#010#010#010#010#010#010#010#010#010#010#010#010#010#010#010#010#010#010#010#010#010#010#010#010#010#010#010#010#010#010#010#010#010#010#010#010#010#010#010#010#010#010#010#010#010#010#010#010#010#010#010#010#010#010#010#010#010#010#010#010#010#010#010#010#010#010#010#010#010#010#010#010#010#010#010#010#010#010#010#010#010#015 8192/54000 [===>..........................] - ETA: 1s - loss: 0.2683 - accuracy: 0.9203 - precision: 0.9590 - recall: 0.8724 - f1_score: 0.9137#010#010#010#010#010#010#010#010#010#010#010#010#010#010#010#010#010#010#010#010#010#010#010#010#010#010#010#010#010#010#010#010#010#010#010#010#010#010#010#010#010#010#010#010#010#010#010#010#010#010#010#010#010#010#010#010#010#010#010#010#010#010#010#010#010#010#010#010#010#010#010#010#010#010#010#010#010#010#010#010#010#010#010#010#010#010#010#010#010#010#010#010#010#010#010#010#010#010#010#010#010#010#010#010#010#010#010#010#010#010#010#010#010#010#010#010#010#010#010#010#010#010#010#010#010#010#010#010#010#010#010#010#010#010#010#010#010#010#010#010#010#010#010#010#015 9856/54000 [====>.........................] - ETA: 1s - loss: 0.2693 - accuracy: 0.9197 - precision: 0.9591 - recall: 0.8737 - f1_score: 0.9144#010#010#010#010#010#010#010#010#010#010#010#010#010#010#010#010#010#010#010#010#010#010#010#010#010#010#010#010#010#010#010#010#010#010#010#010#010#010#010#010#010#010#010#010#010#010#010#010#010#010#010#010#010#010#010#010#010#010#010#010#010#010#010#010#010#010#010#010#010#010#010#010#010#010#010#010#010#010#010#010#010#010#010#010#010#010#010#010#010#010#010#010#010#010#010#010#010#010#010#010#010#010#010#010#010#010#010#010#010#010#010#010#010#010#010#010#010#010#010#010#010#010#010#010#010#010#010#010#010#010#010#010#010#010#010#010#010#010#010#010#010#010#010#010#01511520/54000 [=====>........................] - ETA: 1s - loss: 0.2722 - accuracy: 0.9192 - precision: 0.9593 - recall: 0.8749 - f1_score: 0.9151#010#010#010#010#010#010#010#010#010#010#010#010#010#010#010#010#010#010#010#010#010#010#010#010#010#010#010#010#010#010#010#010#010#010#010#010#010#010#010#010#010#010#010#010#010#010#010#010#010#010#010#010#010#010#010#010#010#010#010#010#010#010#010#010#010#010#010#010#010#010#010#010#010#010#010#010#010#010#010#010#010#010#010#010#010#010#010#010#010#010#010#010#010#010#010#010#010#010#010#010#010#010#010#010#010#010#010#010#010#010#010#010#010#010#010#010#010#010#010#010#010#010#010#010#010#010#010#010#010#010#010#010#010#010#010#010#010#010#010#010#010#010#010#010#01513184/54000 [======>.......................] - ETA: 1s - loss: 0.2681 - accuracy: 0.9202 - precision: 0.9595 - recall: 0.8760 - f1_score: 0.9158#010#010#010#010#010#010#010#010#010#010#010#010#010#010#010#010#010#010#010#010#010#010#010#010#010#010#010#010#010#010#010#010#010#010#010#010#010#010#010#010#010#010#010#010#010#010#010#010#010#010#010#010#010#010#010#010#010#010#010#010#010#010#010#010#010#010#010#010#010#010#010#010#010#010#010#010#010#010#010#010#010#010#010#010#010#010#010#010#010#010#010#010#010#010#010#010#010#010#010#010#010#010#010#010#010#010#010#010#010#010#010#010#010#010#010#010#010#010#010#010#010#010#010#010#010#010#010#010#010#010#010#010#010#010#010#010#010#010#010#010#010#010#010#010#01514848/54000 [=======>......................] - ETA: 1s - loss: 0.2644 - accuracy: 0.9219 - precision: 0.9596 - recall: 0.8770 - f1_score: 0.9164#010#010#010#010#010#010#010#010#010#010#010#010#010#010#010#010#010#010#010#010#010#010#010#010#010#010#010#010#010#010#010#010#010#010#010#010#010#010#010#010#010#010#010#010#010#010#010#010#010#010#010#010#010#010#010#010#010#010#010#010#010#010#010#010#010#010#010#010#010#010#010#010#010#010#010#010#010#010#010#010#010#010#010#010#010#010#010#010#010#010#010#010#010#010#010#010#010#010#010#010#010#010#010#010#010#010#010#010#010#010#010#010#010#010#010#010#010#010#010#010#010#010#010#010#010#010#010#010#010#010#010#010#010#010#010#010#010#010#010#010#010#010#010#010#01516384/54000 [========>.....................] - ETA: 1s - loss: 0.2658 - accuracy: 0.9218 - precision: 0.9597 - recall: 0.8779 - f1_score: 0.9170#010#010#010#010#010#010#010#010#010#010#010#010#010#010#010#010#010#010#010#010#010#010#010#010#010#010#010#010#010#010#010#010#010#010#010#010#010#010#010#010#010#010#010#010#010#010#010#010#010#010#010#010#010#010#010#010#010#010#010#010#010#010#010#010#010#010#010#010#010#010#010#010#010#010#010#010#010#010#010#010#010#010#010#010#010#010#010#010#010#010#010#010#010#010#010#010#010#010#010#010#010#010#010#010#010#010#010#010#010#010#010#010#010#010#010#010#010#010#010#010#010#010#010#010#010#010#010#010#010#010#010#010#010#010#010#010#010#010#010#010#010#010#010#010#01518176/54000 [=========>....................] - ETA: 1s - loss: 0.2651 - accuracy: 0.9218 - precision: 0.9599 - recall: 0.8789 - f1_score: 0.9176#010#010#010#010#010#010#010#010#010#010#010#010#010#010#010#010#010#010#010#010#010#010#010#010#010#010#010#010#010#010#010#010#010#010#010#010#010#010#010#010#010#010#010#010#010#010#010#010#010#010#010#010#010#010#010#010#010#010#010#010#010#010#010#010#010#010#010#010#010#010#010#010#010#010#010#010#010#010#010#010#010#010#010#010#010#010#010#010#010#010#010#010#010#010#010#010#010#010#010#010#010#010#010#010#010#010#010#010#010#010#010#010#010#010#010#010#010#010#010#010#010#010#010#010#010#010#010#010#010#010#010#010#010#010#010#010#010#010#010#010#010#010#010#010#01519712/54000 [=========>....................] - ETA: 1s - loss: 0.2645 - accuracy: 0.9227 - precision: 0.9600 - recall: 0.8798 - f1_score: 0.9181#010#010#010#010#010#010#010#010#010#010#010#010#010#010#010#010#010#010#010#010#010#010#010#010#010#010#010#010#010#010#010#010#010#010#010#010#010#010#010#010#010#010#010#010#010#010#010#010#010#010#010#010#010#010#010#010#010#010#010#010#010#010#010#010#010#010#010#010#010#010#010#010#010#010#010#010#010#010#010#010#010#010#010#010#010#010#010#010#010#010#010#010#010#010#010#010#010#010#010#010#010#010#010#010#010#010#010#010#010#010#010#010#010#010#010#010#010#010#010#010#010#010#010#010#010#010#010#010#010#010#010#010#010#010#010#010#010#010#010#010#010#010#010#010#01521376/54000 [==========>...................] - ETA: 1s - loss: 0.2659 - accuracy: 0.9225 - precision: 0.9601 - recall: 0.8807 - f1_score: 0.9187#010#010#010#010#010#010#010#010#010#010#010#010#010#010#010#010#010#010#010#010#010#010#010#010#010#010#010#010#010#010#010#010#010#010#010#010#010#010#010#010#010#010#010#010#010#010#010#010#010#010#010#010#010#010#010#010#010#010#010#010#010#010#010#010#010#010#010#010#010#010#010#010#010#010#010#010#010#010#010#010#010#010#010#010#010#010#010#010#010#010#010#010#010#010#010#010#010#010#010#010#010#010#010#010#010#010#010#010#010#010#010#010#010#010#010#010#010#010#010#010#010#010#010#010#010#010#010#010#010#010#010#010#010#010#010#010#010#010#010#010#010#010#010#010#01523040/54000 [===========>..................] - ETA: 1s - loss: 0.2635 - accuracy: 0.9234 - precision: 0.9601 - recall: 0.8816 - f1_score: 0.9192#010#010#010#010#010#010#010#010#010#010#010#010#010#010#010#010#010#010#010#010#010#010#010#010#010#010#010#010#010#010#010#010#010#010#010#010#010#010#010#010#010#010#010#010#010#010#010#010#010#010#010#010#010#010#010#010#010#010#010#010#010#010#010#010#010#010#010#010#010#010#010#010#010#010#010#010#010#010#010#010#010#010#010#010#010#010#010#010#010#010#010#010#010#010#010#010#010#010#010#010#010#010#010#010#010#010#010#010#010#010#010#010#010#010#010#010#010#010#010#010#010#010#010#010#010#010#010#010#010#010#010#010#010#010#010#010#010#010#010#010#010#010#010#010#01524704/54000 [============>.................] - ETA: 0s - loss: 0.2648 - accuracy: 0.9229 - precision: 0.9602 - recall: 0.8825 - f1_score: 0.9197#010#010#010#010#010#010#010#010#010#010#010#010#010#010#010#010#010#010#010#010#010#010#010#010#010#010#010#010#010#010#010#010#010#010#010#010#010#010#010#010#010#010#010#010#010#010#010#010#010#010#010#010#010#010#010#010#010#010#010#010#010#010#010#010#010#010#010#010#010#010#010#010#010#010#010#010#010#010#010#010#010#010#010#010#010#010#010#010#010#010#010#010#010#010#010#010#010#010#010#010#010#010#010#010#010#010#010#010#010#010#010#010#010#010#010#010#010#010#010#010#010#010#010#010#010#010#010#010#010#010#010#010#010#010#010#010#010#010#010#010#010#010#010#010#01526368/54000 [=============>................] - ETA: 0s - loss: 0.2648 - accuracy: 0.9226 - precision: 0.9602 - recall: 0.8832 - f1_score: 0.9201#010#010#010#010#010#010#010#010#010#010#010#010#010#010#010#010#010#010#010#010#010#010#010#010#010#010#010#010#010#010#010#010#010#010#010#010#010#010#010#010#010#010#010#010#010#010#010#010#010#010#010#010#010#010#010#010#010#010#010#010#010#010#010#010#010#010#010#010#010#010#010#010#010#010#010#010#010#010#010#010#010#010#010#010#010#010#010#010#010#010#010#010#010#010#010#010#010#010#010#010#010#010#010#010#010#010#010#010#010#010#010#010#010#010#010#010#010#010#010#010#010#010#010#010#010#010#010#010#010#010#010#010#010#010#010#010#010#010#010#010#010#010#010#010#01528160/54000 [==============>...............] - ETA: 0s - loss: 0.2643 - accuracy: 0.9227 - precision: 0.9603 - recall: 0.8840 - f1_score: 0.9206#010#010#010#010#010#010#010#010#010#010#010#010#010#010#010#010#010#010#010#010#010#010#010#010#010#010#010#010#010#010#010#010#010#010#010#010#010#010#010#010#010#010#010#010#010#010#010#010#010#010#010#010#010#010#010#010#010#010#010#010#010#010#010#010#010#010#010#010#010#010#010#010#010#010#010#010#010#010#010#010#010#010#010#010#010#010#010#010#010#010#010#010#010#010#010#010#010#010#010#010#010#010#010#010#010#010#010#010#010#010#010#010#010#010#010#010#010#010#010#010#010#010#010#010#010#010#010#010#010#010#010#010#010#010#010#010#010#010#010#010#010#010#010#010#01529952/54000 [===============>..............] - ETA: 0s - loss: 0.2625 - accuracy: 0.9232 - precision: 0.9604 - recall: 0.8848 - f1_score: 0.9210#010#010#010#010#010#010#010#010#010#010#010#010#010#010#010#010#010#010#010#010#010#010#010#010#010#010#010#010#010#010#010#010#010#010#010#010#010#010#010#010#010#010#010#010#010#010#010#010#010#010#010#010#010#010#010#010#010#010#010#010#010#010#010#010#010#010#010#010#010#010#010#010#010#010#010#010#010#010#010#010#010#010#010#010#010#010#010#010#010#010#010#010#010#010#010#010#010#010#010#010#010#010#010#010#010#010#010#010#010#010#010#010#010#010#010#010#010#010#010#010#010#010#010#010#010#010#010#010#010#010#010#010#010#010#010#010#010#010#010#010#010#010#010#010#01531744/54000 [================>.............] - ETA: 0s - loss: 0.2617 - accuracy: 0.9237 - precision: 0.9604 - recall: 0.8856 - f1_score: 0.9214#010#010#010#010#010#010#010#010#010#010#010#010#010#010#010#010#010#010#010#010#010#010#010#010#010#010#010#010#010#010#010#010#010#010#010#010#010#010#010#010#010#010#010#010#010#010#010#010#010#010#010#010#010#010#010#010#010#010#010#010#010#010#010#010#010#010#010#010#010#010#010#010#010#010#010#010#010#010#010#010#010#010#010#010#010#010#010#010#010#010#010#010#010#010#010#010#010#010#010#010#010#010#010#010#010#010#010#010#010#010#010#010#010#010#010#010#010#010#010#010#010#010#010#010#010#010#010#010#010#010#010#010#010#010#010#010#010#010#010#010#010#010#010#010#01533408/54000 [=================>............] - ETA: 0s - loss: 0.2606 - accuracy: 0.9240 - precision: 0.9604 - recall: 0.8862 - f1_score: 0.9218#010#010#010#010#010#010#010#010#010#010#010#010#010#010#010#010#010#010#010#010#010#010#010#010#010#010#010#010#010#010#010#010#010#010#010#010#010#010#010#010#010#010#010#010#010#010#010#010#010#010#010#010#010#010#010#010#010#010#010#010#010#010#010#010#010#010#010#010#010#010#010#010#010#010#010#010#010#010#010#010#010#010#010#010#010#010#010#010#010#010#010#010#010#010#010#010#010#010#010#010#010#010#010#010#010#010#010#010#010#010#010#010#010#010#010#010#010#010#010#010#010#010#010#010#010#010#010#010#010#010#010#010#010#010#010#010#010#010#010#010#010#010#010#010#01535200/54000 [==================>...........] - ETA: 0s - loss: 0.2582 - accuracy: 0.9251 - precision: 0.9605 - recall: 0.8870 - f1_score: 0.9222#010#010#010#010#010#010#010#010#010#010#010#010#010#010#010#010#010#010#010#010#010#010#010#010#010#010#010#010#010#010#010#010#010#010#010#010#010#010#010#010#010#010#010#010#010#010#010#010#010#010#010#010#010#010#010#010#010#010#010#010#010#010#010#010#010#010#010#010#010#010#010#010#010#010#010#010#010#010#010#010#010#010#010#010#010#010#010#010#010#010#010#010#010#010#010#010#010#010#010#010#010#010#010#010#010#010#010#010#010#010#010#010#010#010#010#010#010#010#010#010#010#010#010#010#010#010#010#010#010#010#010#010#010#010#010#010#010#010#010#010#010#010#010#010#01536736/54000 [===================>..........] - ETA: 0s - loss: 0.2578 - accuracy: 0.9251 - precision: 0.9605 - recall: 0.8876 - f1_score: 0.9226#010#010#010#010#010#010#010#010#010#010#010#010#010#010#010#010#010#010#010#010#010#010#010#010#010#010#010#010#010#010#010#010#010#010#010#010#010#010#010#010#010#010#010#010#010#010#010#010#010#010#010#010#010#010#010#010#010#010#010#010#010#010#010#010#010#010#010#010#010#010#010#010#010#010#010#010#010#010#010#010#010#010#010#010#010#010#010#010#010#010#010#010#010#010#010#010#010#010#010#010#010#010#010#010#010#010#010#010#010#010#010#010#010#010#010#010#010#010#010#010#010#010#010#010#010#010#010#010#010#010#010#010#010#010#010#010#010#010#010#010#010#010#010#010#01538144/54000 [====================>.........] - ETA: 0s - loss: 0.2574 - accuracy: 0.9257 - precision: 0.9606 - recall: 0.8881 - f1_score: 0.9229#010#010#010#010#010#010#010#010#010#010#010#010#010#010#010#010#010#010#010#010#010#010#010#010#010#010#010#010#010#010#010#010#010#010#010#010#010#010#010#010#010#010#010#010#010#010#010#010#010#010#010#010#010#010#010#010#010#010#010#010#010#010#010#010#010#010#010#010#010#010#010#010#010#010#010#010#010#010#010#010#010#010#010#010#010#010#010#010#010#010#010#010#010#010#010#010#010#010#010#010#010#010#010#010#010#010#010#010#010#010#010#010#010#010#010#010#010#010#010#010#010#010#010#010#010#010#010#010#010#010#010#010#010#010#010#010#010#010#010#010#010#010#010#010#01539936/54000 [=====================>........] - ETA: 0s - loss: 0.2565 - accuracy: 0.9261 - precision: 0.9606 - recall: 0.8888 - f1_score: 0.9233#010#010#010#010#010#010#010#010#010#010#010#010#010#010#010#010#010#010#010#010#010#010#010#010#010#010#010#010#010#010#010#010#010#010#010#010#010#010#010#010#010#010#010#010#010#010#010#010#010#010#010#010#010#010#010#010#010#010#010#010#010#010#010#010#010#010#010#010#010#010#010#010#010#010#010#010#010#010#010#010#010#010#010#010#010#010#010#010#010#010#010#010#010#010#010#010#010#010#010#010#010#010#010#010#010#010#010#010#010#010#010#010#010#010#010#010#010#010#010#010#010#010#010#010#010#010#010#010#010#010#010#010#010#010#010#010#010#010#010#010#010#010#010#010#01541728/54000 [======================>.......] - ETA: 0s - loss: 0.2552 - accuracy: 0.9265 - precision: 0.9607 - recall: 0.8895 - f1_score: 0.9237#010#010#010#010#010#010#010#010#010#010#010#010#010#010#010#010#010#010#010#010#010#010#010#010#010#010#010#010#010#010#010#010#010#010#010#010#010#010#010#010#010#010#010#010#010#010#010#010#010#010#010#010#010#010#010#010#010#010#010#010#010#010#010#010#010#010#010#010#010#010#010#010#010#010#010#010#010#010#010#010#010#010#010#010#010#010#010#010#010#010#010#010#010#010#010#010#010#010#010#010#010#010#010#010#010#010#010#010#010#010#010#010#010#010#010#010#010#010#010#010#010#010#010#010#010#010#010#010#010#010#010#010#010#010#010#010#010#010#010#010#010#010#010#010#01543520/54000 [=======================>......] - ETA: 0s - loss: 0.2547 - accuracy: 0.9269 - precision: 0.9607 - recall: 0.8901 - f1_score: 0.9240#010#010#010#010#010#010#010#010#010#010#010#010#010#010#010#010#010#010#010#010#010#010#010#010#010#010#010#010#010#010#010#010#010#010#010#010#010#010#010#010#010#010#010#010#010#010#010#010#010#010#010#010#010#010#010#010#010#010#010#010#010#010#010#010#010#010#010#010#010#010#010#010#010#010#010#010#010#010#010#010#010#010#010#010#010#010#010#010#010#010#010#010#010#010#010#010#010#010#010#010#010#010#010#010#010#010#010#010#010#010#010#010#010#010#010#010#010#010#010#010#010#010#010#010#010#010#010#010#010#010#010#010#010#010#010#010#010#010#010#010#010#010#010#010#01545440/54000 [========================>.....] - ETA: 0s - loss: 0.2540 - accuracy: 0.9270 - precision: 0.9608 - recall: 0.8908 - f1_score: 0.9244#010#010#010#010#010#010#010#010#010#010#010#010#010#010#010#010#010#010#010#010#010#010#010#010#010#010#010#010#010#010#010#010#010#010#010#010#010#010#010#010#010#010#010#010#010#010#010#010#010#010#010#010#010#010#010#010#010#010#010#010#010#010#010#010#010#010#010#010#010#010#010#010#010#010#010#010#010#010#010#010#010#010#010#010#010#010#010#010#010#010#010#010#010#010#010#010#010#010#010#010#010#010#010#010#010#010#010#010#010#010#010#010#010#010#010#010#010#010#010#010#010#010#010#010#010#010#010#010#010#010#010#010#010#010#010#010#010#010#010#010#010#010#010#010#01547232/54000 [=========================>....] - ETA: 0s - loss: 0.2531 - accuracy: 0.9273 - precision: 0.9608 - recall: 0.8915 - f1_score: 0.9248#010#010#010#010#010#010#010#010#010#010#010#010#010#010#010#010#010#010#010#010#010#010#010#010#010#010#010#010#010#010#010#010#010#010#010#010#010#010#010#010#010#010#010#010#010#010#010#010#010#010#010#010#010#010#010#010#010#010#010#010#010#010#010#010#010#010#010#010#010#010#010#010#010#010#010#010#010#010#010#010#010#010#010#010#010#010#010#010#010#010#010#010#010#010#010#010#010#010#010#010#010#010#010#010#010#010#010#010#010#010#010#010#010#010#010#010#010#010#010#010#010#010#010#010#010#010#010#010#010#010#010#010#010#010#010#010#010#010#010#010#010#010#010#010#01548896/54000 [==========================>...] - ETA: 0s - loss: 0.2527 - accuracy: 0.9274 - precision: 0.9609 - recall: 0.8920 - f1_score: 0.9251#010#010#010#010#010#010#010#010#010#010#010#010#010#010#010#010#010#010#010#010#010#010#010#010#010#010#010#010#010#010#010#010#010#010#010#010#010#010#010#010#010#010#010#010#010#010#010#010#010#010#010#010#010#010#010#010#010#010#010#010#010#010#010#010#010#010#010#010#010#010#010#010#010#010#010#010#010#010#010#010#010#010#010#010#010#010#010#010#010#010#010#010#010#010#010#010#010#010#010#010#010#010#010#010#010#010#010#010#010#010#010#010#010#010#010#010#010#010#010#010#010#010#010#010#010#010#010#010#010#010#010#010#010#010#010#010#010#010#010#010#010#010#010#010#01550560/54000 [===========================>..] - ETA: 0s - loss: 0.2529 - accuracy: 0.9273 - precision: 0.9609 - recall: 0.8926 - f1_score: 0.9255#010#010#010#010#010#010#010#010#010#010#010#010#010#010#010#010#010#010#010#010#010#010#010#010#010#010#010#010#010#010#010#010#010#010#010#010#010#010#010#010#010#010#010#010#010#010#010#010#010#010#010#010#010#010#010#010#010#010#010#010#010#010#010#010#010#010#010#010#010#010#010#010#010#010#010#010#010#010#010#010#010#010#010#010#010#010#010#010#010#010#010#010#010#010#010#010#010#010#010#010#010#010#010#010#010#010#010#010#010#010#010#010#010#010#010#010#010#010#010#010#010#010#010#010#010#010#010#010#010#010#010#010#010#010#010#010#010#010#010#010#010#010#010#010#01551968/54000 [===========================>..] - ETA: 0s - loss: 0.2526 - accuracy: 0.9274 - precision: 0.9609 - recall: 0.8931 - f1_score: 0.9257#010#010#010#010#010#010#010#010#010#010#010#010#010#010#010#010#010#010#010#010#010#010#010#010#010#010#010#010#010#010#010#010#010#010#010#010#010#010#010#010#010#010#010#010#010#010#010#010#010#010#010#010#010#010#010#010#010#010#010#010#010#010#010#010#010#010#010#010#010#010#010#010#010#010#010#010#010#010#010#010#010#010#010#010#010#010#010#010#010#010#010#010#010#010#010#010#010#010#010#010#010#010#010#010#010#010#010#010#010#010#010#010#010#010#010#010#010#010#010#010#010#010#010#010#010#010#010#010#010#010#010#010#010#010#010#010#010#010#010#010#010#010#010#010#01553888/54000 [============================>.] - ETA: 0s - loss: 0.2517 - accuracy: 0.9277 - precision: 0.9610 - recall: 0.8937 - f1_score: 0.9261#010#010#010#010#010#010#010#010#010#010#010#010#010#010#010#010#010#010#010#010#010#010#010#010#010#010#010#010#010#010#010#010#010#010#010#010#010#010#010#010#010#010#010#010#010#010#010#010#010#010#010#010#010#010#010#010#010#010#010#010#010#010#010#010#010#010#010#010#010#010#010#010#010#010#010#010#010#010#010#010#010#010#010#010#010#010#010#010#010#010#010#010#010#010#010#010#010#010#010#010#010#010#010#010#010#010#010#010#010#010#010#010#010#010#010#010#010#010#010#010#010#010#010#010#010#010#010#010#010#010#010#010#010#010#010#010#010#010#010#010#010#010#010#010#01554000/54000 [==============================] - 2s 34us/sample - loss: 0.2515 - accuracy: 0.9277 - precision: 0.9610 - recall: 0.8938 - f1_score: 0.9261 - val_loss: 0.1780 - val_accuracy: 0.9535 - val_precision: 0.9626 - val_recall: 0.9126 - val_f1_score: 0.9369\u001b[0m\n",
      "\u001b[34mEpoch 3/3\u001b[0m\n",
      "\u001b[34m#015  128/54000 [..............................] - ETA: 3s - loss: 0.2485 - accuracy: 0.9453 - precision: 0.9630 - recall: 0.9136 - f1_score: 0.9377#010#010#010#010#010#010#010#010#010#010#010#010#010#010#010#010#010#010#010#010#010#010#010#010#010#010#010#010#010#010#010#010#010#010#010#010#010#010#010#010#010#010#010#010#010#010#010#010#010#010#010#010#010#010#010#010#010#010#010#010#010#010#010#010#010#010#010#010#010#010#010#010#010#010#010#010#010#010#010#010#010#010#010#010#010#010#010#010#010#010#010#010#010#010#010#010#010#010#010#010#010#010#010#010#010#010#010#010#010#010#010#010#010#010#010#010#010#010#010#010#010#010#010#010#010#010#010#010#010#010#010#010#010#010#010#010#010#010#010#010#010#010#010#010#015 1920/54000 [>.............................] - ETA: 1s - loss: 0.2042 - accuracy: 0.9354 - precision: 0.9632 - recall: 0.9140 - f1_score: 0.9380#010#010#010#010#010#010#010#010#010#010#010#010#010#010#010#010#010#010#010#010#010#010#010#010#010#010#010#010#010#010#010#010#010#010#010#010#010#010#010#010#010#010#010#010#010#010#010#010#010#010#010#010#010#010#010#010#010#010#010#010#010#010#010#010#010#010#010#010#010#010#010#010#010#010#010#010#010#010#010#010#010#010#010#010#010#010#010#010#010#010#010#010#010#010#010#010#010#010#010#010#010#010#010#010#010#010#010#010#010#010#010#010#010#010#010#010#010#010#010#010#010#010#010#010#010#010#010#010#010#010#010#010#010#010#010#010#010#010#010#010#010#010#010#010#015 3712/54000 [=>............................] - ETA: 1s - loss: 0.2130 - accuracy: 0.9348 - precision: 0.9635 - recall: 0.9143 - f1_score: 0.9383#010#010#010#010#010#010#010#010#010#010#010#010#010#010#010#010#010#010#010#010#010#010#010#010#010#010#010#010#010#010#010#010#010#010#010#010#010#010#010#010#010#010#010#010#010#010#010#010#010#010#010#010#010#010#010#010#010#010#010#010#010#010#010#010#010#010#010#010#010#010#010#010#010#010#010#010#010#010#010#010#010#010#010#010#010#010#010#010#010#010#010#010#010#010#010#010#010#010#010#010#010#010#010#010#010#010#010#010#010#010#010#010#010#010#010#010#010#010#010#010#010#010#010#010#010#010#010#010#010#010#010#010#010#010#010#010#010#010#010#010#010#010#010#010#015 5120/54000 [=>............................] - ETA: 1s - loss: 0.2091 - accuracy: 0.9381 - precision: 0.9636 - recall: 0.9145 - f1_score: 0.9384#010#010#010#010#010#010#010#010#010#010#010#010#010#010#010#010#010#010#010#010#010#010#010#010#010#010#010#010#010#010#010#010#010#010#010#010#010#010#010#010#010#010#010#010#010#010#010#010#010#010#010#010#010#010#010#010#010#010#010#010#010#010#010#010#010#010#010#010#010#010#010#010#010#010#010#010#010#010#010#010#010#010#010#010#010#010#010#010#010#010#010#010#010#010#010#010#010#010#010#010#010#010#010#010#010#010#010#010#010#010#010#010#010#010#010#010#010#010#010#010#010#010#010#010#010#010#010#010#010#010#010#010#010#010#010#010#010#010#010#010#010#010#010#010#015 6912/54000 [==>...........................] - ETA: 1s - loss: 0.2117 - accuracy: 0.9379 - precision: 0.9637 - recall: 0.9149 - f1_score: 0.9387#010#010#010#010#010#010#010#010#010#010#010#010#010#010#010#010#010#010#010#010#010#010#010#010#010#010#010#010#010#010#010#010#010#010#010#010#010#010#010#010#010#010#010#010#010#010#010#010#010#010#010#010#010#010#010#010#010#010#010#010#010#010#010#010#010#010#010#010#010#010#010#010#010#010#010#010#010#010#010#010#010#010#010#010#010#010#010#010#010#010#010#010#010#010#010#010#010#010#010#010#010#010#010#010#010#010#010#010#010#010#010#010#010#010#010#010#010#010#010#010#010#010#010#010#010#010#010#010#010#010#010#010#010#010#010#010#010#010#010#010#010#010#010#010#015 8704/54000 [===>..........................] - ETA: 1s - loss: 0.2182 - accuracy: 0.9351 - precision: 0.9637 - recall: 0.9152 - f1_score: 0.9388#010#010#010#010#010#010#010#010#010#010#010#010#010#010#010#010#010#010#010#010#010#010#010#010#010#010#010#010#010#010#010#010#010#010#010#010#010#010#010#010#010#010#010#010#010#010#010#010#010#010#010#010#010#010#010#010#010#010#010#010#010#010#010#010#010#010#010#010#010#010#010#010#010#010#010#010#010#010#010#010#010#010#010#010#010#010#010#010#010#010#010#010#010#010#010#010#010#010#010#010#010#010#010#010#010#010#010#010#010#010#010#010#010#010#010#010#010#010#010#010#010#010#010#010#010#010#010#010#010#010#010#010#010#010#010#010#010#010#010#010#010#010#010#010#01510112/54000 [====>.........................] - ETA: 1s - loss: 0.2146 - accuracy: 0.9358 - precision: 0.9638 - recall: 0.9155 - f1_score: 0.9390#010#010#010#010#010#010#010#010#010#010#010#010#010#010#010#010#010#010#010#010#010#010#010#010#010#010#010#010#010#010#010#010#010#010#010#010#010#010#010#010#010#010#010#010#010#010#010#010#010#010#010#010#010#010#010#010#010#010#010#010#010#010#010#010#010#010#010#010#010#010#010#010#010#010#010#010#010#010#010#010#010#010#010#010#010#010#010#010#010#010#010#010#010#010#010#010#010#010#010#010#010#010#010#010#010#010#010#010#010#010#010#010#010#010#010#010#010#010#010#010#010#010#010#010#010#010#010#010#010#010#010#010#010#010#010#010#010#010#010#010#010#010#010#010#01511776/54000 [=====>........................] - ETA: 1s - loss: 0.2082 - accuracy: 0.9381 - precision: 0.9638 - recall: 0.9158 - f1_score: 0.9392#010#010#010#010#010#010#010#010#010#010#010#010#010#010#010#010#010#010#010#010#010#010#010#010#010#010#010#010#010#010#010#010#010#010#010#010#010#010#010#010#010#010#010#010#010#010#010#010#010#010#010#010#010#010#010#010#010#010#010#010#010#010#010#010#010#010#010#010#010#010#010#010#010#010#010#010#010#010#010#010#010#010#010#010#010#010#010#010#010#010#010#010#010#010#010#010#010#010#010#010#010#010#010#010#010#010#010#010#010#010#010#010#010#010#010#010#010#010#010#010#010#010#010#010#010#010#010#010#010#010#010#010#010#010#010#010#010#010#010#010#010#010#010#010#01513056/54000 [======>.......................] - ETA: 1s - loss: 0.2079 - accuracy: 0.9387 - precision: 0.9638 - recall: 0.9161 - f1_score: 0.9393#010#010#010#010#010#010#010#010#010#010#010#010#010#010#010#010#010#010#010#010#010#010#010#010#010#010#010#010#010#010#010#010#010#010#010#010#010#010#010#010#010#010#010#010#010#010#010#010#010#010#010#010#010#010#010#010#010#010#010#010#010#010#010#010#010#010#010#010#010#010#010#010#010#010#010#010#010#010#010#010#010#010#010#010#010#010#010#010#010#010#010#010#010#010#010#010#010#010#010#010#010#010#010#010#010#010#010#010#010#010#010#010#010#010#010#010#010#010#010#010#010#010#010#010#010#010#010#010#010#010#010#010#010#010#010#010#010#010#010#010#010#010#010#010#01514976/54000 [=======>......................] - ETA: 1s - loss: 0.2059 - accuracy: 0.9397 - precision: 0.9639 - recall: 0.9165 - f1_score: 0.9396#010#010#010#010#010#010#010#010#010#010#010#010#010#010#010#010#010#010#010#010#010#010#010#010#010#010#010#010#010#010#010#010#010#010#010#010#010#010#010#010#010#010#010#010#010#010#010#010#010#010#010#010#010#010#010#010#010#010#010#010#010#010#010#010#010#010#010#010#010#010#010#010#010#010#010#010#010#010#010#010#010#010#010#010#010#010#010#010#010#010#010#010#010#010#010#010#010#010#010#010#010#010#010#010#010#010#010#010#010#010#010#010#010#010#010#010#010#010#010#010#010#010#010#010#010#010#010#010#010#010#010#010#010#010#010#010#010#010#010#010#010#010#010#010#01516768/54000 [========>.....................] - ETA: 1s - loss: 0.2056 - accuracy: 0.9399 - precision: 0.9639 - recall: 0.9168 - f1_score: 0.9397#010#010#010#010#010#010#010#010#010#010#010#010#010#010#010#010#010#010#010#010#010#010#010#010#010#010#010#010#010#010#010#010#010#010#010#010#010#010#010#010#010#010#010#010#010#010#010#010#010#010#010#010#010#010#010#010#010#010#010#010#010#010#010#010#010#010#010#010#010#010#010#010#010#010#010#010#010#010#010#010#010#010#010#010#010#010#010#010#010#010#010#010#010#010#010#010#010#010#010#010#010#010#010#010#010#010#010#010#010#010#010#010#010#010#010#010#010#010#010#010#010#010#010#010#010#010#010#010#010#010#010#010#010#010#010#010#010#010#010#010#010#010#010#010#01518560/54000 [=========>....................] - ETA: 1s - loss: 0.2036 - accuracy: 0.9404 - precision: 0.9639 - recall: 0.9171 - f1_score: 0.9399#010#010#010#010#010#010#010#010#010#010#010#010#010#010#010#010#010#010#010#010#010#010#010#010#010#010#010#010#010#010#010#010#010#010#010#010#010#010#010#010#010#010#010#010#010#010#010#010#010#010#010#010#010#010#010#010#010#010#010#010#010#010#010#010#010#010#010#010#010#010#010#010#010#010#010#010#010#010#010#010#010#010#010#010#010#010#010#010#010#010#010#010#010#010#010#010#010#010#010#010#010#010#010#010#010#010#010#010#010#010#010#010#010#010#010#010#010#010#010#010#010#010#010#010#010#010#010#010#010#010#010#010#010#010#010#010#010#010#010#010#010#010#010#010#01520096/54000 [==========>...................] - ETA: 1s - loss: 0.2054 - accuracy: 0.9400 - precision: 0.9639 - recall: 0.9174 - f1_score: 0.9401#010#010#010#010#010#010#010#010#010#010#010#010#010#010#010#010#010#010#010#010#010#010#010#010#010#010#010#010#010#010#010#010#010#010#010#010#010#010#010#010#010#010#010#010#010#010#010#010#010#010#010#010#010#010#010#010#010#010#010#010#010#010#010#010#010#010#010#010#010#010#010#010#010#010#010#010#010#010#010#010#010#010#010#010#010#010#010#010#010#010#010#010#010#010#010#010#010#010#010#010#010#010#010#010#010#010#010#010#010#010#010#010#010#010#010#010#010#010#010#010#010#010#010#010#010#010#010#010#010#010#010#010#010#010#010#010#010#010#010#010#010#010#010#010#01521760/54000 [===========>..................] - ETA: 1s - loss: 0.2032 - accuracy: 0.9402 - precision: 0.9640 - recall: 0.9177 - f1_score: 0.9403#010#010#010#010#010#010#010#010#010#010#010#010#010#010#010#010#010#010#010#010#010#010#010#010#010#010#010#010#010#010#010#010#010#010#010#010#010#010#010#010#010#010#010#010#010#010#010#010#010#010#010#010#010#010#010#010#010#010#010#010#010#010#010#010#010#010#010#010#010#010#010#010#010#010#010#010#010#010#010#010#010#010#010#010#010#010#010#010#010#010#010#010#010#010#010#010#010#010#010#010#010#010#010#010#010#010#010#010#010#010#010#010#010#010#010#010#010#010#010#010#010#010#010#010#010#010#010#010#010#010#010#010#010#010#010#010#010#010#010#010#010#010#010#010#01523552/54000 [============>.................] - ETA: 0s - loss: 0.2034 - accuracy: 0.9402 - precision: 0.9640 - recall: 0.9180 - f1_score: 0.9404#010#010#010#010#010#010#010#010#010#010#010#010#010#010#010#010#010#010#010#010#010#010#010#010#010#010#010#010#010#010#010#010#010#010#010#010#010#010#010#010#010#010#010#010#010#010#010#010#010#010#010#010#010#010#010#010#010#010#010#010#010#010#010#010#010#010#010#010#010#010#010#010#010#010#010#010#010#010#010#010#010#010#010#010#010#010#010#010#010#010#010#010#010#010#010#010#010#010#010#010#010#010#010#010#010#010#010#010#010#010#010#010#010#010#010#010#010#010#010#010#010#010#010#010#010#010#010#010#010#010#010#010#010#010#010#010#010#010#010#010#010#010#010#010#01525472/54000 [=============>................] - ETA: 0s - loss: 0.2037 - accuracy: 0.9402 - precision: 0.9640 - recall: 0.9183 - f1_score: 0.9406#010#010#010#010#010#010#010#010#010#010#010#010#010#010#010#010#010#010#010#010#010#010#010#010#010#010#010#010#010#010#010#010#010#010#010#010#010#010#010#010#010#010#010#010#010#010#010#010#010#010#010#010#010#010#010#010#010#010#010#010#010#010#010#010#010#010#010#010#010#010#010#010#010#010#010#010#010#010#010#010#010#010#010#010#010#010#010#010#010#010#010#010#010#010#010#010#010#010#010#010#010#010#010#010#010#010#010#010#010#010#010#010#010#010#010#010#010#010#010#010#010#010#010#010#010#010#010#010#010#010#010#010#010#010#010#010#010#010#010#010#010#010#010#010#01526880/54000 [=============>................] - ETA: 0s - loss: 0.2056 - accuracy: 0.9402 - precision: 0.9640 - recall: 0.9185 - f1_score: 0.9407#010#010#010#010#010#010#010#010#010#010#010#010#010#010#010#010#010#010#010#010#010#010#010#010#010#010#010#010#010#010#010#010#010#010#010#010#010#010#010#010#010#010#010#010#010#010#010#010#010#010#010#010#010#010#010#010#010#010#010#010#010#010#010#010#010#010#010#010#010#010#010#010#010#010#010#010#010#010#010#010#010#010#010#010#010#010#010#010#010#010#010#010#010#010#010#010#010#010#010#010#010#010#010#010#010#010#010#010#010#010#010#010#010#010#010#010#010#010#010#010#010#010#010#010#010#010#010#010#010#010#010#010#010#010#010#010#010#010#010#010#010#010#010#010#01528416/54000 [==============>...............] - ETA: 0s - loss: 0.2054 - accuracy: 0.9401 - precision: 0.9641 - recall: 0.9187 - f1_score: 0.9409#010#010#010#010#010#010#010#010#010#010#010#010#010#010#010#010#010#010#010#010#010#010#010#010#010#010#010#010#010#010#010#010#010#010#010#010#010#010#010#010#010#010#010#010#010#010#010#010#010#010#010#010#010#010#010#010#010#010#010#010#010#010#010#010#010#010#010#010#010#010#010#010#010#010#010#010#010#010#010#010#010#010#010#010#010#010#010#010#010#010#010#010#010#010#010#010#010#010#010#010#010#010#010#010#010#010#010#010#010#010#010#010#010#010#010#010#010#010#010#010#010#010#010#010#010#010#010#010#010#010#010#010#010#010#010#010#010#010#010#010#010#010#010#010#01530208/54000 [===============>..............] - ETA: 0s - loss: 0.2041 - accuracy: 0.9405 - precision: 0.9641 - recall: 0.9190 - f1_score: 0.9410#010#010#010#010#010#010#010#010#010#010#010#010#010#010#010#010#010#010#010#010#010#010#010#010#010#010#010#010#010#010#010#010#010#010#010#010#010#010#010#010#010#010#010#010#010#010#010#010#010#010#010#010#010#010#010#010#010#010#010#010#010#010#010#010#010#010#010#010#010#010#010#010#010#010#010#010#010#010#010#010#010#010#010#010#010#010#010#010#010#010#010#010#010#010#010#010#010#010#010#010#010#010#010#010#010#010#010#010#010#010#010#010#010#010#010#010#010#010#010#010#010#010#010#010#010#010#010#010#010#010#010#010#010#010#010#010#010#010#010#010#010#010#010#010#01532000/54000 [================>.............] - ETA: 0s - loss: 0.2045 - accuracy: 0.9403 - precision: 0.9641 - recall: 0.9193 - f1_score: 0.9412#010#010#010#010#010#010#010#010#010#010#010#010#010#010#010#010#010#010#010#010#010#010#010#010#010#010#010#010#010#010#010#010#010#010#010#010#010#010#010#010#010#010#010#010#010#010#010#010#010#010#010#010#010#010#010#010#010#010#010#010#010#010#010#010#010#010#010#010#010#010#010#010#010#010#010#010#010#010#010#010#010#010#010#010#010#010#010#010#010#010#010#010#010#010#010#010#010#010#010#010#010#010#010#010#010#010#010#010#010#010#010#010#010#010#010#010#010#010#010#010#010#010#010#010#010#010#010#010#010#010#010#010#010#010#010#010#010#010#010#010#010#010#010#010#01533792/54000 [=================>............] - ETA: 0s - loss: 0.2021 - accuracy: 0.9409 - precision: 0.9642 - recall: 0.9195 - f1_score: 0.9413#010#010#010#010#010#010#010#010#010#010#010#010#010#010#010#010#010#010#010#010#010#010#010#010#010#010#010#010#010#010#010#010#010#010#010#010#010#010#010#010#010#010#010#010#010#010#010#010#010#010#010#010#010#010#010#010#010#010#010#010#010#010#010#010#010#010#010#010#010#010#010#010#010#010#010#010#010#010#010#010#010#010#010#010#010#010#010#010#010#010#010#010#010#010#010#010#010#010#010#010#010#010#010#010#010#010#010#010#010#010#010#010#010#010#010#010#010#010#010#010#010#010#010#010#010#010#010#010#010#010#010#010#010#010#010#010#010#010#010#010#010#010#010#010#01535584/54000 [==================>...........] - ETA: 0s - loss: 0.2010 - accuracy: 0.9410 - precision: 0.9642 - recall: 0.9198 - f1_score: 0.9415#010#010#010#010#010#010#010#010#010#010#010#010#010#010#010#010#010#010#010#010#010#010#010#010#010#010#010#010#010#010#010#010#010#010#010#010#010#010#010#010#010#010#010#010#010#010#010#010#010#010#010#010#010#010#010#010#010#010#010#010#010#010#010#010#010#010#010#010#010#010#010#010#010#010#010#010#010#010#010#010#010#010#010#010#010#010#010#010#010#010#010#010#010#010#010#010#010#010#010#010#010#010#010#010#010#010#010#010#010#010#010#010#010#010#010#010#010#010#010#010#010#010#010#010#010#010#010#010#010#010#010#010#010#010#010#010#010#010#010#010#010#010#010#010#01537504/54000 [===================>..........] - ETA: 0s - loss: 0.2023 - accuracy: 0.9410 - precision: 0.9642 - recall: 0.9201 - f1_score: 0.9416#010#010#010#010#010#010#010#010#010#010#010#010#010#010#010#010#010#010#010#010#010#010#010#010#010#010#010#010#010#010#010#010#010#010#010#010#010#010#010#010#010#010#010#010#010#010#010#010#010#010#010#010#010#010#010#010#010#010#010#010#010#010#010#010#010#010#010#010#010#010#010#010#010#010#010#010#010#010#010#010#010#010#010#010#010#010#010#010#010#010#010#010#010#010#010#010#010#010#010#010#010#010#010#010#010#010#010#010#010#010#010#010#010#010#010#010#010#010#010#010#010#010#010#010#010#010#010#010#010#010#010#010#010#010#010#010#010#010#010#010#010#010#010#010#01539296/54000 [====================>.........] - ETA: 0s - loss: 0.2016 - accuracy: 0.9412 - precision: 0.9643 - recall: 0.9203 - f1_score: 0.9418#010#010#010#010#010#010#010#010#010#010#010#010#010#010#010#010#010#010#010#010#010#010#010#010#010#010#010#010#010#010#010#010#010#010#010#010#010#010#010#010#010#010#010#010#010#010#010#010#010#010#010#010#010#010#010#010#010#010#010#010#010#010#010#010#010#010#010#010#010#010#010#010#010#010#010#010#010#010#010#010#010#010#010#010#010#010#010#010#010#010#010#010#010#010#010#010#010#010#010#010#010#010#010#010#010#010#010#010#010#010#010#010#010#010#010#010#010#010#010#010#010#010#010#010#010#010#010#010#010#010#010#010#010#010#010#010#010#010#010#010#010#010#010#010#01541216/54000 [=====================>........] - ETA: 0s - loss: 0.2019 - accuracy: 0.9412 - precision: 0.9643 - recall: 0.9206 - f1_score: 0.9420#010#010#010#010#010#010#010#010#010#010#010#010#010#010#010#010#010#010#010#010#010#010#010#010#010#010#010#010#010#010#010#010#010#010#010#010#010#010#010#010#010#010#010#010#010#010#010#010#010#010#010#010#010#010#010#010#010#010#010#010#010#010#010#010#010#010#010#010#010#010#010#010#010#010#010#010#010#010#010#010#010#010#010#010#010#010#010#010#010#010#010#010#010#010#010#010#010#010#010#010#010#010#010#010#010#010#010#010#010#010#010#010#010#010#010#010#010#010#010#010#010#010#010#010#010#010#010#010#010#010#010#010#010#010#010#010#010#010#010#010#010#010#010#010#01543008/54000 [======================>.......] - ETA: 0s - loss: 0.2006 - accuracy: 0.9415 - precision: 0.9644 - recall: 0.9209 - f1_score: 0.9421#010#010#010#010#010#010#010#010#010#010#010#010#010#010#010#010#010#010#010#010#010#010#010#010#010#010#010#010#010#010#010#010#010#010#010#010#010#010#010#010#010#010#010#010#010#010#010#010#010#010#010#010#010#010#010#010#010#010#010#010#010#010#010#010#010#010#010#010#010#010#010#010#010#010#010#010#010#010#010#010#010#010#010#010#010#010#010#010#010#010#010#010#010#010#010#010#010#010#010#010#010#010#010#010#010#010#010#010#010#010#010#010#010#010#010#010#010#010#010#010#010#010#010#010#010#010#010#010#010#010#010#010#010#010#010#010#010#010#010#010#010#010#010#010#01544544/54000 [=======================>......] - ETA: 0s - loss: 0.2009 - accuracy: 0.9412 - precision: 0.9644 - recall: 0.9211 - f1_score: 0.9423#010#010#010#010#010#010#010#010#010#010#010#010#010#010#010#010#010#010#010#010#010#010#010#010#010#010#010#010#010#010#010#010#010#010#010#010#010#010#010#010#010#010#010#010#010#010#010#010#010#010#010#010#010#010#010#010#010#010#010#010#010#010#010#010#010#010#010#010#010#010#010#010#010#010#010#010#010#010#010#010#010#010#010#010#010#010#010#010#010#010#010#010#010#010#010#010#010#010#010#010#010#010#010#010#010#010#010#010#010#010#010#010#010#010#010#010#010#010#010#010#010#010#010#010#010#010#010#010#010#010#010#010#010#010#010#010#010#010#010#010#010#010#010#010#01546208/54000 [========================>.....] - ETA: 0s - loss: 0.2007 - accuracy: 0.9410 - precision: 0.9645 - recall: 0.9213 - f1_score: 0.9424#010#010#010#010#010#010#010#010#010#010#010#010#010#010#010#010#010#010#010#010#010#010#010#010#010#010#010#010#010#010#010#010#010#010#010#010#010#010#010#010#010#010#010#010#010#010#010#010#010#010#010#010#010#010#010#010#010#010#010#010#010#010#010#010#010#010#010#010#010#010#010#010#010#010#010#010#010#010#010#010#010#010#010#010#010#010#010#010#010#010#010#010#010#010#010#010#010#010#010#010#010#010#010#010#010#010#010#010#010#010#010#010#010#010#010#010#010#010#010#010#010#010#010#010#010#010#010#010#010#010#010#010#010#010#010#010#010#010#010#010#010#010#010#010#01547744/54000 [=========================>....] - ETA: 0s - loss: 0.1998 - accuracy: 0.9415 - precision: 0.9645 - recall: 0.9215 - f1_score: 0.9425#010#010#010#010#010#010#010#010#010#010#010#010#010#010#010#010#010#010#010#010#010#010#010#010#010#010#010#010#010#010#010#010#010#010#010#010#010#010#010#010#010#010#010#010#010#010#010#010#010#010#010#010#010#010#010#010#010#010#010#010#010#010#010#010#010#010#010#010#010#010#010#010#010#010#010#010#010#010#010#010#010#010#010#010#010#010#010#010#010#010#010#010#010#010#010#010#010#010#010#010#010#010#010#010#010#010#010#010#010#010#010#010#010#010#010#010#010#010#010#010#010#010#010#010#010#010#010#010#010#010#010#010#010#010#010#010#010#010#010#010#010#010#010#010#01549536/54000 [==========================>...] - ETA: 0s - loss: 0.1993 - accuracy: 0.9417 - precision: 0.9646 - recall: 0.9218 - f1_score: 0.9427#010#010#010#010#010#010#010#010#010#010#010#010#010#010#010#010#010#010#010#010#010#010#010#010#010#010#010#010#010#010#010#010#010#010#010#010#010#010#010#010#010#010#010#010#010#010#010#010#010#010#010#010#010#010#010#010#010#010#010#010#010#010#010#010#010#010#010#010#010#010#010#010#010#010#010#010#010#010#010#010#010#010#010#010#010#010#010#010#010#010#010#010#010#010#010#010#010#010#010#010#010#010#010#010#010#010#010#010#010#010#010#010#010#010#010#010#010#010#010#010#010#010#010#010#010#010#010#010#010#010#010#010#010#010#010#010#010#010#010#010#010#010#010#010#01551328/54000 [===========================>..] - ETA: 0s - loss: 0.1993 - accuracy: 0.9417 - precision: 0.9646 - recall: 0.9220 - f1_score: 0.9428#010#010#010#010#010#010#010#010#010#010#010#010#010#010#010#010#010#010#010#010#010#010#010#010#010#010#010#010#010#010#010#010#010#010#010#010#010#010#010#010#010#010#010#010#010#010#010#010#010#010#010#010#010#010#010#010#010#010#010#010#010#010#010#010#010#010#010#010#010#010#010#010#010#010#010#010#010#010#010#010#010#010#010#010#010#010#010#010#010#010#010#010#010#010#010#010#010#010#010#010#010#010#010#010#010#010#010#010#010#010#010#010#010#010#010#010#010#010#010#010#010#010#010#010#010#010#010#010#010#010#010#010#010#010#010#010#010#010#010#010#010#010#010#010#01553120/54000 [============================>.] - ETA: 0s - loss: 0.1983 - accuracy: 0.9420 - precision: 0.9647 - recall: 0.9223 - f1_score: 0.9430#010#010#010#010#010#010#010#010#010#010#010#010#010#010#010#010#010#010#010#010#010#010#010#010#010#010#010#010#010#010#010#010#010#010#010#010#010#010#010#010#010#010#010#010#010#010#010#010#010#010#010#010#010#010#010#010#010#010#010#010#010#010#010#010#010#010#010#010#010#010#010#010#010#010#010#010#010#010#010#010#010#010#010#010#010#010#010#010#010#010#010#010#010#010#010#010#010#010#010#010#010#010#010#010#010#010#010#010#010#010#010#010#010#010#010#010#010#010#010#010#010#010#010#010#010#010#010#010#010#010#010#010#010#010#010#010#010#010#010#010#010#010#010#010#01554000/54000 [==============================] - 2s 33us/sample - loss: 0.1980 - accuracy: 0.9422 - precision: 0.9647 - recall: 0.9224 - f1_score: 0.9430 - val_loss: 0.1462 - val_accuracy: 0.9603 - val_precision: 0.9660 - val_recall: 0.9300 - val_f1_score: 0.9477\u001b[0m\n",
      "\u001b[34mModel: \"sequential\"\u001b[0m\n",
      "\u001b[34m_________________________________________________________________\u001b[0m\n",
      "\u001b[34mLayer (type)                 Output Shape              Param #   \u001b[0m\n",
      "\u001b[34m=================================================================\u001b[0m\n",
      "\u001b[34mflatten (Flatten)            multiple                  0         \u001b[0m\n",
      "\u001b[34m_________________________________________________________________\u001b[0m\n",
      "\u001b[34mdense (Dense)                multiple                  50240     \u001b[0m\n",
      "\u001b[34m_________________________________________________________________\u001b[0m\n",
      "\u001b[34mdense_1 (Dense)              multiple                  2080      \u001b[0m\n",
      "\u001b[34m_________________________________________________________________\u001b[0m\n",
      "\u001b[34mdense_2 (Dense)              multiple                  330       \u001b[0m\n",
      "\u001b[34m=================================================================\u001b[0m\n",
      "\u001b[34mTotal params: 52,650\u001b[0m\n",
      "\u001b[34mTrainable params: 52,650\u001b[0m\n",
      "\u001b[34mNon-trainable params: 0\u001b[0m\n",
      "\u001b[34m_________________________________________________________________\u001b[0m\n",
      "\u001b[34mNone\u001b[0m\n",
      "\u001b[34mValidation loss    : 0.17422775847539307\u001b[0m\n",
      "\u001b[34mValidation accuracy: 0.9478\u001b[0m\n",
      "\u001b[34m2021-05-16 02:13:47.254185: W tensorflow/python/util/util.cc:319] Sets are not currently considered sequences, but this may change in the future, so consider avoiding using them.\u001b[0m\n",
      "\u001b[34mWARNING:tensorflow:From /usr/local/lib/python3.6/dist-packages/tensorflow_core/python/ops/resource_variable_ops.py:1786: calling BaseResourceVariable.__init__ (from tensorflow.python.ops.resource_variable_ops) with constraint is deprecated and will be removed in a future version.\u001b[0m\n",
      "\u001b[34mInstructions for updating:\u001b[0m\n",
      "\u001b[34mIf using Keras pass *_constraint arguments to layers.\u001b[0m\n",
      "\u001b[34mWARNING:tensorflow:From /usr/local/lib/python3.6/dist-packages/tensorflow_core/python/ops/resource_variable_ops.py:1786: calling BaseResourceVariable.__init__ (from tensorflow.python.ops.resource_variable_ops) with constraint is deprecated and will be removed in a future version.\u001b[0m\n",
      "\u001b[34mInstructions for updating:\u001b[0m\n",
      "\u001b[34mIf using Keras pass *_constraint arguments to layers.\u001b[0m\n",
      "\u001b[34mINFO:tensorflow:Assets written to: /opt/ml/model/1/assets\u001b[0m\n",
      "\u001b[34mINFO:tensorflow:Assets written to: /opt/ml/model/1/assets\u001b[0m\n",
      "\u001b[34m[2021-05-16 02:13:47.649 ip-10-0-126-201.ap-southeast-2.compute.internal:25 INFO utils.py:25] The end of training job file will not be written for jobs running under SageMaker.\u001b[0m\n",
      "\u001b[34m2021-05-16 02:13:48,068 sagemaker-containers INFO     Reporting training SUCCESS\u001b[0m\n"
     ]
    },
    {
     "name": "stdout",
     "output_type": "stream",
     "text": [
      "\n",
      "2021-05-16 02:14:08 Completed - Training job completed\n",
      "Training seconds: 79\n",
      "Billable seconds: 79\n"
     ]
    }
   ],
   "source": [
    "tf_estimator.fit({'training': training_input_path, 'validation': test_input_path})"
   ]
  },
  {
   "cell_type": "markdown",
   "metadata": {},
   "source": [
    "## Deploy the trained model\n",
    "\n",
    "After the model is trained, it can be deployed to a SageMaker Endpoint, which serves prediction requests in real-time. To do so, simply call `deploy()` on the estimator, passing in the desired number of instances and instance type for the endpoint."
   ]
  },
  {
   "cell_type": "code",
   "execution_count": null,
   "metadata": {},
   "outputs": [],
   "source": [
    "import time\n",
    "\n",
    "tf_endpoint_name = 'keras-tf-mnist-'+time.strftime(\"%Y-%m-%d-%H-%M-%S\", time.gmtime()) #give the endpoint a name.\n",
    "# used the time and date from the time library\n",
    "\n",
    "# deploy() deploys the model to an endpoint and optionally return a predictor.\n",
    "tf_predictor = tf_estimator.deploy(initial_instance_count=1, # The initial number of instances to run in the endpoint created from this Model.\n",
    "                                   instance_type='ml.m4.xlarge', # The EC2 instance type to deploy this model to.\n",
    "                                   endpoint_name=tf_endpoint_name) # The name of the endpoint to create   "
   ]
  },
  {
   "cell_type": "markdown",
   "metadata": {},
   "source": [
    "Now use the test dataset for predictions"
   ]
  },
  {
   "cell_type": "code",
   "execution_count": null,
   "metadata": {},
   "outputs": [],
   "source": [
    "from keras.datasets import mnist\n",
    "\n",
    "(x_train, y_train), (x_test, y_test) = mnist.load_data()"
   ]
  },
  {
   "cell_type": "code",
   "execution_count": null,
   "metadata": {},
   "outputs": [],
   "source": [
    "from keras.preprocessing.image import ImageDataGenerator\n",
    "\n",
    "\n",
    "def predict(data):\n",
    "    predictions = predictor.predict(data)[\"predictions\"]\n",
    "    return predictions\n",
    "\n",
    "\n",
    "predicted = []\n",
    "actual = []\n",
    "batches = 0\n",
    "batch_size = 128\n",
    "\n",
    "datagen = ImageDataGenerator()\n",
    "for data in datagen.flow(x_test, y_test, batch_size=batch_size):\n",
    "    for i, prediction in enumerate(predict(data[0])):\n",
    "        predicted.append(np.argmax(prediction))\n",
    "        actual.append(data[1][i][0])\n",
    "\n",
    "    batches += 1\n",
    "    if batches >= len(x_test) / batch_size:\n",
    "        break"
   ]
  },
  {
   "cell_type": "markdown",
   "metadata": {},
   "source": [
    "Use the predictions to calculate model accuracy and create a confusion matrix."
   ]
  },
  {
   "cell_type": "code",
   "execution_count": null,
   "metadata": {},
   "outputs": [],
   "source": [
    "from sklearn.metrics import accuracy_score\n",
    "\n",
    "accuracy = accuracy_score(y_pred=predicted, y_true=actual)\n",
    "display(\"Average accuracy: {}%\".format(round(accuracy * 100, 2)))"
   ]
  },
  {
   "cell_type": "markdown",
   "metadata": {},
   "source": [
    "### Clean-up - Delete the endpoint\n",
    "\n",
    "Remember to delete the endpoint to avoid unnecessary surcharge from AWS."
   ]
  },
  {
   "cell_type": "code",
   "execution_count": null,
   "metadata": {},
   "outputs": [],
   "source": [
    "tf_predictor.delete_endpoint()"
   ]
  }
 ],
 "metadata": {
  "kernelspec": {
   "display_name": "conda_tensorflow_p36",
   "language": "python",
   "name": "conda_tensorflow_p36"
  },
  "language_info": {
   "codemirror_mode": {
    "name": "ipython",
    "version": 3
   },
   "file_extension": ".py",
   "mimetype": "text/x-python",
   "name": "python",
   "nbconvert_exporter": "python",
   "pygments_lexer": "ipython3",
   "version": "3.6.13"
  }
 },
 "nbformat": 4,
 "nbformat_minor": 4
}
