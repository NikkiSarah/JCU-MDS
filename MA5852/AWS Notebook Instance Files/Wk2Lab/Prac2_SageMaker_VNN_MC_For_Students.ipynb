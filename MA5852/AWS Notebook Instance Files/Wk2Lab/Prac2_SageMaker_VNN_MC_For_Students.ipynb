{
 "cells": [
  {
   "cell_type": "markdown",
   "metadata": {},
   "source": [
    "### Week 2: Neural network in AWS SageMaker\n",
    "\n",
    "- Today we are going to use AWS SageMaker to build, train and deploy a VNN. \n",
    "- Our data and goal are the same as Week 1 - we will use the Fashion MNIST data and our goal will be to contrust a simple WVV to classify the type of clothing. \n",
    "\n",
    "Our Tasks are:\n",
    "1. Understand the structure of AWS-SageMaker.\n",
    "2. How to create a instance on AWS-SageMaker.\n",
    "3. Requesting intances with larger capacity - contact AWS support team \n",
    "3. Demonstrate how to build, train, deploy and evaluate a VNN on AWS. \n",
    "4. Remeber to **stop instance and DELETE endpoint** when they finish tasks otherwise AWS will keep charging. It can be very expensive.\n",
    "\n",
    "\n",
    "### Build, train and deploy a NN model in AWS SageMaker\n",
    "Data\n",
    "- MNIST fashion data contains 60,000 small square 28 × 28 pixel grayscale images of 10 types of clothing, such as shoes, t-shirts, dresses, and more.\n",
    "- All the code here is run on kernel **conda_tensorflow_p36** configuration"
   ]
  },
  {
   "cell_type": "markdown",
   "metadata": {},
   "source": [
    "### A. Sign up for an AWS account \n",
    "If you don't already have an account [sign up here](https://portal.aws.amazon.com/billing/signup#/start)"
   ]
  },
  {
   "cell_type": "markdown",
   "metadata": {},
   "source": [
    "### B. Create an AWS SageMaker instance\n",
    "\n",
    "We will create a notebook instance that is used to download and process the data. \n",
    "\n",
    "1. Sign in to the [AWS SageMaker console](https://aws.amazon.com/console/) as a Root user\n",
    "![title](pics/sagemaker_console.png)\n",
    "\n",
    "2. Navigate to Notebook instances in the left menu pane, and select Create notebook instance. \n",
    "![title](pics/create_instance.png)\n",
    "\n",
    "3. Specify your Notebook instance settings\n",
    "   - Give your new instance a suitable name *e.g.* MA5852-Lab2\n",
    "   - Select the **instance type** as **ml.t2.medium**. Note: This one is free. If you need intances with different capacity you can select it here. \n",
    "   - Leave **elastic inference** as **default selection (none)**\n",
    "   \n",
    "4. In the Permissions and encryption section, **create a new IAM role**. Leave the selections as default and select **create role**. Leave the **root access enabled as default**. \n",
    "![title](pics/notebook2.png)\n",
    "\n",
    "5. Choose **Create Notebook instance**.\n",
    "\n",
    "6. The **Notebook instances** section will now open, and the new notebook instance us displayed. The status will be *pending*, and this status will change to *InService* when the notebook is ready. \n",
    "![title](pics/new_instance.png)\n",
    "  "
   ]
  },
  {
   "cell_type": "markdown",
   "metadata": {},
   "source": [
    "### C. Preparing the data\n",
    "We will now use our new notebook instance to load, prepare the Fashion MNIST data and upload the data to Amazon S3. \n",
    "\n",
    "1. When your notebook instance status changes to **InService**, select **Open Jupyter**\n",
    "![title](pics/inservice.png)\n",
    "\n",
    "Note, you can select Open JupyterLab to get a heap of tutorials etc... \n",
    "\n",
    "2. In the Notebook Instance, and either; \n",
    "    - create a new notebook using **new** and select the **kernel conda_tensorflow_p36** configuration. A new code cell will appear in your Jupyter notebook. Run the following code by copying and pasting it into your Notebook, or;\n",
    "    - upload existing jupyter notebooks & python scripts using **upload**. Select the **conda_tensorflow_p36** kernal when prompted."
   ]
  },
  {
   "cell_type": "markdown",
   "metadata": {},
   "source": [
    "Before you start: Check directory structure and modify permissions"
   ]
  },
  {
   "cell_type": "code",
   "execution_count": 1,
   "metadata": {},
   "outputs": [
    {
     "name": "stdout",
     "output_type": "stream",
     "text": [
      "total 48\n",
      "drwx------ 2 ec2-user root     16384 May 13 08:11 lost+found\n",
      "-rw-rw-r-- 1 ec2-user ec2-user  4268 May 13 08:18 mnist_fashion_vnn_tf2.py\n",
      "drwxrwxr-x 2 ec2-user ec2-user  4096 May 13 08:18 pics\n",
      "-rw-rw-r-- 1 ec2-user ec2-user 18269 May 13 08:17 Prac2_SageMaker_VNN_MC_For_Students.ipynb\n"
     ]
    }
   ],
   "source": [
    "%%sh\n",
    "ls -l"
   ]
  },
  {
   "cell_type": "markdown",
   "metadata": {},
   "source": [
    "Do you have a lost+found folder with root group and owner? If so, you will need to change the permissions of to lost+found to prevent future errors. Note, I am in contact with AWS Support for a better solution and will keep you all updated!"
   ]
  },
  {
   "cell_type": "code",
   "execution_count": 2,
   "metadata": {},
   "outputs": [],
   "source": [
    "%%sh\n",
    "sudo chown ec2-user lost+found"
   ]
  },
  {
   "cell_type": "code",
   "execution_count": 3,
   "metadata": {},
   "outputs": [
    {
     "name": "stdout",
     "output_type": "stream",
     "text": [
      "total 48\n",
      "drwx------ 2 ec2-user root     16384 May 13 08:11 lost+found\n",
      "-rw-rw-r-- 1 ec2-user ec2-user  4268 May 13 08:18 mnist_fashion_vnn_tf2.py\n",
      "drwxrwxr-x 2 ec2-user ec2-user  4096 May 13 08:18 pics\n",
      "-rw-rw-r-- 1 ec2-user ec2-user 18269 May 13 08:17 Prac2_SageMaker_VNN_MC_For_Students.ipynb\n"
     ]
    }
   ],
   "source": [
    "%%sh\n",
    "ls -l"
   ]
  },
  {
   "cell_type": "code",
   "execution_count": 4,
   "metadata": {},
   "outputs": [],
   "source": [
    "%%sh\n",
    "sudo chgrp ec2-user lost+found"
   ]
  },
  {
   "cell_type": "code",
   "execution_count": 5,
   "metadata": {},
   "outputs": [
    {
     "name": "stdout",
     "output_type": "stream",
     "text": [
      "total 48\n",
      "drwx------ 2 ec2-user ec2-user 16384 May 13 08:11 lost+found\n",
      "-rw-rw-r-- 1 ec2-user ec2-user  4268 May 13 08:18 mnist_fashion_vnn_tf2.py\n",
      "drwxrwxr-x 2 ec2-user ec2-user  4096 May 13 08:18 pics\n",
      "-rw-rw-r-- 1 ec2-user ec2-user 19160 May 13 08:21 Prac2_SageMaker_VNN_MC_For_Students.ipynb\n"
     ]
    }
   ],
   "source": [
    "%%sh\n",
    "ls -l "
   ]
  },
  {
   "cell_type": "markdown",
   "metadata": {},
   "source": [
    "We next need to set up our environment:"
   ]
  },
  {
   "cell_type": "code",
   "execution_count": 6,
   "metadata": {},
   "outputs": [
    {
     "name": "stdout",
     "output_type": "stream",
     "text": [
      "2.39.1\n"
     ]
    }
   ],
   "source": [
    "# We first need to import the necessary libraries and define some environment variables  \n",
    "## Import sagemaker and retrieve IAM role, which determines your user identity and permissions\n",
    "\n",
    "import sagemaker #import sagemaker\n",
    "print(sagemaker.__version__) #print the sagemaker version\n",
    "sess = sagemaker.Session() ### Manages interactions with the Amazon SageMaker APIs and \n",
    "                           ### any other AWS services needed e.g. S3\n",
    "role = sagemaker.get_execution_role() ### Get and save the IAM role as environment variable"
   ]
  },
  {
   "cell_type": "code",
   "execution_count": 7,
   "metadata": {},
   "outputs": [
    {
     "data": {
      "text/plain": [
       "'sagemaker-ap-southeast-2-987959606453'"
      ]
     },
     "execution_count": 7,
     "metadata": {},
     "output_type": "execute_result"
    }
   ],
   "source": [
    "sess.default_bucket()"
   ]
  },
  {
   "cell_type": "code",
   "execution_count": 8,
   "metadata": {},
   "outputs": [
    {
     "name": "stderr",
     "output_type": "stream",
     "text": [
      "Using TensorFlow backend.\n"
     ]
    },
    {
     "name": "stdout",
     "output_type": "stream",
     "text": [
      "WARNING:tensorflow:From /home/ec2-user/anaconda3/envs/tensorflow_p36/cpu/lib/python3.6/site-packages/tensorflow_core/__init__.py:1473: The name tf.estimator.inputs is deprecated. Please use tf.compat.v1.estimator.inputs instead.\n",
      "\n",
      "Downloading data from http://fashion-mnist.s3-website.eu-central-1.amazonaws.com/train-labels-idx1-ubyte.gz\n",
      "32768/29515 [=================================] - 0s 9us/step\n",
      "Downloading data from http://fashion-mnist.s3-website.eu-central-1.amazonaws.com/train-images-idx3-ubyte.gz\n",
      "26427392/26421880 [==============================] - 15s 1us/step\n",
      "Downloading data from http://fashion-mnist.s3-website.eu-central-1.amazonaws.com/t10k-labels-idx1-ubyte.gz\n",
      "8192/5148 [===============================================] - 0s 0us/step\n",
      "Downloading data from http://fashion-mnist.s3-website.eu-central-1.amazonaws.com/t10k-images-idx3-ubyte.gz\n",
      "4423680/4422102 [==============================] - 2s 1us/step\n"
     ]
    }
   ],
   "source": [
    "## Import os, keras, numpy, pyplot and the fashion MNIST data \n",
    "\n",
    "import os\n",
    "import keras\n",
    "import numpy as np\n",
    "from keras.datasets import fashion_mnist\n",
    "from matplotlib import pyplot\n",
    "(x_train, y_train), (x_val, y_val) = fashion_mnist.load_data()"
   ]
  },
  {
   "cell_type": "code",
   "execution_count": 9,
   "metadata": {},
   "outputs": [
    {
     "name": "stdout",
     "output_type": "stream",
     "text": [
      "x_train_shape & data type: ((60000, 28, 28), dtype('uint8'))\n",
      "y_train_shape & data type: ((60000,), dtype('uint8'))\n"
     ]
    },
    {
     "data": {
      "image/png": "[encoded data removed]",
      "text/plain": [
       "<Figure size 432x288 with 9 Axes>"
      ]
     },
     "metadata": {
      "needs_background": "light"
     },
     "output_type": "display_data"
    }
   ],
   "source": [
    "# Take a quick look at data \n",
    "\n",
    "#Each image is represented as a 28x28 pixel grayscale images\n",
    "## View shape and type of data\n",
    "xtr = x_train.shape, x_train.dtype\n",
    "ytr = y_train.shape, y_train.dtype\n",
    "\n",
    "print(\"x_train_shape & data type:\", xtr)\n",
    "print(\"y_train_shape & data type:\", ytr)\n",
    "\n",
    "# plot some raw pixel data\n",
    "for i in range(9):\n",
    "  \n",
    "    pyplot.subplot(330 + 1 + i)\n",
    "\n",
    "    pyplot.imshow(x_train[i], cmap=pyplot.get_cmap('gray'))"
   ]
  },
  {
   "cell_type": "code",
   "execution_count": 10,
   "metadata": {},
   "outputs": [],
   "source": [
    "# Create local directory for the data and save the test and training data here\n",
    "\n",
    "os.makedirs(\"./data\", exist_ok=True)\n",
    "np.savez('./data/training', image = x_train, label=y_train)\n",
    "np.savez('./data/test', image=x_val, label=y_val)"
   ]
  },
  {
   "cell_type": "code",
   "execution_count": 11,
   "metadata": {},
   "outputs": [
    {
     "name": "stdout",
     "output_type": "stream",
     "text": [
      "total 53668\n",
      "-rw-rw-r-- 1 ec2-user ec2-user  7850506 May 13 08:28 test.npz\n",
      "-rw-rw-r-- 1 ec2-user ec2-user 47100506 May 13 08:28 training.npz\n"
     ]
    }
   ],
   "source": [
    "%%sh \n",
    "ls -l data ## Check that the directories have been created"
   ]
  },
  {
   "cell_type": "markdown",
   "metadata": {},
   "source": [
    "We are now going to train our model on the local instance - this is an optional step and is to check if our code will run on AWS. We train the model using TensorFlow() to create a tf_estimator object. "
   ]
  },
  {
   "cell_type": "code",
   "execution_count": 12,
   "metadata": {},
   "outputs": [],
   "source": [
    "## We will use the python script that made in Lab 1 to train our VNN model. \n",
    "## If you haven't already uploaded this into your notebook instance then do that now. \n",
    "\n",
    "## We first need to get the python script from Lab 1 for the analysis. Upload into our notebook instance. \n",
    "\n",
    "#Import tensorflow from sagemaker\n",
    "from sagemaker.tensorflow import TensorFlow\n",
    "\n",
    "## documentation https://sagemaker.readthedocs.io/en/stable/frameworks/tensorflow/using_tf.html\n",
    "\n",
    "#Set environment variables - file paths to data and for output\n",
    "local_training_input_path = 'file://data/training.npz'\n",
    "local_test_input_path = 'file://data/test.npz'\n",
    "output = 'file:///tmp'\n",
    "\n",
    "tf_estimator = TensorFlow(entry_point='mnist_fashion_vnn_tf2.py', #path to local python source file to be executed\n",
    "                          role = role, #the IAM ROLE ARN for the model - unique user ID\n",
    "                          source_dir ='.', #path to the directory where any other dependancies are apart from entry point\n",
    "                          instance_count = 1, #the number of EC2 intances to use\n",
    "                          instance_type ='local', # Type of EC2 instance to use local = this one! \n",
    "                          framework_version = '2.1.0', # Tensorflow version for executing your tf code\n",
    "                          py_version ='py3', #version of python for executing your model training code\n",
    "                          script_mode =True, #enables us to use our python script to train the model\n",
    "                          hyperparameters={'epochs':1}, #hyperparameters used by our custom TensorFlow code during model training\n",
    "                          output_path = output) #location for saving the results. Default = saved in the default S3 bucket.\n",
    "\n",
    "#Note, Estimator is a high level interface for SageMaker training"
   ]
  },
  {
   "cell_type": "code",
   "execution_count": 13,
   "metadata": {},
   "outputs": [
    {
     "name": "stdout",
     "output_type": "stream",
     "text": [
      "Creating jexkh7djlh-algo-1-ba751 ... \n",
      "Creating jexkh7djlh-algo-1-ba751 ... done\n",
      "Attaching to jexkh7djlh-algo-1-ba751\n",
      "\u001b[36mjexkh7djlh-algo-1-ba751 |\u001b[0m 2021-05-13 08:31:16,883 sagemaker-containers INFO     Imported framework sagemaker_tensorflow_container.training\n",
      "\u001b[36mjexkh7djlh-algo-1-ba751 |\u001b[0m 2021-05-13 08:31:16,890 sagemaker-containers INFO     No GPUs detected (normal if no gpus installed)\n",
      "\u001b[36mjexkh7djlh-algo-1-ba751 |\u001b[0m 2021-05-13 08:31:17,966 sagemaker-containers INFO     No GPUs detected (normal if no gpus installed)\n",
      "\u001b[36mjexkh7djlh-algo-1-ba751 |\u001b[0m 2021-05-13 08:31:17,985 sagemaker-containers INFO     No GPUs detected (normal if no gpus installed)\n",
      "\u001b[36mjexkh7djlh-algo-1-ba751 |\u001b[0m 2021-05-13 08:31:18,003 sagemaker-containers INFO     No GPUs detected (normal if no gpus installed)\n",
      "\u001b[36mjexkh7djlh-algo-1-ba751 |\u001b[0m 2021-05-13 08:31:18,016 sagemaker-containers INFO     Invoking user script\n",
      "\u001b[36mjexkh7djlh-algo-1-ba751 |\u001b[0m \n",
      "\u001b[36mjexkh7djlh-algo-1-ba751 |\u001b[0m Training Env:\n",
      "\u001b[36mjexkh7djlh-algo-1-ba751 |\u001b[0m \n",
      "\u001b[36mjexkh7djlh-algo-1-ba751 |\u001b[0m {\n",
      "\u001b[36mjexkh7djlh-algo-1-ba751 |\u001b[0m     \"additional_framework_parameters\": {},\n",
      "\u001b[36mjexkh7djlh-algo-1-ba751 |\u001b[0m     \"channel_input_dirs\": {\n",
      "\u001b[36mjexkh7djlh-algo-1-ba751 |\u001b[0m         \"training\": \"/opt/ml/input/data/training\",\n",
      "\u001b[36mjexkh7djlh-algo-1-ba751 |\u001b[0m         \"validation\": \"/opt/ml/input/data/validation\"\n",
      "\u001b[36mjexkh7djlh-algo-1-ba751 |\u001b[0m     },\n",
      "\u001b[36mjexkh7djlh-algo-1-ba751 |\u001b[0m     \"current_host\": \"algo-1-ba751\",\n",
      "\u001b[36mjexkh7djlh-algo-1-ba751 |\u001b[0m     \"framework_module\": \"sagemaker_tensorflow_container.training:main\",\n",
      "\u001b[36mjexkh7djlh-algo-1-ba751 |\u001b[0m     \"hosts\": [\n",
      "\u001b[36mjexkh7djlh-algo-1-ba751 |\u001b[0m         \"algo-1-ba751\"\n",
      "\u001b[36mjexkh7djlh-algo-1-ba751 |\u001b[0m     ],\n",
      "\u001b[36mjexkh7djlh-algo-1-ba751 |\u001b[0m     \"hyperparameters\": {\n",
      "\u001b[36mjexkh7djlh-algo-1-ba751 |\u001b[0m         \"epochs\": 1,\n",
      "\u001b[36mjexkh7djlh-algo-1-ba751 |\u001b[0m         \"model_dir\": \"file:/tmp/tensorflow-training-2021-05-13-08-29-54-608/model\"\n",
      "\u001b[36mjexkh7djlh-algo-1-ba751 |\u001b[0m     },\n",
      "\u001b[36mjexkh7djlh-algo-1-ba751 |\u001b[0m     \"input_config_dir\": \"/opt/ml/input/config\",\n",
      "\u001b[36mjexkh7djlh-algo-1-ba751 |\u001b[0m     \"input_data_config\": {\n",
      "\u001b[36mjexkh7djlh-algo-1-ba751 |\u001b[0m         \"training\": {\n",
      "\u001b[36mjexkh7djlh-algo-1-ba751 |\u001b[0m             \"TrainingInputMode\": \"File\"\n",
      "\u001b[36mjexkh7djlh-algo-1-ba751 |\u001b[0m         },\n",
      "\u001b[36mjexkh7djlh-algo-1-ba751 |\u001b[0m         \"validation\": {\n",
      "\u001b[36mjexkh7djlh-algo-1-ba751 |\u001b[0m             \"TrainingInputMode\": \"File\"\n",
      "\u001b[36mjexkh7djlh-algo-1-ba751 |\u001b[0m         }\n",
      "\u001b[36mjexkh7djlh-algo-1-ba751 |\u001b[0m     },\n",
      "\u001b[36mjexkh7djlh-algo-1-ba751 |\u001b[0m     \"input_dir\": \"/opt/ml/input\",\n",
      "\u001b[36mjexkh7djlh-algo-1-ba751 |\u001b[0m     \"is_master\": true,\n",
      "\u001b[36mjexkh7djlh-algo-1-ba751 |\u001b[0m     \"job_name\": \"tensorflow-training-2021-05-13-08-29-54-608\",\n",
      "\u001b[36mjexkh7djlh-algo-1-ba751 |\u001b[0m     \"log_level\": 20,\n",
      "\u001b[36mjexkh7djlh-algo-1-ba751 |\u001b[0m     \"master_hostname\": \"algo-1-ba751\",\n",
      "\u001b[36mjexkh7djlh-algo-1-ba751 |\u001b[0m     \"model_dir\": \"/opt/ml/model\",\n",
      "\u001b[36mjexkh7djlh-algo-1-ba751 |\u001b[0m     \"module_dir\": \"s3://sagemaker-ap-southeast-2-987959606453/tensorflow-training-2021-05-13-08-29-54-608/source/sourcedir.tar.gz\",\n",
      "\u001b[36mjexkh7djlh-algo-1-ba751 |\u001b[0m     \"module_name\": \"mnist_fashion_vnn_tf2\",\n",
      "\u001b[36mjexkh7djlh-algo-1-ba751 |\u001b[0m     \"network_interface_name\": \"eth0\",\n",
      "\u001b[36mjexkh7djlh-algo-1-ba751 |\u001b[0m     \"num_cpus\": 2,\n",
      "\u001b[36mjexkh7djlh-algo-1-ba751 |\u001b[0m     \"num_gpus\": 0,\n",
      "\u001b[36mjexkh7djlh-algo-1-ba751 |\u001b[0m     \"output_data_dir\": \"/opt/ml/output/data\",\n",
      "\u001b[36mjexkh7djlh-algo-1-ba751 |\u001b[0m     \"output_dir\": \"/opt/ml/output\",\n",
      "\u001b[36mjexkh7djlh-algo-1-ba751 |\u001b[0m     \"output_intermediate_dir\": \"/opt/ml/output/intermediate\",\n",
      "\u001b[36mjexkh7djlh-algo-1-ba751 |\u001b[0m     \"resource_config\": {\n",
      "\u001b[36mjexkh7djlh-algo-1-ba751 |\u001b[0m         \"current_host\": \"algo-1-ba751\",\n",
      "\u001b[36mjexkh7djlh-algo-1-ba751 |\u001b[0m         \"hosts\": [\n",
      "\u001b[36mjexkh7djlh-algo-1-ba751 |\u001b[0m             \"algo-1-ba751\"\n",
      "\u001b[36mjexkh7djlh-algo-1-ba751 |\u001b[0m         ]\n",
      "\u001b[36mjexkh7djlh-algo-1-ba751 |\u001b[0m     },\n",
      "\u001b[36mjexkh7djlh-algo-1-ba751 |\u001b[0m     \"user_entry_point\": \"mnist_fashion_vnn_tf2.py\"\n",
      "\u001b[36mjexkh7djlh-algo-1-ba751 |\u001b[0m }\n",
      "\u001b[36mjexkh7djlh-algo-1-ba751 |\u001b[0m \n",
      "\u001b[36mjexkh7djlh-algo-1-ba751 |\u001b[0m Environment variables:\n",
      "\u001b[36mjexkh7djlh-algo-1-ba751 |\u001b[0m \n",
      "\u001b[36mjexkh7djlh-algo-1-ba751 |\u001b[0m SM_HOSTS=[\"algo-1-ba751\"]\n",
      "\u001b[36mjexkh7djlh-algo-1-ba751 |\u001b[0m SM_NETWORK_INTERFACE_NAME=eth0\n",
      "\u001b[36mjexkh7djlh-algo-1-ba751 |\u001b[0m SM_HPS={\"epochs\":1,\"model_dir\":\"file:/tmp/tensorflow-training-2021-05-13-08-29-54-608/model\"}\n",
      "\u001b[36mjexkh7djlh-algo-1-ba751 |\u001b[0m SM_USER_ENTRY_POINT=mnist_fashion_vnn_tf2.py\n",
      "\u001b[36mjexkh7djlh-algo-1-ba751 |\u001b[0m SM_FRAMEWORK_PARAMS={}\n",
      "\u001b[36mjexkh7djlh-algo-1-ba751 |\u001b[0m SM_RESOURCE_CONFIG={\"current_host\":\"algo-1-ba751\",\"hosts\":[\"algo-1-ba751\"]}\n",
      "\u001b[36mjexkh7djlh-algo-1-ba751 |\u001b[0m SM_INPUT_DATA_CONFIG={\"training\":{\"TrainingInputMode\":\"File\"},\"validation\":{\"TrainingInputMode\":\"File\"}}\n",
      "\u001b[36mjexkh7djlh-algo-1-ba751 |\u001b[0m SM_OUTPUT_DATA_DIR=/opt/ml/output/data\n",
      "\u001b[36mjexkh7djlh-algo-1-ba751 |\u001b[0m SM_CHANNELS=[\"training\",\"validation\"]\n",
      "\u001b[36mjexkh7djlh-algo-1-ba751 |\u001b[0m SM_CURRENT_HOST=algo-1-ba751\n",
      "\u001b[36mjexkh7djlh-algo-1-ba751 |\u001b[0m SM_MODULE_NAME=mnist_fashion_vnn_tf2\n",
      "\u001b[36mjexkh7djlh-algo-1-ba751 |\u001b[0m SM_LOG_LEVEL=20\n",
      "\u001b[36mjexkh7djlh-algo-1-ba751 |\u001b[0m SM_FRAMEWORK_MODULE=sagemaker_tensorflow_container.training:main\n",
      "\u001b[36mjexkh7djlh-algo-1-ba751 |\u001b[0m SM_INPUT_DIR=/opt/ml/input\n",
      "\u001b[36mjexkh7djlh-algo-1-ba751 |\u001b[0m SM_INPUT_CONFIG_DIR=/opt/ml/input/config\n",
      "\u001b[36mjexkh7djlh-algo-1-ba751 |\u001b[0m SM_OUTPUT_DIR=/opt/ml/output\n",
      "\u001b[36mjexkh7djlh-algo-1-ba751 |\u001b[0m SM_NUM_CPUS=2\n",
      "\u001b[36mjexkh7djlh-algo-1-ba751 |\u001b[0m SM_NUM_GPUS=0\n",
      "\u001b[36mjexkh7djlh-algo-1-ba751 |\u001b[0m SM_MODEL_DIR=/opt/ml/model\n",
      "\u001b[36mjexkh7djlh-algo-1-ba751 |\u001b[0m SM_MODULE_DIR=s3://sagemaker-ap-southeast-2-987959606453/tensorflow-training-2021-05-13-08-29-54-608/source/sourcedir.tar.gz\n",
      "\u001b[36mjexkh7djlh-algo-1-ba751 |\u001b[0m SM_TRAINING_ENV={\"additional_framework_parameters\":{},\"channel_input_dirs\":{\"training\":\"/opt/ml/input/data/training\",\"validation\":\"/opt/ml/input/data/validation\"},\"current_host\":\"algo-1-ba751\",\"framework_module\":\"sagemaker_tensorflow_container.training:main\",\"hosts\":[\"algo-1-ba751\"],\"hyperparameters\":{\"epochs\":1,\"model_dir\":\"file:/tmp/tensorflow-training-2021-05-13-08-29-54-608/model\"},\"input_config_dir\":\"/opt/ml/input/config\",\"input_data_config\":{\"training\":{\"TrainingInputMode\":\"File\"},\"validation\":{\"TrainingInputMode\":\"File\"}},\"input_dir\":\"/opt/ml/input\",\"is_master\":true,\"job_name\":\"tensorflow-training-2021-05-13-08-29-54-608\",\"log_level\":20,\"master_hostname\":\"algo-1-ba751\",\"model_dir\":\"/opt/ml/model\",\"module_dir\":\"s3://sagemaker-ap-southeast-2-987959606453/tensorflow-training-2021-05-13-08-29-54-608/source/sourcedir.tar.gz\",\"module_name\":\"mnist_fashion_vnn_tf2\",\"network_interface_name\":\"eth0\",\"num_cpus\":2,\"num_gpus\":0,\"output_data_dir\":\"/opt/ml/output/data\",\"output_dir\":\"/opt/ml/output\",\"output_intermediate_dir\":\"/opt/ml/output/intermediate\",\"resource_config\":{\"current_host\":\"algo-1-ba751\",\"hosts\":[\"algo-1-ba751\"]},\"user_entry_point\":\"mnist_fashion_vnn_tf2.py\"}\n",
      "\u001b[36mjexkh7djlh-algo-1-ba751 |\u001b[0m SM_USER_ARGS=[\"--epochs\",\"1\",\"--model_dir\",\"file:/tmp/tensorflow-training-2021-05-13-08-29-54-608/model\"]\n",
      "\u001b[36mjexkh7djlh-algo-1-ba751 |\u001b[0m SM_OUTPUT_INTERMEDIATE_DIR=/opt/ml/output/intermediate\n",
      "\u001b[36mjexkh7djlh-algo-1-ba751 |\u001b[0m SM_CHANNEL_TRAINING=/opt/ml/input/data/training\n",
      "\u001b[36mjexkh7djlh-algo-1-ba751 |\u001b[0m SM_CHANNEL_VALIDATION=/opt/ml/input/data/validation\n",
      "\u001b[36mjexkh7djlh-algo-1-ba751 |\u001b[0m SM_HP_EPOCHS=1\n",
      "\u001b[36mjexkh7djlh-algo-1-ba751 |\u001b[0m SM_HP_MODEL_DIR=file:/tmp/tensorflow-training-2021-05-13-08-29-54-608/model\n",
      "\u001b[36mjexkh7djlh-algo-1-ba751 |\u001b[0m PYTHONPATH=/opt/ml/code:/usr/local/bin:/usr/lib/python36.zip:/usr/lib/python3.6:/usr/lib/python3.6/lib-dynload:/usr/local/lib/python3.6/dist-packages:/usr/lib/python3/dist-packages\n",
      "\u001b[36mjexkh7djlh-algo-1-ba751 |\u001b[0m \n",
      "\u001b[36mjexkh7djlh-algo-1-ba751 |\u001b[0m Invoking script with the following command:\n",
      "\u001b[36mjexkh7djlh-algo-1-ba751 |\u001b[0m \n",
      "\u001b[36mjexkh7djlh-algo-1-ba751 |\u001b[0m /usr/bin/python3 mnist_fashion_vnn_tf2.py --epochs 1 --model_dir file:/tmp/tensorflow-training-2021-05-13-08-29-54-608/model\n",
      "\u001b[36mjexkh7djlh-algo-1-ba751 |\u001b[0m \n",
      "\u001b[36mjexkh7djlh-algo-1-ba751 |\u001b[0m \n"
     ]
    },
    {
     "name": "stdout",
     "output_type": "stream",
     "text": [
      "\u001b[36mjexkh7djlh-algo-1-ba751 |\u001b[0m Using TensorFlow backend.\n",
      "\u001b[36mjexkh7djlh-algo-1-ba751 |\u001b[0m Collecting keras-metrics\n",
      "\u001b[36mjexkh7djlh-algo-1-ba751 |\u001b[0m   Downloading keras_metrics-1.1.0-py2.py3-none-any.whl (5.6 kB)\n",
      "\u001b[36mjexkh7djlh-algo-1-ba751 |\u001b[0m Requirement already satisfied: Keras>=2.1.5 in /usr/local/lib/python3.6/dist-packages (from keras-metrics) (2.3.1)\n",
      "\u001b[36mjexkh7djlh-algo-1-ba751 |\u001b[0m Requirement already satisfied: six>=1.9.0 in /usr/local/lib/python3.6/dist-packages (from Keras>=2.1.5->keras-metrics) (1.14.0)\n",
      "\u001b[36mjexkh7djlh-algo-1-ba751 |\u001b[0m Requirement already satisfied: pyyaml in /usr/local/lib/python3.6/dist-packages (from Keras>=2.1.5->keras-metrics) (5.3.1)\n",
      "\u001b[36mjexkh7djlh-algo-1-ba751 |\u001b[0m Requirement already satisfied: h5py in /usr/local/lib/python3.6/dist-packages (from Keras>=2.1.5->keras-metrics) (2.10.0)\n",
      "\u001b[36mjexkh7djlh-algo-1-ba751 |\u001b[0m Requirement already satisfied: scipy>=0.14 in /usr/local/lib/python3.6/dist-packages (from Keras>=2.1.5->keras-metrics) (1.4.1)\n",
      "\u001b[36mjexkh7djlh-algo-1-ba751 |\u001b[0m Requirement already satisfied: keras-applications>=1.0.6 in /usr/local/lib/python3.6/dist-packages (from Keras>=2.1.5->keras-metrics) (1.0.8)\n",
      "\u001b[36mjexkh7djlh-algo-1-ba751 |\u001b[0m Requirement already satisfied: numpy>=1.9.1 in /usr/local/lib/python3.6/dist-packages (from Keras>=2.1.5->keras-metrics) (1.18.1)\n",
      "\u001b[36mjexkh7djlh-algo-1-ba751 |\u001b[0m Requirement already satisfied: keras-preprocessing>=1.0.5 in /usr/local/lib/python3.6/dist-packages (from Keras>=2.1.5->keras-metrics) (1.1.0)\n",
      "\u001b[36mjexkh7djlh-algo-1-ba751 |\u001b[0m Installing collected packages: keras-metrics\n",
      "\u001b[36mjexkh7djlh-algo-1-ba751 |\u001b[0m Successfully installed keras-metrics-1.1.0\n",
      "\u001b[36mjexkh7djlh-algo-1-ba751 |\u001b[0m \u001b[33mWARNING: You are using pip version 20.0.2; however, version 21.1.1 is available.\n",
      "\u001b[36mjexkh7djlh-algo-1-ba751 |\u001b[0m You should consider upgrading via the '/usr/bin/python3 -m pip install --upgrade pip' command.\u001b[0m\n",
      "\u001b[36mjexkh7djlh-algo-1-ba751 |\u001b[0m x_train shape: (60000, 28, 28, 1)\n",
      "\u001b[36mjexkh7djlh-algo-1-ba751 |\u001b[0m 60000 train samples\n",
      "\u001b[36mjexkh7djlh-algo-1-ba751 |\u001b[0m 10000 test samples\n",
      "\u001b[36mjexkh7djlh-algo-1-ba751 |\u001b[0m tracking <tf.Variable 'Variable:0' shape=() dtype=int32, numpy=0> tp\n",
      "\u001b[36mjexkh7djlh-algo-1-ba751 |\u001b[0m tracking <tf.Variable 'Variable:0' shape=() dtype=int32, numpy=0> fp\n",
      "\u001b[36mjexkh7djlh-algo-1-ba751 |\u001b[0m tracking <tf.Variable 'Variable:0' shape=() dtype=int32, numpy=0> tp\n",
      "\u001b[36mjexkh7djlh-algo-1-ba751 |\u001b[0m tracking <tf.Variable 'Variable:0' shape=() dtype=int32, numpy=0> fn\n",
      "\u001b[36mjexkh7djlh-algo-1-ba751 |\u001b[0m tracking <tf.Variable 'Variable:0' shape=() dtype=int32, numpy=0> tp\n",
      "\u001b[36mjexkh7djlh-algo-1-ba751 |\u001b[0m tracking <tf.Variable 'Variable:0' shape=() dtype=int32, numpy=0> fp\n",
      "\u001b[36mjexkh7djlh-algo-1-ba751 |\u001b[0m tracking <tf.Variable 'Variable:0' shape=() dtype=int32, numpy=0> tp\n",
      "\u001b[36mjexkh7djlh-algo-1-ba751 |\u001b[0m tracking <tf.Variable 'Variable:0' shape=() dtype=int32, numpy=0> fn\n",
      "\u001b[36mjexkh7djlh-algo-1-ba751 |\u001b[0m Train on 54000 samples, validate on 6000 samples\n",
      "54000/54000 [==============================] - 2s 43us/sample - loss: 0.6827 - accuracy: 0.7639 - precision: 0.7795 - recall: 0.4720 - f1_score: 0.5686 - val_loss: 0.4757 - val_accuracy: 0.8307 - val_precision: 0.8085 - val_recall: 0.6510 - val_f1_score: 0.7212\n",
      "\u001b[36mjexkh7djlh-algo-1-ba751 |\u001b[0m Model: \"sequential\"\n",
      "\u001b[36mjexkh7djlh-algo-1-ba751 |\u001b[0m _________________________________________________________________\n",
      "\u001b[36mjexkh7djlh-algo-1-ba751 |\u001b[0m Layer (type)                 Output Shape              Param #   \n",
      "\u001b[36mjexkh7djlh-algo-1-ba751 |\u001b[0m =================================================================\n",
      "\u001b[36mjexkh7djlh-algo-1-ba751 |\u001b[0m flatten (Flatten)            multiple                  0         \n",
      "\u001b[36mjexkh7djlh-algo-1-ba751 |\u001b[0m _________________________________________________________________\n",
      "\u001b[36mjexkh7djlh-algo-1-ba751 |\u001b[0m dense (Dense)                multiple                  50240     \n",
      "\u001b[36mjexkh7djlh-algo-1-ba751 |\u001b[0m _________________________________________________________________\n",
      "\u001b[36mjexkh7djlh-algo-1-ba751 |\u001b[0m dense_1 (Dense)              multiple                  2080      \n",
      "\u001b[36mjexkh7djlh-algo-1-ba751 |\u001b[0m _________________________________________________________________\n",
      "\u001b[36mjexkh7djlh-algo-1-ba751 |\u001b[0m dense_2 (Dense)              multiple                  330       \n",
      "\u001b[36mjexkh7djlh-algo-1-ba751 |\u001b[0m =================================================================\n",
      "\u001b[36mjexkh7djlh-algo-1-ba751 |\u001b[0m Total params: 52,650\n",
      "\u001b[36mjexkh7djlh-algo-1-ba751 |\u001b[0m Trainable params: 52,650\n",
      "\u001b[36mjexkh7djlh-algo-1-ba751 |\u001b[0m Non-trainable params: 0\n",
      "\u001b[36mjexkh7djlh-algo-1-ba751 |\u001b[0m _________________________________________________________________\n",
      "\u001b[36mjexkh7djlh-algo-1-ba751 |\u001b[0m None\n",
      "\u001b[36mjexkh7djlh-algo-1-ba751 |\u001b[0m Validation loss    : 0.5034441752910614\n",
      "\u001b[36mjexkh7djlh-algo-1-ba751 |\u001b[0m Validation accuracy: 0.8213\n",
      "\u001b[36mjexkh7djlh-algo-1-ba751 |\u001b[0m 2021-05-13 08:31:26.322171: W tensorflow/python/util/util.cc:319] Sets are not currently considered sequences, but this may change in the future, so consider avoiding using them.\n",
      "\u001b[36mjexkh7djlh-algo-1-ba751 |\u001b[0m WARNING:tensorflow:From /usr/local/lib/python3.6/dist-packages/tensorflow_core/python/ops/resource_variable_ops.py:1786: calling BaseResourceVariable.__init__ (from tensorflow.python.ops.resource_variable_ops) with constraint is deprecated and will be removed in a future version.\n",
      "\u001b[36mjexkh7djlh-algo-1-ba751 |\u001b[0m Instructions for updating:\n",
      "\u001b[36mjexkh7djlh-algo-1-ba751 |\u001b[0m If using Keras pass *_constraint arguments to layers.\n",
      "\u001b[36mjexkh7djlh-algo-1-ba751 |\u001b[0m WARNING:tensorflow:From /usr/local/lib/python3.6/dist-packages/tensorflow_core/python/ops/resource_variable_ops.py:1786: calling BaseResourceVariable.__init__ (from tensorflow.python.ops.resource_variable_ops) with constraint is deprecated and will be removed in a future version.\n",
      "\u001b[36mjexkh7djlh-algo-1-ba751 |\u001b[0m Instructions for updating:\n",
      "\u001b[36mjexkh7djlh-algo-1-ba751 |\u001b[0m If using Keras pass *_constraint arguments to layers.\n",
      "\u001b[36mjexkh7djlh-algo-1-ba751 |\u001b[0m INFO:tensorflow:Assets written to: /opt/ml/model/1/assets\n",
      "\u001b[36mjexkh7djlh-algo-1-ba751 |\u001b[0m INFO:tensorflow:Assets written to: /opt/ml/model/1/assets\n",
      "\u001b[36mjexkh7djlh-algo-1-ba751 |\u001b[0m 2021-05-13 08:31:26,898 sagemaker-containers INFO     Reporting training SUCCESS\n",
      "\u001b[36mjexkh7djlh-algo-1-ba751 exited with code 0\n",
      "\u001b[0mAborting on container exit...\n",
      "===== Job Complete =====\n"
     ]
    }
   ],
   "source": [
    "#fit is used to train the model saved in the estimator object. We pass in file paths to the \n",
    "#trainng and test data (in this example they are stored locally)\n",
    "\n",
    "tf_estimator.fit({'training': local_training_input_path, 'validation': local_test_input_path})"
   ]
  },
  {
   "cell_type": "markdown",
   "metadata": {},
   "source": [
    "### Train the model in AWS\n",
    "\n",
    "Now we know that our code is working on SageMaker (note, we can only do this because we have a small dataset and a shallow neural network - this wouldn't work with large datasets or deep neural networks), we can train our model on a larger instance. \n",
    "\n",
    "1. Upload the dataset to S3. S3 is a default bucket for storing data and model output in AWS\n",
    "2. Select the [EC2 instance type](https://aws.amazon.com/ec2/instance-types/?trkCampaign=acq_paid_search_brand&sc_channel=PS&sc_campaign=acquisition_ANZ&sc_publisher=Google&sc_category=Cloud%20Computing&sc_country=ANZ&sc_geo=APAC&sc_outcome=acq&sc_detail=aws%20ec2%20instance%20pricing&sc_content={ad%20group}&sc_matchtype=e&sc_segment=489278081276&sc_medium=ACQ-P|PS-GO|Brand|Desktop|SU|Cloud%20Computing|EC2|ANZ|EN|Sitelink&s_kwcid=AL!4422!3!489278081276!e!!g!!aws%20ec2%20instance%20pricing&ef_id=Cj0KCQjw1PSDBhDbARIsAPeTqrdxZQ3nAtQNtB_MzOowvGLxppgm3YnqP08nDUrv8ubtE_Y19XwRNIcaAkaXEALw_wcB:G:s&s_kwcid=AL!4422!3!489278081276!e!!g!!aws%20ec2%20instance%20pricing) for your model. For this subject, we mainly use *ml.m4.xlarge*. EC stands for Elastic Compute Clous, and its a web service where AWS subscribers can request and provision compute services in the AWS cloud. You'll be charged per hour with different rates, depending on the instance you choose. Don't forget to terminate the instance when you're done to stop being over-charged. "
   ]
  },
  {
   "cell_type": "code",
   "execution_count": 14,
   "metadata": {},
   "outputs": [
    {
     "name": "stdout",
     "output_type": "stream",
     "text": [
      "s3://sagemaker-ap-southeast-2-987959606453/keras-mnist-fashion/training/training.npz\n",
      "s3://sagemaker-ap-southeast-2-987959606453/keras-mnist-fashion/validation/test.npz\n"
     ]
    }
   ],
   "source": [
    "#Upload data to S3 bucket\n",
    "## Note - we get a certain capacity for free, after that you are charged\n",
    "\n",
    "prefix = 'keras-mnist-fashion' #first define a prefix for the key (think of this like a directory or file path)\n",
    "\n",
    "#upload a local file/directory to S3 using upload_data(). \n",
    "##inputs = path, bucket (if not specifified will use default_bucket), optional prefix for directory structure\n",
    "training_input_path = sess.upload_data('data/training.npz', key_prefix = prefix+'/training')\n",
    "\n",
    "test_input_path = sess.upload_data('data/test.npz', key_prefix = prefix+'/validation')\n",
    "\n",
    "print(training_input_path)\n",
    "print(test_input_path) ### note - you can look at your buckets in the S3 section of AWS. "
   ]
  },
  {
   "cell_type": "markdown",
   "metadata": {},
   "source": [
    "### Train with managed instances"
   ]
  },
  {
   "cell_type": "markdown",
   "metadata": {},
   "source": [
    "Used [managed spot instance](https://docs.aws.amazon.com/AWSEC2/latest/UserGuide/using-spot-instances.html) to save money. "
   ]
  },
  {
   "cell_type": "code",
   "execution_count": 15,
   "metadata": {},
   "outputs": [],
   "source": [
    "tf_estimator = TensorFlow(entry_point='mnist_fashion_vnn_tf2.py',  #Python script\n",
    "                          source_dir = '.',\n",
    "                          role=role,\n",
    "                          instance_count=1, \n",
    "                          instance_type='ml.m4.xlarge', # instance type\n",
    "                          framework_version='2.1.0', # Tensorflow version\n",
    "                          py_version='py3',\n",
    "                          script_mode=True,\n",
    "                          hyperparameters={'epochs': 3},\n",
    "                          ## after this line, everything is optional for managed spot instance\n",
    "                          use_spot_instances=True,        # Use spot instance\n",
    "                          max_run=3600,                    # Max training time\n",
    "                          max_wait=7200,                  # Max training time + spot waiting time\n",
    "                         ) ##note for martha ## means optional - money saving. only downside, if under-specify then will kill job. \n"
   ]
  },
  {
   "cell_type": "code",
   "execution_count": 16,
   "metadata": {},
   "outputs": [
    {
     "name": "stdout",
     "output_type": "stream",
     "text": [
      "2021-05-13 08:46:39 Starting - Starting the training job...ProfilerReport-1620895574: InProgress\n",
      "...\n",
      "2021-05-13 08:47:24 Starting - Launching requested ML instances.........\n",
      "2021-05-13 08:49:00 Starting - Preparing the instances for training.........\n",
      "2021-05-13 08:50:40 Downloading - Downloading input data\n",
      "2021-05-13 08:50:40 Training - Downloading the training image...\n",
      "2021-05-13 08:51:00 Training - Training image download completed. Training in progress.\u001b[34m2021-05-13 08:51:02,056 sagemaker-containers INFO     Imported framework sagemaker_tensorflow_container.training\u001b[0m\n",
      "\u001b[34m2021-05-13 08:51:02,064 sagemaker-containers INFO     No GPUs detected (normal if no gpus installed)\u001b[0m\n",
      "\u001b[34m2021-05-13 08:51:03,436 sagemaker-containers INFO     No GPUs detected (normal if no gpus installed)\u001b[0m\n",
      "\u001b[34m2021-05-13 08:51:03,458 sagemaker-containers INFO     No GPUs detected (normal if no gpus installed)\u001b[0m\n",
      "\u001b[34m2021-05-13 08:51:03,478 sagemaker-containers INFO     No GPUs detected (normal if no gpus installed)\u001b[0m\n",
      "\u001b[34m2021-05-13 08:51:03,492 sagemaker-containers INFO     Invoking user script\n",
      "\u001b[0m\n",
      "\u001b[34mTraining Env:\n",
      "\u001b[0m\n",
      "\u001b[34m{\n",
      "    \"additional_framework_parameters\": {},\n",
      "    \"channel_input_dirs\": {\n",
      "        \"training\": \"/opt/ml/input/data/training\",\n",
      "        \"validation\": \"/opt/ml/input/data/validation\"\n",
      "    },\n",
      "    \"current_host\": \"algo-1\",\n",
      "    \"framework_module\": \"sagemaker_tensorflow_container.training:main\",\n",
      "    \"hosts\": [\n",
      "        \"algo-1\"\n",
      "    ],\n",
      "    \"hyperparameters\": {\n",
      "        \"model_dir\": \"s3://sagemaker-ap-southeast-2-987959606453/tensorflow-training-2021-05-13-08-46-14-196/model\",\n",
      "        \"epochs\": 3\n",
      "    },\n",
      "    \"input_config_dir\": \"/opt/ml/input/config\",\n",
      "    \"input_data_config\": {\n",
      "        \"training\": {\n",
      "            \"TrainingInputMode\": \"File\",\n",
      "            \"S3DistributionType\": \"FullyReplicated\",\n",
      "            \"RecordWrapperType\": \"None\"\n",
      "        },\n",
      "        \"validation\": {\n",
      "            \"TrainingInputMode\": \"File\",\n",
      "            \"S3DistributionType\": \"FullyReplicated\",\n",
      "            \"RecordWrapperType\": \"None\"\n",
      "        }\n",
      "    },\n",
      "    \"input_dir\": \"/opt/ml/input\",\n",
      "    \"is_master\": true,\n",
      "    \"job_name\": \"tensorflow-training-2021-05-13-08-46-14-196\",\n",
      "    \"log_level\": 20,\n",
      "    \"master_hostname\": \"algo-1\",\n",
      "    \"model_dir\": \"/opt/ml/model\",\n",
      "    \"module_dir\": \"s3://sagemaker-ap-southeast-2-987959606453/tensorflow-training-2021-05-13-08-46-14-196/source/sourcedir.tar.gz\",\n",
      "    \"module_name\": \"mnist_fashion_vnn_tf2\",\n",
      "    \"network_interface_name\": \"eth0\",\n",
      "    \"num_cpus\": 4,\n",
      "    \"num_gpus\": 0,\n",
      "    \"output_data_dir\": \"/opt/ml/output/data\",\n",
      "    \"output_dir\": \"/opt/ml/output\",\n",
      "    \"output_intermediate_dir\": \"/opt/ml/output/intermediate\",\n",
      "    \"resource_config\": {\n",
      "        \"current_host\": \"algo-1\",\n",
      "        \"hosts\": [\n",
      "            \"algo-1\"\n",
      "        ],\n",
      "        \"network_interface_name\": \"eth0\"\n",
      "    },\n",
      "    \"user_entry_point\": \"mnist_fashion_vnn_tf2.py\"\u001b[0m\n",
      "\u001b[34m}\n",
      "\u001b[0m\n",
      "\u001b[34mEnvironment variables:\n",
      "\u001b[0m\n",
      "\u001b[34mSM_HOSTS=[\"algo-1\"]\u001b[0m\n",
      "\u001b[34mSM_NETWORK_INTERFACE_NAME=eth0\u001b[0m\n",
      "\u001b[34mSM_HPS={\"epochs\":3,\"model_dir\":\"s3://sagemaker-ap-southeast-2-987959606453/tensorflow-training-2021-05-13-08-46-14-196/model\"}\u001b[0m\n",
      "\u001b[34mSM_USER_ENTRY_POINT=mnist_fashion_vnn_tf2.py\u001b[0m\n",
      "\u001b[34mSM_FRAMEWORK_PARAMS={}\u001b[0m\n",
      "\u001b[34mSM_RESOURCE_CONFIG={\"current_host\":\"algo-1\",\"hosts\":[\"algo-1\"],\"network_interface_name\":\"eth0\"}\u001b[0m\n",
      "\u001b[34mSM_INPUT_DATA_CONFIG={\"training\":{\"RecordWrapperType\":\"None\",\"S3DistributionType\":\"FullyReplicated\",\"TrainingInputMode\":\"File\"},\"validation\":{\"RecordWrapperType\":\"None\",\"S3DistributionType\":\"FullyReplicated\",\"TrainingInputMode\":\"File\"}}\u001b[0m\n",
      "\u001b[34mSM_OUTPUT_DATA_DIR=/opt/ml/output/data\u001b[0m\n",
      "\u001b[34mSM_CHANNELS=[\"training\",\"validation\"]\u001b[0m\n",
      "\u001b[34mSM_CURRENT_HOST=algo-1\u001b[0m\n",
      "\u001b[34mSM_MODULE_NAME=mnist_fashion_vnn_tf2\u001b[0m\n",
      "\u001b[34mSM_LOG_LEVEL=20\u001b[0m\n",
      "\u001b[34mSM_FRAMEWORK_MODULE=sagemaker_tensorflow_container.training:main\u001b[0m\n",
      "\u001b[34mSM_INPUT_DIR=/opt/ml/input\u001b[0m\n",
      "\u001b[34mSM_INPUT_CONFIG_DIR=/opt/ml/input/config\u001b[0m\n",
      "\u001b[34mSM_OUTPUT_DIR=/opt/ml/output\u001b[0m\n",
      "\u001b[34mSM_NUM_CPUS=4\u001b[0m\n",
      "\u001b[34mSM_NUM_GPUS=0\u001b[0m\n",
      "\u001b[34mSM_MODEL_DIR=/opt/ml/model\u001b[0m\n",
      "\u001b[34mSM_MODULE_DIR=s3://sagemaker-ap-southeast-2-987959606453/tensorflow-training-2021-05-13-08-46-14-196/source/sourcedir.tar.gz\u001b[0m\n",
      "\u001b[34mSM_TRAINING_ENV={\"additional_framework_parameters\":{},\"channel_input_dirs\":{\"training\":\"/opt/ml/input/data/training\",\"validation\":\"/opt/ml/input/data/validation\"},\"current_host\":\"algo-1\",\"framework_module\":\"sagemaker_tensorflow_container.training:main\",\"hosts\":[\"algo-1\"],\"hyperparameters\":{\"epochs\":3,\"model_dir\":\"s3://sagemaker-ap-southeast-2-987959606453/tensorflow-training-2021-05-13-08-46-14-196/model\"},\"input_config_dir\":\"/opt/ml/input/config\",\"input_data_config\":{\"training\":{\"RecordWrapperType\":\"None\",\"S3DistributionType\":\"FullyReplicated\",\"TrainingInputMode\":\"File\"},\"validation\":{\"RecordWrapperType\":\"None\",\"S3DistributionType\":\"FullyReplicated\",\"TrainingInputMode\":\"File\"}},\"input_dir\":\"/opt/ml/input\",\"is_master\":true,\"job_name\":\"tensorflow-training-2021-05-13-08-46-14-196\",\"log_level\":20,\"master_hostname\":\"algo-1\",\"model_dir\":\"/opt/ml/model\",\"module_dir\":\"s3://sagemaker-ap-southeast-2-987959606453/tensorflow-training-2021-05-13-08-46-14-196/source/sourcedir.tar.gz\",\"module_name\":\"mnist_fashion_vnn_tf2\",\"network_interface_name\":\"eth0\",\"num_cpus\":4,\"num_gpus\":0,\"output_data_dir\":\"/opt/ml/output/data\",\"output_dir\":\"/opt/ml/output\",\"output_intermediate_dir\":\"/opt/ml/output/intermediate\",\"resource_config\":{\"current_host\":\"algo-1\",\"hosts\":[\"algo-1\"],\"network_interface_name\":\"eth0\"},\"user_entry_point\":\"mnist_fashion_vnn_tf2.py\"}\u001b[0m\n",
      "\u001b[34mSM_USER_ARGS=[\"--epochs\",\"3\",\"--model_dir\",\"s3://sagemaker-ap-southeast-2-987959606453/tensorflow-training-2021-05-13-08-46-14-196/model\"]\u001b[0m\n",
      "\u001b[34mSM_OUTPUT_INTERMEDIATE_DIR=/opt/ml/output/intermediate\u001b[0m\n",
      "\u001b[34mSM_CHANNEL_TRAINING=/opt/ml/input/data/training\u001b[0m\n",
      "\u001b[34mSM_CHANNEL_VALIDATION=/opt/ml/input/data/validation\u001b[0m\n",
      "\u001b[34mSM_HP_MODEL_DIR=s3://sagemaker-ap-southeast-2-987959606453/tensorflow-training-2021-05-13-08-46-14-196/model\u001b[0m\n",
      "\u001b[34mSM_HP_EPOCHS=3\u001b[0m\n",
      "\u001b[34mPYTHONPATH=/opt/ml/code:/usr/local/bin:/usr/lib/python36.zip:/usr/lib/python3.6:/usr/lib/python3.6/lib-dynload:/usr/local/lib/python3.6/dist-packages:/usr/lib/python3/dist-packages\n",
      "\u001b[0m\n",
      "\u001b[34mInvoking script with the following command:\n",
      "\u001b[0m\n",
      "\u001b[34m/usr/bin/python3 mnist_fashion_vnn_tf2.py --epochs 3 --model_dir s3://sagemaker-ap-southeast-2-987959606453/tensorflow-training-2021-05-13-08-46-14-196/model\n",
      "\n",
      "\u001b[0m\n",
      "\u001b[34mUsing TensorFlow backend.\u001b[0m\n",
      "\u001b[34mCollecting keras-metrics\n",
      "  Downloading keras_metrics-1.1.0-py2.py3-none-any.whl (5.6 kB)\u001b[0m\n",
      "\u001b[34mRequirement already satisfied: Keras>=2.1.5 in /usr/local/lib/python3.6/dist-packages (from keras-metrics) (2.3.1)\u001b[0m\n",
      "\u001b[34mRequirement already satisfied: scipy>=0.14 in /usr/local/lib/python3.6/dist-packages (from Keras>=2.1.5->keras-metrics) (1.4.1)\u001b[0m\n",
      "\u001b[34mRequirement already satisfied: keras-applications>=1.0.6 in /usr/local/lib/python3.6/dist-packages (from Keras>=2.1.5->keras-metrics) (1.0.8)\u001b[0m\n",
      "\u001b[34mRequirement already satisfied: six>=1.9.0 in /usr/local/lib/python3.6/dist-packages (from Keras>=2.1.5->keras-metrics) (1.14.0)\u001b[0m\n",
      "\u001b[34mRequirement already satisfied: h5py in /usr/local/lib/python3.6/dist-packages (from Keras>=2.1.5->keras-metrics) (2.10.0)\u001b[0m\n",
      "\u001b[34mRequirement already satisfied: numpy>=1.9.1 in /usr/local/lib/python3.6/dist-packages (from Keras>=2.1.5->keras-metrics) (1.18.1)\u001b[0m\n",
      "\u001b[34mRequirement already satisfied: pyyaml in /usr/local/lib/python3.6/dist-packages (from Keras>=2.1.5->keras-metrics) (5.3.1)\u001b[0m\n",
      "\u001b[34mRequirement already satisfied: keras-preprocessing>=1.0.5 in /usr/local/lib/python3.6/dist-packages (from Keras>=2.1.5->keras-metrics) (1.1.0)\u001b[0m\n",
      "\u001b[34mInstalling collected packages: keras-metrics\u001b[0m\n",
      "\u001b[34mSuccessfully installed keras-metrics-1.1.0\u001b[0m\n",
      "\u001b[34mWARNING: You are using pip version 20.0.2; however, version 21.1.1 is available.\u001b[0m\n",
      "\u001b[34mYou should consider upgrading via the '/usr/bin/python3 -m pip install --upgrade pip' command.\u001b[0m\n",
      "\u001b[34mx_train shape: (60000, 28, 28, 1)\u001b[0m\n",
      "\u001b[34m60000 train samples\u001b[0m\n",
      "\u001b[34m10000 test samples\u001b[0m\n",
      "\u001b[34mtracking <tf.Variable 'Variable:0' shape=() dtype=int32, numpy=0> tp\u001b[0m\n",
      "\u001b[34mtracking <tf.Variable 'Variable:0' shape=() dtype=int32, numpy=0> fp\u001b[0m\n",
      "\u001b[34mtracking <tf.Variable 'Variable:0' shape=() dtype=int32, numpy=0> tp\u001b[0m\n",
      "\u001b[34mtracking <tf.Variable 'Variable:0' shape=() dtype=int32, numpy=0> fn\u001b[0m\n",
      "\u001b[34mtracking <tf.Variable 'Variable:0' shape=() dtype=int32, numpy=0> tp\u001b[0m\n",
      "\u001b[34mtracking <tf.Variable 'Variable:0' shape=() dtype=int32, numpy=0> fp\u001b[0m\n",
      "\u001b[34mtracking <tf.Variable 'Variable:0' shape=() dtype=int32, numpy=0> tp\u001b[0m\n",
      "\u001b[34mtracking <tf.Variable 'Variable:0' shape=() dtype=int32, numpy=0> fn\u001b[0m\n",
      "\u001b[34m[2021-05-13 08:51:08.969 ip-10-0-162-104.ap-southeast-2.compute.internal:28 INFO json_config.py:90] Creating hook from json_config at /opt/ml/input/config/debughookconfig.json.\u001b[0m\n",
      "\u001b[34m[2021-05-13 08:51:08.969 ip-10-0-162-104.ap-southeast-2.compute.internal:28 INFO hook.py:183] tensorboard_dir has not been set for the hook. SMDebug will not be exporting tensorboard summaries.\u001b[0m\n",
      "\u001b[34m[2021-05-13 08:51:08.969 ip-10-0-162-104.ap-southeast-2.compute.internal:28 INFO hook.py:228] Saving to /opt/ml/output/tensors\u001b[0m\n",
      "\u001b[34mTrain on 54000 samples, validate on 6000 samples\u001b[0m\n",
      "\u001b[34m[2021-05-13 08:51:09.443 ip-10-0-162-104.ap-southeast-2.compute.internal:28 INFO keras.py:68] Executing in TF2.x eager mode.TF 2.x eager doesn't provide gradient and optimizer variable values.SageMaker Debugger will not be saving gradients and optimizer variables in this case\u001b[0m\n",
      "\u001b[34mEpoch 1/3\u001b[0m\n",
      "\u001b[34m[2021-05-13 08:51:09.461 ip-10-0-162-104.ap-southeast-2.compute.internal:28 INFO hook.py:364] Monitoring the collections: losses, sm_metrics, metrics\u001b[0m\n",
      "\u001b[34mERROR:root:'NoneType' object has no attribute 'write'\u001b[0m\n",
      "\u001b[34m#015  128/54000 [..............................] - ETA: 6:48 - loss: 2.3203 - accuracy: 0.0781 - precision: 0.0000e+00 - recall: 0.0000e+00 - f1_score: 0.0000e+00#010#010#010#010#010#010#010#010#010#010#010#010#010#010#010#010#010#010#010#010#010#010#010#010#010#010#010#010#010#010#010#010#010#010#010#010#010#010#010#010#010#010#010#010#010#010#010#010#010#010#010#010#010#010#010#010#010#010#010#010#010#010#010#010#010#010#010#010#010#010#010#010#010#010#010#010#010#010#010#010#010#010#010#010#010#010#010#010#010#010#010#010#010#010#010#010#010#010#010#010#010#010#010#010#010#010#010#010#010#010#010#010#010#010#010#010#010#010#010#010#010#010#010#010#010#010#010#010#010#010#010#010#010#010#010#010#010#010#010#010#010#010#010#010#010#010#010#010#010#010#010#010#010#010#010#010#010#010#015 1408/54000 [..............................] - ETA: 38s - loss: 2.1551 - accuracy: 0.2401 - precision: 0.0000e+00 - recall: 0.0000e+00 - f1_score: 0.0000e+00 #010#010#010#010#010#010#010#010#010#010#010#010#010#010#010#010#010#010#010#010#010#010#010#010#010#010#010#010#010#010#010#010#010#010#010#010#010#010#010#010#010#010#010#010#010#010#010#010#010#010#010#010#010#010#010#010#010#010#010#010#010#010#010#010#010#010#010#010#010#010#010#010#010#010#010#010#010#010#010#010#010#010#010#010#010#010#010#010#010#010#010#010#010#010#010#010#010#010#010#010#010#010#010#010#010#010#010#010#010#010#010#010#010#010#010#010#010#010#010#010#010#010#010#010#010#010#010#010#010#010#010#010#010#010#010#010#010#010#010#010#010#010#010#010#010#010#010#010#010#010#010#010#010#010#010#010#010#015 2944/54000 [>.............................] - ETA: 18s - loss: 1.9351 - accuracy: 0.3410 - precision: 0.0000e+00 - recall: 0.0000e+00 - f1_score: 0.0000e+00#010#010#010#010#010#010#010#010#010#010#010#010#010#010#010#010#010#010#010#010#010#010#010#010#010#010#010#010#010#010#010#010#010#010#010#010#010#010#010#010#010#010#010#010#010#010#010#010#010#010#010#010#010#010#010#010#010#010#010#010#010#010#010#010#010#010#010#010#010#010#010#010#010#010#010#010#010#010#010#010#010#010#010#010#010#010#010#010#010#010#010#010#010#010#010#010#010#010#010#010#010#010#010#010#010#010#010#010#010#010#010#010#010#010#010#010#010#010#010#010#010#010#010#010#010#010#010#010#010#010#010#010#010#010#010#010#010#010#010#010#010#010#010#010#010#010#010#010#010#010#010#010#010#010#010#010#010#015 3840/54000 [=>............................] - ETA: 14s - loss: 1.7911 - accuracy: 0.3951 - precision: 0.0000e+00 - recall: 0.0000e+00 - f1_score: 0.0000e+00#010#010#010#010#010#010#010#010#010#010#010#010#010#010#010#010#010#010#010#010#010#010#010#010#010#010#010#010#010#010#010#010#010#010#010#010#010#010#010#010#010#010#010#010#010#010#010#010#010#010#010#010#010#010#010#010#010#010#010#010#010#010#010#010#010#010#010#010#010#010#010#010#010#010#010#010#010#010#010#010#010#010#010#010#010#010#010#010#010#010#010#010#010#010#010#010#010#010#010#010#010#010#010#010#010#010#010#010#010#010#010#010#010#010#010#010#010#010#010#010#010#010#010#010#010#010#010#010#010#010#010#010#010#010#010#010#010#010#010#010#010#010#010#010#010#010#010#010#010#010#010#010#010#010#010#010#010#015 4992/54000 [=>............................] - ETA: 11s - loss: 1.6350 - accuracy: 0.4497 - precision: 0.2038 - recall: 0.0026 - f1_score: 0.0050            #010#010#010#010#010#010#010#010#010#010#010#010#010#010#010#010#010#010#010#010#010#010#010#010#010#010#010#010#010#010#010#010#010#010#010#010#010#010#010#010#010#010#010#010#010#010#010#010#010#010#010#010#010#010#010#010#010#010#010#010#010#010#010#010#010#010#010#010#010#010#010#010#010#010#010#010#010#010#010#010#010#010#010#010#010#010#010#010#010#010#010#010#010#010#010#010#010#010#010#010#010#010#010#010#010#010#010#010#010#010#010#010#010#010#010#010#010#010#010#010#010#010#010#010#010#010#010#010#010#010#010#010#010#010#010#010#010#010#010#010#010#010#010#010#010#015 5760/54000 [==>...........................] - ETA: 10s - loss: 1.5426 - accuracy: 0.4780 - precision: 0.2931 - recall: 0.0117 - f1_score: 0.0218#010#010#010#010#010#010#010#010#010#010#010#010#010#010#010#010#010#010#010#010#010#010#010#010#010#010#010#010#010#010#010#010#010#010#010#010#010#010#010#010#010#010#010#010#010#010#010#010#010#010#010#010#010#010#010#010#010#010#010#010#010#010#010#010#010#010#010#010#010#010#010#010#010#010#010#010#010#010#010#010#010#010#010#010#010#010#010#010#010#010#010#010#010#010#010#010#010#010#010#010#010#010#010#010#010#010#010#010#010#010#010#010#010#010#010#010#010#010#010#010#010#010#010#010#010#010#010#010#010#010#010#010#010#010#010#010#010#010#010#010#010#010#010#010#010#015 6528/54000 [==>...........................] - ETA: 9s - loss: 1.4657 - accuracy: 0.4998 - precision: 0.3575 - recall: 0.0243 - f1_score: 0.0437 #010#010#010#010#010#010#010#010#010#010#010#010#010#010#010#010#010#010#010#010#010#010#010#010#010#010#010#010#010#010#010#010#010#010#010#010#010#010#010#010#010#010#010#010#010#010#010#010#010#010#010#010#010#010#010#010#010#010#010#010#010#010#010#010#010#010#010#010#010#010#010#010#010#010#010#010#010#010#010#010#010#010#010#010#010#010#010#010#010#010#010#010#010#010#010#010#010#010#010#010#010#010#010#010#010#010#010#010#010#010#010#010#010#010#010#010#010#010#010#010#010#010#010#010#010#010#010#010#010#010#010#010#010#010#010#010#010#010#010#010#010#010#010#010#015 8064/54000 [===>..........................] - ETA: 7s - loss: 1.3465 - accuracy: 0.5377 - precision: 0.4428 - recall: 0.0541 - f1_score: 0.0915#010#010#010#010#010#010#010#010#010#010#010#010#010#010#010#010#010#010#010#010#010#010#010#010#010#010#010#010#010#010#010#010#010#010#010#010#010#010#010#010#010#010#010#010#010#010#010#010#010#010#010#010#010#010#010#010#010#010#010#010#010#010#010#010#010#010#010#010#010#010#010#010#010#010#010#010#010#010#010#010#010#010#010#010#010#010#010#010#010#010#010#010#010#010#010#010#010#010#010#010#010#010#010#010#010#010#010#010#010#010#010#010#010#010#010#010#010#010#010#010#010#010#010#010#010#010#010#010#010#010#010#010#010#010#010#010#010#010#010#010#010#010#010#010#015 9472/54000 [====>.........................] - ETA: 6s - loss: 1.2617 - accuracy: 0.5650 - precision: 0.4941 - recall: 0.0834 - f1_score: 0.1344#010#010#010#010#010#010#010#010#010#010#010#010#010#010#010#010#010#010#010#010#010#010#010#010#010#010#010#010#010#010#010#010#010#010#010#010#010#010#010#010#010#010#010#010#010#010#010#010#010#010#010#010#010#010#010#010#010#010#010#010#010#010#010#010#010#010#010#010#010#010#010#010#010#010#010#010#010#010#010#010#010#010#010#010#010#010#010#010#010#010#010#010#010#010#010#010#010#010#010#010#010#010#010#010#010#010#010#010#010#010#010#010#010#010#010#010#010#010#010#010#010#010#010#010#010#010#010#010#010#010#010#010#010#010#010#010#010#010#010#010#010#010#010#010#01510752/54000 [====>.........................] - ETA: 5s - loss: 1.1978 - accuracy: 0.5852 - precision: 0.5296 - recall: 0.1094 - f1_score: 0.1704#010#010#010#010#010#010#010#010#010#010#010#010#010#010#010#010#010#010#010#010#010#010#010#010#010#010#010#010#010#010#010#010#010#010#010#010#010#010#010#010#010#010#010#010#010#010#010#010#010#010#010#010#010#010#010#010#010#010#010#010#010#010#010#010#010#010#010#010#010#010#010#010#010#010#010#010#010#010#010#010#010#010#010#010#010#010#010#010#010#010#010#010#010#010#010#010#010#010#010#010#010#010#010#010#010#010#010#010#010#010#010#010#010#010#010#010#010#010#010#010#010#010#010#010#010#010#010#010#010#010#010#010#010#010#010#010#010#010#010#010#010#010#010#010#01512416/54000 [=====>........................] - ETA: 5s - loss: 1.1304 - accuracy: 0.6090 - precision: 0.5638 - recall: 0.1399 - f1_score: 0.2108#010#010#010#010#010#010#010#010#010#010#010#010#010#010#010#010#010#010#010#010#010#010#010#010#010#010#010#010#010#010#010#010#010#010#010#010#010#010#010#010#010#010#010#010#010#010#010#010#010#010#010#010#010#010#010#010#010#010#010#010#010#010#010#010#010#010#010#010#010#010#010#010#010#010#010#010#010#010#010#010#010#010#010#010#010#010#010#010#010#010#010#010#010#010#010#010#010#010#010#010#010#010#010#010#010#010#010#010#010#010#010#010#010#010#010#010#010#010#010#010#010#010#010#010#010#010#010#010#010#010#010#010#010#010#010#010#010#010#010#010#010#010#010#010#01513824/54000 [======>.......................] - ETA: 4s - loss: 1.0836 - accuracy: 0.6255 - precision: 0.5857 - recall: 0.1625 - f1_score: 0.2396#010#010#010#010#010#010#010#010#010#010#010#010#010#010#010#010#010#010#010#010#010#010#010#010#010#010#010#010#010#010#010#010#010#010#010#010#010#010#010#010#010#010#010#010#010#010#010#010#010#010#010#010#010#010#010#010#010#010#010#010#010#010#010#010#010#010#010#010#010#010#010#010#010#010#010#010#010#010#010#010#010#010#010#010#010#010#010#010#010#010#010#010#010#010#010#010#010#010#010#010#010#010#010#010#010#010#010#010#010#010#010#010#010#010#010#010#010#010#010#010#010#010#010#010#010#010#010#010#010#010#010#010#010#010#010#010#010#010#010#010#010#010#010#010#01515360/54000 [=======>......................] - ETA: 4s - loss: 1.0403 - accuracy: 0.6406 - precision: 0.6055 - recall: 0.1854 - f1_score: 0.2678#010#010#010#010#010#010#010#010#010#010#010#010#010#010#010#010#010#010#010#010#010#010#010#010#010#010#010#010#010#010#010#010#010#010#010#010#010#010#010#010#010#010#010#010#010#010#010#010#010#010#010#010#010#010#010#010#010#010#010#010#010#010#010#010#010#010#010#010#010#010#010#010#010#010#010#010#010#010#010#010#010#010#010#010#010#010#010#010#010#010#010#010#010#010#010#010#010#010#010#010#010#010#010#010#010#010#010#010#010#010#010#010#010#010#010#010#010#010#010#010#010#010#010#010#010#010#010#010#010#010#010#010#010#010#010#010#010#010#010#010#010#010#010#010#01516896/54000 [========>.....................] - ETA: 3s - loss: 1.0012 - accuracy: 0.6550 - precision: 0.6226 - recall: 0.2070 - f1_score: 0.2936#010#010#010#010#010#010#010#010#010#010#010#010#010#010#010#010#010#010#010#010#010#010#010#010#010#010#010#010#010#010#010#010#010#010#010#010#010#010#010#010#010#010#010#010#010#010#010#010#010#010#010#010#010#010#010#010#010#010#010#010#010#010#010#010#010#010#010#010#010#010#010#010#010#010#010#010#010#010#010#010#010#010#010#010#010#010#010#010#010#010#010#010#010#010#010#010#010#010#010#010#010#010#010#010#010#010#010#010#010#010#010#010#010#010#010#010#010#010#010#010#010#010#010#010#010#010#010#010#010#010#010#010#010#010#010#010#010#010#010#010#010#010#010#010#01518688/54000 [=========>....................] - ETA: 3s - loss: 0.9652 - accuracy: 0.6687 - precision: 0.6392 - recall: 0.2303 - f1_score: 0.3207#010#010#010#010#010#010#010#010#010#010#010#010#010#010#010#010#010#010#010#010#010#010#010#010#010#010#010#010#010#010#010#010#010#010#010#010#010#010#010#010#010#010#010#010#010#010#010#010#010#010#010#010#010#010#010#010#010#010#010#010#010#010#010#010#010#010#010#010#010#010#010#010#010#010#010#010#010#010#010#010#010#010#010#010#010#010#010#010#010#010#010#010#010#010#010#010#010#010#010#010#010#010#010#010#010#010#010#010#010#010#010#010#010#010#010#010#010#010#010#010#010#010#010#010#010#010#010#010#010#010#010#010#010#010#010#010#010#010#010#010#010#010#010#010#01520352/54000 [==========>...................] - ETA: 2s - loss: 0.9332 - accuracy: 0.6802 - precision: 0.6524 - recall: 0.2502 - f1_score: 0.3431#010#010#010#010#010#010#010#010#010#010#010#010#010#010#010#010#010#010#010#010#010#010#010#010#010#010#010#010#010#010#010#010#010#010#010#010#010#010#010#010#010#010#010#010#010#010#010#010#010#010#010#010#010#010#010#010#010#010#010#010#010#010#010#010#010#010#010#010#010#010#010#010#010#010#010#010#010#010#010#010#010#010#010#010#010#010#010#010#010#010#010#010#010#010#010#010#010#010#010#010#010#010#010#010#010#010#010#010#010#010#010#010#010#010#010#010#010#010#010#010#010#010#010#010#010#010#010#010#010#010#010#010#010#010#010#010#010#010#010#010#010#010#010#010#01522144/54000 [===========>..................] - ETA: 2s - loss: 0.9046 - accuracy: 0.6897 - precision: 0.6648 - recall: 0.2703 - f1_score: 0.3651#010#010#010#010#010#010#010#010#010#010#010#010#010#010#010#010#010#010#010#010#010#010#010#010#010#010#010#010#010#010#010#010#010#010#010#010#010#010#010#010#010#010#010#010#010#010#010#010#010#010#010#010#010#010#010#010#010#010#010#010#010#010#010#010#010#010#010#010#010#010#010#010#010#010#010#010#010#010#010#010#010#010#010#010#010#010#010#010#010#010#010#010#010#010#010#010#010#010#010#010#010#010#010#010#010#010#010#010#010#010#010#010#010#010#010#010#010#010#010#010#010#010#010#010#010#010#010#010#010#010#010#010#010#010#010#010#010#010#010#010#010#010#010#010#01523424/54000 [============>.................] - ETA: 2s - loss: 0.8852 - accuracy: 0.6962 - precision: 0.6723 - recall: 0.2834 - f1_score: 0.3793#010#010#010#010#010#010#010#010#010#010#010#010#010#010#010#010#010#010#010#010#010#010#010#010#010#010#010#010#010#010#010#010#010#010#010#010#010#010#010#010#010#010#010#010#010#010#010#010#010#010#010#010#010#010#010#010#010#010#010#010#010#010#010#010#010#010#010#010#010#010#010#010#010#010#010#010#010#010#010#010#010#010#010#010#010#010#010#010#010#010#010#010#010#010#010#010#010#010#010#010#010#010#010#010#010#010#010#010#010#010#010#010#010#010#010#010#010#010#010#010#010#010#010#010#010#010#010#010#010#010#010#010#010#010#010#010#010#010#010#010#010#010#010#010#01524832/54000 [============>.................] - ETA: 2s - loss: 0.8659 - accuracy: 0.7024 - precision: 0.6796 - recall: 0.2970 - f1_score: 0.3936#010#010#010#010#010#010#010#010#010#010#010#010#010#010#010#010#010#010#010#010#010#010#010#010#010#010#010#010#010#010#010#010#010#010#010#010#010#010#010#010#010#010#010#010#010#010#010#010#010#010#010#010#010#010#010#010#010#010#010#010#010#010#010#010#010#010#010#010#010#010#010#010#010#010#010#010#010#010#010#010#010#010#010#010#010#010#010#010#010#010#010#010#010#010#010#010#010#010#010#010#010#010#010#010#010#010#010#010#010#010#010#010#010#010#010#010#010#010#010#010#010#010#010#010#010#010#010#010#010#010#010#010#010#010#010#010#010#010#010#010#010#010#010#010#01526112/54000 [=============>................] - ETA: 2s - loss: 0.8521 - accuracy: 0.7073 - precision: 0.6854 - recall: 0.3084 - f1_score: 0.4055#010#010#010#010#010#010#010#010#010#010#010#010#010#010#010#010#010#010#010#010#010#010#010#010#010#010#010#010#010#010#010#010#010#010#010#010#010#010#010#010#010#010#010#010#010#010#010#010#010#010#010#010#010#010#010#010#010#010#010#010#010#010#010#010#010#010#010#010#010#010#010#010#010#010#010#010#010#010#010#010#010#010#010#010#010#010#010#010#010#010#010#010#010#010#010#010#010#010#010#010#010#010#010#010#010#010#010#010#010#010#010#010#010#010#010#010#010#010#010#010#010#010#010#010#010#010#010#010#010#010#010#010#010#010#010#010#010#010#010#010#010#010#010#010#01527904/54000 [==============>...............] - ETA: 1s - loss: 0.8322 - accuracy: 0.7141 - precision: 0.6926 - recall: 0.3231 - f1_score: 0.4208#010#010#010#010#010#010#010#010#010#010#010#010#010#010#010#010#010#010#010#010#010#010#010#010#010#010#010#010#010#010#010#010#010#010#010#010#010#010#010#010#010#010#010#010#010#010#010#010#010#010#010#010#010#010#010#010#010#010#010#010#010#010#010#010#010#010#010#010#010#010#010#010#010#010#010#010#010#010#010#010#010#010#010#010#010#010#010#010#010#010#010#010#010#010#010#010#010#010#010#010#010#010#010#010#010#010#010#010#010#010#010#010#010#010#010#010#010#010#010#010#010#010#010#010#010#010#010#010#010#010#010#010#010#010#010#010#010#010#010#010#010#010#010#010#01529568/54000 [===============>..............] - ETA: 1s - loss: 0.8146 - accuracy: 0.7200 - precision: 0.6987 - recall: 0.3359 - f1_score: 0.4338#010#010#010#010#010#010#010#010#010#010#010#010#010#010#010#010#010#010#010#010#010#010#010#010#010#010#010#010#010#010#010#010#010#010#010#010#010#010#010#010#010#010#010#010#010#010#010#010#010#010#010#010#010#010#010#010#010#010#010#010#010#010#010#010#010#010#010#010#010#010#010#010#010#010#010#010#010#010#010#010#010#010#010#010#010#010#010#010#010#010#010#010#010#010#010#010#010#010#010#010#010#010#010#010#010#010#010#010#010#010#010#010#010#010#010#010#010#010#010#010#010#010#010#010#010#010#010#010#010#010#010#010#010#010#010#010#010#010#010#010#010#010#010#010#01531232/54000 [================>.............] - ETA: 1s - loss: 0.7989 - accuracy: 0.7256 - precision: 0.7042 - recall: 0.3480 - f1_score: 0.4460#010#010#010#010#010#010#010#010#010#010#010#010#010#010#010#010#010#010#010#010#010#010#010#010#010#010#010#010#010#010#010#010#010#010#010#010#010#010#010#010#010#010#010#010#010#010#010#010#010#010#010#010#010#010#010#010#010#010#010#010#010#010#010#010#010#010#010#010#010#010#010#010#010#010#010#010#010#010#010#010#010#010#010#010#010#010#010#010#010#010#010#010#010#010#010#010#010#010#010#010#010#010#010#010#010#010#010#010#010#010#010#010#010#010#010#010#010#010#010#010#010#010#010#010#010#010#010#010#010#010#010#010#010#010#010#010#010#010#010#010#010#010#010#010#01532896/54000 [=================>............] - ETA: 1s - loss: 0.7866 - accuracy: 0.7294 - precision: 0.7092 - recall: 0.3594 - f1_score: 0.4572#010#010#010#010#010#010#010#010#010#010#010#010#010#010#010#010#010#010#010#010#010#010#010#010#010#010#010#010#010#010#010#010#010#010#010#010#010#010#010#010#010#010#010#010#010#010#010#010#010#010#010#010#010#010#010#010#010#010#010#010#010#010#010#010#010#010#010#010#010#010#010#010#010#010#010#010#010#010#010#010#010#010#010#010#010#010#010#010#010#010#010#010#010#010#010#010#010#010#010#010#010#010#010#010#010#010#010#010#010#010#010#010#010#010#010#010#010#010#010#010#010#010#010#010#010#010#010#010#010#010#010#010#010#010#010#010#010#010#010#010#010#010#010#010#01534432/54000 [==================>...........] - ETA: 1s - loss: 0.7752 - accuracy: 0.7331 - precision: 0.7135 - recall: 0.3693 - f1_score: 0.4669#010#010#010#010#010#010#010#010#010#010#010#010#010#010#010#010#010#010#010#010#010#010#010#010#010#010#010#010#010#010#010#010#010#010#010#010#010#010#010#010#010#010#010#010#010#010#010#010#010#010#010#010#010#010#010#010#010#010#010#010#010#010#010#010#010#010#010#010#010#010#010#010#010#010#010#010#010#010#010#010#010#010#010#010#010#010#010#010#010#010#010#010#010#010#010#010#010#010#010#010#010#010#010#010#010#010#010#010#010#010#010#010#010#010#010#010#010#010#010#010#010#010#010#010#010#010#010#010#010#010#010#010#010#010#010#010#010#010#010#010#010#010#010#010#01535968/54000 [==================>...........] - ETA: 1s - loss: 0.7654 - accuracy: 0.7364 - precision: 0.7174 - recall: 0.3786 - f1_score: 0.4760#010#010#010#010#010#010#010#010#010#010#010#010#010#010#010#010#010#010#010#010#010#010#010#010#010#010#010#010#010#010#010#010#010#010#010#010#010#010#010#010#010#010#010#010#010#010#010#010#010#010#010#010#010#010#010#010#010#010#010#010#010#010#010#010#010#010#010#010#010#010#010#010#010#010#010#010#010#010#010#010#010#010#010#010#010#010#010#010#010#010#010#010#010#010#010#010#010#010#010#010#010#010#010#010#010#010#010#010#010#010#010#010#010#010#010#010#010#010#010#010#010#010#010#010#010#010#010#010#010#010#010#010#010#010#010#010#010#010#010#010#010#010#010#010#01537632/54000 [===================>..........] - ETA: 1s - loss: 0.7547 - accuracy: 0.7400 - precision: 0.7212 - recall: 0.3880 - f1_score: 0.4851#010#010#010#010#010#010#010#010#010#010#010#010#010#010#010#010#010#010#010#010#010#010#010#010#010#010#010#010#010#010#010#010#010#010#010#010#010#010#010#010#010#010#010#010#010#010#010#010#010#010#010#010#010#010#010#010#010#010#010#010#010#010#010#010#010#010#010#010#010#010#010#010#010#010#010#010#010#010#010#010#010#010#010#010#010#010#010#010#010#010#010#010#010#010#010#010#010#010#010#010#010#010#010#010#010#010#010#010#010#010#010#010#010#010#010#010#010#010#010#010#010#010#010#010#010#010#010#010#010#010#010#010#010#010#010#010#010#010#010#010#010#010#010#010#01539168/54000 [====================>.........] - ETA: 0s - loss: 0.7462 - accuracy: 0.7428 - precision: 0.7244 - recall: 0.3963 - f1_score: 0.4930#010#010#010#010#010#010#010#010#010#010#010#010#010#010#010#010#010#010#010#010#010#010#010#010#010#010#010#010#010#010#010#010#010#010#010#010#010#010#010#010#010#010#010#010#010#010#010#010#010#010#010#010#010#010#010#010#010#010#010#010#010#010#010#010#010#010#010#010#010#010#010#010#010#010#010#010#010#010#010#010#010#010#010#010#010#010#010#010#010#010#010#010#010#010#010#010#010#010#010#010#010#010#010#010#010#010#010#010#010#010#010#010#010#010#010#010#010#010#010#010#010#010#010#010#010#010#010#010#010#010#010#010#010#010#010#010#010#010#010#010#010#010#010#010#01540192/54000 [=====================>........] - ETA: 0s - loss: 0.7397 - accuracy: 0.7449 - precision: 0.7265 - recall: 0.4015 - f1_score: 0.4979#010#010#010#010#010#010#010#010#010#010#010#010#010#010#010#010#010#010#010#010#010#010#010#010#010#010#010#010#010#010#010#010#010#010#010#010#010#010#010#010#010#010#010#010#010#010#010#010#010#010#010#010#010#010#010#010#010#010#010#010#010#010#010#010#010#010#010#010#010#010#010#010#010#010#010#010#010#010#010#010#010#010#010#010#010#010#010#010#010#010#010#010#010#010#010#010#010#010#010#010#010#010#010#010#010#010#010#010#010#010#010#010#010#010#010#010#010#010#010#010#010#010#010#010#010#010#010#010#010#010#010#010#010#010#010#010#010#010#010#010#010#010#010#010#01540576/54000 [=====================>........] - ETA: 0s - loss: 0.7370 - accuracy: 0.7457 - precision: 0.7272 - recall: 0.4034 - f1_score: 0.4998#010#010#010#010#010#010#010#010#010#010#010#010#010#010#010#010#010#010#010#010#010#010#010#010#010#010#010#010#010#010#010#010#010#010#010#010#010#010#010#010#010#010#010#010#010#010#010#010#010#010#010#010#010#010#010#010#010#010#010#010#010#010#010#010#010#010#010#010#010#010#010#010#010#010#010#010#010#010#010#010#010#010#010#010#010#010#010#010#010#010#010#010#010#010#010#010#010#010#010#010#010#010#010#010#010#010#010#010#010#010#010#010#010#010#010#010#010#010#010#010#010#010#010#010#010#010#010#010#010#010#010#010#010#010#010#010#010#010#010#010#010#010#010#010#01540960/54000 [=====================>........] - ETA: 0s - loss: 0.7345 - accuracy: 0.7466 - precision: 0.7279 - recall: 0.4053 - f1_score: 0.5016#010#010#010#010#010#010#010#010#010#010#010#010#010#010#010#010#010#010#010#010#010#010#010#010#010#010#010#010#010#010#010#010#010#010#010#010#010#010#010#010#010#010#010#010#010#010#010#010#010#010#010#010#010#010#010#010#010#010#010#010#010#010#010#010#010#010#010#010#010#010#010#010#010#010#010#010#010#010#010#010#010#010#010#010#010#010#010#010#010#010#010#010#010#010#010#010#010#010#010#010#010#010#010#010#010#010#010#010#010#010#010#010#010#010#010#010#010#010#010#010#010#010#010#010#010#010#010#010#010#010#010#010#010#010#010#010#010#010#010#010#010#010#010#010#01541600/54000 [======================>.......] - ETA: 0s - loss: 0.7312 - accuracy: 0.7475 - precision: 0.7291 - recall: 0.4084 - f1_score: 0.5045#010#010#010#010#010#010#010#010#010#010#010#010#010#010#010#010#010#010#010#010#010#010#010#010#010#010#010#010#010#010#010#010#010#010#010#010#010#010#010#010#010#010#010#010#010#010#010#010#010#010#010#010#010#010#010#010#010#010#010#010#010#010#010#010#010#010#010#010#010#010#010#010#010#010#010#010#010#010#010#010#010#010#010#010#010#010#010#010#010#010#010#010#010#010#010#010#010#010#010#010#010#010#010#010#010#010#010#010#010#010#010#010#010#010#010#010#010#010#010#010#010#010#010#010#010#010#010#010#010#010#010#010#010#010#010#010#010#010#010#010#010#010#010#010#01541856/54000 [======================>.......] - ETA: 0s - loss: 0.7295 - accuracy: 0.7480 - precision: 0.7296 - recall: 0.4097 - f1_score: 0.5057#010#010#010#010#010#010#010#010#010#010#010#010#010#010#010#010#010#010#010#010#010#010#010#010#010#010#010#010#010#010#010#010#010#010#010#010#010#010#010#010#010#010#010#010#010#010#010#010#010#010#010#010#010#010#010#010#010#010#010#010#010#010#010#010#010#010#010#010#010#010#010#010#010#010#010#010#010#010#010#010#010#010#010#010#010#010#010#010#010#010#010#010#010#010#010#010#010#010#010#010#010#010#010#010#010#010#010#010#010#010#010#010#010#010#010#010#010#010#010#010#010#010#010#010#010#010#010#010#010#010#010#010#010#010#010#010#010#010#010#010#010#010#010#010#01542496/54000 [======================>.......] - ETA: 0s - loss: 0.7256 - accuracy: 0.7495 - precision: 0.7307 - recall: 0.4127 - f1_score: 0.5085#010#010#010#010#010#010#010#010#010#010#010#010#010#010#010#010#010#010#010#010#010#010#010#010#010#010#010#010#010#010#010#010#010#010#010#010#010#010#010#010#010#010#010#010#010#010#010#010#010#010#010#010#010#010#010#010#010#010#010#010#010#010#010#010#010#010#010#010#010#010#010#010#010#010#010#010#010#010#010#010#010#010#010#010#010#010#010#010#010#010#010#010#010#010#010#010#010#010#010#010#010#010#010#010#010#010#010#010#010#010#010#010#010#010#010#010#010#010#010#010#010#010#010#010#010#010#010#010#010#010#010#010#010#010#010#010#010#010#010#010#010#010#010#010#01543136/54000 [======================>.......] - ETA: 0s - loss: 0.7216 - accuracy: 0.7511 - precision: 0.7318 - recall: 0.4157 - f1_score: 0.5113#010#010#010#010#010#010#010#010#010#010#010#010#010#010#010#010#010#010#010#010#010#010#010#010#010#010#010#010#010#010#010#010#010#010#010#010#010#010#010#010#010#010#010#010#010#010#010#010#010#010#010#010#010#010#010#010#010#010#010#010#010#010#010#010#010#010#010#010#010#010#010#010#010#010#010#010#010#010#010#010#010#010#010#010#010#010#010#010#010#010#010#010#010#010#010#010#010#010#010#010#010#010#010#010#010#010#010#010#010#010#010#010#010#010#010#010#010#010#010#010#010#010#010#010#010#010#010#010#010#010#010#010#010#010#010#010#010#010#010#010#010#010#010#010#01544672/54000 [=======================>......] - ETA: 0s - loss: 0.7132 - accuracy: 0.7538 - precision: 0.7343 - recall: 0.4227 - f1_score: 0.5178#010#010#010#010#010#010#010#010#010#010#010#010#010#010#010#010#010#010#010#010#010#010#010#010#010#010#010#010#010#010#010#010#010#010#010#010#010#010#010#010#010#010#010#010#010#010#010#010#010#010#010#010#010#010#010#010#010#010#010#010#010#010#010#010#010#010#010#010#010#010#010#010#010#010#010#010#010#010#010#010#010#010#010#010#010#010#010#010#010#010#010#010#010#010#010#010#010#010#010#010#010#010#010#010#010#010#010#010#010#010#010#010#010#010#010#010#010#010#010#010#010#010#010#010#010#010#010#010#010#010#010#010#010#010#010#010#010#010#010#010#010#010#010#010#01545952/54000 [========================>.....] - ETA: 0s - loss: 0.7066 - accuracy: 0.7562 - precision: 0.7363 - recall: 0.4282 - f1_score: 0.5229#010#010#010#010#010#010#010#010#010#010#010#010#010#010#010#010#010#010#010#010#010#010#010#010#010#010#010#010#010#010#010#010#010#010#010#010#010#010#010#010#010#010#010#010#010#010#010#010#010#010#010#010#010#010#010#010#010#010#010#010#010#010#010#010#010#010#010#010#010#010#010#010#010#010#010#010#010#010#010#010#010#010#010#010#010#010#010#010#010#010#010#010#010#010#010#010#010#010#010#010#010#010#010#010#010#010#010#010#010#010#010#010#010#010#010#010#010#010#010#010#010#010#010#010#010#010#010#010#010#010#010#010#010#010#010#010#010#010#010#010#010#010#010#010#01547616/54000 [=========================>....] - ETA: 0s - loss: 0.6985 - accuracy: 0.7584 - precision: 0.7388 - recall: 0.4352 - f1_score: 0.5293#010#010#010#010#010#010#010#010#010#010#010#010#010#010#010#010#010#010#010#010#010#010#010#010#010#010#010#010#010#010#010#010#010#010#010#010#010#010#010#010#010#010#010#010#010#010#010#010#010#010#010#010#010#010#010#010#010#010#010#010#010#010#010#010#010#010#010#010#010#010#010#010#010#010#010#010#010#010#010#010#010#010#010#010#010#010#010#010#010#010#010#010#010#010#010#010#010#010#010#010#010#010#010#010#010#010#010#010#010#010#010#010#010#010#010#010#010#010#010#010#010#010#010#010#010#010#010#010#010#010#010#010#010#010#010#010#010#010#010#010#010#010#010#010#01549152/54000 [==========================>...] - ETA: 0s - loss: 0.6921 - accuracy: 0.7607 - precision: 0.7409 - recall: 0.4413 - f1_score: 0.5349#010#010#010#010#010#010#010#010#010#010#010#010#010#010#010#010#010#010#010#010#010#010#010#010#010#010#010#010#010#010#010#010#010#010#010#010#010#010#010#010#010#010#010#010#010#010#010#010#010#010#010#010#010#010#010#010#010#010#010#010#010#010#010#010#010#010#010#010#010#010#010#010#010#010#010#010#010#010#010#010#010#010#010#010#010#010#010#010#010#010#010#010#010#010#010#010#010#010#010#010#010#010#010#010#010#010#010#010#010#010#010#010#010#010#010#010#010#010#010#010#010#010#010#010#010#010#010#010#010#010#010#010#010#010#010#010#010#010#010#010#010#010#010#010#01550688/54000 [===========================>..] - ETA: 0s - loss: 0.6866 - accuracy: 0.7624 - precision: 0.7429 - recall: 0.4471 - f1_score: 0.5402#010#010#010#010#010#010#010#010#010#010#010#010#010#010#010#010#010#010#010#010#010#010#010#010#010#010#010#010#010#010#010#010#010#010#010#010#010#010#010#010#010#010#010#010#010#010#010#010#010#010#010#010#010#010#010#010#010#010#010#010#010#010#010#010#010#010#010#010#010#010#010#010#010#010#010#010#010#010#010#010#010#010#010#010#010#010#010#010#010#010#010#010#010#010#010#010#010#010#010#010#010#010#010#010#010#010#010#010#010#010#010#010#010#010#010#010#010#010#010#010#010#010#010#010#010#010#010#010#010#010#010#010#010#010#010#010#010#010#010#010#010#010#010#010#01552352/54000 [============================>.] - ETA: 0s - loss: 0.6804 - accuracy: 0.7642 - precision: 0.7449 - recall: 0.4532 - f1_score: 0.5456#010#010#010#010#010#010#010#010#010#010#010#010#010#010#010#010#010#010#010#010#010#010#010#010#010#010#010#010#010#010#010#010#010#010#010#010#010#010#010#010#010#010#010#010#010#010#010#010#010#010#010#010#010#010#010#010#010#010#010#010#010#010#010#010#010#010#010#010#010#010#010#010#010#010#010#010#010#010#010#010#010#010#010#010#010#010#010#010#010#010#010#010#010#010#010#010#010#010#010#010#010#010#010#010#010#010#010#010#010#010#010#010#010#010#010#010#010#010#010#010#010#010#010#010#010#010#010#010#010#010#010#010#010#010#010#010#010#010#010#010#010#010#010#010#01554000/54000 [==============================] - 4s 71us/sample - loss: 0.6753 - accuracy: 0.7661 - precision: 0.7468 - recall: 0.4589 - f1_score: 0.5508 - val_loss: 0.4725 - val_accuracy: 0.8343 - val_precision: 0.8077 - val_recall: 0.6509 - val_f1_score: 0.7209\u001b[0m\n",
      "\u001b[34mEpoch 2/3\u001b[0m\n",
      "\u001b[34m#015  128/54000 [..............................] - ETA: 2s - loss: 0.5048 - accuracy: 0.8047 - precision: 0.8073 - recall: 0.6582 - f1_score: 0.7252#010#010#010#010#010#010#010#010#010#010#010#010#010#010#010#010#010#010#010#010#010#010#010#010#010#010#010#010#010#010#010#010#010#010#010#010#010#010#010#010#010#010#010#010#010#010#010#010#010#010#010#010#010#010#010#010#010#010#010#010#010#010#010#010#010#010#010#010#010#010#010#010#010#010#010#010#010#010#010#010#010#010#010#010#010#010#010#010#010#010#010#010#010#010#010#010#010#010#010#010#010#010#010#010#010#010#010#010#010#010#010#010#010#010#010#010#010#010#010#010#010#010#010#010#010#010#010#010#010#010#010#010#010#010#010#010#010#010#010#010#010#010#010#010#015 1536/54000 [..............................] - ETA: 2s - loss: 0.4867 - accuracy: 0.8392 - precision: 0.8069 - recall: 0.6591 - f1_score: 0.7255#010#010#010#010#010#010#010#010#010#010#010#010#010#010#010#010#010#010#010#010#010#010#010#010#010#010#010#010#010#010#010#010#010#010#010#010#010#010#010#010#010#010#010#010#010#010#010#010#010#010#010#010#010#010#010#010#010#010#010#010#010#010#010#010#010#010#010#010#010#010#010#010#010#010#010#010#010#010#010#010#010#010#010#010#010#010#010#010#010#010#010#010#010#010#010#010#010#010#010#010#010#010#010#010#010#010#010#010#010#010#010#010#010#010#010#010#010#010#010#010#010#010#010#010#010#010#010#010#010#010#010#010#010#010#010#010#010#010#010#010#010#010#010#010#015 2816/54000 [>.............................] - ETA: 2s - loss: 0.5029 - accuracy: 0.8306 - precision: 0.8074 - recall: 0.6601 - f1_score: 0.7264#010#010#010#010#010#010#010#010#010#010#010#010#010#010#010#010#010#010#010#010#010#010#010#010#010#010#010#010#010#010#010#010#010#010#010#010#010#010#010#010#010#010#010#010#010#010#010#010#010#010#010#010#010#010#010#010#010#010#010#010#010#010#010#010#010#010#010#010#010#010#010#010#010#010#010#010#010#010#010#010#010#010#010#010#010#010#010#010#010#010#010#010#010#010#010#010#010#010#010#010#010#010#010#010#010#010#010#010#010#010#010#010#010#010#010#010#010#010#010#010#010#010#010#010#010#010#010#010#010#010#010#010#010#010#010#010#010#010#010#010#010#010#010#010#015 4224/54000 [=>............................] - ETA: 1s - loss: 0.4870 - accuracy: 0.8343 - precision: 0.8077 - recall: 0.6614 - f1_score: 0.7273#010#010#010#010#010#010#010#010#010#010#010#010#010#010#010#010#010#010#010#010#010#010#010#010#010#010#010#010#010#010#010#010#010#010#010#010#010#010#010#010#010#010#010#010#010#010#010#010#010#010#010#010#010#010#010#010#010#010#010#010#010#010#010#010#010#010#010#010#010#010#010#010#010#010#010#010#010#010#010#010#010#010#010#010#010#010#010#010#010#010#010#010#010#010#010#010#010#010#010#010#010#010#010#010#010#010#010#010#010#010#010#010#010#010#010#010#010#010#010#010#010#010#010#010#010#010#010#010#010#010#010#010#010#010#010#010#010#010#010#010#010#010#010#010#015 5120/54000 [=>............................] - ETA: 2s - loss: 0.4911 - accuracy: 0.8320 - precision: 0.8079 - recall: 0.6621 - f1_score: 0.7277#010#010#010#010#010#010#010#010#010#010#010#010#010#010#010#010#010#010#010#010#010#010#010#010#010#010#010#010#010#010#010#010#010#010#010#010#010#010#010#010#010#010#010#010#010#010#010#010#010#010#010#010#010#010#010#010#010#010#010#010#010#010#010#010#010#010#010#010#010#010#010#010#010#010#010#010#010#010#010#010#010#010#010#010#010#010#010#010#010#010#010#010#010#010#010#010#010#010#010#010#010#010#010#010#010#010#010#010#010#010#010#010#010#010#010#010#010#010#010#010#010#010#010#010#010#010#010#010#010#010#010#010#010#010#010#010#010#010#010#010#010#010#010#010#015 6784/54000 [==>...........................] - ETA: 1s - loss: 0.4810 - accuracy: 0.8346 - precision: 0.8080 - recall: 0.6632 - f1_score: 0.7285#010#010#010#010#010#010#010#010#010#010#010#010#010#010#010#010#010#010#010#010#010#010#010#010#010#010#010#010#010#010#010#010#010#010#010#010#010#010#010#010#010#010#010#010#010#010#010#010#010#010#010#010#010#010#010#010#010#010#010#010#010#010#010#010#010#010#010#010#010#010#010#010#010#010#010#010#010#010#010#010#010#010#010#010#010#010#010#010#010#010#010#010#010#010#010#010#010#010#010#010#010#010#010#010#010#010#010#010#010#010#010#010#010#010#010#010#010#010#010#010#010#010#010#010#010#010#010#010#010#010#010#010#010#010#010#010#010#010#010#010#010#010#010#010#015 8448/54000 [===>..........................] - ETA: 1s - loss: 0.4702 - accuracy: 0.8372 - precision: 0.8082 - recall: 0.6644 - f1_score: 0.7293#010#010#010#010#010#010#010#010#010#010#010#010#010#010#010#010#010#010#010#010#010#010#010#010#010#010#010#010#010#010#010#010#010#010#010#010#010#010#010#010#010#010#010#010#010#010#010#010#010#010#010#010#010#010#010#010#010#010#010#010#010#010#010#010#010#010#010#010#010#010#010#010#010#010#010#010#010#010#010#010#010#010#010#010#010#010#010#010#010#010#010#010#010#010#010#010#010#010#010#010#010#010#010#010#010#010#010#010#010#010#010#010#010#010#010#010#010#010#010#010#010#010#010#010#010#010#010#010#010#010#010#010#010#010#010#010#010#010#010#010#010#010#010#010#01510112/54000 [====>.........................] - ETA: 1s - loss: 0.4715 - accuracy: 0.8373 - precision: 0.8086 - recall: 0.6657 - f1_score: 0.7302#010#010#010#010#010#010#010#010#010#010#010#010#010#010#010#010#010#010#010#010#010#010#010#010#010#010#010#010#010#010#010#010#010#010#010#010#010#010#010#010#010#010#010#010#010#010#010#010#010#010#010#010#010#010#010#010#010#010#010#010#010#010#010#010#010#010#010#010#010#010#010#010#010#010#010#010#010#010#010#010#010#010#010#010#010#010#010#010#010#010#010#010#010#010#010#010#010#010#010#010#010#010#010#010#010#010#010#010#010#010#010#010#010#010#010#010#010#010#010#010#010#010#010#010#010#010#010#010#010#010#010#010#010#010#010#010#010#010#010#010#010#010#010#010#01511520/54000 [=====>........................] - ETA: 1s - loss: 0.4686 - accuracy: 0.8370 - precision: 0.8087 - recall: 0.6667 - f1_score: 0.7309#010#010#010#010#010#010#010#010#010#010#010#010#010#010#010#010#010#010#010#010#010#010#010#010#010#010#010#010#010#010#010#010#010#010#010#010#010#010#010#010#010#010#010#010#010#010#010#010#010#010#010#010#010#010#010#010#010#010#010#010#010#010#010#010#010#010#010#010#010#010#010#010#010#010#010#010#010#010#010#010#010#010#010#010#010#010#010#010#010#010#010#010#010#010#010#010#010#010#010#010#010#010#010#010#010#010#010#010#010#010#010#010#010#010#010#010#010#010#010#010#010#010#010#010#010#010#010#010#010#010#010#010#010#010#010#010#010#010#010#010#010#010#010#010#01513184/54000 [======>.......................] - ETA: 1s - loss: 0.4668 - accuracy: 0.8375 - precision: 0.8088 - recall: 0.6679 - f1_score: 0.7316#010#010#010#010#010#010#010#010#010#010#010#010#010#010#010#010#010#010#010#010#010#010#010#010#010#010#010#010#010#010#010#010#010#010#010#010#010#010#010#010#010#010#010#010#010#010#010#010#010#010#010#010#010#010#010#010#010#010#010#010#010#010#010#010#010#010#010#010#010#010#010#010#010#010#010#010#010#010#010#010#010#010#010#010#010#010#010#010#010#010#010#010#010#010#010#010#010#010#010#010#010#010#010#010#010#010#010#010#010#010#010#010#010#010#010#010#010#010#010#010#010#010#010#010#010#010#010#010#010#010#010#010#010#010#010#010#010#010#010#010#010#010#010#010#01514720/54000 [=======>......................] - ETA: 1s - loss: 0.4629 - accuracy: 0.8391 - precision: 0.8090 - recall: 0.6691 - f1_score: 0.7324#010#010#010#010#010#010#010#010#010#010#010#010#010#010#010#010#010#010#010#010#010#010#010#010#010#010#010#010#010#010#010#010#010#010#010#010#010#010#010#010#010#010#010#010#010#010#010#010#010#010#010#010#010#010#010#010#010#010#010#010#010#010#010#010#010#010#010#010#010#010#010#010#010#010#010#010#010#010#010#010#010#010#010#010#010#010#010#010#010#010#010#010#010#010#010#010#010#010#010#010#010#010#010#010#010#010#010#010#010#010#010#010#010#010#010#010#010#010#010#010#010#010#010#010#010#010#010#010#010#010#010#010#010#010#010#010#010#010#010#010#010#010#010#010#01516000/54000 [=======>......................] - ETA: 1s - loss: 0.4629 - accuracy: 0.8384 - precision: 0.8092 - recall: 0.6700 - f1_score: 0.7331#010#010#010#010#010#010#010#010#010#010#010#010#010#010#010#010#010#010#010#010#010#010#010#010#010#010#010#010#010#010#010#010#010#010#010#010#010#010#010#010#010#010#010#010#010#010#010#010#010#010#010#010#010#010#010#010#010#010#010#010#010#010#010#010#010#010#010#010#010#010#010#010#010#010#010#010#010#010#010#010#010#010#010#010#010#010#010#010#010#010#010#010#010#010#010#010#010#010#010#010#010#010#010#010#010#010#010#010#010#010#010#010#010#010#010#010#010#010#010#010#010#010#010#010#010#010#010#010#010#010#010#010#010#010#010#010#010#010#010#010#010#010#010#010#01517664/54000 [========>.....................] - ETA: 1s - loss: 0.4623 - accuracy: 0.8391 - precision: 0.8095 - recall: 0.6712 - f1_score: 0.7339#010#010#010#010#010#010#010#010#010#010#010#010#010#010#010#010#010#010#010#010#010#010#010#010#010#010#010#010#010#010#010#010#010#010#010#010#010#010#010#010#010#010#010#010#010#010#010#010#010#010#010#010#010#010#010#010#010#010#010#010#010#010#010#010#010#010#010#010#010#010#010#010#010#010#010#010#010#010#010#010#010#010#010#010#010#010#010#010#010#010#010#010#010#010#010#010#010#010#010#010#010#010#010#010#010#010#010#010#010#010#010#010#010#010#010#010#010#010#010#010#010#010#010#010#010#010#010#010#010#010#010#010#010#010#010#010#010#010#010#010#010#010#010#010#01519200/54000 [=========>....................] - ETA: 1s - loss: 0.4596 - accuracy: 0.8398 - precision: 0.8097 - recall: 0.6723 - f1_score: 0.7346#010#010#010#010#010#010#010#010#010#010#010#010#010#010#010#010#010#010#010#010#010#010#010#010#010#010#010#010#010#010#010#010#010#010#010#010#010#010#010#010#010#010#010#010#010#010#010#010#010#010#010#010#010#010#010#010#010#010#010#010#010#010#010#010#010#010#010#010#010#010#010#010#010#010#010#010#010#010#010#010#010#010#010#010#010#010#010#010#010#010#010#010#010#010#010#010#010#010#010#010#010#010#010#010#010#010#010#010#010#010#010#010#010#010#010#010#010#010#010#010#010#010#010#010#010#010#010#010#010#010#010#010#010#010#010#010#010#010#010#010#010#010#010#010#01520608/54000 [==========>...................] - ETA: 1s - loss: 0.4579 - accuracy: 0.8405 - precision: 0.8099 - recall: 0.6733 - f1_score: 0.7353#010#010#010#010#010#010#010#010#010#010#010#010#010#010#010#010#010#010#010#010#010#010#010#010#010#010#010#010#010#010#010#010#010#010#010#010#010#010#010#010#010#010#010#010#010#010#010#010#010#010#010#010#010#010#010#010#010#010#010#010#010#010#010#010#010#010#010#010#010#010#010#010#010#010#010#010#010#010#010#010#010#010#010#010#010#010#010#010#010#010#010#010#010#010#010#010#010#010#010#010#010#010#010#010#010#010#010#010#010#010#010#010#010#010#010#010#010#010#010#010#010#010#010#010#010#010#010#010#010#010#010#010#010#010#010#010#010#010#010#010#010#010#010#010#01522272/54000 [===========>..................] - ETA: 1s - loss: 0.4547 - accuracy: 0.8420 - precision: 0.8102 - recall: 0.6744 - f1_score: 0.7361#010#010#010#010#010#010#010#010#010#010#010#010#010#010#010#010#010#010#010#010#010#010#010#010#010#010#010#010#010#010#010#010#010#010#010#010#010#010#010#010#010#010#010#010#010#010#010#010#010#010#010#010#010#010#010#010#010#010#010#010#010#010#010#010#010#010#010#010#010#010#010#010#010#010#010#010#010#010#010#010#010#010#010#010#010#010#010#010#010#010#010#010#010#010#010#010#010#010#010#010#010#010#010#010#010#010#010#010#010#010#010#010#010#010#010#010#010#010#010#010#010#010#010#010#010#010#010#010#010#010#010#010#010#010#010#010#010#010#010#010#010#010#010#010#01523936/54000 [============>.................] - ETA: 1s - loss: 0.4553 - accuracy: 0.8421 - precision: 0.8105 - recall: 0.6756 - f1_score: 0.7369#010#010#010#010#010#010#010#010#010#010#010#010#010#010#010#010#010#010#010#010#010#010#010#010#010#010#010#010#010#010#010#010#010#010#010#010#010#010#010#010#010#010#010#010#010#010#010#010#010#010#010#010#010#010#010#010#010#010#010#010#010#010#010#010#010#010#010#010#010#010#010#010#010#010#010#010#010#010#010#010#010#010#010#010#010#010#010#010#010#010#010#010#010#010#010#010#010#010#010#010#010#010#010#010#010#010#010#010#010#010#010#010#010#010#010#010#010#010#010#010#010#010#010#010#010#010#010#010#010#010#010#010#010#010#010#010#010#010#010#010#010#010#010#010#01525600/54000 [=============>................] - ETA: 1s - loss: 0.4554 - accuracy: 0.8424 - precision: 0.8107 - recall: 0.6767 - f1_score: 0.7376#010#010#010#010#010#010#010#010#010#010#010#010#010#010#010#010#010#010#010#010#010#010#010#010#010#010#010#010#010#010#010#010#010#010#010#010#010#010#010#010#010#010#010#010#010#010#010#010#010#010#010#010#010#010#010#010#010#010#010#010#010#010#010#010#010#010#010#010#010#010#010#010#010#010#010#010#010#010#010#010#010#010#010#010#010#010#010#010#010#010#010#010#010#010#010#010#010#010#010#010#010#010#010#010#010#010#010#010#010#010#010#010#010#010#010#010#010#010#010#010#010#010#010#010#010#010#010#010#010#010#010#010#010#010#010#010#010#010#010#010#010#010#010#010#01527264/54000 [==============>...............] - ETA: 0s - loss: 0.4554 - accuracy: 0.8416 - precision: 0.8109 - recall: 0.6777 - f1_score: 0.7383#010#010#010#010#010#010#010#010#010#010#010#010#010#010#010#010#010#010#010#010#010#010#010#010#010#010#010#010#010#010#010#010#010#010#010#010#010#010#010#010#010#010#010#010#010#010#010#010#010#010#010#010#010#010#010#010#010#010#010#010#010#010#010#010#010#010#010#010#010#010#010#010#010#010#010#010#010#010#010#010#010#010#010#010#010#010#010#010#010#010#010#010#010#010#010#010#010#010#010#010#010#010#010#010#010#010#010#010#010#010#010#010#010#010#010#010#010#010#010#010#010#010#010#010#010#010#010#010#010#010#010#010#010#010#010#010#010#010#010#010#010#010#010#010#01528928/54000 [===============>..............] - ETA: 0s - loss: 0.4548 - accuracy: 0.8418 - precision: 0.8111 - recall: 0.6787 - f1_score: 0.7390#010#010#010#010#010#010#010#010#010#010#010#010#010#010#010#010#010#010#010#010#010#010#010#010#010#010#010#010#010#010#010#010#010#010#010#010#010#010#010#010#010#010#010#010#010#010#010#010#010#010#010#010#010#010#010#010#010#010#010#010#010#010#010#010#010#010#010#010#010#010#010#010#010#010#010#010#010#010#010#010#010#010#010#010#010#010#010#010#010#010#010#010#010#010#010#010#010#010#010#010#010#010#010#010#010#010#010#010#010#010#010#010#010#010#010#010#010#010#010#010#010#010#010#010#010#010#010#010#010#010#010#010#010#010#010#010#010#010#010#010#010#010#010#010#01530592/54000 [===============>..............] - ETA: 0s - loss: 0.4524 - accuracy: 0.8426 - precision: 0.8112 - recall: 0.6796 - f1_score: 0.7396#010#010#010#010#010#010#010#010#010#010#010#010#010#010#010#010#010#010#010#010#010#010#010#010#010#010#010#010#010#010#010#010#010#010#010#010#010#010#010#010#010#010#010#010#010#010#010#010#010#010#010#010#010#010#010#010#010#010#010#010#010#010#010#010#010#010#010#010#010#010#010#010#010#010#010#010#010#010#010#010#010#010#010#010#010#010#010#010#010#010#010#010#010#010#010#010#010#010#010#010#010#010#010#010#010#010#010#010#010#010#010#010#010#010#010#010#010#010#010#010#010#010#010#010#010#010#010#010#010#010#010#010#010#010#010#010#010#010#010#010#010#010#010#010#01532384/54000 [================>.............] - ETA: 0s - loss: 0.4534 - accuracy: 0.8421 - precision: 0.8113 - recall: 0.6806 - f1_score: 0.7402#010#010#010#010#010#010#010#010#010#010#010#010#010#010#010#010#010#010#010#010#010#010#010#010#010#010#010#010#010#010#010#010#010#010#010#010#010#010#010#010#010#010#010#010#010#010#010#010#010#010#010#010#010#010#010#010#010#010#010#010#010#010#010#010#010#010#010#010#010#010#010#010#010#010#010#010#010#010#010#010#010#010#010#010#010#010#010#010#010#010#010#010#010#010#010#010#010#010#010#010#010#010#010#010#010#010#010#010#010#010#010#010#010#010#010#010#010#010#010#010#010#010#010#010#010#010#010#010#010#010#010#010#010#010#010#010#010#010#010#010#010#010#010#010#01533792/54000 [=================>............] - ETA: 0s - loss: 0.4539 - accuracy: 0.8421 - precision: 0.8114 - recall: 0.6813 - f1_score: 0.7407#010#010#010#010#010#010#010#010#010#010#010#010#010#010#010#010#010#010#010#010#010#010#010#010#010#010#010#010#010#010#010#010#010#010#010#010#010#010#010#010#010#010#010#010#010#010#010#010#010#010#010#010#010#010#010#010#010#010#010#010#010#010#010#010#010#010#010#010#010#010#010#010#010#010#010#010#010#010#010#010#010#010#010#010#010#010#010#010#010#010#010#010#010#010#010#010#010#010#010#010#010#010#010#010#010#010#010#010#010#010#010#010#010#010#010#010#010#010#010#010#010#010#010#010#010#010#010#010#010#010#010#010#010#010#010#010#010#010#010#010#010#010#010#010#01535200/54000 [==================>...........] - ETA: 0s - loss: 0.4528 - accuracy: 0.8425 - precision: 0.8115 - recall: 0.6821 - f1_score: 0.7411#010#010#010#010#010#010#010#010#010#010#010#010#010#010#010#010#010#010#010#010#010#010#010#010#010#010#010#010#010#010#010#010#010#010#010#010#010#010#010#010#010#010#010#010#010#010#010#010#010#010#010#010#010#010#010#010#010#010#010#010#010#010#010#010#010#010#010#010#010#010#010#010#010#010#010#010#010#010#010#010#010#010#010#010#010#010#010#010#010#010#010#010#010#010#010#010#010#010#010#010#010#010#010#010#010#010#010#010#010#010#010#010#010#010#010#010#010#010#010#010#010#010#010#010#010#010#010#010#010#010#010#010#010#010#010#010#010#010#010#010#010#010#010#010#01536864/54000 [===================>..........] - ETA: 0s - loss: 0.4527 - accuracy: 0.8424 - precision: 0.8116 - recall: 0.6829 - f1_score: 0.7417#010#010#010#010#010#010#010#010#010#010#010#010#010#010#010#010#010#010#010#010#010#010#010#010#010#010#010#010#010#010#010#010#010#010#010#010#010#010#010#010#010#010#010#010#010#010#010#010#010#010#010#010#010#010#010#010#010#010#010#010#010#010#010#010#010#010#010#010#010#010#010#010#010#010#010#010#010#010#010#010#010#010#010#010#010#010#010#010#010#010#010#010#010#010#010#010#010#010#010#010#010#010#010#010#010#010#010#010#010#010#010#010#010#010#010#010#010#010#010#010#010#010#010#010#010#010#010#010#010#010#010#010#010#010#010#010#010#010#010#010#010#010#010#010#01538528/54000 [====================>.........] - ETA: 0s - loss: 0.4528 - accuracy: 0.8427 - precision: 0.8118 - recall: 0.6838 - f1_score: 0.7422#010#010#010#010#010#010#010#010#010#010#010#010#010#010#010#010#010#010#010#010#010#010#010#010#010#010#010#010#010#010#010#010#010#010#010#010#010#010#010#010#010#010#010#010#010#010#010#010#010#010#010#010#010#010#010#010#010#010#010#010#010#010#010#010#010#010#010#010#010#010#010#010#010#010#010#010#010#010#010#010#010#010#010#010#010#010#010#010#010#010#010#010#010#010#010#010#010#010#010#010#010#010#010#010#010#010#010#010#010#010#010#010#010#010#010#010#010#010#010#010#010#010#010#010#010#010#010#010#010#010#010#010#010#010#010#010#010#010#010#010#010#010#010#010#01540192/54000 [=====================>........] - ETA: 0s - loss: 0.4530 - accuracy: 0.8422 - precision: 0.8119 - recall: 0.6846 - f1_score: 0.7428#010#010#010#010#010#010#010#010#010#010#010#010#010#010#010#010#010#010#010#010#010#010#010#010#010#010#010#010#010#010#010#010#010#010#010#010#010#010#010#010#010#010#010#010#010#010#010#010#010#010#010#010#010#010#010#010#010#010#010#010#010#010#010#010#010#010#010#010#010#010#010#010#010#010#010#010#010#010#010#010#010#010#010#010#010#010#010#010#010#010#010#010#010#010#010#010#010#010#010#010#010#010#010#010#010#010#010#010#010#010#010#010#010#010#010#010#010#010#010#010#010#010#010#010#010#010#010#010#010#010#010#010#010#010#010#010#010#010#010#010#010#010#010#010#01541856/54000 [======================>.......] - ETA: 0s - loss: 0.4519 - accuracy: 0.8429 - precision: 0.8120 - recall: 0.6854 - f1_score: 0.7433#010#010#010#010#010#010#010#010#010#010#010#010#010#010#010#010#010#010#010#010#010#010#010#010#010#010#010#010#010#010#010#010#010#010#010#010#010#010#010#010#010#010#010#010#010#010#010#010#010#010#010#010#010#010#010#010#010#010#010#010#010#010#010#010#010#010#010#010#010#010#010#010#010#010#010#010#010#010#010#010#010#010#010#010#010#010#010#010#010#010#010#010#010#010#010#010#010#010#010#010#010#010#010#010#010#010#010#010#010#010#010#010#010#010#010#010#010#010#010#010#010#010#010#010#010#010#010#010#010#010#010#010#010#010#010#010#010#010#010#010#010#010#010#010#01543648/54000 [=======================>......] - ETA: 0s - loss: 0.4505 - accuracy: 0.8432 - precision: 0.8121 - recall: 0.6862 - f1_score: 0.7438#010#010#010#010#010#010#010#010#010#010#010#010#010#010#010#010#010#010#010#010#010#010#010#010#010#010#010#010#010#010#010#010#010#010#010#010#010#010#010#010#010#010#010#010#010#010#010#010#010#010#010#010#010#010#010#010#010#010#010#010#010#010#010#010#010#010#010#010#010#010#010#010#010#010#010#010#010#010#010#010#010#010#010#010#010#010#010#010#010#010#010#010#010#010#010#010#010#010#010#010#010#010#010#010#010#010#010#010#010#010#010#010#010#010#010#010#010#010#010#010#010#010#010#010#010#010#010#010#010#010#010#010#010#010#010#010#010#010#010#010#010#010#010#010#01545312/54000 [========================>.....] - ETA: 0s - loss: 0.4511 - accuracy: 0.8428 - precision: 0.8122 - recall: 0.6869 - f1_score: 0.7443#010#010#010#010#010#010#010#010#010#010#010#010#010#010#010#010#010#010#010#010#010#010#010#010#010#010#010#010#010#010#010#010#010#010#010#010#010#010#010#010#010#010#010#010#010#010#010#010#010#010#010#010#010#010#010#010#010#010#010#010#010#010#010#010#010#010#010#010#010#010#010#010#010#010#010#010#010#010#010#010#010#010#010#010#010#010#010#010#010#010#010#010#010#010#010#010#010#010#010#010#010#010#010#010#010#010#010#010#010#010#010#010#010#010#010#010#010#010#010#010#010#010#010#010#010#010#010#010#010#010#010#010#010#010#010#010#010#010#010#010#010#010#010#010#01546976/54000 [=========================>....] - ETA: 0s - loss: 0.4498 - accuracy: 0.8434 - precision: 0.8122 - recall: 0.6876 - f1_score: 0.7447#010#010#010#010#010#010#010#010#010#010#010#010#010#010#010#010#010#010#010#010#010#010#010#010#010#010#010#010#010#010#010#010#010#010#010#010#010#010#010#010#010#010#010#010#010#010#010#010#010#010#010#010#010#010#010#010#010#010#010#010#010#010#010#010#010#010#010#010#010#010#010#010#010#010#010#010#010#010#010#010#010#010#010#010#010#010#010#010#010#010#010#010#010#010#010#010#010#010#010#010#010#010#010#010#010#010#010#010#010#010#010#010#010#010#010#010#010#010#010#010#010#010#010#010#010#010#010#010#010#010#010#010#010#010#010#010#010#010#010#010#010#010#010#010#01548640/54000 [==========================>...] - ETA: 0s - loss: 0.4486 - accuracy: 0.8438 - precision: 0.8123 - recall: 0.6883 - f1_score: 0.7451#010#010#010#010#010#010#010#010#010#010#010#010#010#010#010#010#010#010#010#010#010#010#010#010#010#010#010#010#010#010#010#010#010#010#010#010#010#010#010#010#010#010#010#010#010#010#010#010#010#010#010#010#010#010#010#010#010#010#010#010#010#010#010#010#010#010#010#010#010#010#010#010#010#010#010#010#010#010#010#010#010#010#010#010#010#010#010#010#010#010#010#010#010#010#010#010#010#010#010#010#010#010#010#010#010#010#010#010#010#010#010#010#010#010#010#010#010#010#010#010#010#010#010#010#010#010#010#010#010#010#010#010#010#010#010#010#010#010#010#010#010#010#010#010#01550432/54000 [===========================>..] - ETA: 0s - loss: 0.4485 - accuracy: 0.8438 - precision: 0.8124 - recall: 0.6890 - f1_score: 0.7455#010#010#010#010#010#010#010#010#010#010#010#010#010#010#010#010#010#010#010#010#010#010#010#010#010#010#010#010#010#010#010#010#010#010#010#010#010#010#010#010#010#010#010#010#010#010#010#010#010#010#010#010#010#010#010#010#010#010#010#010#010#010#010#010#010#010#010#010#010#010#010#010#010#010#010#010#010#010#010#010#010#010#010#010#010#010#010#010#010#010#010#010#010#010#010#010#010#010#010#010#010#010#010#010#010#010#010#010#010#010#010#010#010#010#010#010#010#010#010#010#010#010#010#010#010#010#010#010#010#010#010#010#010#010#010#010#010#010#010#010#010#010#010#010#01551712/54000 [===========================>..] - ETA: 0s - loss: 0.4469 - accuracy: 0.8443 - precision: 0.8124 - recall: 0.6895 - f1_score: 0.7458#010#010#010#010#010#010#010#010#010#010#010#010#010#010#010#010#010#010#010#010#010#010#010#010#010#010#010#010#010#010#010#010#010#010#010#010#010#010#010#010#010#010#010#010#010#010#010#010#010#010#010#010#010#010#010#010#010#010#010#010#010#010#010#010#010#010#010#010#010#010#010#010#010#010#010#010#010#010#010#010#010#010#010#010#010#010#010#010#010#010#010#010#010#010#010#010#010#010#010#010#010#010#010#010#010#010#010#010#010#010#010#010#010#010#010#010#010#010#010#010#010#010#010#010#010#010#010#010#010#010#010#010#010#010#010#010#010#010#010#010#010#010#010#010#01553376/54000 [============================>.] - ETA: 0s - loss: 0.4459 - accuracy: 0.8445 - precision: 0.8125 - recall: 0.6901 - f1_score: 0.7462#010#010#010#010#010#010#010#010#010#010#010#010#010#010#010#010#010#010#010#010#010#010#010#010#010#010#010#010#010#010#010#010#010#010#010#010#010#010#010#010#010#010#010#010#010#010#010#010#010#010#010#010#010#010#010#010#010#010#010#010#010#010#010#010#010#010#010#010#010#010#010#010#010#010#010#010#010#010#010#010#010#010#010#010#010#010#010#010#010#010#010#010#010#010#010#010#010#010#010#010#010#010#010#010#010#010#010#010#010#010#010#010#010#010#010#010#010#010#010#010#010#010#010#010#010#010#010#010#010#010#010#010#010#010#010#010#010#010#010#010#010#010#010#010#01554000/54000 [==============================] - 2s 36us/sample - loss: 0.4452 - accuracy: 0.8447 - precision: 0.8125 - recall: 0.6903 - f1_score: 0.7463 - val_loss: 0.4225 - val_accuracy: 0.8503 - val_precision: 0.8160 - val_recall: 0.7109 - val_f1_score: 0.7599\u001b[0m\n",
      "\u001b[34mEpoch 3/3\u001b[0m\n",
      "\u001b[34m#015  128/54000 [..............................] - ETA: 2s - loss: 0.3275 - accuracy: 0.8828 - precision: 0.8173 - recall: 0.7122 - f1_score: 0.7611#010#010#010#010#010#010#010#010#010#010#010#010#010#010#010#010#010#010#010#010#010#010#010#010#010#010#010#010#010#010#010#010#010#010#010#010#010#010#010#010#010#010#010#010#010#010#010#010#010#010#010#010#010#010#010#010#010#010#010#010#010#010#010#010#010#010#010#010#010#010#010#010#010#010#010#010#010#010#010#010#010#010#010#010#010#010#010#010#010#010#010#010#010#010#010#010#010#010#010#010#010#010#010#010#010#010#010#010#010#010#010#010#010#010#010#010#010#010#010#010#010#010#010#010#010#010#010#010#010#010#010#010#010#010#010#010#010#010#010#010#010#010#010#010#015 1792/54000 [..............................] - ETA: 1s - loss: 0.4113 - accuracy: 0.8449 - precision: 0.8169 - recall: 0.7120 - f1_score: 0.7609#010#010#010#010#010#010#010#010#010#010#010#010#010#010#010#010#010#010#010#010#010#010#010#010#010#010#010#010#010#010#010#010#010#010#010#010#010#010#010#010#010#010#010#010#010#010#010#010#010#010#010#010#010#010#010#010#010#010#010#010#010#010#010#010#010#010#010#010#010#010#010#010#010#010#010#010#010#010#010#010#010#010#010#010#010#010#010#010#010#010#010#010#010#010#010#010#010#010#010#010#010#010#010#010#010#010#010#010#010#010#010#010#010#010#010#010#010#010#010#010#010#010#010#010#010#010#010#010#010#010#010#010#010#010#010#010#010#010#010#010#010#010#010#010#015 3456/54000 [>.............................] - ETA: 1s - loss: 0.4117 - accuracy: 0.8539 - precision: 0.8172 - recall: 0.7125 - f1_score: 0.7613#010#010#010#010#010#010#010#010#010#010#010#010#010#010#010#010#010#010#010#010#010#010#010#010#010#010#010#010#010#010#010#010#010#010#010#010#010#010#010#010#010#010#010#010#010#010#010#010#010#010#010#010#010#010#010#010#010#010#010#010#010#010#010#010#010#010#010#010#010#010#010#010#010#010#010#010#010#010#010#010#010#010#010#010#010#010#010#010#010#010#010#010#010#010#010#010#010#010#010#010#010#010#010#010#010#010#010#010#010#010#010#010#010#010#010#010#010#010#010#010#010#010#010#010#010#010#010#010#010#010#010#010#010#010#010#010#010#010#010#010#010#010#010#010#015 4992/54000 [=>............................] - ETA: 1s - loss: 0.4134 - accuracy: 0.8516 - precision: 0.8172 - recall: 0.7130 - f1_score: 0.7616#010#010#010#010#010#010#010#010#010#010#010#010#010#010#010#010#010#010#010#010#010#010#010#010#010#010#010#010#010#010#010#010#010#010#010#010#010#010#010#010#010#010#010#010#010#010#010#010#010#010#010#010#010#010#010#010#010#010#010#010#010#010#010#010#010#010#010#010#010#010#010#010#010#010#010#010#010#010#010#010#010#010#010#010#010#010#010#010#010#010#010#010#010#010#010#010#010#010#010#010#010#010#010#010#010#010#010#010#010#010#010#010#010#010#010#010#010#010#010#010#010#010#010#010#010#010#010#010#010#010#010#010#010#010#010#010#010#010#010#010#010#010#010#010#015 6144/54000 [==>...........................] - ETA: 1s - loss: 0.4249 - accuracy: 0.8481 - precision: 0.8171 - recall: 0.7133 - f1_score: 0.7617#010#010#010#010#010#010#010#010#010#010#010#010#010#010#010#010#010#010#010#010#010#010#010#010#010#010#010#010#010#010#010#010#010#010#010#010#010#010#010#010#010#010#010#010#010#010#010#010#010#010#010#010#010#010#010#010#010#010#010#010#010#010#010#010#010#010#010#010#010#010#010#010#010#010#010#010#010#010#010#010#010#010#010#010#010#010#010#010#010#010#010#010#010#010#010#010#010#010#010#010#010#010#010#010#010#010#010#010#010#010#010#010#010#010#010#010#010#010#010#010#010#010#010#010#010#010#010#010#010#010#010#010#010#010#010#010#010#010#010#010#010#010#010#010#015 7680/54000 [===>..........................] - ETA: 1s - loss: 0.4207 - accuracy: 0.8508 - precision: 0.8170 - recall: 0.7137 - f1_score: 0.7619#010#010#010#010#010#010#010#010#010#010#010#010#010#010#010#010#010#010#010#010#010#010#010#010#010#010#010#010#010#010#010#010#010#010#010#010#010#010#010#010#010#010#010#010#010#010#010#010#010#010#010#010#010#010#010#010#010#010#010#010#010#010#010#010#010#010#010#010#010#010#010#010#010#010#010#010#010#010#010#010#010#010#010#010#010#010#010#010#010#010#010#010#010#010#010#010#010#010#010#010#010#010#010#010#010#010#010#010#010#010#010#010#010#010#010#010#010#010#010#010#010#010#010#010#010#010#010#010#010#010#010#010#010#010#010#010#010#010#010#010#010#010#010#010#015 9216/54000 [====>.........................] - ETA: 1s - loss: 0.4222 - accuracy: 0.8504 - precision: 0.8170 - recall: 0.7141 - f1_score: 0.7621#010#010#010#010#010#010#010#010#010#010#010#010#010#010#010#010#010#010#010#010#010#010#010#010#010#010#010#010#010#010#010#010#010#010#010#010#010#010#010#010#010#010#010#010#010#010#010#010#010#010#010#010#010#010#010#010#010#010#010#010#010#010#010#010#010#010#010#010#010#010#010#010#010#010#010#010#010#010#010#010#010#010#010#010#010#010#010#010#010#010#010#010#010#010#010#010#010#010#010#010#010#010#010#010#010#010#010#010#010#010#010#010#010#010#010#010#010#010#010#010#010#010#010#010#010#010#010#010#010#010#010#010#010#010#010#010#010#010#010#010#010#010#010#010#01510752/54000 [====>.........................] - ETA: 1s - loss: 0.4231 - accuracy: 0.8504 - precision: 0.8170 - recall: 0.7145 - f1_score: 0.7623#010#010#010#010#010#010#010#010#010#010#010#010#010#010#010#010#010#010#010#010#010#010#010#010#010#010#010#010#010#010#010#010#010#010#010#010#010#010#010#010#010#010#010#010#010#010#010#010#010#010#010#010#010#010#010#010#010#010#010#010#010#010#010#010#010#010#010#010#010#010#010#010#010#010#010#010#010#010#010#010#010#010#010#010#010#010#010#010#010#010#010#010#010#010#010#010#010#010#010#010#010#010#010#010#010#010#010#010#010#010#010#010#010#010#010#010#010#010#010#010#010#010#010#010#010#010#010#010#010#010#010#010#010#010#010#010#010#010#010#010#010#010#010#010#01512288/54000 [=====>........................] - ETA: 1s - loss: 0.4163 - accuracy: 0.8537 - precision: 0.8170 - recall: 0.7149 - f1_score: 0.7625#010#010#010#010#010#010#010#010#010#010#010#010#010#010#010#010#010#010#010#010#010#010#010#010#010#010#010#010#010#010#010#010#010#010#010#010#010#010#010#010#010#010#010#010#010#010#010#010#010#010#010#010#010#010#010#010#010#010#010#010#010#010#010#010#010#010#010#010#010#010#010#010#010#010#010#010#010#010#010#010#010#010#010#010#010#010#010#010#010#010#010#010#010#010#010#010#010#010#010#010#010#010#010#010#010#010#010#010#010#010#010#010#010#010#010#010#010#010#010#010#010#010#010#010#010#010#010#010#010#010#010#010#010#010#010#010#010#010#010#010#010#010#010#010#01513952/54000 [======>.......................] - ETA: 1s - loss: 0.4158 - accuracy: 0.8534 - precision: 0.8170 - recall: 0.7153 - f1_score: 0.7628#010#010#010#010#010#010#010#010#010#010#010#010#010#010#010#010#010#010#010#010#010#010#010#010#010#010#010#010#010#010#010#010#010#010#010#010#010#010#010#010#010#010#010#010#010#010#010#010#010#010#010#010#010#010#010#010#010#010#010#010#010#010#010#010#010#010#010#010#010#010#010#010#010#010#010#010#010#010#010#010#010#010#010#010#010#010#010#010#010#010#010#010#010#010#010#010#010#010#010#010#010#010#010#010#010#010#010#010#010#010#010#010#010#010#010#010#010#010#010#010#010#010#010#010#010#010#010#010#010#010#010#010#010#010#010#010#010#010#010#010#010#010#010#010#01515616/54000 [=======>......................] - ETA: 1s - loss: 0.4163 - accuracy: 0.8534 - precision: 0.8170 - recall: 0.7157 - f1_score: 0.7630#010#010#010#010#010#010#010#010#010#010#010#010#010#010#010#010#010#010#010#010#010#010#010#010#010#010#010#010#010#010#010#010#010#010#010#010#010#010#010#010#010#010#010#010#010#010#010#010#010#010#010#010#010#010#010#010#010#010#010#010#010#010#010#010#010#010#010#010#010#010#010#010#010#010#010#010#010#010#010#010#010#010#010#010#010#010#010#010#010#010#010#010#010#010#010#010#010#010#010#010#010#010#010#010#010#010#010#010#010#010#010#010#010#010#010#010#010#010#010#010#010#010#010#010#010#010#010#010#010#010#010#010#010#010#010#010#010#010#010#010#010#010#010#010#01517280/54000 [========>.....................] - ETA: 1s - loss: 0.4164 - accuracy: 0.8543 - precision: 0.8171 - recall: 0.7161 - f1_score: 0.7633#010#010#010#010#010#010#010#010#010#010#010#010#010#010#010#010#010#010#010#010#010#010#010#010#010#010#010#010#010#010#010#010#010#010#010#010#010#010#010#010#010#010#010#010#010#010#010#010#010#010#010#010#010#010#010#010#010#010#010#010#010#010#010#010#010#010#010#010#010#010#010#010#010#010#010#010#010#010#010#010#010#010#010#010#010#010#010#010#010#010#010#010#010#010#010#010#010#010#010#010#010#010#010#010#010#010#010#010#010#010#010#010#010#010#010#010#010#010#010#010#010#010#010#010#010#010#010#010#010#010#010#010#010#010#010#010#010#010#010#010#010#010#010#010#01518944/54000 [=========>....................] - ETA: 1s - loss: 0.4147 - accuracy: 0.8548 - precision: 0.8172 - recall: 0.7166 - f1_score: 0.7636#010#010#010#010#010#010#010#010#010#010#010#010#010#010#010#010#010#010#010#010#010#010#010#010#010#010#010#010#010#010#010#010#010#010#010#010#010#010#010#010#010#010#010#010#010#010#010#010#010#010#010#010#010#010#010#010#010#010#010#010#010#010#010#010#010#010#010#010#010#010#010#010#010#010#010#010#010#010#010#010#010#010#010#010#010#010#010#010#010#010#010#010#010#010#010#010#010#010#010#010#010#010#010#010#010#010#010#010#010#010#010#010#010#010#010#010#010#010#010#010#010#010#010#010#010#010#010#010#010#010#010#010#010#010#010#010#010#010#010#010#010#010#010#010#01520352/54000 [==========>...................] - ETA: 1s - loss: 0.4150 - accuracy: 0.8558 - precision: 0.8173 - recall: 0.7171 - f1_score: 0.7639#010#010#010#010#010#010#010#010#010#010#010#010#010#010#010#010#010#010#010#010#010#010#010#010#010#010#010#010#010#010#010#010#010#010#010#010#010#010#010#010#010#010#010#010#010#010#010#010#010#010#010#010#010#010#010#010#010#010#010#010#010#010#010#010#010#010#010#010#010#010#010#010#010#010#010#010#010#010#010#010#010#010#010#010#010#010#010#010#010#010#010#010#010#010#010#010#010#010#010#010#010#010#010#010#010#010#010#010#010#010#010#010#010#010#010#010#010#010#010#010#010#010#010#010#010#010#010#010#010#010#010#010#010#010#010#010#010#010#010#010#010#010#010#010#01522016/54000 [===========>..................] - ETA: 1s - loss: 0.4167 - accuracy: 0.8553 - precision: 0.8175 - recall: 0.7175 - f1_score: 0.7643#010#010#010#010#010#010#010#010#010#010#010#010#010#010#010#010#010#010#010#010#010#010#010#010#010#010#010#010#010#010#010#010#010#010#010#010#010#010#010#010#010#010#010#010#010#010#010#010#010#010#010#010#010#010#010#010#010#010#010#010#010#010#010#010#010#010#010#010#010#010#010#010#010#010#010#010#010#010#010#010#010#010#010#010#010#010#010#010#010#010#010#010#010#010#010#010#010#010#010#010#010#010#010#010#010#010#010#010#010#010#010#010#010#010#010#010#010#010#010#010#010#010#010#010#010#010#010#010#010#010#010#010#010#010#010#010#010#010#010#010#010#010#010#010#01522912/54000 [===========>..................] - ETA: 1s - loss: 0.4147 - accuracy: 0.8557 - precision: 0.8176 - recall: 0.7178 - f1_score: 0.7644#010#010#010#010#010#010#010#010#010#010#010#010#010#010#010#010#010#010#010#010#010#010#010#010#010#010#010#010#010#010#010#010#010#010#010#010#010#010#010#010#010#010#010#010#010#010#010#010#010#010#010#010#010#010#010#010#010#010#010#010#010#010#010#010#010#010#010#010#010#010#010#010#010#010#010#010#010#010#010#010#010#010#010#010#010#010#010#010#010#010#010#010#010#010#010#010#010#010#010#010#010#010#010#010#010#010#010#010#010#010#010#010#010#010#010#010#010#010#010#010#010#010#010#010#010#010#010#010#010#010#010#010#010#010#010#010#010#010#010#010#010#010#010#010#01524320/54000 [============>.................] - ETA: 1s - loss: 0.4149 - accuracy: 0.8554 - precision: 0.8176 - recall: 0.7182 - f1_score: 0.7647#010#010#010#010#010#010#010#010#010#010#010#010#010#010#010#010#010#010#010#010#010#010#010#010#010#010#010#010#010#010#010#010#010#010#010#010#010#010#010#010#010#010#010#010#010#010#010#010#010#010#010#010#010#010#010#010#010#010#010#010#010#010#010#010#010#010#010#010#010#010#010#010#010#010#010#010#010#010#010#010#010#010#010#010#010#010#010#010#010#010#010#010#010#010#010#010#010#010#010#010#010#010#010#010#010#010#010#010#010#010#010#010#010#010#010#010#010#010#010#010#010#010#010#010#010#010#010#010#010#010#010#010#010#010#010#010#010#010#010#010#010#010#010#010#01525856/54000 [=============>................] - ETA: 0s - loss: 0.4152 - accuracy: 0.8548 - precision: 0.8178 - recall: 0.7186 - f1_score: 0.7650#010#010#010#010#010#010#010#010#010#010#010#010#010#010#010#010#010#010#010#010#010#010#010#010#010#010#010#010#010#010#010#010#010#010#010#010#010#010#010#010#010#010#010#010#010#010#010#010#010#010#010#010#010#010#010#010#010#010#010#010#010#010#010#010#010#010#010#010#010#010#010#010#010#010#010#010#010#010#010#010#010#010#010#010#010#010#010#010#010#010#010#010#010#010#010#010#010#010#010#010#010#010#010#010#010#010#010#010#010#010#010#010#010#010#010#010#010#010#010#010#010#010#010#010#010#010#010#010#010#010#010#010#010#010#010#010#010#010#010#010#010#010#010#010#01527392/54000 [==============>...............] - ETA: 0s - loss: 0.4132 - accuracy: 0.8556 - precision: 0.8179 - recall: 0.7189 - f1_score: 0.7652#010#010#010#010#010#010#010#010#010#010#010#010#010#010#010#010#010#010#010#010#010#010#010#010#010#010#010#010#010#010#010#010#010#010#010#010#010#010#010#010#010#010#010#010#010#010#010#010#010#010#010#010#010#010#010#010#010#010#010#010#010#010#010#010#010#010#010#010#010#010#010#010#010#010#010#010#010#010#010#010#010#010#010#010#010#010#010#010#010#010#010#010#010#010#010#010#010#010#010#010#010#010#010#010#010#010#010#010#010#010#010#010#010#010#010#010#010#010#010#010#010#010#010#010#010#010#010#010#010#010#010#010#010#010#010#010#010#010#010#010#010#010#010#010#01529056/54000 [===============>..............] - ETA: 0s - loss: 0.4129 - accuracy: 0.8562 - precision: 0.8180 - recall: 0.7193 - f1_score: 0.7655#010#010#010#010#010#010#010#010#010#010#010#010#010#010#010#010#010#010#010#010#010#010#010#010#010#010#010#010#010#010#010#010#010#010#010#010#010#010#010#010#010#010#010#010#010#010#010#010#010#010#010#010#010#010#010#010#010#010#010#010#010#010#010#010#010#010#010#010#010#010#010#010#010#010#010#010#010#010#010#010#010#010#010#010#010#010#010#010#010#010#010#010#010#010#010#010#010#010#010#010#010#010#010#010#010#010#010#010#010#010#010#010#010#010#010#010#010#010#010#010#010#010#010#010#010#010#010#010#010#010#010#010#010#010#010#010#010#010#010#010#010#010#010#010#01530720/54000 [================>.............] - ETA: 0s - loss: 0.4133 - accuracy: 0.8564 - precision: 0.8181 - recall: 0.7198 - f1_score: 0.7658#010#010#010#010#010#010#010#010#010#010#010#010#010#010#010#010#010#010#010#010#010#010#010#010#010#010#010#010#010#010#010#010#010#010#010#010#010#010#010#010#010#010#010#010#010#010#010#010#010#010#010#010#010#010#010#010#010#010#010#010#010#010#010#010#010#010#010#010#010#010#010#010#010#010#010#010#010#010#010#010#010#010#010#010#010#010#010#010#010#010#010#010#010#010#010#010#010#010#010#010#010#010#010#010#010#010#010#010#010#010#010#010#010#010#010#010#010#010#010#010#010#010#010#010#010#010#010#010#010#010#010#010#010#010#010#010#010#010#010#010#010#010#010#010#01532384/54000 [================>.............] - ETA: 0s - loss: 0.4124 - accuracy: 0.8567 - precision: 0.8182 - recall: 0.7202 - f1_score: 0.7661#010#010#010#010#010#010#010#010#010#010#010#010#010#010#010#010#010#010#010#010#010#010#010#010#010#010#010#010#010#010#010#010#010#010#010#010#010#010#010#010#010#010#010#010#010#010#010#010#010#010#010#010#010#010#010#010#010#010#010#010#010#010#010#010#010#010#010#010#010#010#010#010#010#010#010#010#010#010#010#010#010#010#010#010#010#010#010#010#010#010#010#010#010#010#010#010#010#010#010#010#010#010#010#010#010#010#010#010#010#010#010#010#010#010#010#010#010#010#010#010#010#010#010#010#010#010#010#010#010#010#010#010#010#010#010#010#010#010#010#010#010#010#010#010#01534048/54000 [=================>............] - ETA: 0s - loss: 0.4102 - accuracy: 0.8572 - precision: 0.8183 - recall: 0.7206 - f1_score: 0.7663#010#010#010#010#010#010#010#010#010#010#010#010#010#010#010#010#010#010#010#010#010#010#010#010#010#010#010#010#010#010#010#010#010#010#010#010#010#010#010#010#010#010#010#010#010#010#010#010#010#010#010#010#010#010#010#010#010#010#010#010#010#010#010#010#010#010#010#010#010#010#010#010#010#010#010#010#010#010#010#010#010#010#010#010#010#010#010#010#010#010#010#010#010#010#010#010#010#010#010#010#010#010#010#010#010#010#010#010#010#010#010#010#010#010#010#010#010#010#010#010#010#010#010#010#010#010#010#010#010#010#010#010#010#010#010#010#010#010#010#010#010#010#010#010#01535328/54000 [==================>...........] - ETA: 0s - loss: 0.4112 - accuracy: 0.8566 - precision: 0.8183 - recall: 0.7208 - f1_score: 0.7665#010#010#010#010#010#010#010#010#010#010#010#010#010#010#010#010#010#010#010#010#010#010#010#010#010#010#010#010#010#010#010#010#010#010#010#010#010#010#010#010#010#010#010#010#010#010#010#010#010#010#010#010#010#010#010#010#010#010#010#010#010#010#010#010#010#010#010#010#010#010#010#010#010#010#010#010#010#010#010#010#010#010#010#010#010#010#010#010#010#010#010#010#010#010#010#010#010#010#010#010#010#010#010#010#010#010#010#010#010#010#010#010#010#010#010#010#010#010#010#010#010#010#010#010#010#010#010#010#010#010#010#010#010#010#010#010#010#010#010#010#010#010#010#010#01536992/54000 [===================>..........] - ETA: 0s - loss: 0.4120 - accuracy: 0.8560 - precision: 0.8184 - recall: 0.7212 - f1_score: 0.7667#010#010#010#010#010#010#010#010#010#010#010#010#010#010#010#010#010#010#010#010#010#010#010#010#010#010#010#010#010#010#010#010#010#010#010#010#010#010#010#010#010#010#010#010#010#010#010#010#010#010#010#010#010#010#010#010#010#010#010#010#010#010#010#010#010#010#010#010#010#010#010#010#010#010#010#010#010#010#010#010#010#010#010#010#010#010#010#010#010#010#010#010#010#010#010#010#010#010#010#010#010#010#010#010#010#010#010#010#010#010#010#010#010#010#010#010#010#010#010#010#010#010#010#010#010#010#010#010#010#010#010#010#010#010#010#010#010#010#010#010#010#010#010#010#01538400/54000 [====================>.........] - ETA: 0s - loss: 0.4127 - accuracy: 0.8558 - precision: 0.8184 - recall: 0.7215 - f1_score: 0.7669#010#010#010#010#010#010#010#010#010#010#010#010#010#010#010#010#010#010#010#010#010#010#010#010#010#010#010#010#010#010#010#010#010#010#010#010#010#010#010#010#010#010#010#010#010#010#010#010#010#010#010#010#010#010#010#010#010#010#010#010#010#010#010#010#010#010#010#010#010#010#010#010#010#010#010#010#010#010#010#010#010#010#010#010#010#010#010#010#010#010#010#010#010#010#010#010#010#010#010#010#010#010#010#010#010#010#010#010#010#010#010#010#010#010#010#010#010#010#010#010#010#010#010#010#010#010#010#010#010#010#010#010#010#010#010#010#010#010#010#010#010#010#010#010#01540064/54000 [=====================>........] - ETA: 0s - loss: 0.4124 - accuracy: 0.8560 - precision: 0.8184 - recall: 0.7219 - f1_score: 0.7671#010#010#010#010#010#010#010#010#010#010#010#010#010#010#010#010#010#010#010#010#010#010#010#010#010#010#010#010#010#010#010#010#010#010#010#010#010#010#010#010#010#010#010#010#010#010#010#010#010#010#010#010#010#010#010#010#010#010#010#010#010#010#010#010#010#010#010#010#010#010#010#010#010#010#010#010#010#010#010#010#010#010#010#010#010#010#010#010#010#010#010#010#010#010#010#010#010#010#010#010#010#010#010#010#010#010#010#010#010#010#010#010#010#010#010#010#010#010#010#010#010#010#010#010#010#010#010#010#010#010#010#010#010#010#010#010#010#010#010#010#010#010#010#010#01541728/54000 [======================>.......] - ETA: 0s - loss: 0.4115 - accuracy: 0.8564 - precision: 0.8184 - recall: 0.7222 - f1_score: 0.7673#010#010#010#010#010#010#010#010#010#010#010#010#010#010#010#010#010#010#010#010#010#010#010#010#010#010#010#010#010#010#010#010#010#010#010#010#010#010#010#010#010#010#010#010#010#010#010#010#010#010#010#010#010#010#010#010#010#010#010#010#010#010#010#010#010#010#010#010#010#010#010#010#010#010#010#010#010#010#010#010#010#010#010#010#010#010#010#010#010#010#010#010#010#010#010#010#010#010#010#010#010#010#010#010#010#010#010#010#010#010#010#010#010#010#010#010#010#010#010#010#010#010#010#010#010#010#010#010#010#010#010#010#010#010#010#010#010#010#010#010#010#010#010#010#01543392/54000 [=======================>......] - ETA: 0s - loss: 0.4109 - accuracy: 0.8566 - precision: 0.8185 - recall: 0.7225 - f1_score: 0.7675#010#010#010#010#010#010#010#010#010#010#010#010#010#010#010#010#010#010#010#010#010#010#010#010#010#010#010#010#010#010#010#010#010#010#010#010#010#010#010#010#010#010#010#010#010#010#010#010#010#010#010#010#010#010#010#010#010#010#010#010#010#010#010#010#010#010#010#010#010#010#010#010#010#010#010#010#010#010#010#010#010#010#010#010#010#010#010#010#010#010#010#010#010#010#010#010#010#010#010#010#010#010#010#010#010#010#010#010#010#010#010#010#010#010#010#010#010#010#010#010#010#010#010#010#010#010#010#010#010#010#010#010#010#010#010#010#010#010#010#010#010#010#010#010#01545056/54000 [========================>.....] - ETA: 0s - loss: 0.4100 - accuracy: 0.8565 - precision: 0.8185 - recall: 0.7228 - f1_score: 0.7677#010#010#010#010#010#010#010#010#010#010#010#010#010#010#010#010#010#010#010#010#010#010#010#010#010#010#010#010#010#010#010#010#010#010#010#010#010#010#010#010#010#010#010#010#010#010#010#010#010#010#010#010#010#010#010#010#010#010#010#010#010#010#010#010#010#010#010#010#010#010#010#010#010#010#010#010#010#010#010#010#010#010#010#010#010#010#010#010#010#010#010#010#010#010#010#010#010#010#010#010#010#010#010#010#010#010#010#010#010#010#010#010#010#010#010#010#010#010#010#010#010#010#010#010#010#010#010#010#010#010#010#010#010#010#010#010#010#010#010#010#010#010#010#010#01546592/54000 [========================>.....] - ETA: 0s - loss: 0.4098 - accuracy: 0.8564 - precision: 0.8185 - recall: 0.7231 - f1_score: 0.7678#010#010#010#010#010#010#010#010#010#010#010#010#010#010#010#010#010#010#010#010#010#010#010#010#010#010#010#010#010#010#010#010#010#010#010#010#010#010#010#010#010#010#010#010#010#010#010#010#010#010#010#010#010#010#010#010#010#010#010#010#010#010#010#010#010#010#010#010#010#010#010#010#010#010#010#010#010#010#010#010#010#010#010#010#010#010#010#010#010#010#010#010#010#010#010#010#010#010#010#010#010#010#010#010#010#010#010#010#010#010#010#010#010#010#010#010#010#010#010#010#010#010#010#010#010#010#010#010#010#010#010#010#010#010#010#010#010#010#010#010#010#010#010#010#01548128/54000 [=========================>....] - ETA: 0s - loss: 0.4088 - accuracy: 0.8566 - precision: 0.8185 - recall: 0.7234 - f1_score: 0.7680#010#010#010#010#010#010#010#010#010#010#010#010#010#010#010#010#010#010#010#010#010#010#010#010#010#010#010#010#010#010#010#010#010#010#010#010#010#010#010#010#010#010#010#010#010#010#010#010#010#010#010#010#010#010#010#010#010#010#010#010#010#010#010#010#010#010#010#010#010#010#010#010#010#010#010#010#010#010#010#010#010#010#010#010#010#010#010#010#010#010#010#010#010#010#010#010#010#010#010#010#010#010#010#010#010#010#010#010#010#010#010#010#010#010#010#010#010#010#010#010#010#010#010#010#010#010#010#010#010#010#010#010#010#010#010#010#010#010#010#010#010#010#010#010#01549664/54000 [==========================>...] - ETA: 0s - loss: 0.4077 - accuracy: 0.8570 - precision: 0.8185 - recall: 0.7237 - f1_score: 0.7682#010#010#010#010#010#010#010#010#010#010#010#010#010#010#010#010#010#010#010#010#010#010#010#010#010#010#010#010#010#010#010#010#010#010#010#010#010#010#010#010#010#010#010#010#010#010#010#010#010#010#010#010#010#010#010#010#010#010#010#010#010#010#010#010#010#010#010#010#010#010#010#010#010#010#010#010#010#010#010#010#010#010#010#010#010#010#010#010#010#010#010#010#010#010#010#010#010#010#010#010#010#010#010#010#010#010#010#010#010#010#010#010#010#010#010#010#010#010#010#010#010#010#010#010#010#010#010#010#010#010#010#010#010#010#010#010#010#010#010#010#010#010#010#010#01551200/54000 [===========================>..] - ETA: 0s - loss: 0.4070 - accuracy: 0.8576 - precision: 0.8185 - recall: 0.7240 - f1_score: 0.7683#010#010#010#010#010#010#010#010#010#010#010#010#010#010#010#010#010#010#010#010#010#010#010#010#010#010#010#010#010#010#010#010#010#010#010#010#010#010#010#010#010#010#010#010#010#010#010#010#010#010#010#010#010#010#010#010#010#010#010#010#010#010#010#010#010#010#010#010#010#010#010#010#010#010#010#010#010#010#010#010#010#010#010#010#010#010#010#010#010#010#010#010#010#010#010#010#010#010#010#010#010#010#010#010#010#010#010#010#010#010#010#010#010#010#010#010#010#010#010#010#010#010#010#010#010#010#010#010#010#010#010#010#010#010#010#010#010#010#010#010#010#010#010#010#01552864/54000 [============================>.] - ETA: 0s - loss: 0.4070 - accuracy: 0.8576 - precision: 0.8185 - recall: 0.7243 - f1_score: 0.7685#010#010#010#010#010#010#010#010#010#010#010#010#010#010#010#010#010#010#010#010#010#010#010#010#010#010#010#010#010#010#010#010#010#010#010#010#010#010#010#010#010#010#010#010#010#010#010#010#010#010#010#010#010#010#010#010#010#010#010#010#010#010#010#010#010#010#010#010#010#010#010#010#010#010#010#010#010#010#010#010#010#010#010#010#010#010#010#010#010#010#010#010#010#010#010#010#010#010#010#010#010#010#010#010#010#010#010#010#010#010#010#010#010#010#010#010#010#010#010#010#010#010#010#010#010#010#010#010#010#010#010#010#010#010#010#010#010#010#010#010#010#010#010#010#01553248/54000 [============================>.] - ETA: 0s - loss: 0.4068 - accuracy: 0.8576 - precision: 0.8185 - recall: 0.7244 - f1_score: 0.7686#010#010#010#010#010#010#010#010#010#010#010#010#010#010#010#010#010#010#010#010#010#010#010#010#010#010#010#010#010#010#010#010#010#010#010#010#010#010#010#010#010#010#010#010#010#010#010#010#010#010#010#010#010#010#010#010#010#010#010#010#010#010#010#010#010#010#010#010#010#010#010#010#010#010#010#010#010#010#010#010#010#010#010#010#010#010#010#010#010#010#010#010#010#010#010#010#010#010#010#010#010#010#010#010#010#010#010#010#010#010#010#010#010#010#010#010#010#010#010#010#010#010#010#010#010#010#010#010#010#010#010#010#010#010#010#010#010#010#010#010#010#010#010#010#01553760/54000 [============================>.] - ETA: 0s - loss: 0.4064 - accuracy: 0.8576 - precision: 0.8186 - recall: 0.7245 - f1_score: 0.7686#010#010#010#010#010#010#010#010#010#010#010#010#010#010#010#010#010#010#010#010#010#010#010#010#010#010#010#010#010#010#010#010#010#010#010#010#010#010#010#010#010#010#010#010#010#010#010#010#010#010#010#010#010#010#010#010#010#010#010#010#010#010#010#010#010#010#010#010#010#010#010#010#010#010#010#010#010#010#010#010#010#010#010#010#010#010#010#010#010#010#010#010#010#010#010#010#010#010#010#010#010#010#010#010#010#010#010#010#010#010#010#010#010#010#010#010#010#010#010#010#010#010#010#010#010#010#010#010#010#010#010#010#010#010#010#010#010#010#010#010#010#010#010#010#01554000/54000 [==============================] - 2s 38us/sample - loss: 0.4061 - accuracy: 0.8578 - precision: 0.8186 - recall: 0.7245 - f1_score: 0.7687 - val_loss: 0.4011 - val_accuracy: 0.8573 - val_precision: 0.8185 - val_recall: 0.7367 - val_f1_score: 0.7754\u001b[0m\n",
      "\u001b[34mModel: \"sequential\"\u001b[0m\n",
      "\u001b[34m_________________________________________________________________\u001b[0m\n",
      "\u001b[34mLayer (type)                 Output Shape              Param #   \u001b[0m\n",
      "\u001b[34m=================================================================\u001b[0m\n",
      "\u001b[34mflatten (Flatten)            multiple                  0         \u001b[0m\n",
      "\u001b[34m_________________________________________________________________\u001b[0m\n",
      "\u001b[34mdense (Dense)                multiple                  50240     \u001b[0m\n",
      "\u001b[34m_________________________________________________________________\u001b[0m\n",
      "\u001b[34mdense_1 (Dense)              multiple                  2080      \u001b[0m\n",
      "\u001b[34m_________________________________________________________________\u001b[0m\n",
      "\u001b[34mdense_2 (Dense)              multiple                  330       \u001b[0m\n",
      "\u001b[34m=================================================================\u001b[0m\n",
      "\u001b[34mTotal params: 52,650\u001b[0m\n",
      "\u001b[34mTrainable params: 52,650\u001b[0m\n",
      "\u001b[34mNon-trainable params: 0\u001b[0m\n",
      "\u001b[34m_________________________________________________________________\u001b[0m\n",
      "\u001b[34mNone\u001b[0m\n"
     ]
    },
    {
     "name": "stdout",
     "output_type": "stream",
     "text": [
      "\u001b[34mValidation loss    : 0.42637978751659394\u001b[0m\n",
      "\u001b[34mValidation accuracy: 0.8495\u001b[0m\n",
      "\u001b[34m2021-05-13 08:51:18.460754: W tensorflow/python/util/util.cc:319] Sets are not currently considered sequences, but this may change in the future, so consider avoiding using them.\u001b[0m\n",
      "\u001b[34mWARNING:tensorflow:From /usr/local/lib/python3.6/dist-packages/tensorflow_core/python/ops/resource_variable_ops.py:1786: calling BaseResourceVariable.__init__ (from tensorflow.python.ops.resource_variable_ops) with constraint is deprecated and will be removed in a future version.\u001b[0m\n",
      "\u001b[34mInstructions for updating:\u001b[0m\n",
      "\u001b[34mIf using Keras pass *_constraint arguments to layers.\u001b[0m\n",
      "\u001b[34mWARNING:tensorflow:From /usr/local/lib/python3.6/dist-packages/tensorflow_core/python/ops/resource_variable_ops.py:1786: calling BaseResourceVariable.__init__ (from tensorflow.python.ops.resource_variable_ops) with constraint is deprecated and will be removed in a future version.\u001b[0m\n",
      "\u001b[34mInstructions for updating:\u001b[0m\n",
      "\u001b[34mIf using Keras pass *_constraint arguments to layers.\u001b[0m\n",
      "\u001b[34mINFO:tensorflow:Assets written to: /opt/ml/model/1/assets\u001b[0m\n",
      "\u001b[34mINFO:tensorflow:Assets written to: /opt/ml/model/1/assets\u001b[0m\n",
      "\u001b[34m[2021-05-13 08:51:18.909 ip-10-0-162-104.ap-southeast-2.compute.internal:28 INFO utils.py:25] The end of training job file will not be written for jobs running under SageMaker.\u001b[0m\n",
      "\u001b[34m2021-05-13 08:51:19,431 sagemaker-containers INFO     Reporting training SUCCESS\u001b[0m\n",
      "\n",
      "2021-05-13 08:51:41 Uploading - Uploading generated training model\n",
      "2021-05-13 08:51:41 Completed - Training job completed\n",
      "Training seconds: 65\n",
      "Billable seconds: 18\n",
      "Managed Spot Training savings: 72.3%\n"
     ]
    }
   ],
   "source": [
    "tf_estimator.fit({'training': training_input_path, 'validation': test_input_path})   "
   ]
  },
  {
   "cell_type": "markdown",
   "metadata": {},
   "source": [
    "### Deploy the model\n",
    "\n",
    "- Model deployment means to expose the model to real use.\n",
    "- This means you can make inferences or predictions using your model, \n",
    "- The model is deployed in an EC2 instance \n",
    "- Deployment is via Amazon SageMaker endpoints – an Amazon SageMaker endpoint is a fully managed service that allows you to make real-time inferences via a REST API. \n",
    "\n"
   ]
  },
  {
   "cell_type": "code",
   "execution_count": 17,
   "metadata": {},
   "outputs": [
    {
     "name": "stderr",
     "output_type": "stream",
     "text": [
      "update_endpoint is a no-op in sagemaker>=2.\n",
      "See: https://sagemaker.readthedocs.io/en/stable/v2.html for details.\n"
     ]
    },
    {
     "name": "stdout",
     "output_type": "stream",
     "text": [
      "-------------!"
     ]
    }
   ],
   "source": [
    "import time\n",
    "\n",
    "tf_endpoint_name = 'keras-tf-fmnist-'+time.strftime(\"%Y-%m-%d-%H-%M-%S\", time.gmtime()) #give the endpoint a name.\n",
    "#used the time and date from the time library\n",
    "\n",
    "#deploy() Deploys the Model to an Endpoint and optionally return a Predictor.\n",
    "tf_predictor = tf_estimator.deploy(initial_instance_count=1, # The initial number of instances to run in the Endpoint created from this Model.\n",
    "                                   instance_type='ml.m4.xlarge', # The EC2 instance type to deploy this Model to.\n",
    "                                   endpoint_name=tf_endpoint_name) # The name of the endpoint to create     "
   ]
  },
  {
   "cell_type": "markdown",
   "metadata": {},
   "source": [
    "### Prediction exercise\n"
   ]
  },
  {
   "cell_type": "code",
   "execution_count": 18,
   "metadata": {},
   "outputs": [
    {
     "name": "stdout",
     "output_type": "stream",
     "text": [
      "[[9.09648370e-03 2.31886120e-03 3.85227939e-03 6.13034889e-03\n",
      "  6.18623570e-04 8.95465791e-01 4.74554813e-03 5.64219318e-02\n",
      "  8.18474591e-03 1.31653426e-02]\n",
      " [1.49433297e-04 2.62322756e-05 1.21041021e-05 8.75733895e-06\n",
      "  1.76503000e-06 4.97946236e-03 8.86180000e-05 9.53699172e-01\n",
      "  4.01310157e-04 4.06331047e-02]\n",
      " [3.74274552e-02 5.36061311e-03 7.80310392e-01 1.00848908e-02\n",
      "  5.45848757e-02 8.97777849e-04 8.63694000e-02 2.89916370e-05\n",
      "  2.48042066e-02 1.31371504e-04]\n",
      " [2.36719614e-03 5.92323879e-08 3.87049193e-04 8.08104517e-07\n",
      "  1.81694000e-03 4.92941794e-08 3.42829735e-03 1.64965385e-07\n",
      "  9.91999090e-01 1.60364252e-07]\n",
      " [6.82571681e-07 1.84371665e-08 4.59264049e-09 1.57821827e-08\n",
      "  4.64155714e-10 2.62800464e-03 3.75045808e-08 6.75755925e-03\n",
      "  5.16541058e-06 9.90608573e-01]\n",
      " [7.72682085e-07 4.91595742e-08 5.74235859e-09 7.06382863e-09\n",
      "  2.44791604e-10 1.12660811e-03 4.72965027e-08 1.07196786e-01\n",
      "  2.06817299e-06 8.91673684e-01]\n",
      " [3.25126084e-03 3.70586501e-03 2.07151985e-03 9.85282421e-01\n",
      "  2.78530526e-03 1.23652120e-04 7.23761099e-04 1.79151903e-04\n",
      "  9.92467511e-04 8.84615409e-04]\n",
      " [1.74151069e-06 2.51973500e-08 5.55255042e-09 1.03764766e-08\n",
      "  1.78754886e-10 1.60786250e-04 6.82669494e-08 1.41418790e-02\n",
      "  6.14233000e-06 9.85689402e-01]\n",
      " [5.38240874e-06 1.52658060e-07 3.59171608e-08 4.83472213e-08\n",
      "  8.35635172e-10 4.42779250e-03 1.59196674e-07 8.49566516e-03\n",
      "  2.92967684e-06 9.87067878e-01]\n",
      " [1.78823024e-02 5.44885360e-03 2.56438017e-01 2.27812976e-02\n",
      "  6.52157307e-01 1.09945158e-05 4.25673053e-02 1.22027268e-06\n",
      "  2.71216733e-03 5.22541825e-07]]\n",
      "Predicted labels are: [5 7 2 8 9 9 3 9 9 4]\n"
     ]
    },
    {
     "data": {
      "image/png": "[encoded data removed]",
      "text/plain": [
       "<Figure size 432x288 with 10 Axes>"
      ]
     },
     "metadata": {
      "needs_background": "light"
     },
     "output_type": "display_data"
    }
   ],
   "source": [
    "  %matplotlib inline\n",
    "import random #random number generator for random sampling\n",
    "import matplotlib.pyplot as plt #for plotting\n",
    "\n",
    "#select 10 of the test samples (images) randomly\n",
    "num_samples = 10\n",
    "indices = random.sample(range(x_val.shape[0] - 1), num_samples)\n",
    "images = x_val[indices]/255\n",
    "labels = y_val[indices]\n",
    "\n",
    "for i in range(num_samples): #plot them with their labels \n",
    "    plt.subplot(1,num_samples,i+1)\n",
    "    plt.imshow(images[i].reshape(28, 28), cmap='gray')\n",
    "    plt.title(labels[i])\n",
    "    plt.axis('off')\n",
    "    \n",
    "# Generate predictions for those random test images\n",
    "# Apply the preductor() function to a Predictor oject\n",
    "# It returns inferences for the given input - in this case the images\n",
    "\n",
    "prediction = tf_predictor.predict(images.reshape(num_samples, 28, 28, 1))['predictions']\n",
    "prediction = np.array(prediction) #save the predictions as a np.array (softmax decimal probabilties)\n",
    "print(prediction)\n",
    "predicted_labels = prediction.argmax(axis=1) #use argmax to turn the predictions into class labels\n",
    "print('Predicted labels are: {}'.format(predicted_labels)) # print out the labels"
   ]
  },
  {
   "cell_type": "markdown",
   "metadata": {},
   "source": [
    "### Delete the endpoint\n",
    "\n",
    "Remember to delete the endpoint when you are not using to avoid unnecessary surcharge from AWS."
   ]
  },
  {
   "cell_type": "code",
   "execution_count": 19,
   "metadata": {},
   "outputs": [],
   "source": [
    "tf_predictor.delete_endpoint()"
   ]
  },
  {
   "cell_type": "code",
   "execution_count": null,
   "metadata": {},
   "outputs": [],
   "source": []
  }
 ],
 "metadata": {
  "kernelspec": {
   "display_name": "conda_tensorflow_p36",
   "language": "python",
   "name": "conda_tensorflow_p36"
  },
  "language_info": {
   "codemirror_mode": {
    "name": "ipython",
    "version": 3
   },
   "file_extension": ".py",
   "mimetype": "text/x-python",
   "name": "python",
   "nbconvert_exporter": "python",
   "pygments_lexer": "ipython3",
   "version": "3.6.13"
  }
 },
 "nbformat": 4,
 "nbformat_minor": 4
}
