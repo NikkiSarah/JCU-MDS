{
 "cells": [
  {
   "cell_type": "markdown",
   "metadata": {},
   "source": [
    "#  Week 3: Hyperparameter optimisation With Neural Networks in AWS SageMaker\n",
    "\n",
    "This week we will focus on:\n",
    "\n",
    "1. Clarify AWS Sagemaker and Why we might want to use it\n",
    "2. How to implement hyperparmeter optimisation (HPO) on AWS SageMaker\n",
    "3. How to deploy the best model from HPO. \n",
    "\n",
    "## Hyperparameters: \n",
    "    \n",
    "There are **3** different types of hyperparameters:  \n",
    "   + Categorical parameters  are defined by passing the list of possible values to **CategoricalParameter(list)**\n",
    "   + Continuous parameters can take any real number value between the minimum and maximum value, defined by **ContinuousParameter(min, max)**\n",
    "   + Integer parameters can take any integer value between the minimum and maximum value, defined by **IntegerParameter(min, max)**\n",
    "\n",
    "\n",
    "## Data and Model:\n",
    "\n",
    "We will use the same dataset (Fashion MNIST) and same VNN model structure generated in week 1. Our task is to find the \"optimal\" values for each of the following hyperparameters: *batch size, epochs, learning rate,* and *dense-layer*.\n"
   ]
  },
  {
   "cell_type": "markdown",
   "metadata": {},
   "source": [
    "### What is AWS Sagemaker? \n",
    "\n",
    "- Cloud based, machine learning platform that helps users to build, train, tune and deploy machine learning applications. \n",
    "- Uses subscription pricing model (only pay for what you use)\n",
    "- In built tools for data management (e.g. Amazon S3) building, training, deploying and monitoring machine learning models.\n",
    "- AWS Sagemaker Stack includes: \n",
    "   1. AI Services (pre-trained models and pre-build algorithms); \n",
    "   2. ML services (IDE for ML); \n",
    "   3. ML frameworks (Tensorflow, Keras and more...) - we use a structure developed by CS/engineers\n",
    "- This means there are many ways to train models in SageMaker. Today we will use a notebook instance in *script mode*. \n",
    "\n",
    "#### Jupyter Labs in AWS Sagemaker\n",
    "\n",
    "- Many templates for analyses "
   ]
  },
  {
   "cell_type": "markdown",
   "metadata": {},
   "source": [
    "Before you start: Check directory structure and modify permissions"
   ]
  },
  {
   "cell_type": "code",
   "execution_count": 1,
   "metadata": {},
   "outputs": [
    {
     "name": "stdout",
     "output_type": "stream",
     "text": [
      "total 72\n",
      "drwx------ 2 root     root     16384 May 19 03:58 lost+found\n",
      "-rw-rw-r-- 1 ec2-user ec2-user 54866 May 19 04:02 Prac3_MNIST_fashion_VNN_HPO.ipynb\n"
     ]
    }
   ],
   "source": [
    "%%sh\n",
    "ls -l"
   ]
  },
  {
   "cell_type": "markdown",
   "metadata": {},
   "source": [
    "Do you have a lost+found folder with root group and owner? If so, you will need to change the permissions of to lost+found to prevent future errors. Note, I am in contact with AWS Support for a better solution and will keep you all updated!"
   ]
  },
  {
   "cell_type": "code",
   "execution_count": 2,
   "metadata": {},
   "outputs": [],
   "source": [
    "%%sh\n",
    "sudo chown ec2-user lost+found"
   ]
  },
  {
   "cell_type": "code",
   "execution_count": 3,
   "metadata": {},
   "outputs": [
    {
     "name": "stdout",
     "output_type": "stream",
     "text": [
      "total 72\n",
      "drwx------ 2 ec2-user root     16384 May 19 03:58 lost+found\n",
      "-rw-rw-r-- 1 ec2-user ec2-user 54866 May 19 04:02 Prac3_MNIST_fashion_VNN_HPO.ipynb\n"
     ]
    }
   ],
   "source": [
    "%%sh\n",
    "ls -l"
   ]
  },
  {
   "cell_type": "code",
   "execution_count": 4,
   "metadata": {},
   "outputs": [],
   "source": [
    "%%sh\n",
    "sudo chgrp ec2-user lost+found"
   ]
  },
  {
   "cell_type": "code",
   "execution_count": 5,
   "metadata": {},
   "outputs": [
    {
     "name": "stdout",
     "output_type": "stream",
     "text": [
      "total 72\n",
      "drwx------ 2 ec2-user ec2-user 16384 May 19 03:58 lost+found\n",
      "-rw-rw-r-- 1 ec2-user ec2-user 54866 May 19 04:02 Prac3_MNIST_fashion_VNN_HPO.ipynb\n"
     ]
    }
   ],
   "source": [
    "%%sh\n",
    "ls -l "
   ]
  },
  {
   "cell_type": "markdown",
   "metadata": {},
   "source": [
    "Set up our environment:"
   ]
  },
  {
   "cell_type": "code",
   "execution_count": 6,
   "metadata": {},
   "outputs": [
    {
     "name": "stderr",
     "output_type": "stream",
     "text": [
      "Using TensorFlow backend.\n"
     ]
    },
    {
     "name": "stdout",
     "output_type": "stream",
     "text": [
      "WARNING:tensorflow:From /home/ec2-user/anaconda3/envs/tensorflow_p36/cpu/lib/python3.6/site-packages/tensorflow_core/__init__.py:1473: The name tf.estimator.inputs is deprecated. Please use tf.compat.v1.estimator.inputs instead.\n",
      "\n",
      "Downloading data from http://fashion-mnist.s3-website.eu-central-1.amazonaws.com/train-labels-idx1-ubyte.gz\n",
      "32768/29515 [=================================] - 0s 8us/step\n",
      "Downloading data from http://fashion-mnist.s3-website.eu-central-1.amazonaws.com/train-images-idx3-ubyte.gz\n",
      "26427392/26421880 [==============================] - 9s 0us/step\n",
      "Downloading data from http://fashion-mnist.s3-website.eu-central-1.amazonaws.com/t10k-labels-idx1-ubyte.gz\n",
      "8192/5148 [===============================================] - 0s 0us/step\n",
      "Downloading data from http://fashion-mnist.s3-website.eu-central-1.amazonaws.com/t10k-images-idx3-ubyte.gz\n",
      "4423680/4422102 [==============================] - 3s 1us/step\n"
     ]
    }
   ],
   "source": [
    "import os\n",
    "import keras\n",
    "import numpy as np\n",
    "\n",
    "# Not getting data again, as already have it stored in S3 from last week. \n",
    "# Just un-hash the following lines if you don't already have the data in S3\n",
    "#from keras.datasets import fashion_mnist\n",
    "#(x_train, y_train), (x_val, y_val) = fashion_mnist.load_data()"
   ]
  },
  {
   "cell_type": "markdown",
   "metadata": {},
   "source": [
    "We create a local directory and save the training and test data seoerately"
   ]
  },
  {
   "cell_type": "code",
   "execution_count": 2,
   "metadata": {},
   "outputs": [],
   "source": [
    "# Again, not saving the data again, as already have it stored in S3 from last week. \n",
    "# Just un-hash the following lines if you don't already have the data in S3\n",
    "\n",
    "#os.makedirs(\"./data\", exist_ok=True)\n",
    "#np.savez('./data/training', image = x_train, label=y_train)\n",
    "#np.savez('./data/test', image=x_val, label=y_val)    "
   ]
  },
  {
   "cell_type": "markdown",
   "metadata": {},
   "source": [
    "Import SageMaker, set session and get IAM role"
   ]
  },
  {
   "cell_type": "code",
   "execution_count": 7,
   "metadata": {},
   "outputs": [
    {
     "name": "stdout",
     "output_type": "stream",
     "text": [
      "2.39.1\n"
     ]
    }
   ],
   "source": [
    "# We first need to import the necessary libraries and define some environment variables  \n",
    "## Import sagemaker and retrieve IAM role, which determines your user identity and permissions\n",
    "\n",
    "import sagemaker #import sagemaker\n",
    "print(sagemaker.__version__) #print the sagemaker version\n",
    "sess = sagemaker.Session() ### Manages interactions with the Amazon SageMaker APIs and \n",
    "                           ### any other AWS services needed e.g. S3\n",
    "role = sagemaker.get_execution_role() ### Get and save the IAM role as environment variable"
   ]
  },
  {
   "cell_type": "markdown",
   "metadata": {},
   "source": [
    "Upload data to S3 bucket"
   ]
  },
  {
   "cell_type": "code",
   "execution_count": 14,
   "metadata": {},
   "outputs": [
    {
     "name": "stdout",
     "output_type": "stream",
     "text": [
      "s3://sagemaker-ap-southeast-2-580121432832/keras-mnist-fashion/training/training.npz\n",
      "s3://sagemaker-ap-southeast-2-580121432832/keras-mnist-fashion/validation/test.npz\n"
     ]
    }
   ],
   "source": [
    "# Upload data to S3 bucket\n",
    "## If you already ran the week 2 lab and stored the data in S3 then you can skip uploading the data and \n",
    "## just enter the same keys for the data as last week. \n",
    "\n",
    "#SAVE DATA TO S3\n",
    "#prefix = 'keras-mnist-fashion' #first define a prefix for the key (think of this like a directory or file path)\n",
    "\n",
    "#upload a local file/directory to S3 using upload_data(). \n",
    "##inputs = path, bucket (if not specifified will use default_bucket), optional prefix for directory structure\n",
    "#training_input_path = sess.upload_data('data/training.npz', key_prefix = prefix+'/training')\n",
    "\n",
    "#test_input_path = sess.upload_data('data/test.npz', key_prefix = prefix+'/validation')\n",
    "\n",
    "#OR; DEFINE KEY TO EXISTING S3 - look in S3 section of AWS\n",
    "\n",
    "training_input_path = 's3://sagemaker-ap-southeast-2-580121432832/keras-mnist-fashion/training/training.npz'\n",
    "test_input_path = 's3://sagemaker-ap-southeast-2-580121432832/keras-mnist-fashion/validation/test.npz'\n",
    "\n",
    "#CHECK PATHS\n",
    "print(training_input_path)\n",
    "print(test_input_path)"
   ]
  },
  {
   "cell_type": "markdown",
   "metadata": {},
   "source": [
    "# HPO\n",
    "\n",
    "We want to tune: \n",
    "\n",
    "- Epochs\n",
    "- Learning Rate\n",
    "- Batch Size\n",
    "- Dense-layer\n",
    "\n",
    "Question... are these:\n",
    "\n",
    "- Categorical parameters (defined using **CategoricalParameter(list)**)\n",
    "- Continuous parameters  (defined using **ContinuousParameter(min, max)**)\n",
    "- Integer parameters (defined using **IntegerParameter(min, max)**)\n"
   ]
  },
  {
   "cell_type": "code",
   "execution_count": 9,
   "metadata": {},
   "outputs": [
    {
     "name": "stdout",
     "output_type": "stream",
     "text": [
      "{'epochs': <sagemaker.parameter.IntegerParameter object at 0x7fc9a6e89860>, 'learning-rate': <sagemaker.parameter.ContinuousParameter object at 0x7fc9a6e89358>, 'batch-size': <sagemaker.parameter.IntegerParameter object at 0x7fc9a6e89470>, 'dense-layer': <sagemaker.parameter.IntegerParameter object at 0x7fc9a6e89400>}\n"
     ]
    }
   ],
   "source": [
    "# Define parameter ranges :\n",
    "\n",
    "from sagemaker.tuner import IntegerParameter, ContinuousParameter\n",
    "\n",
    "# Discuss = what the following code does... \n",
    "\n",
    "hyperparameter_ranges = { \n",
    "    'epochs' :       IntegerParameter(5, 10), \n",
    "    'learning-rate': ContinuousParameter(0.001, 0.1, scaling_type='ReverseLogarithmic'), \n",
    "    'batch-size':    IntegerParameter(32, 1024),\n",
    "    'dense-layer':   IntegerParameter(32, 1024),\n",
    "}#Dictionary of parameter ranges. Can be one of three types: Continuous, Integer, or Categorical. The keys of the dictionary are the names of the hyperparameter, and the values are the appropriate parameter range class to represent the range.\n",
    "\n",
    "print(hyperparameter_ranges)\n",
    "\n",
    "# Can you think of anything else you might like to test/change? ........ e.g. optimiser type\n"
   ]
  },
  {
   "cell_type": "markdown",
   "metadata": {},
   "source": [
    "Need to specify the objective metric that we wish to tune. This includes the regular expression (Regex) needed to extract that metric from the CloudWatch logs of the training job. "
   ]
  },
  {
   "cell_type": "code",
   "execution_count": 10,
   "metadata": {},
   "outputs": [],
   "source": [
    "# Use this if Tensorflow 2 is used\n",
    "objective_metric_name = 'validation_accuracy' #name for the metric for evaluating training jobs\n",
    "\n",
    "objective_type = 'Maximize' #do we want to minimise or maximise the named objective metric?\n",
    "\n",
    "metric_definitions = [\n",
    "    {'Name': 'training_loss',        'Regex': 'loss: ([0-9\\\\.]+)'},\n",
    "    {'Name': 'training_accuracy',    'Regex': 'accuracy: ([0-9\\\\.]+)'},\n",
    "    {'Name': 'validation_loss',      'Regex': 'val_loss: ([0-9\\\\.]+)'},\n",
    "    {'Name': 'validation_accuracy',  'Regex': 'val_accuracy: ([0-9\\\\.]+)'},\n",
    "    {'Name': 'training_precision',   'Regex': 'precision: ([0-9\\\\.]+)'}\n",
    "    ] #A list of dictionaries that defines the metric(s) used to evaluate the training jobs (default: None). \n",
    "    # Each dictionary contains two keys: ‘Name’ for the name of the metric, and ‘Regex’ for the regular expression\n",
    "    # used to extract the metric from the logs."
   ]
  },
  {
   "cell_type": "code",
   "execution_count": 11,
   "metadata": {},
   "outputs": [],
   "source": [
    "from sagemaker.tensorflow import TensorFlow\n",
    "\n",
    "# Configure a training job using the Tensorflow estimator, the parameter ranges and the metric defined above.\n",
    "# Let's run ten individual jobs, two by two.\n",
    "\n",
    "tf_estimator = TensorFlow(entry_point='mnist_fashion_vnn_tf2.py',  \n",
    "                          role=role,\n",
    "                          instance_count=1, \n",
    "                          instance_type='ml.m4.xlarge',\n",
    "                          framework_version='2.1.0', \n",
    "                          py_version='py3',\n",
    "                          script_mode=True,\n",
    "                          # Optional - see notes from Week 2 Lab\n",
    "                          use_spot_instances=True,        # Use spot instance\n",
    "                          max_run=3600,                   # Max training time\n",
    "                          max_wait=7200)    \n",
    "    \n",
    "from sagemaker.tuner import HyperparameterTuner\n",
    "\n",
    "#HyperparameterTuner() Defines interaction with Amazon SageMaker hyperparameter tuning jobs.\n",
    "#Creates a HyperparameterTuner instance.\n",
    "\n",
    "# we pass the tf_estimator to HyperparameterTuner(), and pass in the objective_metric_name, \n",
    "#objective_type and metric_definitions that we defined in the previous cell\n",
    "tuner = HyperparameterTuner(tf_estimator,\n",
    "                            objective_metric_name, #see cell above for definition\n",
    "                            hyperparameter_ranges, #see cell above for definition\n",
    "                            metric_definitions, #see cell above for definition\n",
    "                            max_jobs=4,  #the maximum number of total training jobs to start - I set 4 just for illustration and time waiting\n",
    "                            max_parallel_jobs=2, #Maximum number of parallel training jobs to start\n",
    "                            objective_type=objective_type) #see cell above for definition\n",
    "\n",
    "# Homework - if you don't want SageMaker to randomly chose the values for the hyperparameter, \n",
    "# but want to select the exact values - how would you do this?\n",
    "    "
   ]
  },
  {
   "cell_type": "code",
   "execution_count": 15,
   "metadata": {},
   "outputs": [
    {
     "name": "stdout",
     "output_type": "stream",
     "text": [
      "........................................................................................................!\n"
     ]
    }
   ],
   "source": [
    "#fit is used to train the model\n",
    "tuner.fit({'training': training_input_path, 'validation': test_input_path})"
   ]
  },
  {
   "cell_type": "markdown",
   "metadata": {},
   "source": [
    "## Visualising the Model\n",
    "\n",
    "Homework :) \n",
    "\n",
    "### 1. Cloud Watch \n",
    "\n",
    "- Naviagate to CW in AWS console\n",
    "- Logs - Log groups = all logs from how the model was trained, and values for metrics for each epoch\n",
    "- Metrics \n",
    "    - Host = CPUs \n",
    "    - TrainingJobNames = graph metrics\n",
    "    \n",
    "### 2. Tensorboard\n",
    "\n",
    "- Jupyter Labs\n",
    "- Click on Brain symbol\n",
    "- Scroll down to folder 'Sagemaker Python SDK'\n",
    "- open tensorboard_keras\n",
    "- Click create copy\n",
    "- Follow along with the example \n"
   ]
  },
  {
   "cell_type": "markdown",
   "metadata": {},
   "source": [
    "# Inspect jobs with AWS"
   ]
  },
  {
   "cell_type": "code",
   "execution_count": 16,
   "metadata": {},
   "outputs": [
    {
     "data": {
      "text/html": [
       "<div>\n",
       "<style scoped>\n",
       "    .dataframe tbody tr th:only-of-type {\n",
       "        vertical-align: middle;\n",
       "    }\n",
       "\n",
       "    .dataframe tbody tr th {\n",
       "        vertical-align: top;\n",
       "    }\n",
       "\n",
       "    .dataframe thead th {\n",
       "        text-align: right;\n",
       "    }\n",
       "</style>\n",
       "<table border=\"1\" class=\"dataframe\">\n",
       "  <thead>\n",
       "    <tr style=\"text-align: right;\">\n",
       "      <th></th>\n",
       "      <th>batch-size</th>\n",
       "      <th>dense-layer</th>\n",
       "      <th>epochs</th>\n",
       "      <th>learning-rate</th>\n",
       "      <th>TrainingJobName</th>\n",
       "      <th>TrainingJobStatus</th>\n",
       "      <th>FinalObjectiveValue</th>\n",
       "      <th>TrainingStartTime</th>\n",
       "      <th>TrainingEndTime</th>\n",
       "      <th>TrainingElapsedTimeSeconds</th>\n",
       "    </tr>\n",
       "  </thead>\n",
       "  <tbody>\n",
       "    <tr>\n",
       "      <th>0</th>\n",
       "      <td>96.0</td>\n",
       "      <td>952.0</td>\n",
       "      <td>5.0</td>\n",
       "      <td>0.094524</td>\n",
       "      <td>tensorflow-training-210519-0409-004-82bda1a0</td>\n",
       "      <td>Completed</td>\n",
       "      <td>0.8590</td>\n",
       "      <td>2021-05-19 04:16:10+00:00</td>\n",
       "      <td>2021-05-19 04:17:49+00:00</td>\n",
       "      <td>99.0</td>\n",
       "    </tr>\n",
       "    <tr>\n",
       "      <th>1</th>\n",
       "      <td>38.0</td>\n",
       "      <td>792.0</td>\n",
       "      <td>9.0</td>\n",
       "      <td>0.049661</td>\n",
       "      <td>tensorflow-training-210519-0409-003-1dff4203</td>\n",
       "      <td>Completed</td>\n",
       "      <td>0.8613</td>\n",
       "      <td>2021-05-19 04:15:55+00:00</td>\n",
       "      <td>2021-05-19 04:17:38+00:00</td>\n",
       "      <td>103.0</td>\n",
       "    </tr>\n",
       "    <tr>\n",
       "      <th>2</th>\n",
       "      <td>1012.0</td>\n",
       "      <td>535.0</td>\n",
       "      <td>7.0</td>\n",
       "      <td>0.088584</td>\n",
       "      <td>tensorflow-training-210519-0409-002-3197c548</td>\n",
       "      <td>Completed</td>\n",
       "      <td>0.8608</td>\n",
       "      <td>2021-05-19 04:12:19+00:00</td>\n",
       "      <td>2021-05-19 04:13:44+00:00</td>\n",
       "      <td>85.0</td>\n",
       "    </tr>\n",
       "    <tr>\n",
       "      <th>3</th>\n",
       "      <td>807.0</td>\n",
       "      <td>642.0</td>\n",
       "      <td>6.0</td>\n",
       "      <td>0.023696</td>\n",
       "      <td>tensorflow-training-210519-0409-001-9168034f</td>\n",
       "      <td>Completed</td>\n",
       "      <td>0.8492</td>\n",
       "      <td>2021-05-19 04:12:08+00:00</td>\n",
       "      <td>2021-05-19 04:13:14+00:00</td>\n",
       "      <td>66.0</td>\n",
       "    </tr>\n",
       "  </tbody>\n",
       "</table>\n",
       "</div>"
      ],
      "text/plain": [
       "   batch-size  dense-layer  epochs  learning-rate  \\\n",
       "0        96.0        952.0     5.0       0.094524   \n",
       "1        38.0        792.0     9.0       0.049661   \n",
       "2      1012.0        535.0     7.0       0.088584   \n",
       "3       807.0        642.0     6.0       0.023696   \n",
       "\n",
       "                                TrainingJobName TrainingJobStatus  \\\n",
       "0  tensorflow-training-210519-0409-004-82bda1a0         Completed   \n",
       "1  tensorflow-training-210519-0409-003-1dff4203         Completed   \n",
       "2  tensorflow-training-210519-0409-002-3197c548         Completed   \n",
       "3  tensorflow-training-210519-0409-001-9168034f         Completed   \n",
       "\n",
       "   FinalObjectiveValue         TrainingStartTime           TrainingEndTime  \\\n",
       "0               0.8590 2021-05-19 04:16:10+00:00 2021-05-19 04:17:49+00:00   \n",
       "1               0.8613 2021-05-19 04:15:55+00:00 2021-05-19 04:17:38+00:00   \n",
       "2               0.8608 2021-05-19 04:12:19+00:00 2021-05-19 04:13:44+00:00   \n",
       "3               0.8492 2021-05-19 04:12:08+00:00 2021-05-19 04:13:14+00:00   \n",
       "\n",
       "   TrainingElapsedTimeSeconds  \n",
       "0                        99.0  \n",
       "1                       103.0  \n",
       "2                        85.0  \n",
       "3                        66.0  "
      ]
     },
     "execution_count": 16,
     "metadata": {},
     "output_type": "execute_result"
    }
   ],
   "source": [
    "from sagemaker.analytics import HyperparameterTuningJobAnalytics\n",
    "\n",
    "#HyperparameterTuningJobAnalytics() \n",
    "#Fetch results about a hyperparameter tuning job and make them accessible for analytics\n",
    "\n",
    "exp = HyperparameterTuningJobAnalytics( \n",
    "    sagemaker_session=sess, #Session object \n",
    "    hyperparameter_tuning_job_name=tuner.latest_tuning_job.name #name of the HyperparameterTuningJob to analyze.\n",
    ")\n",
    "\n",
    "df = exp.dataframe()\n",
    "df"
   ]
  },
  {
   "cell_type": "code",
   "execution_count": 17,
   "metadata": {},
   "outputs": [
    {
     "data": {
      "text/html": [
       "<div>\n",
       "<style scoped>\n",
       "    .dataframe tbody tr th:only-of-type {\n",
       "        vertical-align: middle;\n",
       "    }\n",
       "\n",
       "    .dataframe tbody tr th {\n",
       "        vertical-align: top;\n",
       "    }\n",
       "\n",
       "    .dataframe thead th {\n",
       "        text-align: right;\n",
       "    }\n",
       "</style>\n",
       "<table border=\"1\" class=\"dataframe\">\n",
       "  <thead>\n",
       "    <tr style=\"text-align: right;\">\n",
       "      <th></th>\n",
       "      <th>batch-size</th>\n",
       "      <th>dense-layer</th>\n",
       "      <th>epochs</th>\n",
       "      <th>learning-rate</th>\n",
       "      <th>TrainingJobName</th>\n",
       "      <th>TrainingJobStatus</th>\n",
       "      <th>FinalObjectiveValue</th>\n",
       "      <th>TrainingStartTime</th>\n",
       "      <th>TrainingEndTime</th>\n",
       "      <th>TrainingElapsedTimeSeconds</th>\n",
       "    </tr>\n",
       "  </thead>\n",
       "  <tbody>\n",
       "    <tr>\n",
       "      <th>1</th>\n",
       "      <td>38.0</td>\n",
       "      <td>792.0</td>\n",
       "      <td>9.0</td>\n",
       "      <td>0.049661</td>\n",
       "      <td>tensorflow-training-210519-0409-003-1dff4203</td>\n",
       "      <td>Completed</td>\n",
       "      <td>0.8613</td>\n",
       "      <td>2021-05-19 04:15:55+00:00</td>\n",
       "      <td>2021-05-19 04:17:38+00:00</td>\n",
       "      <td>103.0</td>\n",
       "    </tr>\n",
       "  </tbody>\n",
       "</table>\n",
       "</div>"
      ],
      "text/plain": [
       "   batch-size  dense-layer  epochs  learning-rate  \\\n",
       "1        38.0        792.0     9.0       0.049661   \n",
       "\n",
       "                                TrainingJobName TrainingJobStatus  \\\n",
       "1  tensorflow-training-210519-0409-003-1dff4203         Completed   \n",
       "\n",
       "   FinalObjectiveValue         TrainingStartTime           TrainingEndTime  \\\n",
       "1               0.8613 2021-05-19 04:15:55+00:00 2021-05-19 04:17:38+00:00   \n",
       "\n",
       "   TrainingElapsedTimeSeconds  \n",
       "1                       103.0  "
      ]
     },
     "execution_count": 17,
     "metadata": {},
     "output_type": "execute_result"
    }
   ],
   "source": [
    "# Select the best job by highest accuracy\n",
    "\n",
    "best_job = df.sort_values('FinalObjectiveValue', ascending=0)[:1] # pandas.df.sort_values\n",
    "                                                                  # FinalObjectiveValue = Accuracy\n",
    "best_job"
   ]
  },
  {
   "cell_type": "code",
   "execution_count": 18,
   "metadata": {},
   "outputs": [
    {
     "data": {
      "text/plain": [
       "'tensorflow-training-210519-0409-003-1dff4203'"
      ]
     },
     "execution_count": 18,
     "metadata": {},
     "output_type": "execute_result"
    }
   ],
   "source": [
    "# Pull out the name of the best job\n",
    "\n",
    "best_job_name = best_job['TrainingJobName'].to_string(index=False).strip()\n",
    "best_job_name"
   ]
  },
  {
   "cell_type": "markdown",
   "metadata": {},
   "source": [
    "[optional] Check location of where the best model is stored."
   ]
  },
  {
   "cell_type": "code",
   "execution_count": 19,
   "metadata": {},
   "outputs": [],
   "source": [
    "# Finding where the best model is stored \n",
    "\n",
    "import boto3 \n",
    "sm = boto3.client('sagemaker') # where the model is being stored in s3"
   ]
  },
  {
   "cell_type": "code",
   "execution_count": 20,
   "metadata": {},
   "outputs": [
    {
     "name": "stdout",
     "output_type": "stream",
     "text": [
      "tensorflow-training-210519-0409-003-1dff4203\n",
      "s3://sagemaker-ap-southeast-2-580121432832/tensorflow-training-210519-0409-003-1dff4203/output/model.tar.gz\n",
      "763104351884.dkr.ecr.ap-southeast-2.amazonaws.com/tensorflow-training:2.1.0-cpu-py3\n"
     ]
    }
   ],
   "source": [
    "# Save best model\n",
    "\n",
    "best_job = sm.describe_training_job(TrainingJobName=best_job_name)\n",
    "\n",
    "best_model_artefact = best_job['ModelArtifacts']['S3ModelArtifacts']\n",
    "best_model_container = best_job['AlgorithmSpecification']['TrainingImage']\n",
    "\n",
    "print(best_job_name)\n",
    "print(best_model_artefact)\n",
    "print(best_model_container)"
   ]
  },
  {
   "cell_type": "markdown",
   "metadata": {},
   "source": [
    "# Deploy the best model\n",
    "\n"
   ]
  },
  {
   "cell_type": "code",
   "execution_count": 21,
   "metadata": {
    "scrolled": true
   },
   "outputs": [
    {
     "name": "stdout",
     "output_type": "stream",
     "text": [
      "s3//sagemaker-ap-southeast-2-580121432832/tensorflow-training-210519-0409-003-1dff4203/\n"
     ]
    }
   ],
   "source": [
    "# Don't forget to update the bucket! It must be in the same region as SageMaker\n",
    "s3_capture_path = 's3//sagemaker-ap-southeast-2-580121432832/' + best_job_name + '/'\n",
    "\n",
    "print(s3_capture_path)"
   ]
  },
  {
   "cell_type": "code",
   "execution_count": 22,
   "metadata": {},
   "outputs": [
    {
     "name": "stdout",
     "output_type": "stream",
     "text": [
      "tensorflow-training-210519-0409-003-1dff4203-ep\n"
     ]
    }
   ],
   "source": [
    "endpoint_name = best_job_name + '-ep'\n",
    "print(endpoint_name)\n"
   ]
  },
  {
   "cell_type": "code",
   "execution_count": 23,
   "metadata": {
    "scrolled": false
   },
   "outputs": [
    {
     "name": "stdout",
     "output_type": "stream",
     "text": [
      "\n",
      "2021-05-19 04:17:38 Starting - Preparing the instances for training\n",
      "2021-05-19 04:17:38 Downloading - Downloading input data\n",
      "2021-05-19 04:17:38 Training - Training image download completed. Training in progress.\n",
      "2021-05-19 04:17:38 Uploading - Uploading generated training model\n",
      "2021-05-19 04:17:38 Completed - Training job completed"
     ]
    },
    {
     "name": "stderr",
     "output_type": "stream",
     "text": [
      "update_endpoint is a no-op in sagemaker>=2.\n",
      "See: https://sagemaker.readthedocs.io/en/stable/v2.html for details.\n"
     ]
    },
    {
     "name": "stdout",
     "output_type": "stream",
     "text": [
      "\n",
      "-------------!"
     ]
    }
   ],
   "source": [
    "# Deploy the best model \n",
    "\n",
    "best_model_predictor = tuner.deploy(\n",
    "    initial_instance_count=1, \n",
    "    instance_type='ml.m4.xlarge', \n",
    "    endpoint_name=endpoint_name)"
   ]
  },
  {
   "cell_type": "markdown",
   "metadata": {},
   "source": [
    "### Prediction exercise\n"
   ]
  },
  {
   "cell_type": "code",
   "execution_count": 24,
   "metadata": {},
   "outputs": [
    {
     "name": "stdout",
     "output_type": "stream",
     "text": [
      "0 500 1000 1500 2000 2500 3000 3500 4000 4500 5000 5500 6000 6500 7000 7500 8000 8500 9000 9500 "
     ]
    }
   ],
   "source": [
    " %matplotlib inline\n",
    "import random\n",
    "import matplotlib.pyplot as plt\n",
    "\n",
    "num_samples = 500\n",
    "all_labels=[]\n",
    "all_predicted_labels=[]\n",
    "\n",
    "import sys\n",
    "\n",
    "for i in range(0,x_val.shape[0] - 1,num_samples):\n",
    "    sys.stdout.write(str(i)+' ')\n",
    "    indices = range(i,i+num_samples)\n",
    "    images = x_val[indices]/255\n",
    "    labels = y_val[indices]\n",
    "    prediction = best_model_predictor.predict(images.reshape(num_samples, 28, 28, 1))['predictions']\n",
    "    prediction = np.array(prediction)\n",
    "    predicted_labels = prediction.argmax(axis=1)\n",
    "    all_labels.extend(labels)\n",
    "    all_predicted_labels.extend(predicted_labels)"
   ]
  },
  {
   "cell_type": "markdown",
   "metadata": {},
   "source": [
    "### Creating confusion matrix"
   ]
  },
  {
   "cell_type": "code",
   "execution_count": 23,
   "metadata": {},
   "outputs": [
    {
     "data": {
      "image/png": "[encoded data removed]",
      "text/plain": [
       "<Figure size 288x288 with 1 Axes>"
      ]
     },
     "metadata": {
      "needs_background": "light"
     },
     "output_type": "display_data"
    }
   ],
   "source": [
    "import sklearn\n",
    "import itertools\n",
    "from sklearn.metrics import confusion_matrix\n",
    "\n",
    "cm = confusion_matrix(all_labels, all_predicted_labels)\n",
    "plt.matshow(cm)\n",
    "plt.title('Confusion matrix')\n",
    "fmt = 'd'\n",
    "thresh = cm.max() / 2.\n",
    "for i, j in itertools.product(range(cm.shape[0]), range(cm.shape[1])):\n",
    "    plt.text(j, i, format(cm[i, j], fmt),\n",
    "            horizontalalignment=\"center\",\n",
    "            color=\"white\" if cm[i, j] < thresh else \"black\")\n",
    "plt.ylabel('True label')\n",
    "plt.xlabel('Predicted label')\n",
    "classes = range(10) # Labels are sorted \n",
    "tick_marks = np.arange(len(classes))\n",
    "plt.xticks(tick_marks, classes)\n",
    "plt.yticks(tick_marks, classes)\n",
    "plt.grid(False)\n",
    "plt.show()"
   ]
  },
  {
   "cell_type": "markdown",
   "metadata": {},
   "source": [
    "### Delete the end point"
   ]
  },
  {
   "cell_type": "code",
   "execution_count": 25,
   "metadata": {},
   "outputs": [],
   "source": [
    "best_model_predictor.delete_endpoint()"
   ]
  },
  {
   "cell_type": "code",
   "execution_count": null,
   "metadata": {},
   "outputs": [],
   "source": []
  }
 ],
 "metadata": {
  "kernelspec": {
   "display_name": "Python 3",
   "language": "python",
   "name": "python3"
  },
  "language_info": {
   "codemirror_mode": {
    "name": "ipython",
    "version": 3
   },
   "file_extension": ".py",
   "mimetype": "text/x-python",
   "name": "python",
   "nbconvert_exporter": "python",
   "pygments_lexer": "ipython3",
   "version": "3.8.5"
  }
 },
 "nbformat": 4,
 "nbformat_minor": 4
}
