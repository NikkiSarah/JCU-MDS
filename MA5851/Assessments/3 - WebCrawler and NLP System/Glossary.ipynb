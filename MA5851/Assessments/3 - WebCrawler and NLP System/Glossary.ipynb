{
 "cells": [
  {
   "cell_type": "markdown",
   "metadata": {},
   "source": [
    "| Abbreviation/Acronym | Meaning |\n",
    "| :------------------- | :------ |\n",
    "| DOM | Document Object Model |\n",
    "| HTML | Hyper Text Markup Language |\n",
    "| LDA | Latent Dirichlet Allocation |\n",
    "| NLP | Natural Language Processing |\n",
    "| NMF / NNMF | Non-Negative Matrix Factorisation |\n",
    "| SVD | Singular Value Decomposition |\n",
    "| VADER | Valence Aware Dictionary and sEntiment Reasoner |\n"
   ]
  }
 ],
 "metadata": {
  "kernelspec": {
   "display_name": "pythonD",
   "language": "python",
   "name": "pythond"
  },
  "language_info": {
   "codemirror_mode": {
    "name": "ipython",
    "version": 3
   },
   "file_extension": ".py",
   "mimetype": "text/x-python",
   "name": "python",
   "nbconvert_exporter": "python",
   "pygments_lexer": "ipython3",
   "version": "3.8.8"
  }
 },
 "nbformat": 4,
 "nbformat_minor": 4
}
