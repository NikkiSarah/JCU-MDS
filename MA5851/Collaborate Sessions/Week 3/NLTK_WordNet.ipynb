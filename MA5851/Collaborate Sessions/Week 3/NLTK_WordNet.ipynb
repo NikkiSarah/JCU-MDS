{
 "cells": [
  {
   "cell_type": "code",
   "execution_count": 1,
   "metadata": {},
   "outputs": [],
   "source": [
    "from nltk.corpus import wordnet\n",
    "from nltk.corpus.reader import NOUN\n",
    "from nltk.corpus.reader import VERB"
   ]
  },
  {
   "cell_type": "code",
   "execution_count": 2,
   "metadata": {},
   "outputs": [],
   "source": [
    "wordnet.synsets(\"fire\",NOUN)\n",
    "syns = wordnet.synsets(\"football\")"
   ]
  },
  {
   "cell_type": "code",
   "execution_count": 3,
   "metadata": {},
   "outputs": [
    {
     "name": "stdout",
     "output_type": "stream",
     "text": [
      "\tLemma: fire.n.01\n",
      "\tRelated Lemmas: [Lemma('fire.n.01.fire')]\n",
      "\tDefinition: the event of something burning (often destructive)\n",
      "\tExample: ['they lost everything in the fire']\n",
      "\tWords in the same context: ['fire']\n",
      "-------------------------------------------------------\n",
      "\tLemma: fire.n.02\n",
      "\tRelated Lemmas: [Lemma('fire.n.02.fire'), Lemma('fire.n.02.firing')]\n",
      "\tDefinition: the act of firing weapons or artillery at an enemy\n",
      "\tExample: ['hold your fire until you can see the whites of their eyes', 'they retreated in the face of withering enemy fire']\n",
      "\tWords in the same context: ['fire', 'firing']\n",
      "-------------------------------------------------------\n",
      "\tLemma: fire.n.03\n",
      "\tRelated Lemmas: [Lemma('fire.n.03.fire'), Lemma('fire.n.03.flame'), Lemma('fire.n.03.flaming')]\n",
      "\tDefinition: the process of combustion of inflammable materials producing heat and light and (often) smoke\n",
      "\tExample: [\"fire was one of our ancestors' first discoveries\"]\n",
      "\tWords in the same context: ['fire', 'flame', 'flaming']\n",
      "-------------------------------------------------------\n",
      "\tLemma: fire.n.04\n",
      "\tRelated Lemmas: [Lemma('fire.n.04.fire')]\n",
      "\tDefinition: a fireplace in which a relatively small fire is burning\n",
      "\tExample: ['they sat by the fire and talked']\n",
      "\tWords in the same context: ['fire']\n",
      "-------------------------------------------------------\n",
      "\tLemma: fire.n.05\n",
      "\tRelated Lemmas: [Lemma('fire.n.05.fire')]\n",
      "\tDefinition: once thought to be one of four elements composing the universe (Empedocles)\n",
      "\tExample: []\n",
      "\tWords in the same context: ['fire']\n",
      "-------------------------------------------------------\n",
      "\tLemma: ardor.n.03\n",
      "\tRelated Lemmas: [Lemma('ardor.n.03.ardor'), Lemma('ardor.n.03.ardour'), Lemma('ardor.n.03.fervor'), Lemma('ardor.n.03.fervour'), Lemma('ardor.n.03.fervency'), Lemma('ardor.n.03.fire'), Lemma('ardor.n.03.fervidness')]\n",
      "\tDefinition: feelings of great warmth and intensity\n",
      "\tExample: ['he spoke with great ardor']\n",
      "\tWords in the same context: ['ardor', 'ardour', 'fervor', 'fervour', 'fervency', 'fire', 'fervidness']\n",
      "-------------------------------------------------------\n",
      "\tLemma: fire.n.07\n",
      "\tRelated Lemmas: [Lemma('fire.n.07.fire')]\n",
      "\tDefinition: fuel that is burning and is used as a means for cooking\n",
      "\tExample: ['put the kettle on the fire', 'barbecue over an open fire']\n",
      "\tWords in the same context: ['fire']\n",
      "-------------------------------------------------------\n",
      "\tLemma: fire.n.08\n",
      "\tRelated Lemmas: [Lemma('fire.n.08.fire')]\n",
      "\tDefinition: a severe trial\n",
      "\tExample: ['he went through fire and damnation']\n",
      "\tWords in the same context: ['fire']\n",
      "-------------------------------------------------------\n",
      "\tLemma: fire.n.09\n",
      "\tRelated Lemmas: [Lemma('fire.n.09.fire'), Lemma('fire.n.09.attack'), Lemma('fire.n.09.flak'), Lemma('fire.n.09.flack'), Lemma('fire.n.09.blast')]\n",
      "\tDefinition: intense adverse criticism\n",
      "\tExample: ['Clinton directed his fire at the Republican Party', 'the government has come under attack', \"don't give me any flak\"]\n",
      "\tWords in the same context: ['fire', 'attack', 'flak', 'flack', 'blast']\n",
      "-------------------------------------------------------\n"
     ]
    }
   ],
   "source": [
    "for synset in wordnet.synsets('fire',NOUN):\n",
    "    print(\"\\tLemma: {}\".format(synset.name()))\n",
    "    print(\"\\tRelated Lemmas: {}\".format(wordnet.synset(synset.name()).lemmas()))\n",
    "    print(\"\\tDefinition: {}\".format(synset.definition()))\n",
    "    print(\"\\tExample: {}\".format(synset.examples()))\n",
    "    print(\"\\tWords in the same context: {}\".format(synset.lemma_names()))\n",
    "    print(\"-------------------------------------------------------\")"
   ]
  },
  {
   "cell_type": "code",
   "execution_count": 4,
   "metadata": {},
   "outputs": [
    {
     "name": "stdout",
     "output_type": "stream",
     "text": [
      "{'proficient', 'goodness', 'in_effect', 'skilful', 'secure', 'unspoilt', 'honorable', 'undecomposed', 'commodity', 'serious', 'unspoiled', 'good', 'salutary', 'thoroughly', 'just', 'ripe', 'full', 'dear', 'in_force', 'soundly', 'expert', 'estimable', 'adept', 'safe', 'effective', 'respectable', 'upright', 'near', 'beneficial', 'sound', 'trade_good', 'right', 'honest', 'practiced', 'dependable', 'skillful', 'well'}\n",
      "{'bad', 'evilness', 'badness', 'ill', 'evil'}\n"
     ]
    }
   ],
   "source": [
    "synonyms = []\n",
    "antonyms = []\n",
    "\n",
    "for syn in wordnet.synsets(\"good\"):\n",
    "    for l in syn.lemmas():\n",
    "        synonyms.append(l.name())\n",
    "        if l.antonyms():\n",
    "            antonyms.append(l.antonyms()[0].name())\n",
    "\n",
    "print(set(synonyms))\n",
    "print(set(antonyms))"
   ]
  },
  {
   "cell_type": "code",
   "execution_count": 5,
   "metadata": {},
   "outputs": [
    {
     "name": "stdout",
     "output_type": "stream",
     "text": [
      "0.9090909090909091\n",
      "0.6956521739130435\n",
      "0.32\n"
     ]
    }
   ],
   "source": [
    "w1 = wordnet.synset('ship.n.01')\n",
    "w2 = wordnet.synset('boat.n.01')\n",
    "print(w1.wup_similarity(w2))\n",
    "Output: 0.9090909090909091\n",
    "w1 = wordnet.synset('ship.n.01')\n",
    "w2 = wordnet.synset('car.n.01')\n",
    "print(w1.wup_similarity(w2))\n",
    "Output: 0.6956521739130435\n",
    "w1 = wordnet.synset('ship.n.01')\n",
    "w2 = wordnet.synset('cat.n.01')\n",
    "print(w1.wup_similarity(w2))\n",
    "Output: 0.38095238095238093"
   ]
  }
 ],
 "metadata": {
  "kernelspec": {
   "display_name": "pythonD",
   "language": "python",
   "name": "pythond"
  },
  "language_info": {
   "codemirror_mode": {
    "name": "ipython",
    "version": 3
   },
   "file_extension": ".py",
   "mimetype": "text/x-python",
   "name": "python",
   "nbconvert_exporter": "python",
   "pygments_lexer": "ipython3",
   "version": "3.8.8"
  }
 },
 "nbformat": 4,
 "nbformat_minor": 2
}
