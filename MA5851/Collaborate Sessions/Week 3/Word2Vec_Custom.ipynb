{
 "cells": [
  {
   "cell_type": "code",
   "execution_count": 8,
   "metadata": {},
   "outputs": [],
   "source": [
    "import pandas as pd\n",
    "import string\n",
    "import time\n",
    "data = pd.read_csv(\"Womens_Clothing_E-Commerce_Reviews.csv\")"
   ]
  },
  {
   "cell_type": "code",
   "execution_count": 9,
   "metadata": {},
   "outputs": [
    {
     "data": {
      "text/html": [
       "<div>\n",
       "<style scoped>\n",
       "    .dataframe tbody tr th:only-of-type {\n",
       "        vertical-align: middle;\n",
       "    }\n",
       "\n",
       "    .dataframe tbody tr th {\n",
       "        vertical-align: top;\n",
       "    }\n",
       "\n",
       "    .dataframe thead th {\n",
       "        text-align: right;\n",
       "    }\n",
       "</style>\n",
       "<table border=\"1\" class=\"dataframe\">\n",
       "  <thead>\n",
       "    <tr style=\"text-align: right;\">\n",
       "      <th></th>\n",
       "      <th>Unnamed: 0</th>\n",
       "      <th>Clothing ID</th>\n",
       "      <th>Age</th>\n",
       "      <th>Title</th>\n",
       "      <th>Review Text</th>\n",
       "      <th>Rating</th>\n",
       "      <th>Recommended IND</th>\n",
       "      <th>Positive Feedback Count</th>\n",
       "      <th>Division Name</th>\n",
       "      <th>Department Name</th>\n",
       "      <th>Class Name</th>\n",
       "    </tr>\n",
       "  </thead>\n",
       "  <tbody>\n",
       "    <tr>\n",
       "      <th>0</th>\n",
       "      <td>0</td>\n",
       "      <td>767</td>\n",
       "      <td>33</td>\n",
       "      <td>NaN</td>\n",
       "      <td>Absolutely wonderful - silky and sexy and comf...</td>\n",
       "      <td>4</td>\n",
       "      <td>1</td>\n",
       "      <td>0</td>\n",
       "      <td>Initmates</td>\n",
       "      <td>Intimate</td>\n",
       "      <td>Intimates</td>\n",
       "    </tr>\n",
       "    <tr>\n",
       "      <th>1</th>\n",
       "      <td>1</td>\n",
       "      <td>1080</td>\n",
       "      <td>34</td>\n",
       "      <td>NaN</td>\n",
       "      <td>Love this dress!  it's sooo pretty.  i happene...</td>\n",
       "      <td>5</td>\n",
       "      <td>1</td>\n",
       "      <td>4</td>\n",
       "      <td>General</td>\n",
       "      <td>Dresses</td>\n",
       "      <td>Dresses</td>\n",
       "    </tr>\n",
       "    <tr>\n",
       "      <th>2</th>\n",
       "      <td>2</td>\n",
       "      <td>1077</td>\n",
       "      <td>60</td>\n",
       "      <td>Some major design flaws</td>\n",
       "      <td>I had such high hopes for this dress and reall...</td>\n",
       "      <td>3</td>\n",
       "      <td>0</td>\n",
       "      <td>0</td>\n",
       "      <td>General</td>\n",
       "      <td>Dresses</td>\n",
       "      <td>Dresses</td>\n",
       "    </tr>\n",
       "    <tr>\n",
       "      <th>3</th>\n",
       "      <td>3</td>\n",
       "      <td>1049</td>\n",
       "      <td>50</td>\n",
       "      <td>My favorite buy!</td>\n",
       "      <td>I love, love, love this jumpsuit. it's fun, fl...</td>\n",
       "      <td>5</td>\n",
       "      <td>1</td>\n",
       "      <td>0</td>\n",
       "      <td>General Petite</td>\n",
       "      <td>Bottoms</td>\n",
       "      <td>Pants</td>\n",
       "    </tr>\n",
       "    <tr>\n",
       "      <th>4</th>\n",
       "      <td>4</td>\n",
       "      <td>847</td>\n",
       "      <td>47</td>\n",
       "      <td>Flattering shirt</td>\n",
       "      <td>This shirt is very flattering to all due to th...</td>\n",
       "      <td>5</td>\n",
       "      <td>1</td>\n",
       "      <td>6</td>\n",
       "      <td>General</td>\n",
       "      <td>Tops</td>\n",
       "      <td>Blouses</td>\n",
       "    </tr>\n",
       "  </tbody>\n",
       "</table>\n",
       "</div>"
      ],
      "text/plain": [
       "   Unnamed: 0  Clothing ID  Age                    Title  \\\n",
       "0           0          767   33                      NaN   \n",
       "1           1         1080   34                      NaN   \n",
       "2           2         1077   60  Some major design flaws   \n",
       "3           3         1049   50         My favorite buy!   \n",
       "4           4          847   47         Flattering shirt   \n",
       "\n",
       "                                         Review Text  Rating  Recommended IND  \\\n",
       "0  Absolutely wonderful - silky and sexy and comf...       4                1   \n",
       "1  Love this dress!  it's sooo pretty.  i happene...       5                1   \n",
       "2  I had such high hopes for this dress and reall...       3                0   \n",
       "3  I love, love, love this jumpsuit. it's fun, fl...       5                1   \n",
       "4  This shirt is very flattering to all due to th...       5                1   \n",
       "\n",
       "   Positive Feedback Count   Division Name Department Name Class Name  \n",
       "0                        0       Initmates        Intimate  Intimates  \n",
       "1                        4         General         Dresses    Dresses  \n",
       "2                        0         General         Dresses    Dresses  \n",
       "3                        0  General Petite         Bottoms      Pants  \n",
       "4                        6         General            Tops    Blouses  "
      ]
     },
     "execution_count": 9,
     "metadata": {},
     "output_type": "execute_result"
    }
   ],
   "source": [
    "data.head()"
   ]
  },
  {
   "cell_type": "code",
   "execution_count": 10,
   "metadata": {},
   "outputs": [
    {
     "name": "stdout",
     "output_type": "stream",
     "text": [
      "23486\n",
      "22639\n"
     ]
    }
   ],
   "source": [
    "print(len(data))\n",
    "data.drop_duplicates(subset=['Rating','Review Text'],keep='first',inplace=True)\n",
    "print(len(data))"
   ]
  },
  {
   "cell_type": "code",
   "execution_count": 11,
   "metadata": {},
   "outputs": [],
   "source": [
    "def clean_text(text ): \n",
    "    delete_dict = {sp_character: ' ' for sp_character in string.punctuation} \n",
    "    delete_dict[' '] = ' ' \n",
    "    table = str.maketrans(delete_dict)\n",
    "    text1 = text.translate(table)\n",
    "    #print('cleaned:'+text1)\n",
    "    textArr= text1.split()\n",
    "    text2 = ' '.join([w for w in textArr if ( not w.isdigit() and  ( not w.isdigit() and len(w)>2))]) \n",
    "    \n",
    "    return text2.lower().split(' ')"
   ]
  },
  {
   "cell_type": "code",
   "execution_count": 12,
   "metadata": {},
   "outputs": [
    {
     "name": "stdout",
     "output_type": "stream",
     "text": [
      "20000\n",
      "17335\n"
     ]
    }
   ],
   "source": [
    "df1 = data.sample(n=20000)\n",
    "print(len(df1))\n",
    "df1.dropna(axis = 0, how ='any',inplace=True) \n",
    "df1['Review Text']= df1['Review Text'].apply(clean_text)\n",
    "print(len(df1))"
   ]
  },
  {
   "cell_type": "code",
   "execution_count": 13,
   "metadata": {},
   "outputs": [],
   "source": [
    "sentences = df1['Review Text'].tolist()"
   ]
  },
  {
   "cell_type": "code",
   "execution_count": 14,
   "metadata": {},
   "outputs": [
    {
     "name": "stdout",
     "output_type": "stream",
     "text": [
      "17335\n",
      "['and', 'this', 'top', 'was', 'too', 'long', 'for', 'pretty', 'but', 'expensive', 'for', 'what']\n",
      "['bought', 'this', 'dress', 'store', 'and', 'suits', 'the', 'body', 'better', 'than', 'the', 'picture', 'the', 'pattern', 'exquisite', 'and', 'beautiful', 'receive', 'compliments', 'every', 'time', 'wear', 'made', 'silk', 'which', 'preferred', 'alternative', 'polyester', 'but', 'other', 'reviewers', 'mentioned', 'needs', 'slip', 'and', 'for', 'expensive', 'dress', 'should', 'come', 'with', 'one', 'should', 'fully', 'lined', 'only', 'lined', 'top', 'the', 'peep', 'hole', 'deep', 'but', 'body', 'doesn', 'gap', 'much', 'lbs', 'keeper', 'for', 'for', 'its', 'beauty']\n"
     ]
    }
   ],
   "source": [
    "print(len(sentences))\n",
    "print(sentences[1])\n",
    "print(sentences[17331-1])"
   ]
  },
  {
   "cell_type": "code",
   "execution_count": 15,
   "metadata": {},
   "outputs": [],
   "source": [
    "import gensim"
   ]
  },
  {
   "cell_type": "code",
   "execution_count": 16,
   "metadata": {},
   "outputs": [],
   "source": [
    "from gensim.models.callbacks import CallbackAny2Vec\n",
    "from gensim.models import Word2Vec\n",
    "\n",
    "# init callback class\n",
    "class callback(CallbackAny2Vec):\n",
    "    \"\"\"\n",
    "    Callback to print loss after each epoch\n",
    "    \"\"\"\n",
    "    def __init__(self):\n",
    "        self.epoch = 0\n",
    "\n",
    "    def on_epoch_end(self, model):\n",
    "        loss = model.get_latest_training_loss()\n",
    "        \n",
    "        if self.epoch == 0:\n",
    "            print('Loss after epoch {}: {}'.format(self.epoch, loss))\n",
    "        elif self.epoch % 100 == 0:\n",
    "            print('Loss after epoch {}: {}'.format(self.epoch, loss- self.loss_previous_step))\n",
    "        \n",
    "        \n",
    "        self.epoch += 1\n",
    "        self.loss_previous_step = loss"
   ]
  },
  {
   "cell_type": "code",
   "execution_count": 17,
   "metadata": {},
   "outputs": [
    {
     "name": "stdout",
     "output_type": "stream",
     "text": [
      "Loss after epoch 0: 114128.40625\n",
      "Loss after epoch 100: 63020.0\n",
      "Loss after epoch 200: 80626.0\n",
      "Loss after epoch 300: 54402.0\n",
      "Loss after epoch 400: 69120.0\n",
      "Loss after epoch 500: 56368.0\n",
      "Loss after epoch 600: 42432.0\n",
      "Loss after epoch 700: 42984.0\n",
      "Loss after epoch 800: 44672.0\n",
      "Loss after epoch 900: 41684.0\n",
      "Loss after epoch 1000: 40736.0\n",
      "elapsed time in seconds :265.99909806251526\n"
     ]
    }
   ],
   "source": [
    "# init word2vec class\n",
    "w2v_model = Word2Vec(size = 200,\n",
    "                     window = 15,\n",
    "                     min_count = 2,\n",
    "                     workers = 20,\n",
    "                     sg = 1,\n",
    "                     negative = 5,\n",
    "                     sample = 1e-5)\n",
    "# build vovab\n",
    "\n",
    "\n",
    "w2v_model.build_vocab(sentences)\n",
    "\n",
    "  \n",
    "# train the w2v model\n",
    "start = time.time()\n",
    "w2v_model.train(sentences, \n",
    "                total_examples=w2v_model.corpus_count, \n",
    "                epochs=1001, \n",
    "                report_delay=1,\n",
    "                compute_loss = True, # set compute_loss = True\n",
    "                callbacks=[callback()]) # add the callback class\n",
    "end = time.time()\n",
    "\n",
    "\n",
    "print(\"elapsed time in seconds :\"+ str(end - start))\n",
    "# save the word2vec model\n",
    "w2v_model.save('word2vec_women_dress.model')"
   ]
  },
  {
   "cell_type": "code",
   "execution_count": 18,
   "metadata": {},
   "outputs": [
    {
     "name": "stdout",
     "output_type": "stream",
     "text": [
      "Vocab size: 7223\n",
      "Top 3 words similar to traditional: [('thickest', 0.3836168348789215), ('wireless', 0.3767821788787842), ('flecked', 0.3625113368034363)]\n",
      "Top 3 words similar to party: [('holiday', 0.541772723197937), ('wore', 0.39284107089042664), ('special', 0.33264613151550293)]\n",
      "Similarity between skirt and shirt:0.34564477\n",
      "Similarity between belt and waist:0.43595392\n"
     ]
    }
   ],
   "source": [
    "reloaded_w2v_model = Word2Vec.load('word2vec_women_dress.model')\n",
    "words = list(reloaded_w2v_model.wv.vocab)\n",
    "print('Vocab size: '+str(len(words)))\n",
    "w1 = 'traditional'\n",
    "print(\"Top 3 words similar to traditional:\",\\\n",
    "      reloaded_w2v_model.wv.most_similar(positive = w1,topn =3))\n",
    "w1 = 'party'\n",
    "print(\"Top 3 words similar to party:\",\\\n",
    "      reloaded_w2v_model.wv.most_similar(positive = w1,topn =3))\n",
    "print(\"Similarity between skirt and shirt:\"+\\\n",
    "      str(reloaded_w2v_model.wv.similarity(w1=\"skirt\",w2=\"shirt\")))\n",
    "print(\"Similarity between belt and waist:\"+\\\n",
    "      str(reloaded_w2v_model.wv.similarity(w1=\"belt\",w2=\"waist\")))"
   ]
  },
  {
   "cell_type": "code",
   "execution_count": null,
   "metadata": {},
   "outputs": [],
   "source": []
  }
 ],
 "metadata": {
  "kernelspec": {
   "display_name": "pythonD",
   "language": "python",
   "name": "pythond"
  },
  "language_info": {
   "codemirror_mode": {
    "name": "ipython",
    "version": 3
   },
   "file_extension": ".py",
   "mimetype": "text/x-python",
   "name": "python",
   "nbconvert_exporter": "python",
   "pygments_lexer": "ipython3",
   "version": "3.8.8"
  }
 },
 "nbformat": 4,
 "nbformat_minor": 4
}
