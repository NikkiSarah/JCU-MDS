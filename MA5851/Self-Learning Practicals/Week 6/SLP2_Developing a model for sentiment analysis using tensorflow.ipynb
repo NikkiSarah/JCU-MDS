{
 "cells": [
  {
   "cell_type": "code",
   "execution_count": null,
   "metadata": {},
   "outputs": [],
   "source": [
    "student_name = \"Nikki Fitzherbert\"\n",
    "student_id = \"13848336\""
   ]
  },
  {
   "cell_type": "markdown",
   "metadata": {},
   "source": [
    "#### Step 1: Import the necessary libraries"
   ]
  },
  {
   "cell_type": "code",
   "execution_count": 1,
   "metadata": {},
   "outputs": [],
   "source": [
    "from __future__ import absolute_import, division, print_function, unicode_literals\n",
    "import tensorflow as tf\n",
    "from tensorflow import keras\n",
    "import numpy as np"
   ]
  },
  {
   "cell_type": "code",
   "execution_count": 2,
   "metadata": {},
   "outputs": [
    {
     "name": "stdout",
     "output_type": "stream",
     "text": [
      "2.4.1\n"
     ]
    }
   ],
   "source": [
    "print(tf.__version__)"
   ]
  },
  {
   "cell_type": "markdown",
   "metadata": {},
   "source": [
    "#### Step 2: Download the IMDB dataset\n",
    "\n",
    "The IMDB dataset comes packaged with TensorFlow. It has already been pre-processed such that the reviews (sequences of words) have been converted to sequences of integers, where each integer represents a specific word in a dictionary.\n",
    "\n",
    "The following code downloads the IMDB dataset to your machine (or uses a cached copy if it has already been downloaded). The argument num_words = 10000 keeps the top 10,000 most frequently occurring words in the training data. The rare words are discarded to keep the size of the data manageable."
   ]
  },
  {
   "cell_type": "code",
   "execution_count": 3,
   "metadata": {},
   "outputs": [
    {
     "name": "stderr",
     "output_type": "stream",
     "text": [
      "<__array_function__ internals>:5: VisibleDeprecationWarning: Creating an ndarray from ragged nested sequences (which is a list-or-tuple of lists-or-tuples-or ndarrays with different lengths or shapes) is deprecated. If you meant to do this, you must specify 'dtype=object' when creating the ndarray\n",
      "C:\\Users\\nikki\\.conda\\envs\\python_tfgpu\\lib\\site-packages\\tensorflow\\python\\keras\\datasets\\imdb.py:159: VisibleDeprecationWarning: Creating an ndarray from ragged nested sequences (which is a list-or-tuple of lists-or-tuples-or ndarrays with different lengths or shapes) is deprecated. If you meant to do this, you must specify 'dtype=object' when creating the ndarray\n",
      "  x_train, y_train = np.array(xs[:idx]), np.array(labels[:idx])\n",
      "C:\\Users\\nikki\\.conda\\envs\\python_tfgpu\\lib\\site-packages\\tensorflow\\python\\keras\\datasets\\imdb.py:160: VisibleDeprecationWarning: Creating an ndarray from ragged nested sequences (which is a list-or-tuple of lists-or-tuples-or ndarrays with different lengths or shapes) is deprecated. If you meant to do this, you must specify 'dtype=object' when creating the ndarray\n",
      "  x_test, y_test = np.array(xs[idx:]), np.array(labels[idx:])\n"
     ]
    }
   ],
   "source": [
    "imdb = keras.datasets.imdb\n",
    "\n",
    "(train_data, train_labels), (test_data, test_labels) = imdb.load_data(num_words=10000)"
   ]
  },
  {
   "cell_type": "markdown",
   "metadata": {},
   "source": [
    "#### Step 3: Explore the data\n",
    "\n",
    "The dataset comes pre-processed: each example is an array of integers representing the words of the movie review. Each label is an integer value of either 0 or 1, where 0 is a negative review, and 1 is a positive review."
   ]
  },
  {
   "cell_type": "code",
   "execution_count": 4,
   "metadata": {},
   "outputs": [
    {
     "name": "stdout",
     "output_type": "stream",
     "text": [
      "Training entries: 25000, labels: 25000\n"
     ]
    }
   ],
   "source": [
    "print(\"Training entries: {}, labels: {}\".format(len(train_data), len(train_labels)))"
   ]
  },
  {
   "cell_type": "markdown",
   "metadata": {},
   "source": [
    "The text of reviews has been converted to integers, where each integer represents a specific word in a dictionary. This is what the first review looks like:"
   ]
  },
  {
   "cell_type": "code",
   "execution_count": 5,
   "metadata": {},
   "outputs": [
    {
     "name": "stdout",
     "output_type": "stream",
     "text": [
      "[1, 14, 22, 16, 43, 530, 973, 1622, 1385, 65, 458, 4468, 66, 3941, 4, 173, 36, 256, 5, 25, 100, 43, 838, 112, 50, 670, 2, 9, 35, 480, 284, 5, 150, 4, 172, 112, 167, 2, 336, 385, 39, 4, 172, 4536, 1111, 17, 546, 38, 13, 447, 4, 192, 50, 16, 6, 147, 2025, 19, 14, 22, 4, 1920, 4613, 469, 4, 22, 71, 87, 12, 16, 43, 530, 38, 76, 15, 13, 1247, 4, 22, 17, 515, 17, 12, 16, 626, 18, 2, 5, 62, 386, 12, 8, 316, 8, 106, 5, 4, 2223, 5244, 16, 480, 66, 3785, 33, 4, 130, 12, 16, 38, 619, 5, 25, 124, 51, 36, 135, 48, 25, 1415, 33, 6, 22, 12, 215, 28, 77, 52, 5, 14, 407, 16, 82, 2, 8, 4, 107, 117, 5952, 15, 256, 4, 2, 7, 3766, 5, 723, 36, 71, 43, 530, 476, 26, 400, 317, 46, 7, 4, 2, 1029, 13, 104, 88, 4, 381, 15, 297, 98, 32, 2071, 56, 26, 141, 6, 194, 7486, 18, 4, 226, 22, 21, 134, 476, 26, 480, 5, 144, 30, 5535, 18, 51, 36, 28, 224, 92, 25, 104, 4, 226, 65, 16, 38, 1334, 88, 12, 16, 283, 5, 16, 4472, 113, 103, 32, 15, 16, 5345, 19, 178, 32]\n"
     ]
    }
   ],
   "source": [
    "print(train_data[0])"
   ]
  },
  {
   "cell_type": "markdown",
   "metadata": {},
   "source": [
    "Movie reviews may be different lengths. The following code shows the number of words in the first and second reviews. Since inputs to a neural network must be the same length, we'll need to resolve these length discrepancies."
   ]
  },
  {
   "cell_type": "code",
   "execution_count": 6,
   "metadata": {},
   "outputs": [
    {
     "data": {
      "text/plain": [
       "(218, 189)"
      ]
     },
     "execution_count": 6,
     "metadata": {},
     "output_type": "execute_result"
    }
   ],
   "source": [
    "len(train_data[0]), len(train_data[1])"
   ]
  },
  {
   "cell_type": "markdown",
   "metadata": {},
   "source": [
    "#### Step 4: Convert the integers back to words\n",
    "\n",
    "It may be useful to know how to convert integers back to text. This code creates a helper function to query a dictionary object that contains the integer to string mapping."
   ]
  },
  {
   "cell_type": "code",
   "execution_count": 7,
   "metadata": {},
   "outputs": [
    {
     "data": {
      "text/plain": [
       "\"<START> this film was just brilliant casting location scenery story direction everyone's really suited the part they played and you could just imagine being there robert <UNK> is an amazing actor and now the same being director <UNK> father came from the same scottish island as myself so i loved the fact there was a real connection with this film the witty remarks throughout the film were great it was just brilliant so much that i bought the film as soon as it was released for <UNK> and would recommend it to everyone to watch and the fly fishing was amazing really cried at the end it was so sad and you know what they say if you cry at a film it must have been good and this definitely was also <UNK> to the two little boy's that played the <UNK> of norman and paul they were just brilliant children are often left out of the <UNK> list i think because the stars that play them all grown up are such a big profile for the whole film but these children are amazing and should be praised for what they have done don't you think the whole story was so lovely because it was true and was someone's life after all that was shared with us all\""
      ]
     },
     "execution_count": 7,
     "metadata": {},
     "output_type": "execute_result"
    }
   ],
   "source": [
    "# A dictionary mapping words to an integer index\n",
    "word_index = imdb.get_word_index()\n",
    "\n",
    "# The first indices are reserved\n",
    "word_index = {k:(v+3) for k,v in word_index.items()}\n",
    "word_index[\"<PAD>\"] = 0\n",
    "word_index[\"<START>\"] = 1\n",
    "word_index[\"<UNK>\"] = 2  # unknown\n",
    "word_index[\"<UNUSED>\"] = 3\n",
    "\n",
    "reverse_word_index = dict([(value, key) for (key, value) in word_index.items()])\n",
    "\n",
    "def decode_review(text):\n",
    "    return ' '.join([reverse_word_index.get(i, '?') for i in text])\n",
    "\n",
    "\n",
    "decode_review(train_data[0])"
   ]
  },
  {
   "cell_type": "markdown",
   "metadata": {},
   "source": [
    "#### Step 5: Prepare the data\n",
    "\n",
    "The reviews – the arrays of integers – must be converted to tensors before being fed into the neural network. This conversion can be done a couple of ways:\n",
    "- Convert the arrays into vectors of 0s and 1s indicating word occurrence, similar to a one-hot encoding. For example, the sequence [3, 5] would become a 10 000-dimensional vector that is all zeros except for indices 3 and 5, which are ones. Then, make this the first layer in our network – a Dense layer – that can handle floating point vector data. This approach is memory intensive, though, requiring a num_words * num_reviews size matrix.\n",
    "- Alternatively, we can pad the arrays so they all have the same length, then create an integer tensor of shape max_length * num_reviews. We can use an embedding layer capable of handling this shape as the first layer in our network.\n",
    "\n",
    "This tutorial uses the second approach. Since the movie reviews must be the same length, the pad_sequences function is used to standardise the lengths:"
   ]
  },
  {
   "cell_type": "code",
   "execution_count": 8,
   "metadata": {},
   "outputs": [],
   "source": [
    "train_data = keras.preprocessing.sequence.pad_sequences(train_data,\n",
    "                                                        value=word_index[\"<PAD>\"],\n",
    "                                                        padding='post',\n",
    "                                                        maxlen=256)\n",
    "\n",
    "test_data = keras.preprocessing.sequence.pad_sequences(test_data,\n",
    "                                                       value=word_index[\"<PAD>\"],\n",
    "                                                       padding='post',\n",
    "                                                       maxlen=256)"
   ]
  },
  {
   "cell_type": "markdown",
   "metadata": {},
   "source": [
    "Let’s take a look again at the length of the two example datasets we looked at in step 3.  Now that the length is different from before, we will have to train the data again:"
   ]
  },
  {
   "cell_type": "code",
   "execution_count": 9,
   "metadata": {},
   "outputs": [
    {
     "data": {
      "text/plain": [
       "(256, 256)"
      ]
     },
     "execution_count": 9,
     "metadata": {},
     "output_type": "execute_result"
    }
   ],
   "source": [
    "len(train_data[0]), len(train_data[1])"
   ]
  },
  {
   "cell_type": "markdown",
   "metadata": {},
   "source": [
    "And inspect the padded first review:"
   ]
  },
  {
   "cell_type": "code",
   "execution_count": 10,
   "metadata": {},
   "outputs": [
    {
     "name": "stdout",
     "output_type": "stream",
     "text": [
      "[   1   14   22   16   43  530  973 1622 1385   65  458 4468   66 3941\n",
      "    4  173   36  256    5   25  100   43  838  112   50  670    2    9\n",
      "   35  480  284    5  150    4  172  112  167    2  336  385   39    4\n",
      "  172 4536 1111   17  546   38   13  447    4  192   50   16    6  147\n",
      " 2025   19   14   22    4 1920 4613  469    4   22   71   87   12   16\n",
      "   43  530   38   76   15   13 1247    4   22   17  515   17   12   16\n",
      "  626   18    2    5   62  386   12    8  316    8  106    5    4 2223\n",
      " 5244   16  480   66 3785   33    4  130   12   16   38  619    5   25\n",
      "  124   51   36  135   48   25 1415   33    6   22   12  215   28   77\n",
      "   52    5   14  407   16   82    2    8    4  107  117 5952   15  256\n",
      "    4    2    7 3766    5  723   36   71   43  530  476   26  400  317\n",
      "   46    7    4    2 1029   13  104   88    4  381   15  297   98   32\n",
      " 2071   56   26  141    6  194 7486   18    4  226   22   21  134  476\n",
      "   26  480    5  144   30 5535   18   51   36   28  224   92   25  104\n",
      "    4  226   65   16   38 1334   88   12   16  283    5   16 4472  113\n",
      "  103   32   15   16 5345   19  178   32    0    0    0    0    0    0\n",
      "    0    0    0    0    0    0    0    0    0    0    0    0    0    0\n",
      "    0    0    0    0    0    0    0    0    0    0    0    0    0    0\n",
      "    0    0    0    0]\n"
     ]
    }
   ],
   "source": [
    "print(train_data[0])"
   ]
  },
  {
   "cell_type": "markdown",
   "metadata": {},
   "source": [
    "#### Step 6: Build the model\n",
    "\n",
    "The neural network is created by stacking layers – this requires two main architectural decisions:\n",
    "- How many layers to use in the model?\n",
    "- How many hidden units to use for each layer?\n",
    "\n",
    "In this example, the input data consists of an array of word-indices. The labels to predict are either 0 or 1.\n",
    "\n",
    "When you have only two classes (binary classification), your model should output a single probability score. For instance, outputting 0.2 for a given input sample means '20% confidence that this sample is in the first class (class 1), 80% that it is in the second class (class 0)'. To output such a probability score, the activation function of the last layer should be a sigmoid function."
   ]
  },
  {
   "cell_type": "code",
   "execution_count": 11,
   "metadata": {},
   "outputs": [],
   "source": [
    "#input shape is the vocabulary count used for the movie reviews (10,000 words)\n",
    "vocab_size = 10000\n",
    "model = keras.Sequential()\n",
    "model.add(keras.layers.Embedding(vocab_size, 16))\n",
    "model.add(keras.layers.GlobalAveragePooling1D())\n",
    "model.add(keras.layers.Dense(16, activation=tf.nn.relu))\n",
    "model.add(keras.layers.Dense(1, activation=tf.nn.sigmoid))"
   ]
  },
  {
   "cell_type": "markdown",
   "metadata": {},
   "source": [
    "The layers are stacked sequentially to build the classifier:\n",
    "- The first layer is an Embedding layer. This layer takes the integer-encoded vocabulary and looks up the embedding vector for each word-index. These vectors are learned as the model trains. The vectors add a dimension to the output array. The resulting dimensions are: (batch, sequence, embedding).\n",
    "- Next, a GlobalAveragePooling1D layer returns a fixed-length output vector for each example by averaging over the sequence dimension. This allows the model to handle input of variable lengths, in the simplest way possible.\n",
    "- This fixed-length output vector is piped through a fully connected (Dense) layer with 16 hidden units.\n",
    "- The last layer is densely connected with a single output node. Using the sigmoid activation function, this value is a float between 0 and 1, representing a probability, or confidence level."
   ]
  },
  {
   "cell_type": "code",
   "execution_count": 12,
   "metadata": {},
   "outputs": [
    {
     "name": "stdout",
     "output_type": "stream",
     "text": [
      "Model: \"sequential\"\n",
      "_________________________________________________________________\n",
      "Layer (type)                 Output Shape              Param #   \n",
      "=================================================================\n",
      "embedding (Embedding)        (None, None, 16)          160000    \n",
      "_________________________________________________________________\n",
      "global_average_pooling1d (Gl (None, 16)                0         \n",
      "_________________________________________________________________\n",
      "dense (Dense)                (None, 16)                272       \n",
      "_________________________________________________________________\n",
      "dense_1 (Dense)              (None, 1)                 17        \n",
      "=================================================================\n",
      "Total params: 160,289\n",
      "Trainable params: 160,289\n",
      "Non-trainable params: 0\n",
      "_________________________________________________________________\n"
     ]
    }
   ],
   "source": [
    "model.summary()"
   ]
  },
  {
   "cell_type": "markdown",
   "metadata": {},
   "source": [
    "##### Hidden units\n",
    "\n",
    "The above model has two intermediate or 'hidden' layers, between the input and output. The number of outputs (units, nodes, or neurons) is the dimension of the representational space for the layer. In other words, the amount of freedom the network is allowed when learning an internal representation.\n",
    "\n",
    "If a model has more hidden units (a higher-dimensional representation space), and/or more layers, then the network can learn more complex representations. However, it makes the network more computationally expensive and may lead to learning unwanted patterns – patterns that improve performance on training data but not on the test data. This is called 'overfitting', and you might have explored it before."
   ]
  },
  {
   "cell_type": "markdown",
   "metadata": {},
   "source": [
    "#### Step 8: Loss function and optimiser\n",
    "\n",
    "A model needs a loss function and an optimizer for training. Since this is a binary classification problem and the model outputs a probability (a single-unit layer with a sigmoid activation), we'll use the binary_crossentropy loss function.\n",
    "\n",
    "This isn't the only choice for a loss function, you could, for instance, choose mean_squared_error. But, generally, binary_crossentropy is better for dealing with probabilities—it measures the \"distance\" between probability distributions, or in this case, between the ground-truth distribution and the predictions. If you are exploring regression problems (say, to predict the price of a house), you may learn how to use another loss function called mean squared error."
   ]
  },
  {
   "cell_type": "code",
   "execution_count": 13,
   "metadata": {},
   "outputs": [],
   "source": [
    "# configure the model to use a loss function and optimiser\n",
    "model.compile(optimizer='adam',\n",
    "              loss='binary_crossentropy',\n",
    "              metrics=['acc'])"
   ]
  },
  {
   "cell_type": "markdown",
   "metadata": {},
   "source": [
    "#### Step 9: Create a validation set\n",
    "\n",
    "When training, you want to check the accuracy of the model on data it hasn't seen before. Create a validation set by setting apart 10,000 examples from the original training data."
   ]
  },
  {
   "cell_type": "code",
   "execution_count": 14,
   "metadata": {},
   "outputs": [],
   "source": [
    "x_val = train_data[:10000]\n",
    "partial_x_train = train_data[10000:]\n",
    "\n",
    "y_val = train_labels[:10000]\n",
    "partial_y_train = train_labels[10000:]"
   ]
  },
  {
   "cell_type": "markdown",
   "metadata": {},
   "source": [
    "#### Step 10: Train the model\n",
    "\n",
    "Train the model for 40 epochs in mini-batches of 512 samples. This is 40 iterations over all samples in the x_train and y_train tensors. While training, monitor the model's loss and accuracy on the 10,000 samples from the validation set."
   ]
  },
  {
   "cell_type": "code",
   "execution_count": 15,
   "metadata": {},
   "outputs": [
    {
     "name": "stdout",
     "output_type": "stream",
     "text": [
      "Epoch 1/40\n",
      "30/30 [==============================] - 3s 46ms/step - loss: 0.6922 - acc: 0.5713 - val_loss: 0.6881 - val_acc: 0.6639\n",
      "Epoch 2/40\n",
      "30/30 [==============================] - 1s 19ms/step - loss: 0.6853 - acc: 0.7164 - val_loss: 0.6779 - val_acc: 0.7507\n",
      "Epoch 3/40\n",
      "30/30 [==============================] - 1s 19ms/step - loss: 0.6722 - acc: 0.7512 - val_loss: 0.6597 - val_acc: 0.7528\n",
      "Epoch 4/40\n",
      "30/30 [==============================] - 1s 19ms/step - loss: 0.6505 - acc: 0.7720 - val_loss: 0.6329 - val_acc: 0.7715\n",
      "Epoch 5/40\n",
      "30/30 [==============================] - 1s 19ms/step - loss: 0.6175 - acc: 0.7940 - val_loss: 0.5970 - val_acc: 0.7905\n",
      "Epoch 6/40\n",
      "30/30 [==============================] - 1s 19ms/step - loss: 0.5753 - acc: 0.8170 - val_loss: 0.5565 - val_acc: 0.8063\n",
      "Epoch 7/40\n",
      "30/30 [==============================] - 1s 19ms/step - loss: 0.5308 - acc: 0.8298 - val_loss: 0.5156 - val_acc: 0.8211\n",
      "Epoch 8/40\n",
      "30/30 [==============================] - 1s 19ms/step - loss: 0.4865 - acc: 0.8452 - val_loss: 0.4754 - val_acc: 0.8344\n",
      "Epoch 9/40\n",
      "30/30 [==============================] - 1s 19ms/step - loss: 0.4437 - acc: 0.8584 - val_loss: 0.4409 - val_acc: 0.8439\n",
      "Epoch 10/40\n",
      "30/30 [==============================] - 1s 20ms/step - loss: 0.4006 - acc: 0.8783 - val_loss: 0.4112 - val_acc: 0.8503\n",
      "Epoch 11/40\n",
      "30/30 [==============================] - 1s 20ms/step - loss: 0.3711 - acc: 0.8801 - val_loss: 0.3866 - val_acc: 0.8573\n",
      "Epoch 12/40\n",
      "30/30 [==============================] - 1s 20ms/step - loss: 0.3462 - acc: 0.8847 - val_loss: 0.3670 - val_acc: 0.8627\n",
      "Epoch 13/40\n",
      "30/30 [==============================] - 1s 19ms/step - loss: 0.3164 - acc: 0.8941 - val_loss: 0.3514 - val_acc: 0.8660\n",
      "Epoch 14/40\n",
      "30/30 [==============================] - 1s 19ms/step - loss: 0.2990 - acc: 0.9004 - val_loss: 0.3376 - val_acc: 0.8719\n",
      "Epoch 15/40\n",
      "30/30 [==============================] - 1s 19ms/step - loss: 0.2776 - acc: 0.9079 - val_loss: 0.3268 - val_acc: 0.8750\n",
      "Epoch 16/40\n",
      "30/30 [==============================] - 1s 19ms/step - loss: 0.2601 - acc: 0.9102 - val_loss: 0.3176 - val_acc: 0.8786\n",
      "Epoch 17/40\n",
      "30/30 [==============================] - 1s 19ms/step - loss: 0.2405 - acc: 0.9211 - val_loss: 0.3103 - val_acc: 0.8790\n",
      "Epoch 18/40\n",
      "30/30 [==============================] - 1s 19ms/step - loss: 0.2330 - acc: 0.9207 - val_loss: 0.3050 - val_acc: 0.8783\n",
      "Epoch 19/40\n",
      "30/30 [==============================] - 1s 19ms/step - loss: 0.2257 - acc: 0.9210 - val_loss: 0.2997 - val_acc: 0.8805\n",
      "Epoch 20/40\n",
      "30/30 [==============================] - 1s 19ms/step - loss: 0.2128 - acc: 0.9286 - val_loss: 0.2958 - val_acc: 0.8836\n",
      "Epoch 21/40\n",
      "30/30 [==============================] - 1s 19ms/step - loss: 0.2043 - acc: 0.9313 - val_loss: 0.2926 - val_acc: 0.8828\n",
      "Epoch 22/40\n",
      "30/30 [==============================] - 1s 21ms/step - loss: 0.1907 - acc: 0.9377 - val_loss: 0.2902 - val_acc: 0.8839\n",
      "Epoch 23/40\n",
      "30/30 [==============================] - 1s 19ms/step - loss: 0.1830 - acc: 0.9401 - val_loss: 0.2882 - val_acc: 0.8844\n",
      "Epoch 24/40\n",
      "30/30 [==============================] - 1s 19ms/step - loss: 0.1755 - acc: 0.9433 - val_loss: 0.2870 - val_acc: 0.8846\n",
      "Epoch 25/40\n",
      "30/30 [==============================] - 1s 19ms/step - loss: 0.1759 - acc: 0.9442 - val_loss: 0.2862 - val_acc: 0.8850\n",
      "Epoch 26/40\n",
      "30/30 [==============================] - 1s 19ms/step - loss: 0.1628 - acc: 0.9513 - val_loss: 0.2862 - val_acc: 0.8854\n",
      "Epoch 27/40\n",
      "30/30 [==============================] - 1s 19ms/step - loss: 0.1508 - acc: 0.9537 - val_loss: 0.2860 - val_acc: 0.8849\n",
      "Epoch 28/40\n",
      "30/30 [==============================] - 1s 19ms/step - loss: 0.1468 - acc: 0.9552 - val_loss: 0.2873 - val_acc: 0.8855\n",
      "Epoch 29/40\n",
      "30/30 [==============================] - 1s 19ms/step - loss: 0.1387 - acc: 0.9592 - val_loss: 0.2879 - val_acc: 0.8860\n",
      "Epoch 30/40\n",
      "30/30 [==============================] - 1s 19ms/step - loss: 0.1367 - acc: 0.9598 - val_loss: 0.2893 - val_acc: 0.8846\n",
      "Epoch 31/40\n",
      "30/30 [==============================] - 1s 19ms/step - loss: 0.1343 - acc: 0.9593 - val_loss: 0.2900 - val_acc: 0.8860\n",
      "Epoch 32/40\n",
      "30/30 [==============================] - 1s 19ms/step - loss: 0.1291 - acc: 0.9622 - val_loss: 0.2915 - val_acc: 0.8866\n",
      "Epoch 33/40\n",
      "30/30 [==============================] - 1s 18ms/step - loss: 0.1193 - acc: 0.9666 - val_loss: 0.2939 - val_acc: 0.8845\n",
      "Epoch 34/40\n",
      "30/30 [==============================] - 1s 19ms/step - loss: 0.1214 - acc: 0.9665 - val_loss: 0.2964 - val_acc: 0.8853\n",
      "Epoch 35/40\n",
      "30/30 [==============================] - 1s 19ms/step - loss: 0.1117 - acc: 0.9674 - val_loss: 0.2980 - val_acc: 0.8845\n",
      "Epoch 36/40\n",
      "30/30 [==============================] - 1s 19ms/step - loss: 0.1076 - acc: 0.9705 - val_loss: 0.3013 - val_acc: 0.8850\n",
      "Epoch 37/40\n",
      "30/30 [==============================] - 1s 20ms/step - loss: 0.1000 - acc: 0.9727 - val_loss: 0.3030 - val_acc: 0.8842\n",
      "Epoch 38/40\n",
      "30/30 [==============================] - 1s 20ms/step - loss: 0.0998 - acc: 0.9746 - val_loss: 0.3068 - val_acc: 0.8833\n",
      "Epoch 39/40\n",
      "30/30 [==============================] - 1s 20ms/step - loss: 0.0938 - acc: 0.9758 - val_loss: 0.3095 - val_acc: 0.8825\n",
      "Epoch 40/40\n",
      "30/30 [==============================] - 1s 19ms/step - loss: 0.0927 - acc: 0.9761 - val_loss: 0.3153 - val_acc: 0.8811\n"
     ]
    }
   ],
   "source": [
    "history = model.fit(partial_x_train,\n",
    "                    partial_y_train,\n",
    "                    epochs=40,\n",
    "                    batch_size=512,\n",
    "                    validation_data=(x_val, y_val),\n",
    "                    verbose=1)"
   ]
  },
  {
   "cell_type": "markdown",
   "metadata": {},
   "source": [
    "#### Step 11: Evaluate the model\n",
    "\n",
    "Let's see how the model performs. Two values will be returned: loss (a number which represents our error, lower values are better), and accuracy.\n",
    "\n",
    "This fairly naive approach achieves an accuracy of about 87 per cent. With more advanced approaches, the model should get closer to 95 per cent."
   ]
  },
  {
   "cell_type": "code",
   "execution_count": 16,
   "metadata": {},
   "outputs": [
    {
     "name": "stdout",
     "output_type": "stream",
     "text": [
      "782/782 [==============================] - 2s 3ms/step - loss: 0.3383 - acc: 0.8693\n",
      "[0.33829477429389954, 0.8693199753761292]\n"
     ]
    }
   ],
   "source": [
    "results = model.evaluate(test_data, test_labels)\n",
    "print(results)"
   ]
  },
  {
   "cell_type": "markdown",
   "metadata": {},
   "source": [
    "#### Step 12: Plot accuracy and loss over time\n",
    "\n",
    "model.fit() returns a history object that contains a dictionary with everything that happened during training."
   ]
  },
  {
   "cell_type": "code",
   "execution_count": 17,
   "metadata": {},
   "outputs": [
    {
     "data": {
      "text/plain": [
       "dict_keys(['loss', 'acc', 'val_loss', 'val_acc'])"
      ]
     },
     "execution_count": 17,
     "metadata": {},
     "output_type": "execute_result"
    }
   ],
   "source": [
    "history_dict = history.history\n",
    "history_dict.keys()"
   ]
  },
  {
   "cell_type": "markdown",
   "metadata": {},
   "source": [
    "There are four entries: one for each monitored metric during training and validation. The val_acc, acc, val_loss and loss parameters can be used to plot the training and validation loss for comparison, as well as the training and validation accuracy.\n",
    "\n",
    "With the increment of epochs the model gets lower loss function value, which means model overfitting could become an issue."
   ]
  },
  {
   "cell_type": "code",
   "execution_count": 18,
   "metadata": {},
   "outputs": [
    {
     "data": {
      "image/png": "[encoded data removed]",
      "text/plain": [
       "<Figure size 432x288 with 1 Axes>"
      ]
     },
     "metadata": {
      "needs_background": "light"
     },
     "output_type": "display_data"
    }
   ],
   "source": [
    "import matplotlib.pyplot as plt\n",
    "\n",
    "acc = history_dict['acc']\n",
    "val_acc = history_dict['val_acc']\n",
    "loss = history_dict['loss']\n",
    "val_loss = history_dict['val_loss']\n",
    "\n",
    "epochs = range(1, len(acc) + 1)\n",
    "\n",
    "# \"bo\" is for \"blue dot\"\n",
    "plt.plot(epochs, loss, 'bo', label='Training loss')\n",
    "# b is for \"solid blue line\"\n",
    "plt.plot(epochs, val_loss, 'b', label='Validation loss')\n",
    "plt.title('Training and validation loss')\n",
    "plt.xlabel('Epochs')\n",
    "plt.ylabel('Loss')\n",
    "plt.legend()\n",
    "\n",
    "plt.show()"
   ]
  },
  {
   "cell_type": "markdown",
   "metadata": {},
   "source": [
    "In this plot, the dots represent the training loss and accuracy, and the solid lines are the validation loss and accuracy.\n",
    "\n",
    "Notice the training loss decreases with each epoch and the training accuracy increases with each epoch. This is expected when using a gradient descent optimization—it should minimize the desired quantity on every iteration.\n",
    "\n",
    "This isn't the case for the validation loss and accuracy—they seem to peak after about twenty epochs. This is an example of overfitting: the model performs better on the training data than it does on data it has never seen before. After this point, the model over-optimizes and learns representations specific to the training data that do not generalize to test data.\n",
    "\n",
    "For this particular case, you could prevent overfitting by simply stopping the training after twenty or so epochs. This can be done automatically with a callback."
   ]
  },
  {
   "cell_type": "code",
   "execution_count": 19,
   "metadata": {},
   "outputs": [
    {
     "data": {
      "image/png": "[encoded data removed]",
      "text/plain": [
       "<Figure size 432x288 with 1 Axes>"
      ]
     },
     "metadata": {
      "needs_background": "light"
     },
     "output_type": "display_data"
    }
   ],
   "source": [
    "plt.clf()   # clear figure\n",
    "\n",
    "plt.plot(epochs, acc, 'bo', label='Training acc')\n",
    "plt.plot(epochs, val_acc, 'b', label='Validation acc')\n",
    "plt.title('Training and validation accuracy')\n",
    "plt.xlabel('Epochs')\n",
    "plt.ylabel('Accuracy')\n",
    "plt.legend()\n",
    "plt.show()"
   ]
  },
  {
   "cell_type": "code",
   "execution_count": null,
   "metadata": {},
   "outputs": [],
   "source": []
  }
 ],
 "metadata": {
  "kernelspec": {
   "display_name": "python_tfgpu",
   "language": "python",
   "name": "python_tfgpu"
  },
  "language_info": {
   "codemirror_mode": {
    "name": "ipython",
    "version": 3
   },
   "file_extension": ".py",
   "mimetype": "text/x-python",
   "name": "python",
   "nbconvert_exporter": "python",
   "pygments_lexer": "ipython3",
   "version": "3.8.8"
  }
 },
 "nbformat": 4,
 "nbformat_minor": 4
}
