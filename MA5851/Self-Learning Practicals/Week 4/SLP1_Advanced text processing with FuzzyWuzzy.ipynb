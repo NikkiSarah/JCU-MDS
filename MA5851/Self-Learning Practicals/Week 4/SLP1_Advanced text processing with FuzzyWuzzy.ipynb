{
 "cells": [
  {
   "cell_type": "code",
   "execution_count": null,
   "metadata": {},
   "outputs": [],
   "source": [
    "student_name = \"Nikki Fitzherbert\"\n",
    "student_id = \"13848336\""
   ]
  },
  {
   "cell_type": "markdown",
   "metadata": {},
   "source": [
    "#### Steps 1 and 2\n",
    "Download and save the given csv file and install the FuzzyWuzzy library."
   ]
  },
  {
   "cell_type": "markdown",
   "metadata": {},
   "source": [
    "#### Step 3\n",
    "Import pandas and read in the saved csv file."
   ]
  },
  {
   "cell_type": "code",
   "execution_count": 2,
   "metadata": {},
   "outputs": [
    {
     "data": {
      "text/html": [
       "<div>\n",
       "<style scoped>\n",
       "    .dataframe tbody tr th:only-of-type {\n",
       "        vertical-align: middle;\n",
       "    }\n",
       "\n",
       "    .dataframe tbody tr th {\n",
       "        vertical-align: top;\n",
       "    }\n",
       "\n",
       "    .dataframe thead th {\n",
       "        text-align: right;\n",
       "    }\n",
       "</style>\n",
       "<table border=\"1\" class=\"dataframe\">\n",
       "  <thead>\n",
       "    <tr style=\"text-align: right;\">\n",
       "      <th></th>\n",
       "      <th>Expedia</th>\n",
       "      <th>Booking.com</th>\n",
       "    </tr>\n",
       "  </thead>\n",
       "  <tbody>\n",
       "    <tr>\n",
       "      <th>0</th>\n",
       "      <td>Deluxe Room, 1 King Bed</td>\n",
       "      <td>Deluxe King Room</td>\n",
       "    </tr>\n",
       "    <tr>\n",
       "      <th>1</th>\n",
       "      <td>Standard Room, 1 King Bed, Accessible</td>\n",
       "      <td>Standard King Roll-in Shower Accessible</td>\n",
       "    </tr>\n",
       "    <tr>\n",
       "      <th>2</th>\n",
       "      <td>Grand Corner King Room, 1 King Bed</td>\n",
       "      <td>Grand Corner King Room</td>\n",
       "    </tr>\n",
       "    <tr>\n",
       "      <th>3</th>\n",
       "      <td>Suite, 1 King Bed (Parlor)</td>\n",
       "      <td>King Parlor Suite</td>\n",
       "    </tr>\n",
       "    <tr>\n",
       "      <th>4</th>\n",
       "      <td>High-Floor Premium Room, 1 King Bed</td>\n",
       "      <td>High-Floor Premium King Room</td>\n",
       "    </tr>\n",
       "    <tr>\n",
       "      <th>5</th>\n",
       "      <td>Traditional Double Room, 2 Double Beds</td>\n",
       "      <td>Double Room with Two Double Beds</td>\n",
       "    </tr>\n",
       "    <tr>\n",
       "      <th>6</th>\n",
       "      <td>Room, 1 King Bed, Accessible</td>\n",
       "      <td>King Room - Disability Access</td>\n",
       "    </tr>\n",
       "    <tr>\n",
       "      <th>7</th>\n",
       "      <td>Deluxe Room, 1 King Bed</td>\n",
       "      <td>Deluxe King Room</td>\n",
       "    </tr>\n",
       "    <tr>\n",
       "      <th>8</th>\n",
       "      <td>Deluxe Room</td>\n",
       "      <td>Deluxe Room (Non Refundable)</td>\n",
       "    </tr>\n",
       "    <tr>\n",
       "      <th>9</th>\n",
       "      <td>Room, 2 Double Beds (19th to 25th Floors)</td>\n",
       "      <td>Two Double Beds - Location Room (19th to 25th ...</td>\n",
       "    </tr>\n",
       "  </tbody>\n",
       "</table>\n",
       "</div>"
      ],
      "text/plain": [
       "                                     Expedia  \\\n",
       "0                    Deluxe Room, 1 King Bed   \n",
       "1      Standard Room, 1 King Bed, Accessible   \n",
       "2         Grand Corner King Room, 1 King Bed   \n",
       "3                 Suite, 1 King Bed (Parlor)   \n",
       "4        High-Floor Premium Room, 1 King Bed   \n",
       "5     Traditional Double Room, 2 Double Beds   \n",
       "6               Room, 1 King Bed, Accessible   \n",
       "7                    Deluxe Room, 1 King Bed   \n",
       "8                                Deluxe Room   \n",
       "9  Room, 2 Double Beds (19th to 25th Floors)   \n",
       "\n",
       "                                         Booking.com  \n",
       "0                                   Deluxe King Room  \n",
       "1            Standard King Roll-in Shower Accessible  \n",
       "2                             Grand Corner King Room  \n",
       "3                                  King Parlor Suite  \n",
       "4                       High-Floor Premium King Room  \n",
       "5                   Double Room with Two Double Beds  \n",
       "6                      King Room - Disability Access  \n",
       "7                                   Deluxe King Room  \n",
       "8                       Deluxe Room (Non Refundable)  \n",
       "9  Two Double Beds - Location Room (19th to 25th ...  "
      ]
     },
     "execution_count": 2,
     "metadata": {},
     "output_type": "execute_result"
    }
   ],
   "source": [
    "import pandas as pd\n",
    "\n",
    "df = pd.read_csv('Wk4_SLP1_room_type.csv')\n",
    "df.head(10)"
   ]
  },
  {
   "cell_type": "markdown",
   "metadata": {},
   "source": [
    "#### Steps 4 & 5\n",
    "Import fuzz from FuzzyWuzzy and use the 'ratio' approach to compare string similarity. The results indicate that this approach is far too sensitive to minor differences in word order, missing or extra words and other similar issues."
   ]
  },
  {
   "cell_type": "code",
   "execution_count": 1,
   "metadata": {},
   "outputs": [],
   "source": [
    "from fuzzywuzzy import fuzz"
   ]
  },
  {
   "cell_type": "code",
   "execution_count": 7,
   "metadata": {},
   "outputs": [
    {
     "name": "stdout",
     "output_type": "stream",
     "text": [
      "62\n",
      "69\n",
      "74\n"
     ]
    }
   ],
   "source": [
    "string1 = df.Expedia[0]\n",
    "string2 = df['Booking.com'][0]\n",
    "\n",
    "score = fuzz.ratio(string1, string2)\n",
    "print(score)\n",
    "\n",
    "#-----#\n",
    "string1 = df.Expedia[5]\n",
    "string2 = df['Booking.com'][5]\n",
    "\n",
    "score = fuzz.ratio(string1, string2)\n",
    "print(score)\n",
    "\n",
    "#-----#\n",
    "string1 = df.Expedia[9]\n",
    "string2 = df['Booking.com'][9]\n",
    "\n",
    "score = fuzz.ratio(string1, string2)\n",
    "print(score)"
   ]
  },
  {
   "cell_type": "markdown",
   "metadata": {},
   "source": [
    "#### Step 6\n",
    "Use the 'partial ratio' approach to compare string similarity. It turns out that there is little difference/improvement to the results."
   ]
  },
  {
   "cell_type": "code",
   "execution_count": 8,
   "metadata": {},
   "outputs": [
    {
     "name": "stdout",
     "output_type": "stream",
     "text": [
      "69\n",
      "83\n",
      "63\n"
     ]
    }
   ],
   "source": [
    "string1 = df.Expedia[0]\n",
    "string2 = df['Booking.com'][0]\n",
    "\n",
    "score = fuzz.partial_ratio(string1, string2)\n",
    "print(score)\n",
    "\n",
    "#-----#\n",
    "string1 = df.Expedia[5]\n",
    "string2 = df['Booking.com'][5]\n",
    "\n",
    "score = fuzz.partial_ratio(string1, string2)\n",
    "print(score)\n",
    "\n",
    "#-----#\n",
    "string1 = df.Expedia[9]\n",
    "string2 = df['Booking.com'][9]\n",
    "\n",
    "score = fuzz.partial_ratio(string1, string2)\n",
    "print(score)"
   ]
  },
  {
   "cell_type": "markdown",
   "metadata": {},
   "source": [
    "#### Step 7\n",
    "The 'token sort ratio' ignores word order when comparing strings."
   ]
  },
  {
   "cell_type": "code",
   "execution_count": 9,
   "metadata": {},
   "outputs": [
    {
     "name": "stdout",
     "output_type": "stream",
     "text": [
      "84\n",
      "78\n",
      "83\n"
     ]
    }
   ],
   "source": [
    "string1 = df.Expedia[0]\n",
    "string2 = df['Booking.com'][0]\n",
    "\n",
    "score = fuzz.token_sort_ratio(string1, string2)\n",
    "print(score)\n",
    "\n",
    "#-----#\n",
    "string1 = df.Expedia[5]\n",
    "string2 = df['Booking.com'][5]\n",
    "\n",
    "score = fuzz.token_sort_ratio(string1, string2)\n",
    "print(score)\n",
    "\n",
    "#-----#\n",
    "string1 = df.Expedia[9]\n",
    "string2 = df['Booking.com'][9]\n",
    "\n",
    "score = fuzz.token_sort_ratio(string1, string2)\n",
    "print(score)"
   ]
  },
  {
   "cell_type": "markdown",
   "metadata": {},
   "source": [
    "#### Step 8\n",
    "And the 'token set ratio' ignores duplicated words. It's similar to the previous approach, but somewhat more flexible. The results indicate that this approach is the most suitable for this dataset."
   ]
  },
  {
   "cell_type": "code",
   "execution_count": 10,
   "metadata": {},
   "outputs": [
    {
     "name": "stdout",
     "output_type": "stream",
     "text": [
      "100\n",
      "78\n",
      "97\n"
     ]
    }
   ],
   "source": [
    "string1 = df.Expedia[0]\n",
    "string2 = df['Booking.com'][0]\n",
    "\n",
    "score = fuzz.token_set_ratio(string1, string2)\n",
    "print(score)\n",
    "\n",
    "#-----#\n",
    "string1 = df.Expedia[5]\n",
    "string2 = df['Booking.com'][5]\n",
    "\n",
    "score = fuzz.token_set_ratio(string1, string2)\n",
    "print(score)\n",
    "\n",
    "#-----#\n",
    "string1 = df.Expedia[9]\n",
    "string2 = df['Booking.com'][9]\n",
    "\n",
    "score = fuzz.token_set_ratio(string1, string2)\n",
    "print(score)"
   ]
  },
  {
   "cell_type": "markdown",
   "metadata": {},
   "source": [
    "#### Step 9\n",
    "Construct a fucntion using the 'token_set_ratio' approach and apply it to the entire dataset. Over 90% of the pairs exceeded the specified minimum match score of 70."
   ]
  },
  {
   "cell_type": "code",
   "execution_count": 12,
   "metadata": {},
   "outputs": [
    {
     "data": {
      "text/plain": [
       "0.9029126213592233"
      ]
     },
     "execution_count": 12,
     "metadata": {},
     "output_type": "execute_result"
    }
   ],
   "source": [
    "def get_ratio(row):\n",
    "    name = row['Expedia']\n",
    "    name2 = row['Booking.com']\n",
    "    return fuzz.token_set_ratio(name, name2)\n",
    "\n",
    "len(df[df.apply(get_ratio, axis=1) > 70]) / len(df) # set a minimum match score of 70."
   ]
  }
 ],
 "metadata": {
  "kernelspec": {
   "display_name": "Python 3",
   "language": "python",
   "name": "python3"
  },
  "language_info": {
   "codemirror_mode": {
    "name": "ipython",
    "version": 3
   },
   "file_extension": ".py",
   "mimetype": "text/x-python",
   "name": "python",
   "nbconvert_exporter": "python",
   "pygments_lexer": "ipython3",
   "version": "3.8.5"
  }
 },
 "nbformat": 4,
 "nbformat_minor": 4
}
