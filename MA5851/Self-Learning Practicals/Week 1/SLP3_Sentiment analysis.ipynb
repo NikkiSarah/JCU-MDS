{
 "cells": [
  {
   "cell_type": "code",
   "execution_count": null,
   "metadata": {},
   "outputs": [],
   "source": [
    "student_name = \"Nikki Fitzherbert\"\n",
    "student_id = \"13848336\""
   ]
  },
  {
   "cell_type": "markdown",
   "metadata": {},
   "source": [
    "## Sentiment Analysis of Political Tweets\n",
    "\n",
    "As discussed in class, sentiment analysis tries to measure the positive or negative sentiment expressed in a message.  It is commonly used to track the mood of the nation on all kinds of topics through the analysis of Twitter data.  \n",
    "\n",
    "This is a simple example of using the NLTK sentiment analysis package to look at sentiment of tweets about the NSW Liberal and Labor parties.  Unfortunately I've not been able to collect very much data from twitter because of their rate limits, so we only have around 250 tweets in each case.  However, we can use this as a sample to test the basic methodology.\n",
    "\n",
    "First we'll read in the tweets from a CSV file:"
   ]
  },
  {
   "cell_type": "code",
   "execution_count": 1,
   "metadata": {},
   "outputs": [
    {
     "data": {
      "text/html": [
       "<div>\n",
       "<style scoped>\n",
       "    .dataframe tbody tr th:only-of-type {\n",
       "        vertical-align: middle;\n",
       "    }\n",
       "\n",
       "    .dataframe tbody tr th {\n",
       "        vertical-align: top;\n",
       "    }\n",
       "\n",
       "    .dataframe thead th {\n",
       "        text-align: right;\n",
       "    }\n",
       "</style>\n",
       "<table border=\"1\" class=\"dataframe\">\n",
       "  <thead>\n",
       "    <tr style=\"text-align: right;\">\n",
       "      <th></th>\n",
       "      <th>created</th>\n",
       "      <th>text</th>\n",
       "    </tr>\n",
       "  </thead>\n",
       "  <tbody>\n",
       "    <tr>\n",
       "      <th>0</th>\n",
       "      <td>Thu Oct 12 10:28:13 +0000 2017</td>\n",
       "      <td>@WesFangNats @keredm @sffAustralia I'd hazard ...</td>\n",
       "    </tr>\n",
       "    <tr>\n",
       "      <th>1</th>\n",
       "      <td>Thu Oct 12 07:39:23 +0000 2017</td>\n",
       "      <td>RT @venusboy1977: @AustralianLabor @RoseBrenna...</td>\n",
       "    </tr>\n",
       "    <tr>\n",
       "      <th>2</th>\n",
       "      <td>Thu Oct 12 07:31:30 +0000 2017</td>\n",
       "      <td>@AustralianLabor @RoseBrennan12 @BernardKeane ...</td>\n",
       "    </tr>\n",
       "    <tr>\n",
       "      <th>3</th>\n",
       "      <td>Thu Oct 12 06:43:38 +0000 2017</td>\n",
       "      <td>The latest The Wollongong Happenings Daily! ht...</td>\n",
       "    </tr>\n",
       "    <tr>\n",
       "      <th>4</th>\n",
       "      <td>Thu Oct 12 05:38:03 +0000 2017</td>\n",
       "      <td>@sffAustralia @NSWNationals @LiberalNSW Two of...</td>\n",
       "    </tr>\n",
       "  </tbody>\n",
       "</table>\n",
       "</div>"
      ],
      "text/plain": [
       "                          created  \\\n",
       "0  Thu Oct 12 10:28:13 +0000 2017   \n",
       "1  Thu Oct 12 07:39:23 +0000 2017   \n",
       "2  Thu Oct 12 07:31:30 +0000 2017   \n",
       "3  Thu Oct 12 06:43:38 +0000 2017   \n",
       "4  Thu Oct 12 05:38:03 +0000 2017   \n",
       "\n",
       "                                                text  \n",
       "0  @WesFangNats @keredm @sffAustralia I'd hazard ...  \n",
       "1  RT @venusboy1977: @AustralianLabor @RoseBrenna...  \n",
       "2  @AustralianLabor @RoseBrennan12 @BernardKeane ...  \n",
       "3  The latest The Wollongong Happenings Daily! ht...  \n",
       "4  @sffAustralia @NSWNationals @LiberalNSW Two of...  "
      ]
     },
     "execution_count": 1,
     "metadata": {},
     "output_type": "execute_result"
    }
   ],
   "source": [
    "import pandas as pd\n",
    "import nltk\n",
    "from nltk.sentiment.vader import SentimentIntensityAnalyzer\n",
    "%matplotlib inline \n",
    "\n",
    "#liberal = pd.read_csv('files/nswliberal.csv')\n",
    "#labor = pd.read_csv('files/nswlabor.csv')\n",
    "\n",
    "# updating for own file location\n",
    "liberal = pd.read_csv('SLP3_nswliberal.csv')\n",
    "labor = pd.read_csv('SLP3_nswlabor.csv')\n",
    "\n",
    "liberal.head()"
   ]
  },
  {
   "cell_type": "code",
   "execution_count": 2,
   "metadata": {},
   "outputs": [
    {
     "data": {
      "text/html": [
       "<div>\n",
       "<style scoped>\n",
       "    .dataframe tbody tr th:only-of-type {\n",
       "        vertical-align: middle;\n",
       "    }\n",
       "\n",
       "    .dataframe tbody tr th {\n",
       "        vertical-align: top;\n",
       "    }\n",
       "\n",
       "    .dataframe thead th {\n",
       "        text-align: right;\n",
       "    }\n",
       "</style>\n",
       "<table border=\"1\" class=\"dataframe\">\n",
       "  <thead>\n",
       "    <tr style=\"text-align: right;\">\n",
       "      <th></th>\n",
       "      <th>created</th>\n",
       "      <th>text</th>\n",
       "    </tr>\n",
       "  </thead>\n",
       "  <tbody>\n",
       "    <tr>\n",
       "      <th>0</th>\n",
       "      <td>Thu Oct 12 20:27:43 +0000 2017</td>\n",
       "      <td>#GladysBerejiklian Donations For Access Rife i...</td>\n",
       "    </tr>\n",
       "    <tr>\n",
       "      <th>1</th>\n",
       "      <td>Thu Oct 12 20:10:27 +0000 2017</td>\n",
       "      <td>I don’t think @NSWLabor got the message on gun...</td>\n",
       "    </tr>\n",
       "    <tr>\n",
       "      <th>2</th>\n",
       "      <td>Thu Oct 12 10:01:23 +0000 2017</td>\n",
       "      <td>@stukhan @NSWLabor But it makes for one hell o...</td>\n",
       "    </tr>\n",
       "    <tr>\n",
       "      <th>3</th>\n",
       "      <td>Thu Oct 12 08:58:52 +0000 2017</td>\n",
       "      <td>.@NSWLabor supports keeping Springvale mine op...</td>\n",
       "    </tr>\n",
       "    <tr>\n",
       "      <th>4</th>\n",
       "      <td>Thu Oct 12 07:52:19 +0000 2017</td>\n",
       "      <td>RT @NSWLabor: What do you think ? https://t.co...</td>\n",
       "    </tr>\n",
       "  </tbody>\n",
       "</table>\n",
       "</div>"
      ],
      "text/plain": [
       "                          created  \\\n",
       "0  Thu Oct 12 20:27:43 +0000 2017   \n",
       "1  Thu Oct 12 20:10:27 +0000 2017   \n",
       "2  Thu Oct 12 10:01:23 +0000 2017   \n",
       "3  Thu Oct 12 08:58:52 +0000 2017   \n",
       "4  Thu Oct 12 07:52:19 +0000 2017   \n",
       "\n",
       "                                                text  \n",
       "0  #GladysBerejiklian Donations For Access Rife i...  \n",
       "1  I don’t think @NSWLabor got the message on gun...  \n",
       "2  @stukhan @NSWLabor But it makes for one hell o...  \n",
       "3  .@NSWLabor supports keeping Springvale mine op...  \n",
       "4  RT @NSWLabor: What do you think ? https://t.co...  "
      ]
     },
     "execution_count": 2,
     "metadata": {},
     "output_type": "execute_result"
    }
   ],
   "source": [
    "labor.head()"
   ]
  },
  {
   "cell_type": "markdown",
   "metadata": {},
   "source": [
    "We can use the NLTK python package to do sentiment analysis.  It contains all of the tools you need to build your own analyisis engine based on training data you have labelled yourself, but it also has a pre-built sentiment analysis engine called [VADER](http://t-redactyl.io/blog/2017/04/using-vader-to-handle-sentiment-analysis-with-social-media-text.html).  VADER uses word lists of positive and negative words and returns a set of ratings that count the proportion of positive and negative words in a text.  A final metric *compound* is a combination score that is +1 for a very positive text and -1 for a negative one.  \n",
    "\n",
    "We first need to download the lexicon (word list) for NLTK to work, we then make a sentiment analyser and apply it to every row of the data with the apply method.  "
   ]
  },
  {
   "cell_type": "code",
   "execution_count": 3,
   "metadata": {},
   "outputs": [
    {
     "name": "stderr",
     "output_type": "stream",
     "text": [
      "[nltk_data] Downloading package vader_lexicon to D:\\nltk_data...\n"
     ]
    }
   ],
   "source": [
    "nltk.download('vader_lexicon')\n",
    "sid = SentimentIntensityAnalyzer()\n",
    "\n",
    "liberal_sent = liberal.apply(lambda r: sid.polarity_scores(r.text), axis=1)\n",
    "labor_sent = labor.apply(lambda r: sid.polarity_scores(r.text), axis=1)"
   ]
  },
  {
   "cell_type": "code",
   "execution_count": 4,
   "metadata": {},
   "outputs": [
    {
     "data": {
      "text/html": [
       "<div>\n",
       "<style scoped>\n",
       "    .dataframe tbody tr th:only-of-type {\n",
       "        vertical-align: middle;\n",
       "    }\n",
       "\n",
       "    .dataframe tbody tr th {\n",
       "        vertical-align: top;\n",
       "    }\n",
       "\n",
       "    .dataframe thead th {\n",
       "        text-align: right;\n",
       "    }\n",
       "</style>\n",
       "<table border=\"1\" class=\"dataframe\">\n",
       "  <thead>\n",
       "    <tr style=\"text-align: right;\">\n",
       "      <th></th>\n",
       "      <th>created</th>\n",
       "      <th>text</th>\n",
       "      <th>neg</th>\n",
       "      <th>neu</th>\n",
       "      <th>pos</th>\n",
       "      <th>compound</th>\n",
       "    </tr>\n",
       "  </thead>\n",
       "  <tbody>\n",
       "    <tr>\n",
       "      <th>0</th>\n",
       "      <td>Thu Oct 12 20:27:43 +0000 2017</td>\n",
       "      <td>#GladysBerejiklian Donations For Access Rife i...</td>\n",
       "      <td>0.000</td>\n",
       "      <td>1.000</td>\n",
       "      <td>0.000</td>\n",
       "      <td>0.0000</td>\n",
       "    </tr>\n",
       "    <tr>\n",
       "      <th>1</th>\n",
       "      <td>Thu Oct 12 20:10:27 +0000 2017</td>\n",
       "      <td>I don’t think @NSWLabor got the message on gun...</td>\n",
       "      <td>0.124</td>\n",
       "      <td>0.876</td>\n",
       "      <td>0.000</td>\n",
       "      <td>-0.3400</td>\n",
       "    </tr>\n",
       "    <tr>\n",
       "      <th>2</th>\n",
       "      <td>Thu Oct 12 10:01:23 +0000 2017</td>\n",
       "      <td>@stukhan @NSWLabor But it makes for one hell o...</td>\n",
       "      <td>0.464</td>\n",
       "      <td>0.536</td>\n",
       "      <td>0.000</td>\n",
       "      <td>-0.8316</td>\n",
       "    </tr>\n",
       "    <tr>\n",
       "      <th>3</th>\n",
       "      <td>Thu Oct 12 08:58:52 +0000 2017</td>\n",
       "      <td>.@NSWLabor supports keeping Springvale mine op...</td>\n",
       "      <td>0.168</td>\n",
       "      <td>0.745</td>\n",
       "      <td>0.087</td>\n",
       "      <td>-0.3898</td>\n",
       "    </tr>\n",
       "    <tr>\n",
       "      <th>4</th>\n",
       "      <td>Thu Oct 12 07:52:19 +0000 2017</td>\n",
       "      <td>RT @NSWLabor: What do you think ? https://t.co...</td>\n",
       "      <td>0.000</td>\n",
       "      <td>1.000</td>\n",
       "      <td>0.000</td>\n",
       "      <td>0.0000</td>\n",
       "    </tr>\n",
       "  </tbody>\n",
       "</table>\n",
       "</div>"
      ],
      "text/plain": [
       "                          created  \\\n",
       "0  Thu Oct 12 20:27:43 +0000 2017   \n",
       "1  Thu Oct 12 20:10:27 +0000 2017   \n",
       "2  Thu Oct 12 10:01:23 +0000 2017   \n",
       "3  Thu Oct 12 08:58:52 +0000 2017   \n",
       "4  Thu Oct 12 07:52:19 +0000 2017   \n",
       "\n",
       "                                                text    neg    neu    pos  \\\n",
       "0  #GladysBerejiklian Donations For Access Rife i...  0.000  1.000  0.000   \n",
       "1  I don’t think @NSWLabor got the message on gun...  0.124  0.876  0.000   \n",
       "2  @stukhan @NSWLabor But it makes for one hell o...  0.464  0.536  0.000   \n",
       "3  .@NSWLabor supports keeping Springvale mine op...  0.168  0.745  0.087   \n",
       "4  RT @NSWLabor: What do you think ? https://t.co...  0.000  1.000  0.000   \n",
       "\n",
       "   compound  \n",
       "0    0.0000  \n",
       "1   -0.3400  \n",
       "2   -0.8316  \n",
       "3   -0.3898  \n",
       "4    0.0000  "
      ]
     },
     "execution_count": 4,
     "metadata": {},
     "output_type": "execute_result"
    }
   ],
   "source": [
    "# turn the result into a data frame and add as columns to the original data\n",
    "df = pd.DataFrame(list(liberal_sent))\n",
    "liberal_s = liberal.join(df)\n",
    "\n",
    "df = pd.DataFrame(list(labor_sent))\n",
    "labor_s = labor.join(df)\n",
    "\n",
    "labor_s.head()"
   ]
  },
  {
   "cell_type": "code",
   "execution_count": 5,
   "metadata": {},
   "outputs": [
    {
     "data": {
      "text/html": [
       "<div>\n",
       "<style scoped>\n",
       "    .dataframe tbody tr th:only-of-type {\n",
       "        vertical-align: middle;\n",
       "    }\n",
       "\n",
       "    .dataframe tbody tr th {\n",
       "        vertical-align: top;\n",
       "    }\n",
       "\n",
       "    .dataframe thead th {\n",
       "        text-align: right;\n",
       "    }\n",
       "</style>\n",
       "<table border=\"1\" class=\"dataframe\">\n",
       "  <thead>\n",
       "    <tr style=\"text-align: right;\">\n",
       "      <th></th>\n",
       "      <th>created</th>\n",
       "      <th>text</th>\n",
       "      <th>neg</th>\n",
       "      <th>neu</th>\n",
       "      <th>pos</th>\n",
       "      <th>compound</th>\n",
       "    </tr>\n",
       "  </thead>\n",
       "  <tbody>\n",
       "    <tr>\n",
       "      <th>0</th>\n",
       "      <td>Thu Oct 12 10:28:13 +0000 2017</td>\n",
       "      <td>@WesFangNats @keredm @sffAustralia I'd hazard ...</td>\n",
       "      <td>0.0</td>\n",
       "      <td>1.000</td>\n",
       "      <td>0.000</td>\n",
       "      <td>0.0000</td>\n",
       "    </tr>\n",
       "    <tr>\n",
       "      <th>1</th>\n",
       "      <td>Thu Oct 12 07:39:23 +0000 2017</td>\n",
       "      <td>RT @venusboy1977: @AustralianLabor @RoseBrenna...</td>\n",
       "      <td>0.0</td>\n",
       "      <td>1.000</td>\n",
       "      <td>0.000</td>\n",
       "      <td>0.0000</td>\n",
       "    </tr>\n",
       "    <tr>\n",
       "      <th>2</th>\n",
       "      <td>Thu Oct 12 07:31:30 +0000 2017</td>\n",
       "      <td>@AustralianLabor @RoseBrennan12 @BernardKeane ...</td>\n",
       "      <td>0.0</td>\n",
       "      <td>1.000</td>\n",
       "      <td>0.000</td>\n",
       "      <td>0.0000</td>\n",
       "    </tr>\n",
       "    <tr>\n",
       "      <th>3</th>\n",
       "      <td>Thu Oct 12 06:43:38 +0000 2017</td>\n",
       "      <td>The latest The Wollongong Happenings Daily! ht...</td>\n",
       "      <td>0.0</td>\n",
       "      <td>0.803</td>\n",
       "      <td>0.197</td>\n",
       "      <td>0.4926</td>\n",
       "    </tr>\n",
       "    <tr>\n",
       "      <th>4</th>\n",
       "      <td>Thu Oct 12 05:38:03 +0000 2017</td>\n",
       "      <td>@sffAustralia @NSWNationals @LiberalNSW Two of...</td>\n",
       "      <td>0.0</td>\n",
       "      <td>0.885</td>\n",
       "      <td>0.115</td>\n",
       "      <td>0.3244</td>\n",
       "    </tr>\n",
       "  </tbody>\n",
       "</table>\n",
       "</div>"
      ],
      "text/plain": [
       "                          created  \\\n",
       "0  Thu Oct 12 10:28:13 +0000 2017   \n",
       "1  Thu Oct 12 07:39:23 +0000 2017   \n",
       "2  Thu Oct 12 07:31:30 +0000 2017   \n",
       "3  Thu Oct 12 06:43:38 +0000 2017   \n",
       "4  Thu Oct 12 05:38:03 +0000 2017   \n",
       "\n",
       "                                                text  neg    neu    pos  \\\n",
       "0  @WesFangNats @keredm @sffAustralia I'd hazard ...  0.0  1.000  0.000   \n",
       "1  RT @venusboy1977: @AustralianLabor @RoseBrenna...  0.0  1.000  0.000   \n",
       "2  @AustralianLabor @RoseBrennan12 @BernardKeane ...  0.0  1.000  0.000   \n",
       "3  The latest The Wollongong Happenings Daily! ht...  0.0  0.803  0.197   \n",
       "4  @sffAustralia @NSWNationals @LiberalNSW Two of...  0.0  0.885  0.115   \n",
       "\n",
       "   compound  \n",
       "0    0.0000  \n",
       "1    0.0000  \n",
       "2    0.0000  \n",
       "3    0.4926  \n",
       "4    0.3244  "
      ]
     },
     "execution_count": 5,
     "metadata": {},
     "output_type": "execute_result"
    }
   ],
   "source": [
    "liberal_s.head()"
   ]
  },
  {
   "cell_type": "markdown",
   "metadata": {},
   "source": [
    "So, now you have sentiment data for the NSW Liberal and Labor parties.  Your task now is to generate some useful intelligence from this data.   You might ask:\n",
    "\n",
    "- what is the spread of sentiment for each party\n",
    "- who is ahead on the sentiment scale - how do they compare?\n",
    "- what are the most positive and negative issues in each case?\n",
    "\n",
    "Your checkpoint this week is to show us a useful plot or summary statistic based on this data along with your interpretation."
   ]
  },
  {
   "cell_type": "code",
   "execution_count": 6,
   "metadata": {},
   "outputs": [
    {
     "data": {
      "image/png": "[encoded data removed]",
      "text/plain": [
       "<Figure size 864x576 with 1 Axes>"
      ]
     },
     "metadata": {
      "needs_background": "light"
     },
     "output_type": "display_data"
    }
   ],
   "source": [
    "#print(labor_s['compound'].describe())\n",
    "#print(liberal_s['compound'].describe())\n",
    "\n",
    "import numpy as np\n",
    "\n",
    "def new_columns(df, party):\n",
    "    df['sentiment'] = np.where(df['compound'] <= -0.05, \"neg\",\n",
    "                               np.where(df['compound'] >= 0.05, \"pos\", \"neu\"))\n",
    "    df['party'] = party\n",
    "\n",
    "new_columns(labor_s, \"labor\")\n",
    "new_columns(liberal_s, \"liberal\")\n",
    "\n",
    "all_s = labor_s.append(liberal_s)\n",
    "all_s.head()\n",
    "\n",
    "fig = all_s.boxplot(by = ['sentiment', 'party',], column = 'compound', figsize = (12,8))\n",
    "fig.set_title('Compound sentiment score by tweet label and political party')\n",
    "fig.set_xlabel('')\n",
    "fig.set_ylabel('Sentiment score')\n",
    "fig.xaxis.grid(False)\n",
    "fig.yaxis.grid(False);"
   ]
  },
  {
   "cell_type": "markdown",
   "metadata": {},
   "source": [
    "The boxplot indicates that there is just about no difference in the sentiment of the tweets from the labour and liberal parties for this corpus. That being said, the average sentiment of the liberal party tweets appears to be ever-so-slightly more negative than the average sentiment of the labor party."
   ]
  }
 ],
 "metadata": {
  "kernelspec": {
   "display_name": "Python 3",
   "language": "python",
   "name": "python3"
  },
  "language_info": {
   "codemirror_mode": {
    "name": "ipython",
    "version": 3
   },
   "file_extension": ".py",
   "mimetype": "text/x-python",
   "name": "python",
   "nbconvert_exporter": "python",
   "pygments_lexer": "ipython3",
   "version": "3.8.5"
  }
 },
 "nbformat": 4,
 "nbformat_minor": 2
}
