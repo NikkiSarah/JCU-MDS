{
 "cells": [
  {
   "cell_type": "markdown",
   "metadata": {},
   "source": [
    "## Sentiment Analysis of Political Tweets\n",
    "\n",
    "As discussed in class, sentiment analysis tries to measure the positive or negative sentiment expressed in a message.  It is commonly used to track the mood of the nation on all kinds of topics through the analysis of Twitter data.  \n",
    "\n",
    "This is a simple example of using the NLTK sentiment analysis package to look at sentiment of tweets about the NSW Liberal and Labor parties.  Unfortunately I've not been able to collect very much data from twitter because of their rate limits, so we only have around 250 tweets in each case.  However, we can use this as a sample to test the basic methodology.\n",
    "\n",
    "First we'll read in the tweets from a CSV file:"
   ]
  },
  {
   "cell_type": "code",
   "execution_count": 1,
   "metadata": {},
   "outputs": [
    {
     "name": "stdout",
     "output_type": "stream",
     "text": [
      "197\n",
      "192\n"
     ]
    }
   ],
   "source": [
    "import pandas as pd\n",
    "import nltk\n",
    "from nltk.sentiment.vader import SentimentIntensityAnalyzer\n",
    "%matplotlib inline \n",
    "\n",
    "liberal = pd.read_csv('nswliberal.csv')\n",
    "labor = pd.read_csv('nswlabor.csv')\n",
    "liberal.head()\n",
    "print(len(liberal))\n",
    "print(len(labor))"
   ]
  },
  {
   "cell_type": "markdown",
   "metadata": {},
   "source": [
    "We can use the NLTK python package to do sentiment analysis.  It contains all of the tools you need to build your own analyisis engine based on training data you have labelled yourself, but it also has a pre-built sentiment analysis engine called [VADER](http://t-redactyl.io/blog/2017/04/using-vader-to-handle-sentiment-analysis-with-social-media-text.html).  VADER uses word lists of positive and negative words and returns a set of ratings that count the proportion of positive and negative words in a text.  A final metric *compound* is a combination score that is +1 for a very positive text and -1 for a negative one.  \n",
    "\n",
    "We first need to download the lexicon (word list) for NLTK to work, we then make a sentiment analyser and apply it to every row of the data with the apply method.  "
   ]
  },
  {
   "cell_type": "code",
   "execution_count": 2,
   "metadata": {},
   "outputs": [
    {
     "name": "stderr",
     "output_type": "stream",
     "text": [
      "[nltk_data] Downloading package vader_lexicon to\n",
      "[nltk_data]     /Users/mostafa/nltk_data...\n",
      "[nltk_data]   Package vader_lexicon is already up-to-date!\n"
     ]
    }
   ],
   "source": [
    "nltk.download('vader_lexicon')\n",
    "sid = SentimentIntensityAnalyzer()\n",
    "\n",
    "liberal_sent = liberal.apply(lambda r: sid.polarity_scores(r.text), axis=1)\n",
    "labor_sent = labor.apply(lambda r: sid.polarity_scores(r.text), axis=1)"
   ]
  },
  {
   "cell_type": "code",
   "execution_count": 3,
   "metadata": {},
   "outputs": [
    {
     "data": {
      "text/html": [
       "<div>\n",
       "<style scoped>\n",
       "    .dataframe tbody tr th:only-of-type {\n",
       "        vertical-align: middle;\n",
       "    }\n",
       "\n",
       "    .dataframe tbody tr th {\n",
       "        vertical-align: top;\n",
       "    }\n",
       "\n",
       "    .dataframe thead th {\n",
       "        text-align: right;\n",
       "    }\n",
       "</style>\n",
       "<table border=\"1\" class=\"dataframe\">\n",
       "  <thead>\n",
       "    <tr style=\"text-align: right;\">\n",
       "      <th></th>\n",
       "      <th>created</th>\n",
       "      <th>text</th>\n",
       "      <th>neg</th>\n",
       "      <th>neu</th>\n",
       "      <th>pos</th>\n",
       "      <th>compound</th>\n",
       "    </tr>\n",
       "  </thead>\n",
       "  <tbody>\n",
       "    <tr>\n",
       "      <th>0</th>\n",
       "      <td>Thu Oct 12 20:27:43 +0000 2017</td>\n",
       "      <td>#GladysBerejiklian Donations For Access Rife i...</td>\n",
       "      <td>0.000</td>\n",
       "      <td>1.000</td>\n",
       "      <td>0.000</td>\n",
       "      <td>0.0000</td>\n",
       "    </tr>\n",
       "    <tr>\n",
       "      <th>1</th>\n",
       "      <td>Thu Oct 12 20:10:27 +0000 2017</td>\n",
       "      <td>I don’t think @NSWLabor got the message on gun...</td>\n",
       "      <td>0.124</td>\n",
       "      <td>0.876</td>\n",
       "      <td>0.000</td>\n",
       "      <td>-0.3400</td>\n",
       "    </tr>\n",
       "    <tr>\n",
       "      <th>2</th>\n",
       "      <td>Thu Oct 12 10:01:23 +0000 2017</td>\n",
       "      <td>@stukhan @NSWLabor But it makes for one hell o...</td>\n",
       "      <td>0.464</td>\n",
       "      <td>0.536</td>\n",
       "      <td>0.000</td>\n",
       "      <td>-0.8316</td>\n",
       "    </tr>\n",
       "    <tr>\n",
       "      <th>3</th>\n",
       "      <td>Thu Oct 12 08:58:52 +0000 2017</td>\n",
       "      <td>.@NSWLabor supports keeping Springvale mine op...</td>\n",
       "      <td>0.168</td>\n",
       "      <td>0.745</td>\n",
       "      <td>0.087</td>\n",
       "      <td>-0.3898</td>\n",
       "    </tr>\n",
       "    <tr>\n",
       "      <th>4</th>\n",
       "      <td>Thu Oct 12 07:52:19 +0000 2017</td>\n",
       "      <td>RT @NSWLabor: What do you think ? https://t.co...</td>\n",
       "      <td>0.000</td>\n",
       "      <td>1.000</td>\n",
       "      <td>0.000</td>\n",
       "      <td>0.0000</td>\n",
       "    </tr>\n",
       "  </tbody>\n",
       "</table>\n",
       "</div>"
      ],
      "text/plain": [
       "                          created  \\\n",
       "0  Thu Oct 12 20:27:43 +0000 2017   \n",
       "1  Thu Oct 12 20:10:27 +0000 2017   \n",
       "2  Thu Oct 12 10:01:23 +0000 2017   \n",
       "3  Thu Oct 12 08:58:52 +0000 2017   \n",
       "4  Thu Oct 12 07:52:19 +0000 2017   \n",
       "\n",
       "                                                text    neg    neu    pos  \\\n",
       "0  #GladysBerejiklian Donations For Access Rife i...  0.000  1.000  0.000   \n",
       "1  I don’t think @NSWLabor got the message on gun...  0.124  0.876  0.000   \n",
       "2  @stukhan @NSWLabor But it makes for one hell o...  0.464  0.536  0.000   \n",
       "3  .@NSWLabor supports keeping Springvale mine op...  0.168  0.745  0.087   \n",
       "4  RT @NSWLabor: What do you think ? https://t.co...  0.000  1.000  0.000   \n",
       "\n",
       "   compound  \n",
       "0    0.0000  \n",
       "1   -0.3400  \n",
       "2   -0.8316  \n",
       "3   -0.3898  \n",
       "4    0.0000  "
      ]
     },
     "execution_count": 3,
     "metadata": {},
     "output_type": "execute_result"
    }
   ],
   "source": [
    "# turn the result into a data frame and add as columns to the original data\n",
    "df = pd.DataFrame(list(liberal_sent))\n",
    "liberal_s = liberal.join(df)\n",
    "\n",
    "df = pd.DataFrame(list(labor_sent))\n",
    "labor_s = labor.join(df)\n",
    "\n",
    "labor_s.head()"
   ]
  },
  {
   "cell_type": "markdown",
   "metadata": {},
   "source": [
    "So, now you have sentiment data for the NSW Liberal and Labor parties.  Your task now is to generate some useful intelligence from this data.   You might ask:\n",
    "\n",
    "- what is the spread of sentiment for each party\n",
    "- who is ahead on the sentiment scale - how do they compare?\n",
    "- what are the most positive and negative issues in each case?\n",
    "\n",
    "Your checkpoint this week is to show us a useful plot or summary statistic based on this data along with your interpretation."
   ]
  },
  {
   "cell_type": "code",
   "execution_count": 4,
   "metadata": {},
   "outputs": [
    {
     "data": {
      "image/png": "[encoded data removed]",
      "text/plain": [
       "<Figure size 432x288 with 1 Axes>"
      ]
     },
     "metadata": {
      "needs_background": "light"
     },
     "output_type": "display_data"
    }
   ],
   "source": [
    "box_sl = labor_s['pos'].plot(kind=\"hist\", title=\"a\")\n",
    "box_sw = liberal_s['pos'].plot(kind=\"hist\", title=\"A\")"
   ]
  },
  {
   "cell_type": "code",
   "execution_count": 5,
   "metadata": {},
   "outputs": [
    {
     "data": {
      "image/png": "[encoded data removed]",
      "text/plain": [
       "<Figure size 432x288 with 1 Axes>"
      ]
     },
     "metadata": {
      "needs_background": "light"
     },
     "output_type": "display_data"
    }
   ],
   "source": [
    "import matplotlib.pyplot as plt\n",
    "plt.hist(labor_s['pos'], bins = 20)\n",
    "plt.show()"
   ]
  },
  {
   "cell_type": "code",
   "execution_count": 6,
   "metadata": {},
   "outputs": [
    {
     "name": "stdout",
     "output_type": "stream",
     "text": [
      "0      0.000\n",
      "1      0.000\n",
      "2      0.000\n",
      "3      0.087\n",
      "4      0.000\n",
      "       ...  \n",
      "187    0.000\n",
      "188    0.000\n",
      "189    0.000\n",
      "190    0.000\n",
      "191    0.000\n",
      "Name: pos, Length: 192, dtype: float64\n"
     ]
    }
   ],
   "source": [
    "print(labor_s['pos'])"
   ]
  },
  {
   "cell_type": "code",
   "execution_count": 8,
   "metadata": {},
   "outputs": [
    {
     "data": {
      "text/plain": [
       "<AxesSubplot:>"
      ]
     },
     "execution_count": 8,
     "metadata": {},
     "output_type": "execute_result"
    },
    {
     "data": {
      "image/png": "[encoded data removed]",
      "text/plain": [
       "<Figure size 432x288 with 1 Axes>"
      ]
     },
     "metadata": {
      "needs_background": "light"
     },
     "output_type": "display_data"
    }
   ],
   "source": [
    "lib_neg = liberal_s['neg']\n",
    "lib_neg.hist( histtype = 'stepfilled', alpha = 0.5)\n",
    "labour_neg = labor_s['neg']\n",
    "labour_neg.hist( histtype = 'stepfilled', alpha = 0.1, color = 'red')"
   ]
  },
  {
   "cell_type": "code",
   "execution_count": 10,
   "metadata": {},
   "outputs": [
    {
     "data": {
      "text/plain": [
       "<AxesSubplot:>"
      ]
     },
     "execution_count": 10,
     "metadata": {},
     "output_type": "execute_result"
    },
    {
     "data": {
      "image/png": "[encoded data removed]",
      "text/plain": [
       "<Figure size 432x288 with 1 Axes>"
      ]
     },
     "metadata": {
      "needs_background": "light"
     },
     "output_type": "display_data"
    }
   ],
   "source": [
    "lib_pos = liberal_s['pos']\n",
    "lib_pos.hist(histtype = 'stepfilled', alpha = 0.5)\n",
    "labour_pos = labor_s['pos']\n",
    "labour_pos.hist(histtype = 'stepfilled', alpha = 0.1, color = 'red')"
   ]
  },
  {
   "cell_type": "code",
   "execution_count": 11,
   "metadata": {},
   "outputs": [
    {
     "data": {
      "image/png": "[encoded data removed]",
      "text/plain": [
       "<Figure size 432x288 with 1 Axes>"
      ]
     },
     "metadata": {
      "needs_background": "light"
     },
     "output_type": "display_data"
    }
   ],
   "source": [
    "import matplotlib.pyplot as plt\n",
    "# Set up a figure with set of axes\n",
    "fig, ax = plt.subplots(1, 1)\n",
    "\n",
    "# Add axis labels\n",
    "ax.set_xlabel('Sentiment Distribution')\n",
    "ax.set_ylabel('count');\n",
    "\n",
    "# Generate the histogram for Sentiment \n",
    "_ = ax.hist((labor_s['pos'],labor_s['neg'],labor_s['compound'], liberal_s['pos'], liberal_s['neg'],liberal_s['compound']))\n",
    "\n",
    "# Add a legend\n",
    "ax.legend(('labor-pos', 'labor-neg','labor-comp', 'liberal-pos','liberal-neg','liberal-comp'), loc='upper right');"
   ]
  },
  {
   "cell_type": "code",
   "execution_count": 12,
   "metadata": {},
   "outputs": [
    {
     "data": {
      "text/html": [
       "<div>\n",
       "<style scoped>\n",
       "    .dataframe tbody tr th:only-of-type {\n",
       "        vertical-align: middle;\n",
       "    }\n",
       "\n",
       "    .dataframe tbody tr th {\n",
       "        vertical-align: top;\n",
       "    }\n",
       "\n",
       "    .dataframe thead th {\n",
       "        text-align: right;\n",
       "    }\n",
       "</style>\n",
       "<table border=\"1\" class=\"dataframe\">\n",
       "  <thead>\n",
       "    <tr style=\"text-align: right;\">\n",
       "      <th></th>\n",
       "      <th>created</th>\n",
       "      <th>text</th>\n",
       "      <th>neg</th>\n",
       "      <th>neu</th>\n",
       "      <th>pos</th>\n",
       "      <th>compound</th>\n",
       "    </tr>\n",
       "  </thead>\n",
       "  <tbody>\n",
       "    <tr>\n",
       "      <th>15</th>\n",
       "      <td>Thu Oct 12 01:31:47 +0000 2017</td>\n",
       "      <td>@matt_barrie @LiberalNSW @CloverMoore A great ...</td>\n",
       "      <td>0.000</td>\n",
       "      <td>0.814</td>\n",
       "      <td>0.186</td>\n",
       "      <td>0.6249</td>\n",
       "    </tr>\n",
       "    <tr>\n",
       "      <th>33</th>\n",
       "      <td>Tue Oct 10 05:22:38 +0000 2017</td>\n",
       "      <td>Thanks @LiberalNSW :) Always looking out for y...</td>\n",
       "      <td>0.000</td>\n",
       "      <td>0.604</td>\n",
       "      <td>0.396</td>\n",
       "      <td>0.7096</td>\n",
       "    </tr>\n",
       "    <tr>\n",
       "      <th>34</th>\n",
       "      <td>Tue Oct 10 02:19:55 +0000 2017</td>\n",
       "      <td>@Dom_Perrottet @LiberalNSW Congratulations! Th...</td>\n",
       "      <td>0.000</td>\n",
       "      <td>0.610</td>\n",
       "      <td>0.390</td>\n",
       "      <td>0.6688</td>\n",
       "    </tr>\n",
       "    <tr>\n",
       "      <th>35</th>\n",
       "      <td>Tue Oct 10 00:19:11 +0000 2017</td>\n",
       "      <td>@stuartayresmp @westconnex @NSWBC @LiberalNSW ...</td>\n",
       "      <td>0.000</td>\n",
       "      <td>0.675</td>\n",
       "      <td>0.325</td>\n",
       "      <td>0.8481</td>\n",
       "    </tr>\n",
       "    <tr>\n",
       "      <th>53</th>\n",
       "      <td>Sun Oct 08 08:12:08 +0000 2017</td>\n",
       "      <td>No one in their right mind would trust their w...</td>\n",
       "      <td>0.081</td>\n",
       "      <td>0.699</td>\n",
       "      <td>0.221</td>\n",
       "      <td>0.5859</td>\n",
       "    </tr>\n",
       "    <tr>\n",
       "      <th>78</th>\n",
       "      <td>Thu Oct 05 11:51:56 +0000 2017</td>\n",
       "      <td>RT @cristalacko: Always a pleasure to talk to ...</td>\n",
       "      <td>0.000</td>\n",
       "      <td>0.720</td>\n",
       "      <td>0.280</td>\n",
       "      <td>0.7650</td>\n",
       "    </tr>\n",
       "    <tr>\n",
       "      <th>80</th>\n",
       "      <td>Thu Oct 05 10:45:38 +0000 2017</td>\n",
       "      <td>Always a pleasure to talk to our former Premie...</td>\n",
       "      <td>0.000</td>\n",
       "      <td>0.680</td>\n",
       "      <td>0.320</td>\n",
       "      <td>0.7650</td>\n",
       "    </tr>\n",
       "    <tr>\n",
       "      <th>84</th>\n",
       "      <td>Thu Oct 05 05:55:40 +0000 2017</td>\n",
       "      <td>@protecttheplain @GladysB Horse stud farms are...</td>\n",
       "      <td>0.000</td>\n",
       "      <td>0.756</td>\n",
       "      <td>0.244</td>\n",
       "      <td>0.6705</td>\n",
       "    </tr>\n",
       "    <tr>\n",
       "      <th>96</th>\n",
       "      <td>Wed Oct 04 07:34:15 +0000 2017</td>\n",
       "      <td>RT @CyclingFoodie: @LiberalNSW By selling ever...</td>\n",
       "      <td>0.000</td>\n",
       "      <td>0.757</td>\n",
       "      <td>0.243</td>\n",
       "      <td>0.7269</td>\n",
       "    </tr>\n",
       "    <tr>\n",
       "      <th>98</th>\n",
       "      <td>Wed Oct 04 07:33:22 +0000 2017</td>\n",
       "      <td>@LiberalNSW By selling everything not nailed d...</td>\n",
       "      <td>0.000</td>\n",
       "      <td>0.736</td>\n",
       "      <td>0.264</td>\n",
       "      <td>0.7269</td>\n",
       "    </tr>\n",
       "    <tr>\n",
       "      <th>124</th>\n",
       "      <td>Sat Oct 14 12:01:37 +0000 2017</td>\n",
       "      <td>@BradHazzard @LiberalNSW @AMA_NSW @NSWHealth W...</td>\n",
       "      <td>0.000</td>\n",
       "      <td>0.653</td>\n",
       "      <td>0.347</td>\n",
       "      <td>0.7845</td>\n",
       "    </tr>\n",
       "    <tr>\n",
       "      <th>150</th>\n",
       "      <td>Thu Oct 12 01:31:47 +0000 2017</td>\n",
       "      <td>@matt_barrie @LiberalNSW @CloverMoore A great ...</td>\n",
       "      <td>0.000</td>\n",
       "      <td>0.814</td>\n",
       "      <td>0.186</td>\n",
       "      <td>0.6249</td>\n",
       "    </tr>\n",
       "    <tr>\n",
       "      <th>168</th>\n",
       "      <td>Tue Oct 10 05:22:38 +0000 2017</td>\n",
       "      <td>Thanks @LiberalNSW :) Always looking out for y...</td>\n",
       "      <td>0.000</td>\n",
       "      <td>0.604</td>\n",
       "      <td>0.396</td>\n",
       "      <td>0.7096</td>\n",
       "    </tr>\n",
       "    <tr>\n",
       "      <th>169</th>\n",
       "      <td>Tue Oct 10 02:19:55 +0000 2017</td>\n",
       "      <td>@Dom_Perrottet @LiberalNSW Congratulations! Th...</td>\n",
       "      <td>0.000</td>\n",
       "      <td>0.610</td>\n",
       "      <td>0.390</td>\n",
       "      <td>0.6688</td>\n",
       "    </tr>\n",
       "    <tr>\n",
       "      <th>170</th>\n",
       "      <td>Tue Oct 10 00:19:11 +0000 2017</td>\n",
       "      <td>@stuartayresmp @westconnex @NSWBC @LiberalNSW ...</td>\n",
       "      <td>0.000</td>\n",
       "      <td>0.675</td>\n",
       "      <td>0.325</td>\n",
       "      <td>0.8481</td>\n",
       "    </tr>\n",
       "    <tr>\n",
       "      <th>188</th>\n",
       "      <td>Sun Oct 08 08:12:08 +0000 2017</td>\n",
       "      <td>No one in their right mind would trust their w...</td>\n",
       "      <td>0.081</td>\n",
       "      <td>0.699</td>\n",
       "      <td>0.221</td>\n",
       "      <td>0.5859</td>\n",
       "    </tr>\n",
       "  </tbody>\n",
       "</table>\n",
       "</div>"
      ],
      "text/plain": [
       "                            created  \\\n",
       "15   Thu Oct 12 01:31:47 +0000 2017   \n",
       "33   Tue Oct 10 05:22:38 +0000 2017   \n",
       "34   Tue Oct 10 02:19:55 +0000 2017   \n",
       "35   Tue Oct 10 00:19:11 +0000 2017   \n",
       "53   Sun Oct 08 08:12:08 +0000 2017   \n",
       "78   Thu Oct 05 11:51:56 +0000 2017   \n",
       "80   Thu Oct 05 10:45:38 +0000 2017   \n",
       "84   Thu Oct 05 05:55:40 +0000 2017   \n",
       "96   Wed Oct 04 07:34:15 +0000 2017   \n",
       "98   Wed Oct 04 07:33:22 +0000 2017   \n",
       "124  Sat Oct 14 12:01:37 +0000 2017   \n",
       "150  Thu Oct 12 01:31:47 +0000 2017   \n",
       "168  Tue Oct 10 05:22:38 +0000 2017   \n",
       "169  Tue Oct 10 02:19:55 +0000 2017   \n",
       "170  Tue Oct 10 00:19:11 +0000 2017   \n",
       "188  Sun Oct 08 08:12:08 +0000 2017   \n",
       "\n",
       "                                                  text    neg    neu    pos  \\\n",
       "15   @matt_barrie @LiberalNSW @CloverMoore A great ...  0.000  0.814  0.186   \n",
       "33   Thanks @LiberalNSW :) Always looking out for y...  0.000  0.604  0.396   \n",
       "34   @Dom_Perrottet @LiberalNSW Congratulations! Th...  0.000  0.610  0.390   \n",
       "35   @stuartayresmp @westconnex @NSWBC @LiberalNSW ...  0.000  0.675  0.325   \n",
       "53   No one in their right mind would trust their w...  0.081  0.699  0.221   \n",
       "78   RT @cristalacko: Always a pleasure to talk to ...  0.000  0.720  0.280   \n",
       "80   Always a pleasure to talk to our former Premie...  0.000  0.680  0.320   \n",
       "84   @protecttheplain @GladysB Horse stud farms are...  0.000  0.756  0.244   \n",
       "96   RT @CyclingFoodie: @LiberalNSW By selling ever...  0.000  0.757  0.243   \n",
       "98   @LiberalNSW By selling everything not nailed d...  0.000  0.736  0.264   \n",
       "124  @BradHazzard @LiberalNSW @AMA_NSW @NSWHealth W...  0.000  0.653  0.347   \n",
       "150  @matt_barrie @LiberalNSW @CloverMoore A great ...  0.000  0.814  0.186   \n",
       "168  Thanks @LiberalNSW :) Always looking out for y...  0.000  0.604  0.396   \n",
       "169  @Dom_Perrottet @LiberalNSW Congratulations! Th...  0.000  0.610  0.390   \n",
       "170  @stuartayresmp @westconnex @NSWBC @LiberalNSW ...  0.000  0.675  0.325   \n",
       "188  No one in their right mind would trust their w...  0.081  0.699  0.221   \n",
       "\n",
       "     compound  \n",
       "15     0.6249  \n",
       "33     0.7096  \n",
       "34     0.6688  \n",
       "35     0.8481  \n",
       "53     0.5859  \n",
       "78     0.7650  \n",
       "80     0.7650  \n",
       "84     0.6705  \n",
       "96     0.7269  \n",
       "98     0.7269  \n",
       "124    0.7845  \n",
       "150    0.6249  \n",
       "168    0.7096  \n",
       "169    0.6688  \n",
       "170    0.8481  \n",
       "188    0.5859  "
      ]
     },
     "execution_count": 12,
     "metadata": {},
     "output_type": "execute_result"
    }
   ],
   "source": [
    "liberal_s[(liberal_s['compound'] > 0.5)]"
   ]
  },
  {
   "cell_type": "code",
   "execution_count": 16,
   "metadata": {},
   "outputs": [
    {
     "name": "stdout",
     "output_type": "stream",
     "text": [
      "@LiberalNSW Everyone with 1/2 a brain knows that. Now build some brand new Coal Fired Power Stations &amp; fix this mess\n",
      "Not a good look for @LiberalNSW @LiberalAus Hundreds of abuse allegations of SWD in NSW schools and they don't seem… https://t.co/rAhMSg1E7G\n",
      "E10 petrol is  shit @2GBNews @mattkeanNSW @LiberalNSW\n",
      "@capital_hunter @LiberalNSW @sffAustralia @NSWNationals guns. guns. guns. death. killing. yeah! go. guns. death. #killthemall\n",
      "Chill out Sydney.\n",
      "Your drinking water, via legislation @LiberalNSW, allows mining cos to pollute the water catchmen… https://t.co/4KYL4GR0Wy\n",
      "@sandylanceley @LiberalNSW @KentJohns Only 40%? The rabid left and bra burners will hate him for that!\n",
      ".@LiberalNSW President @KentJohns wants a 40% quota for female liberal parliamentarians. \n",
      "\n",
      "Slow death of principles\n",
      "\n",
      "https://t.co/KaSulURVtO\n",
      "Unbelievable, come on @GladysB @LiberalNSW this just insane, plz fix it now or resign, lunatics running the asylum\r",
      "\r",
      "\r",
      "https://t.co/mMLncJS1sO\n",
      "@sffAustralia @GladysB @maasmuseum @nsw_upperhouse @NSWNationals @LiberalNSW I think Borsak should go try to kill a… https://t.co/GaRXlKJi6b\n",
      "#innerwest @iwcouncil Darcy Byrne &amp; @NSWLabor voted with Passas @LiberalNSW to deny funding to local groups fighting #westconnex #nswpol\n",
      "@themarkjacka @TurnbullMalcolm But #fizza shirt fronted @TonyAbbottMHR What a loser #turnbull is for @liberalnsw\n",
      "@Ausshot3Dave @LiberalNSW NSW libs have shut down women's shelters &amp; done all sorts of stupid shit &amp; need to be called on it\n",
      "RT @cmroy4: @GladysB will you be responding on behalf of Rob Stokes @LiberalNSW, to the families, in relation to school #childabuse reports…\n",
      "@GladysB will you be responding on behalf of Rob Stokes @LiberalNSW, to the families, in relation to school #childabuse reports?@jihaddibmp\n",
      "Awaiting call from Rob Stokes @LiberalNSW\n",
      "@iborgward If #turnbull or @liberalnsw told me the time I would look at my watch. Pack of corrupt lying #rorts pricks #auspol\n",
      "@mackaysuzie @WorldOfMarkyD Think that count is wrong!!! @GladysB and the @LiberalNSW are really on the nose for what she's doing\n",
      "RT @Jolanda04: @cmroy4 @LiberalNSW They are doing nothing. For some reason child abuse isn't important enough for them.   They fail in thei…\n",
      "@cmroy4 @LiberalNSW They are doing nothing. For some reason child abuse isn't important enough for them.   They fai… https://t.co/KyWhNaMxvL\n",
      "What exactly are the @LiberalNSW doing to address the hundreds of child abuse reports in NSW schools? #disabilityviolence #royalcommission\n",
      "@LiberalNSW Everyone with 1/2 a brain knows that. Now build some brand new Coal Fired Power Stations &amp; fix this mess\n",
      "Not a good look for @LiberalNSW @LiberalAus Hundreds of abuse allegations of SWD in NSW schools and they don't seem… https://t.co/rAhMSg1E7G\n",
      "E10 petrol is  shit @2GBNews @mattkeanNSW @LiberalNSW\n",
      "@capital_hunter @LiberalNSW @sffAustralia @NSWNationals guns. guns. guns. death. killing. yeah! go. guns. death. #killthemall\n",
      "Chill out Sydney.\n",
      "Your drinking water, via legislation @LiberalNSW, allows mining cos to pollute the water catchmen… https://t.co/4KYL4GR0Wy\n",
      "@sandylanceley @LiberalNSW @KentJohns Only 40%? The rabid left and bra burners will hate him for that!\n",
      ".@LiberalNSW President @KentJohns wants a 40% quota for female liberal parliamentarians. \n",
      "\n",
      "Slow death of principles\n",
      "\n",
      "https://t.co/KaSulURVtO\n",
      "Unbelievable, come on @GladysB @LiberalNSW this just insane, plz fix it now or resign, lunatics running the asylum\r",
      "\r",
      "\r",
      "https://t.co/mMLncJS1sO\n",
      "@sffAustralia @GladysB @maasmuseum @nsw_upperhouse @NSWNationals @LiberalNSW I think Borsak should go try to kill a… https://t.co/GaRXlKJi6b\n"
     ]
    }
   ],
   "source": [
    "neg_text = liberal_s[(liberal_s['compound'] < -0.5)]['text']\n",
    "for x in neg_text:\n",
    "    print(x)"
   ]
  },
  {
   "cell_type": "code",
   "execution_count": null,
   "metadata": {},
   "outputs": [],
   "source": []
  }
 ],
 "metadata": {
  "kernelspec": {
   "display_name": "Python 3",
   "language": "python",
   "name": "python3"
  },
  "language_info": {
   "codemirror_mode": {
    "name": "ipython",
    "version": 3
   },
   "file_extension": ".py",
   "mimetype": "text/x-python",
   "name": "python",
   "nbconvert_exporter": "python",
   "pygments_lexer": "ipython3",
   "version": "3.8.5"
  }
 },
 "nbformat": 4,
 "nbformat_minor": 2
}
