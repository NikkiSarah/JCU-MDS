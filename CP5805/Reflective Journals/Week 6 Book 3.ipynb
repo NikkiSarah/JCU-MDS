{
 "cells": [
  {
   "cell_type": "markdown",
   "metadata": {},
   "source": [
    "# Week 6 Reflective Journal\n",
    "\n",
    "## Book 3 Jupyter notebook code\n",
    "\n",
    "### 13848336 Nikki Fitzherbert"
   ]
  },
  {
   "cell_type": "markdown",
   "metadata": {},
   "source": [
    "### Discretizing Data\n",
    "For each of the following tasks begin with this list:\n",
    "```python\n",
    "my_data = [43, 37, 94, 64, 89, 57, 12, 32, 98, 74, 39, 56, 91, 61, 53, 36, 94, 34, 23, 62, 59, 92, 85, 86, 52]\n",
    "```\n",
    "### Task 1\n",
    "Take *my_data* and break it into 5 buckets using the following ranges:\n",
    "```\n",
    "|0-49|50-64|65-74|75-84|85-100|\n",
    "```"
   ]
  },
  {
   "cell_type": "code",
   "execution_count": null,
   "metadata": {},
   "outputs": [],
   "source": [
    "import pandas as pd\n",
    "\n",
    "my_data = [43, 37, 94, 64, 89, 57, 12, 32, 98, 74, 39, 56, 91, 61, 53, 36, 94, 34, 23, 62, 59, 92, 85, 86, 52]\n",
    "\n",
    "bins = [0, 49, 64, 74, 84, 100]\n",
    "buckets = pd.cut(my_data, bins)"
   ]
  },
  {
   "cell_type": "markdown",
   "metadata": {},
   "source": [
    "### Task 2\n",
    "Take *my_data* and break it into 5 buckets of equal range."
   ]
  },
  {
   "cell_type": "code",
   "execution_count": null,
   "metadata": {},
   "outputs": [],
   "source": [
    "import pandas as pd\n",
    "\n",
    "my_data = [43, 37, 94, 64, 89, 57, 12, 32, 98, 74, 39, 56, 91, 61, 53, 36, 94, 34, 23, 62, 59, 92, 85, 86, 52]\n",
    "\n",
    "buckets = pd.cut(my_data, 5)"
   ]
  },
  {
   "cell_type": "markdown",
   "metadata": {},
   "source": [
    "### Task 3\n",
    "Take *my_data* and break it into 5 buckets of equal size (similar number of elements)"
   ]
  },
  {
   "cell_type": "code",
   "execution_count": null,
   "metadata": {},
   "outputs": [],
   "source": [
    "import pandas as pd\n",
    "\n",
    "my_data = [43, 37, 94, 64, 89, 57, 12, 32, 98, 74, 39, 56, 91, 61, 53, 36, 94, 34, 23, 62, 59, 92, 85, 86, 52]\n",
    "\n",
    "buckets = pd.qcut(my_data, 5)"
   ]
  }
 ],
 "metadata": {
  "kernelspec": {
   "display_name": "Python 3",
   "language": "python",
   "name": "python3"
  },
  "language_info": {
   "codemirror_mode": {
    "name": "ipython",
    "version": 3
   },
   "file_extension": ".py",
   "mimetype": "text/x-python",
   "name": "python",
   "nbconvert_exporter": "python",
   "pygments_lexer": "ipython3",
   "version": "3.7.4"
  }
 },
 "nbformat": 4,
 "nbformat_minor": 2
}
