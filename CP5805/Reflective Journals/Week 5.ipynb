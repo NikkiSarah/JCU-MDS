{
 "cells": [
  {
   "cell_type": "markdown",
   "metadata": {},
   "source": [
    "# Week 5 Reflective Journal\n",
    "\n",
    "## Jupyter notebook code\n",
    "\n",
    "### 13848336 Nikki Fitzherbert"
   ]
  },
  {
   "cell_type": "markdown",
   "metadata": {},
   "source": [
    "### Book 5 Task 1\n",
    "\n",
    "Write a program that creates and prints two pandas Series objects. One is to be based off the following dictionary:\n",
    "```python\n",
    "data_dict = {'bill': '353-1234', 'rich': '269-1234', 'jane': '352-1234'}\n",
    "```\n",
    "And the second is to contain 6 integers between 10 and 100. You can hard code these, no need for random generation, and we will use the default index for this Series."
   ]
  },
  {
   "cell_type": "code",
   "execution_count": null,
   "metadata": {},
   "outputs": [],
   "source": [
    "import numpy as np\n",
    "import pandas as pd\n",
    "\n",
    "def create_pd_objects(data_dict, rand_ints):\n",
    "    pd_data_dict = pd.Series(data_dict)\n",
    "    pd_rand_ints = pd.Series(rand_ints)\n",
    "    \n",
    "    return pd_data_dict, pd_rand_ints\n",
    "\n",
    "def display_pd_objects(pd_data_dict, pd_rand_ints):\n",
    "    print(pd_data_dict)\n",
    "    print(\"\")\n",
    "    print(pd_rand_ints)\n",
    "\n",
    "def main():\n",
    "    data_dict = {'bill': '353-1234', 'rich': '269-1234', 'jane': '352-1234'}\n",
    "    rand_ints = np.random.randint(10, 100, 6)\n",
    "\n",
    "    pd_data_dict, pd_rand_ints = create_pd_objects(data_dict, rand_ints)\n",
    "    display_pd_objects(pd_data_dict, pd_rand_ints)\n",
    "    \n",
    "main()"
   ]
  },
  {
   "cell_type": "markdown",
   "metadata": {},
   "source": [
    "### Book 5 Task 2\n",
    "\n",
    "Copy the program you wrote above, and add the following names:\n",
    "- index based off the dictionary is called **name**\n",
    "- data based off the dictionary is called **phone_number**\n",
    "- index for the hard coded data is **month**\n",
    "- data for the hard coded data is **rainfall**"
   ]
  },
  {
   "cell_type": "code",
   "execution_count": null,
   "metadata": {},
   "outputs": [],
   "source": [
    "import numpy as np\n",
    "import pandas as pd\n",
    "\n",
    "def create_pd_objects(data_dict, rand_ints):\n",
    "    pd_data_dict = pd.Series(data_dict)\n",
    "    pd_rand_ints = pd.Series(rand_ints)\n",
    "    \n",
    "    return pd_data_dict, pd_rand_ints\n",
    "\n",
    "def name_pd_objects(pd_data_dict, pd_rand_ints):\n",
    "    pd_data_dict.name = \"phone_number\"\n",
    "    pd_data_dict.index.name = \"name\"\n",
    "    pd_rand_ints.name = \"rainfall\"\n",
    "    pd_rand_ints.index.name = \"month\"\n",
    "    \n",
    "    return pd_data_dict, pd_rand_ints\n",
    "\n",
    "def display_pd_objects(pd_data_dict, pd_rand_ints):\n",
    "    print(pd_data_dict)\n",
    "    print(\"\")\n",
    "    print(pd_rand_ints)\n",
    "\n",
    "def main():\n",
    "    data_dict = {'bill': '353-1234', 'rich': '269-1234', 'jane': '352-1234'}\n",
    "    rand_ints = np.random.randint(10, 100, 6)\n",
    "\n",
    "    pd_data_dict, pd_rand_ints = create_pd_objects(data_dict, rand_ints)\n",
    "    name_pd_objects(pd_data_dict, pd_rand_ints)\n",
    "    display_pd_objects(pd_data_dict, pd_rand_ints)\n",
    "    \n",
    "main()"
   ]
  },
  {
   "cell_type": "markdown",
   "metadata": {},
   "source": [
    "### Book 6 Task 1\n",
    "\n",
    "Take the following Series:\n",
    "```python\n",
    "obj = pd.Series([4.5 , 7.2 , - 5.3 , 3.6], index = ['d', 'b', 'a', 'c'])\n",
    "```\n",
    "Now write a program that does the following things, printing the Series after each:\n",
    "- reindex in reverse order\n",
    "- drop the 'c' column\n",
    "- sort the index alphabetically"
   ]
  },
  {
   "cell_type": "code",
   "execution_count": null,
   "metadata": {},
   "outputs": [],
   "source": [
    "import pandas as pd\n",
    "\n",
    "def reindex_in_reverse_order(obj):\n",
    "    reindexed_obj = obj.reindex(['c', 'a', 'b', 'd'])\n",
    "    return reindexed_obj\n",
    "\n",
    "def drop_c_column(obj):\n",
    "    dropped_obj = obj.drop('c')\n",
    "    return dropped_obj\n",
    "\n",
    "def sort_index(obj):\n",
    "    sorted_obj = obj.sort_index()\n",
    "    return sorted_obj\n",
    "\n",
    "def display_new_series(reindexed_obj, dropped_obj, sorted_obj):\n",
    "    print(reindexed_obj)\n",
    "    print(\"----------\")   \n",
    "    print(dropped_obj)\n",
    "    print(\"----------\")\n",
    "    print(sorted_obj)\n",
    "    \n",
    "def main():\n",
    "    obj = pd.Series([4.5, 7.2, - 5.3, 3.6], index = ['d', 'b', 'a', 'c'])\n",
    "    print(obj)\n",
    "    print(\"----------\")\n",
    "      \n",
    "    reindexed_obj = reindex_in_reverse_order(obj)\n",
    "    dropped_obj = drop_c_column(obj)\n",
    "    sorted_obj = sort_index(obj)\n",
    "    display_new_series(reindexed_obj, dropped_obj, sorted_obj)\n",
    "    \n",
    "main()"
   ]
  },
  {
   "cell_type": "markdown",
   "metadata": {},
   "source": [
    "### Book 6 Task 2\n",
    "\n",
    "Take the sample DataFrame we created earlier:\n",
    "```python\n",
    "data = {'state' : [ 'Ohio' , 'Ohio' , 'Ohio' , 'Nevada' , 'Nevada' , 'Nevada'],\n",
    "'year' : [2000 , 2001 , 2002 , 2001 , 2002 , 2003],\n",
    "'pop' : [1.5 , 1.7 , 3.6 , 2.4 , 2.9 , 3.2]}\n",
    "frame = pd.DataFrame(data)\n",
    "```\n",
    "Now write a program that does the following things, printing the DataFrame after each:\n",
    "- rearrange the DataFrame so that the columns are in the order : year, state, pop.\n",
    "- add a column in fourth place called 'debt' and set the value of this to 0\n",
    "- rank (don't sort) the DataFrame by the value of 'pop'"
   ]
  },
  {
   "cell_type": "code",
   "execution_count": null,
   "metadata": {},
   "outputs": [],
   "source": [
    "import pandas as pd\n",
    "\n",
    "def rearrange_df(frame):\n",
    "    rearranged_df = frame.reindex(columns = ['year', 'state', 'pop'])\n",
    "    return rearranged_df\n",
    "\n",
    "def add_debt_column(frame):\n",
    "    frame['debt'] = 0\n",
    "    return frame\n",
    "\n",
    "def rank_df(frame):\n",
    "    frame['pop_rank'] = frame['pop'].rank()\n",
    "    return frame\n",
    "\n",
    "def display_new_dfs(rearranged_df, df_with_debt, ranked_df):\n",
    "    print(rearranged_df)\n",
    "    print(\"----------\")\n",
    "    print(df_with_debt)\n",
    "    print(\"----------\")\n",
    "    print(ranked_df)\n",
    "    \n",
    "def main():\n",
    "    data = {'state' : [ 'Ohio' , 'Ohio' , 'Ohio' , 'Nevada' , 'Nevada' , 'Nevada'],\n",
    "            'year' : [2000 , 2001 , 2002 , 2001 , 2002 , 2003],\n",
    "            'pop' : [1.5 , 1.7 , 3.6 , 2.4 , 2.9 , 3.2]}\n",
    "    frame = pd.DataFrame(data)\n",
    "    print(frame)\n",
    "    print(\"----------\")\n",
    "    \n",
    "    rearranged_df = rearrange_df(frame)\n",
    "    df_with_debt = add_debt_column(frame)\n",
    "    ranked_df = rank_df(frame)\n",
    "    display_new_dfs(rearranged_df, df_with_debt, ranked_df)\n",
    "\n",
    "main()"
   ]
  }
 ],
 "metadata": {
  "kernelspec": {
   "display_name": "Python 3",
   "language": "python",
   "name": "python3"
  },
  "language_info": {
   "codemirror_mode": {
    "name": "ipython",
    "version": 3
   },
   "file_extension": ".py",
   "mimetype": "text/x-python",
   "name": "python",
   "nbconvert_exporter": "python",
   "pygments_lexer": "ipython3",
   "version": "3.7.4"
  }
 },
 "nbformat": 4,
 "nbformat_minor": 2
}
