{
 "cells": [
  {
   "cell_type": "markdown",
   "metadata": {},
   "source": [
    "# Week 4 Reflective Journal\n",
    "\n",
    "## Jupyter notebook code\n",
    "\n",
    "### 13848336 Nikki Fitzherbert"
   ]
  },
  {
   "cell_type": "markdown",
   "metadata": {},
   "source": [
    "### Book 2 Task 1\n",
    "\n",
    "Write a program that prompts the user for 5 numbers and then stores each of these in a list called numbers. The program should then output various interesting things, as in the output below (green represents user input).\n",
    "\n",
    "Note that you can use the functions min, max, sum and len, and you can use the append method to add a number to a list.\n",
    "```python\n",
    "Number: 5\n",
    "Number: 20\n",
    "Number: 1\n",
    "Number: 2\n",
    "Number: 3\n",
    "```\n",
    "```\n",
    "The first number is 5\n",
    "The last number is 3\n",
    "The smallest number is 1\n",
    "The largest number is 20\n",
    "The average of the numbers is 6.2\n",
    "```"
   ]
  },
  {
   "cell_type": "code",
   "execution_count": 1,
   "metadata": {},
   "outputs": [
    {
     "name": "stdout",
     "output_type": "stream",
     "text": [
      "Please enter a number: 5\n",
      "Please enter a number: 1\n",
      "Please enter a number: 2\n",
      "Please enter a number: 3\n",
      "Please enter a number: 4\n",
      "\n",
      "The first number is 5\n",
      "The last number is 4\n",
      "The smallest number is 1\n",
      "The largest number is 5\n",
      "The average of the numbers is 3.0\n"
     ]
    }
   ],
   "source": [
    "def main():\n",
    "    numbers_list = []\n",
    "\n",
    "    for count in range(0,5):\n",
    "        number = int(input(\"Please enter a number: \"))\n",
    "        numbers_list.append(number)\n",
    "        count += 1\n",
    "\n",
    "    print(\"\")   \n",
    "    print(\"The first number is\", numbers_list[0])\n",
    "    print(\"The last number is\", numbers_list[len(numbers_list) - 1])\n",
    "    print(\"The smallest number is\", min(numbers_list))\n",
    "    print(\"The largest number is\", max(numbers_list))\n",
    "    print(\"The average of the numbers is\", sum(numbers_list) / len(numbers_list))\n",
    "    \n",
    "main()"
   ]
  },
  {
   "cell_type": "markdown",
   "metadata": {},
   "source": [
    "To get the last element of a list, just use the index -1 (e.g. numbers[-1])\n",
    "\n",
    "#### Suggested solution"
   ]
  },
  {
   "cell_type": "code",
   "execution_count": 2,
   "metadata": {},
   "outputs": [
    {
     "name": "stdout",
     "output_type": "stream",
     "text": [
      "Number: 5\n",
      "Number: 1\n",
      "Number: 2\n",
      "Number: 3\n",
      "Number: 4\n",
      "\n",
      "The first number is 5\n",
      "The last number is 4\n",
      "The smallest number is 1\n",
      "The largest number is 5\n",
      "The average of the numbers is 3.0\n"
     ]
    }
   ],
   "source": [
    "number_list = []\n",
    "for i in range(5):\n",
    "    number = int(input(\"Number: \"))\n",
    "    number_list.append(number)\n",
    "\n",
    "print()\n",
    "print(\"The first number is\", number_list[0])\n",
    "print(\"The last number is\", number_list[-1])#\n",
    "print(\"The smallest number is\", min(number_list))\n",
    "print(\"The largest number is\", max(number_list))\n",
    "print(\"The average of the numbers is\", sum(number_list) / len(number_list))"
   ]
  },
  {
   "cell_type": "markdown",
   "metadata": {},
   "source": [
    "### Book 3 Task 1\n",
    "\n",
    "Write a program that contains a predefined tuple of passwords (\"secret\", \"password\", \"1234abcd\", \"admin\"). The user will be asked to enter a password and the program will respond in one of two ways:\n",
    "- \"Access Granted\" if the password is in the tuple\n",
    "- \"Access Denied\" if it is not\n",
    "\n",
    "**note that these are all terrible passwords, and that storing passwords in plaintext for a comparison like this should never be done!**"
   ]
  },
  {
   "cell_type": "code",
   "execution_count": null,
   "metadata": {},
   "outputs": [],
   "source": [
    "def main():\n",
    "    passwords = (\"secret\", \"password\", \"1234abcd\", \"admin\")\n",
    "    \n",
    "    password = input(\"Please enter a password: \")\n",
    "    \n",
    "    while not password in passwords:\n",
    "        print(\"Access Denied\")\n",
    "        password = input(\"Please enter a password: \")\n",
    "    else:\n",
    "        print(\"Access Granted\")\n",
    "\n",
    "main()"
   ]
  },
  {
   "cell_type": "markdown",
   "metadata": {},
   "source": [
    "No comments.\n",
    "\n",
    "#### Suggested solution"
   ]
  },
  {
   "cell_type": "code",
   "execution_count": null,
   "metadata": {},
   "outputs": [],
   "source": [
    "passwords = (\"secret\", \"password\", \"1234abcd\", \"admin\")\n",
    "\n",
    "password = input(\"Enter a password: \")\n",
    "\n",
    "while not password in passwords:\n",
    "    print(\"Access Denied.\")\n",
    "    password = input(\"Enter a password: \")\n",
    "    \n",
    "print(\"Access Granted.\")"
   ]
  },
  {
   "cell_type": "markdown",
   "metadata": {},
   "source": [
    "### Book 4 Task 3\n",
    "\n",
    "Take the dictionary:\n",
    "fahrenheit = {'Jan': 73, 'Feb': 68, 'Mar': 65, 'Apr': 60}\n",
    "\n",
    "and use a dictionary comprehension to produce a second dictionary with the same keys, but the temperature in Celsius\n",
    "(the conversion formula is: celsius = 5.0/9.0 * farenheit-32).\n",
    "Then print this second dictionary, using a simple print as shown above."
   ]
  },
  {
   "cell_type": "code",
   "execution_count": null,
   "metadata": {},
   "outputs": [],
   "source": [
    "def main():\n",
    "    fahrenheit = {'Jan': 73, 'Feb': 68, 'Mar': 65, 'Apr': 60}\n",
    "    celcius = {month: (round((5.0 / 9.0 * temperature - 32), 1)) for month, temperature in fahrenheit.items()}\n",
    "    print(celcius) \n",
    "    \n",
    "main()"
   ]
  },
  {
   "cell_type": "markdown",
   "metadata": {},
   "source": [
    "No comments.\n",
    "\n",
    "#### Suggested solution"
   ]
  },
  {
   "cell_type": "code",
   "execution_count": null,
   "metadata": {},
   "outputs": [],
   "source": [
    "def fahrenheit_to_celsius(fahrenheit):\n",
    "    return 5 / 9 * (fahrenheit - 32)\n",
    "\n",
    "fahrenheit = {'Jan': 73,'Feb': 68,'Mar': 65, 'Apr': 60}     \n",
    "celsius = {month: fahrenheit_to_celsius(fahrenheit) for month, fahrenheit in fahrenheit.items()}     \n",
    "print(celsius) "
   ]
  }
 ],
 "metadata": {
  "kernelspec": {
   "display_name": "Python 3",
   "language": "python",
   "name": "python3"
  },
  "language_info": {
   "codemirror_mode": {
    "name": "ipython",
    "version": 3
   },
   "file_extension": ".py",
   "mimetype": "text/x-python",
   "name": "python",
   "nbconvert_exporter": "python",
   "pygments_lexer": "ipython3",
   "version": "3.7.4"
  }
 },
 "nbformat": 4,
 "nbformat_minor": 2
}
