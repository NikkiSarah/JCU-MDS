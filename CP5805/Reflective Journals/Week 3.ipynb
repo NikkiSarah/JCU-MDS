{
 "cells": [
  {
   "cell_type": "markdown",
   "metadata": {},
   "source": [
    "# Week 3 Reflective Journal\n",
    "\n",
    "## Jupyter notebook code\n",
    "\n",
    "### 13848336 Nikki Fitzherbert"
   ]
  },
  {
   "cell_type": "markdown",
   "metadata": {},
   "source": [
    "### Book 3 Task 4\n",
    "\n",
    "Design and write a program consisting of the following functions:\n",
    "\n",
    "- main() – gets the current product price from the user, and display the discounted price correctly formatted as currency\n",
    "- calcDiscount(price) – receives a price, applies a 25% discount and returns the discounted price\n",
    "- formatCurrency(number) – receives a number and returns it as a string with a $ in front of it and two decimal places."
   ]
  },
  {
   "cell_type": "code",
   "execution_count": null,
   "metadata": {},
   "outputs": [],
   "source": [
    "def calcDiscount(price):\n",
    "    current_price = float(input(price))\n",
    "    discounted_price = current_price * 0.75\n",
    "    number = discounted_price\n",
    "    return(number)\n",
    "\n",
    "def formatCurrency(number):\n",
    "    return(\"$\" + format(number, '.2f'))\n",
    "\n",
    "def main():\n",
    "    current_price = calcDiscount(\"What is the current price of the product? $\")\n",
    "    print(\"The discounted price is\", formatCurrency(current_price))\n",
    "\n",
    "main()"
   ]
  },
  {
   "cell_type": "markdown",
   "metadata": {},
   "source": [
    "calcDiscount should use the price passed as a parameter to calculated the discounted price. A variable called \"price\" should not be playing the role of a prompt\n",
    "\n",
    "#### Suggested solution"
   ]
  },
  {
   "cell_type": "code",
   "execution_count": null,
   "metadata": {},
   "outputs": [],
   "source": [
    "def calcDiscount(price):\n",
    "    discounted_price = price * 0.75\n",
    "    return discounted_price\n",
    "\n",
    "def formatCurrency(number):\n",
    "    return \"${:0,.2f}\".format(number)\n",
    "\n",
    "def main():\n",
    "    price = int(input('Enter the current product price: '))\n",
    "    print(formatCurrency(calcDiscount(price)))\n",
    "    \n",
    "main()"
   ]
  },
  {
   "cell_type": "markdown",
   "metadata": {},
   "source": [
    "### Book 4 Task 3\n",
    "\n",
    "Write a program to handle the following problem. In this task you will need to handle multiple conditions using the Boolean operator *and*.\n",
    "\n",
    "The program will ask the user for their age and whether they are currently enrolled to vote (hint: use strings like 'y' and 'n'). If the user is 18 or older and enrolled to vote, the program will display \"Go Vote!\". If the user is 18 or older and is not enrolled the program will display \"You are old enough to vote, but are not enrolled\". If the user is younger than 18 and is enrolled to vote, the program displays \"You are not yet 18 but you are enrolled\". In the case that the student is under 18 and is not enrolled, display \"Go home kid\"."
   ]
  },
  {
   "cell_type": "code",
   "execution_count": null,
   "metadata": {},
   "outputs": [],
   "source": [
    "age = int(input(\"Please enter your age: \"))\n",
    "vote = input(\"Please enter whether you are currently enrolled to vote (Y or N): \").upper()\n",
    "if age >= 18 and vote == \"Y\":\n",
    "    print(\"Go Vote!\")\n",
    "elif age >= 18 and vote == \"N\":\n",
    "    print(\"You are old enough to vote, but are not enrolled.\")\n",
    "elif age < 18 and vote == \"Y\":\n",
    "    print(\"You are not yet 18 but you are enrolled.\")\n",
    "else:\n",
    "    print(\"Go home kid.\")"
   ]
  },
  {
   "cell_type": "markdown",
   "metadata": {},
   "source": [
    "Please see sample solutions for how to simplify voting logic to avoid multiple checks of the same condition\n",
    "\n",
    "#### Suggested solution"
   ]
  },
  {
   "cell_type": "code",
   "execution_count": null,
   "metadata": {},
   "outputs": [],
   "source": [
    "age = int(input('Enter your age: '))\n",
    "is_enrolled = input('Are you currently enrolled to vote? y/n ')\n",
    "if age > 18:\n",
    "    if is_enrolled == 'y':\n",
    "        print('Go Vote!')\n",
    "    else:\n",
    "        print('You are old enough to vote, but are not enrolled.')\n",
    "else:\n",
    "    if is_enrolled == 'y':\n",
    "        print('You are not yet 18 but you are enrolled.')\n",
    "    else:\n",
    "        print('Go home kid.')"
   ]
  },
  {
   "cell_type": "markdown",
   "metadata": {},
   "source": [
    "### Book 5 Task 3\n",
    "\n",
    "At a certain university, passwords for the university’s network must meet the following requirements:\n",
    "- Password must be at least 7 characters long\n",
    "- At least one lower-case character\n",
    "- At least one upper-case character\n",
    "- At least one numerical character\n",
    "\n",
    "When a student creates a password it must be validated to ensure that it meets the criteria above. Write a program to display the criteria for the password, and ask for the password. Pass the password to a function that will evaluate whether the password is valid or not and return True or False to main. Then output a message to the user telling them whether their password has been accepted or that they must try again.\n",
    "\n",
    "Python has functions like isupper(), islower(), isdigit() which will be useful here. Check them out [here](https://docs.python.org/3/library/stdtypes.html#string-methods)"
   ]
  },
  {
   "cell_type": "code",
   "execution_count": null,
   "metadata": {},
   "outputs": [],
   "source": [
    "def validate_password(user_password):\n",
    "    if len(user_password) <= 7:\n",
    "        return(\"False\")\n",
    "    elif not any(ch.islower() for ch in user_password):\n",
    "        return(\"False\")\n",
    "    elif not any(ch.isupper() for ch in user_password):\n",
    "        return(\"False\")\n",
    "    elif not any(ch.isdigit() for ch in user_password):\n",
    "        return(\"False\")\n",
    "    else:\n",
    "        return(\"True\")\n",
    "    \n",
    "def main():\n",
    "    print(\"University network passwords must meet the following requirements:\")\n",
    "    print(\"- It must be at least seven (7) characters long\")\n",
    "    print(\"- It must contain at least one (1) lower-case character\")\n",
    "    print(\"- It must contain at least one (1) upper-case character\")\n",
    "    print(\"- It must contain at least one (1) numeric character\")\n",
    "    user_password = input(\"Please enter a password: \")\n",
    "    \n",
    "    while validate_password(user_password) == \"False\":\n",
    "        print(\"That password is invalid. Try again.\")\n",
    "        \n",
    "        user_password = input(\"Please enter a password: \")\n",
    "    \n",
    "    print(\"That password is acceptable. Thank you.\")\n",
    "\n",
    "main()"
   ]
  },
  {
   "cell_type": "markdown",
   "metadata": {},
   "source": [
    "Use True and False rather than \"True\" and \"False\" when validating the password\n",
    "\n",
    "#### Suggested solution"
   ]
  },
  {
   "cell_type": "code",
   "execution_count": null,
   "metadata": {},
   "outputs": [],
   "source": [
    "def is_password_valid(password):\n",
    "    result = False\n",
    "    \n",
    "    if len(password) >= 7:\n",
    "        has_upper = False\n",
    "        has_lower = False\n",
    "        has_digit = False\n",
    "        \n",
    "        for character in password:\n",
    "            if character.isupper():\n",
    "                has_upper = True\n",
    "            elif character.islower():\n",
    "                has_lower = True\n",
    "            elif character.isdigit():\n",
    "                has_digit = True\n",
    "        \n",
    "        result = has_upper and has_lower and has_digit\n",
    "    \n",
    "    return result\n",
    "\n",
    "def main():\n",
    "    password = input(\"Please enter your password: \")\n",
    "    while not is_password_valid(password):\n",
    "        print(\"That password is not valid. The password must meet the following requirements:\")\n",
    "        print(\" * Password must be at least 7 characters long\")\n",
    "        print(\" * At least one upper-case character\")\n",
    "        print(\" * At least one lower-case character\")\n",
    "        print(\" * At least one numerical character\")\n",
    "        \n",
    "        password = input(\"Please enter your password: \")\n",
    "    \n",
    "    print(\"Your chosen password is valid.\")\n",
    "\n",
    "main()"
   ]
  }
 ],
 "metadata": {
  "kernelspec": {
   "display_name": "Python 3",
   "language": "python",
   "name": "python3"
  },
  "language_info": {
   "codemirror_mode": {
    "name": "ipython",
    "version": 3
   },
   "file_extension": ".py",
   "mimetype": "text/x-python",
   "name": "python",
   "nbconvert_exporter": "python",
   "pygments_lexer": "ipython3",
   "version": "3.7.4"
  }
 },
 "nbformat": 4,
 "nbformat_minor": 2
}
