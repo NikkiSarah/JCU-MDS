{
 "cells": [
  {
   "cell_type": "markdown",
   "metadata": {},
   "source": [
    "# Jupyter Notebook - Week 5, Book 7\n",
    "## Descriptive Statistics\n",
    "### Task 1\n",
    "Take the following series:\n",
    "```python\n",
    "obj = pd.Series([4.5, 7.2, -5.3, 3.6], index = ['d', 'b', 'a', 'c'])\n",
    "```\n",
    "and print the following stats:\n",
    "- max\n",
    "- min\n",
    "- count\n",
    "- median\n",
    "- standard deviation"
   ]
  },
  {
   "cell_type": "code",
   "execution_count": 1,
   "metadata": {},
   "outputs": [
    {
     "name": "stdout",
     "output_type": "stream",
     "text": [
      "Max 7.2\n",
      "Min -5.3\n",
      "Count 4\n",
      "Median 4.05\n",
      "Standard deviation 5.420332093147061\n"
     ]
    }
   ],
   "source": [
    "import pandas as pd\n",
    "obj = pd.Series([ 4.5 , 7.2 , -5.3 , 3.6 ], index = ['d', 'b', 'a', 'c' ])\n",
    "print(\"Max\", obj.max())\n",
    "print(\"Min\", obj.min())\n",
    "print(\"Count\", obj.count())\n",
    "print(\"Median\", obj.median())\n",
    "print(\"Standard deviation\", obj.std())"
   ]
  },
  {
   "cell_type": "markdown",
   "metadata": {},
   "source": [
    "### Task 2\n",
    "Create a DataFrame based off the following data (you can copy code you've already written):\n",
    "\n",
    "|City|Min|Max|Days of Rainfall|\n",
    "|-|-|-|-|\n",
    "|Adelaide|16.5|28.5|4|\n",
    "|Brisbane|20.9|29.1|13|\n",
    "|Darwin|24.8|31.8|21|\n",
    "|Hobart|11.9|21.6|11|\n",
    "|Melbourne|14.3|25.9|8|\n",
    "|Perth|16.9|31.6|2|\n",
    "|Sydney|18.8|26.4|11|\n",
    "\n",
    "and display the following stats:\n",
    " - mininum of 'Min'\n",
    " - maximum of 'Max'\n",
    " - mean of 'Days of Rainfall"
   ]
  },
  {
   "cell_type": "code",
   "execution_count": 2,
   "metadata": {},
   "outputs": [
    {
     "name": "stdout",
     "output_type": "stream",
     "text": [
      "minimum of 'Min' 11.9\n",
      "minimum of 'Min' 31.8\n",
      "mean of 'Days of Rainfall' 10.0\n"
     ]
    }
   ],
   "source": [
    "df = pd.DataFrame({'City': ['Adelaide', 'Brisbae', 'Darwin', 'Hobart', 'Melbourne', 'Perth', 'Sydney'],\n",
    "                  'Min': [16.5, 20.9, 24.8, 11.9, 14.3, 16.9, 18.8],\n",
    "                  'Max': [28.5, 29.1, 31.8, 21.6, 25.9, 31.6, 26.4],\n",
    "                  'Days of Rainfall': [4, 13, 21, 11, 8, 2, 11]})\n",
    "print(\"minimum of 'Min'\", df['Min'].min())\n",
    "print(\"minimum of 'Min'\", df['Max'].max())\n",
    "print(\"mean of 'Days of Rainfall'\", df['Days of Rainfall'].mean())"
   ]
  },
  {
   "cell_type": "code",
   "execution_count": null,
   "metadata": {},
   "outputs": [],
   "source": []
  }
 ],
 "metadata": {
  "kernelspec": {
   "display_name": "Python 3",
   "language": "python",
   "name": "python3"
  },
  "language_info": {
   "codemirror_mode": {
    "name": "ipython",
    "version": 3
   },
   "file_extension": ".py",
   "mimetype": "text/x-python",
   "name": "python",
   "nbconvert_exporter": "python",
   "pygments_lexer": "ipython3",
   "version": "3.7.3"
  }
 },
 "nbformat": 4,
 "nbformat_minor": 2
}
