{
 "cells": [
  {
   "cell_type": "markdown",
   "metadata": {},
   "source": [
    "# Jupyter Notebook - Week 5, Book 1\n",
    "## Basic ndarrays\n",
    "### Task 1\n",
    "Create an ndarray based on the following list:\n",
    "```python\n",
    "data = [43, 23, 65, 23, 56, 989, 23, 54, 54]\n",
    "```\n",
    "Then print the whole array, its size, shape, and its dimensionality on separate lines."
   ]
  },
  {
   "cell_type": "code",
   "execution_count": 1,
   "metadata": {},
   "outputs": [
    {
     "name": "stdout",
     "output_type": "stream",
     "text": [
      "[ 43  23  65  23  56 989  23  54  54]\n",
      "9\n",
      "(9,)\n",
      "1\n"
     ]
    }
   ],
   "source": [
    "import numpy as np\n",
    "data = [43, 23, 65, 23, 56, 989, 23, 54, 54]\n",
    "array = np.array(data)\n",
    "print(array)\n",
    "print(array.size)\n",
    "print(array.shape)\n",
    "print(array.ndim)"
   ]
  },
  {
   "cell_type": "markdown",
   "metadata": {},
   "source": [
    "### Task 2\n",
    "Now print the same data for an ndarray based on the following lists:\n",
    "```python\n",
    "data2 = [[343.2232, 123424.323], [78343, 32, 4, 321, 739], [7823, 687, 725, 109, 23]]\n",
    "```"
   ]
  },
  {
   "cell_type": "code",
   "execution_count": 3,
   "metadata": {},
   "outputs": [
    {
     "name": "stdout",
     "output_type": "stream",
     "text": [
      "[list([343.2232, 123424.323]) list([78343, 32, 4, 321, 739])\n",
      " list([7823, 687, 725, 109, 23])]\n",
      "3\n",
      "(3,)\n",
      "1\n"
     ]
    }
   ],
   "source": [
    "import numpy as np\n",
    "data2 = [[343.2232, 123424.323], [78343, 32, 4, 321, 739], [7823, 687, 725, 109, 23]]\n",
    "array = np.array(data2)\n",
    "print(array)\n",
    "print(array.size)\n",
    "print(array.shape)\n",
    "print(array.ndim)"
   ]
  },
  {
   "cell_type": "markdown",
   "metadata": {},
   "source": [
    "### Task 3\n",
    "Finally, print the data for an ndarry based on the following:\n",
    "```python\n",
    "data3 = [[62, 74, 99, 90, 11], [78343, 32, 4, 321, 739], [7823, 687, 725, 109, 23]]\n",
    "```"
   ]
  },
  {
   "cell_type": "code",
   "execution_count": 2,
   "metadata": {},
   "outputs": [
    {
     "name": "stdout",
     "output_type": "stream",
     "text": [
      "[[   62    74    99    90    11]\n",
      " [78343    32     4   321   739]\n",
      " [ 7823   687   725   109    23]]\n",
      "15\n",
      "(3, 5)\n",
      "2\n"
     ]
    }
   ],
   "source": [
    "import numpy as np\n",
    "data3 = [[62, 74, 99, 90, 11], [78343, 32, 4, 321, 739], [7823, 687, 725, 109, 23]]\n",
    "array = np.array(data3)\n",
    "print(array)\n",
    "print(array.size)\n",
    "print(array.shape)\n",
    "print(array.ndim)"
   ]
  },
  {
   "cell_type": "markdown",
   "metadata": {},
   "source": [
    "Notice the difference in how numpy treats the lists in tasks 2 and 3. "
   ]
  }
 ],
 "metadata": {
  "kernelspec": {
   "display_name": "Python 3",
   "language": "python",
   "name": "python3"
  },
  "language_info": {
   "codemirror_mode": {
    "name": "ipython",
    "version": 3
   },
   "file_extension": ".py",
   "mimetype": "text/x-python",
   "name": "python",
   "nbconvert_exporter": "python",
   "pygments_lexer": "ipython3",
   "version": "3.7.3"
  }
 },
 "nbformat": 4,
 "nbformat_minor": 2
}
