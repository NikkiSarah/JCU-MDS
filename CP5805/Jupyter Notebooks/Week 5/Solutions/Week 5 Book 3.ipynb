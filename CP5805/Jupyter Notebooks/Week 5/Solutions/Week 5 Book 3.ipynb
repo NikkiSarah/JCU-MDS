{
 "cells": [
  {
   "cell_type": "markdown",
   "metadata": {},
   "source": [
    "# Jupyter Notebook - Week 5, Book 3\n",
    "## Boolean Indexing\n",
    "### Task 1\n",
    "Let's start with the examples in the notes.\n",
    "Take the following 2-dimensional array:\n",
    "```python\n",
    "arr2d = np.array([[1, 2, 3], [4, 5, 6], [7, 8, 9]])\n",
    "```\n",
    "And the following array, which we are using as an index:\n",
    "```python\n",
    "names = np.array([\"Alan\", \"Jane\", \"Jesse\"])\n",
    "```\n",
    "Now use boolean indexing to extract the elements of *arr2d* which are linked to 'Jane', and print them on separate lines.\n",
    "Your result should look like:\n",
    "```python\n",
    "4\n",
    "5\n",
    "6\n",
    "```\n",
    "Remember that the result of boolean indexing could be the same dimensionality as the original ndarray, so you will have to handle lists within list (using loops within loops)"
   ]
  },
  {
   "cell_type": "code",
   "execution_count": 1,
   "metadata": {},
   "outputs": [
    {
     "name": "stdout",
     "output_type": "stream",
     "text": [
      "[4 5 6]\n"
     ]
    }
   ],
   "source": [
    "import numpy as np\n",
    "arr2d = np.array([[1, 2, 3], [4, 5, 6], [7, 8, 9]])\n",
    "names = np.array([\"Alan\", \"Jane\", \"Jesse\"])\n",
    "\n",
    "for row in arr2d[names == 'Jane']:\n",
    "    print(row)"
   ]
  },
  {
   "cell_type": "markdown",
   "metadata": {},
   "source": [
    "### Task 2\n",
    "Now lets reverse the above program. Instead of listing all elements aligned with 'Jane', I now want all elements aligned with either 'Alan' or 'Jesse'.\n",
    "\n",
    "Print each row on its own line, as shown below:\n",
    "```python\n",
    "[1, 2, 3]\n",
    "[7, 8, 9]\n",
    "```"
   ]
  },
  {
   "cell_type": "code",
   "execution_count": 2,
   "metadata": {},
   "outputs": [
    {
     "name": "stdout",
     "output_type": "stream",
     "text": [
      "[1 2 3]\n",
      "[7 8 9]\n"
     ]
    }
   ],
   "source": [
    "import numpy as np\n",
    "arr2d = np.array([[1, 2, 3], [4, 5, 6], [7, 8, 9]])\n",
    "names = np.array([\"Alan\", \"Jane\", \"Jesse\"])\n",
    "\n",
    "for row in arr2d[(names == 'Alan') | (names == 'Jesse')]:\n",
    "    print(row)"
   ]
  },
  {
   "cell_type": "markdown",
   "metadata": {},
   "source": [
    "## Fancy Indexing\n",
    "Instead of using a Boolean array as an index (as above) we can use a list of integers, which will be used as indicies. This allows us to select specific dimensions of an ndarray, in a specific order.\n",
    "\n",
    "For example:\n",
    "```python\n",
    "arr2d = np.array([[1, 2, 3], [4, 5, 6], [7, 8, 9]])\n",
    "print(arr2d[[3,1,2]])\n",
    "```\n",
    "would print:\n",
    "```\n",
    "[[7 8 9]\n",
    " [1 2 3]\n",
    " [4 5 6]]\n",
    " ```\n",
    " \n",
    "### Task 3\n",
    "Create an ndarray containing 5 rows, each of which has 3 random numbers within. Print the ndarray using a single print statement, and then print the third, second, and fourth rows in order."
   ]
  },
  {
   "cell_type": "code",
   "execution_count": 5,
   "metadata": {},
   "outputs": [
    {
     "name": "stdout",
     "output_type": "stream",
     "text": [
      "[[0.13256554 0.55148216 0.02388311]\n",
      " [0.59568898 0.48588534 0.12460292]\n",
      " [0.66335599 0.31769732 0.10340956]\n",
      " [0.0783189  0.98022678 0.70852065]\n",
      " [0.11568323 0.95397754 0.5027199 ]]\n",
      "[[0.66335599 0.31769732 0.10340956]\n",
      " [0.59568898 0.48588534 0.12460292]\n",
      " [0.0783189  0.98022678 0.70852065]]\n"
     ]
    }
   ],
   "source": [
    "arr2d = np.random.rand(5, 3)\n",
    "print(arr2d)\n",
    "print(arr2d[[2, 1, 3]])"
   ]
  },
  {
   "cell_type": "code",
   "execution_count": null,
   "metadata": {},
   "outputs": [],
   "source": []
  }
 ],
 "metadata": {
  "kernelspec": {
   "display_name": "Python 3",
   "language": "python",
   "name": "python3"
  },
  "language_info": {
   "codemirror_mode": {
    "name": "ipython",
    "version": 3
   },
   "file_extension": ".py",
   "mimetype": "text/x-python",
   "name": "python",
   "nbconvert_exporter": "python",
   "pygments_lexer": "ipython3",
   "version": "3.7.3"
  }
 },
 "nbformat": 4,
 "nbformat_minor": 2
}
