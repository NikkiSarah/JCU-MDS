{
 "cells": [
  {
   "cell_type": "markdown",
   "metadata": {},
   "source": [
    "# Jupyter Notebook - Week 5, Book 4\n",
    "## Vectorized Operations\n",
    "### Task 1\n",
    "Take the following code which creates a randomly filled 5 by 3 ndarray:\n",
    "```python\n",
    "final_data = np.random.randint(0, 1000, (5, 3))\n",
    "```\n",
    "After using this to create the ndarray, print the following things to the screen:\n",
    "- the ndarray\n",
    "- the ndarray multiplied by 5\n",
    "- the ndarray with 100 added to each element"
   ]
  },
  {
   "cell_type": "code",
   "execution_count": 1,
   "metadata": {},
   "outputs": [
    {
     "name": "stdout",
     "output_type": "stream",
     "text": [
      "[[ 40 262 954]\n",
      " [908 334   6]\n",
      " [340 763 892]\n",
      " [422 401 423]\n",
      " [972 375 316]]\n",
      "[[ 200 1310 4770]\n",
      " [4540 1670   30]\n",
      " [1700 3815 4460]\n",
      " [2110 2005 2115]\n",
      " [4860 1875 1580]]\n",
      "[[ 140  362 1054]\n",
      " [1008  434  106]\n",
      " [ 440  863  992]\n",
      " [ 522  501  523]\n",
      " [1072  475  416]]\n"
     ]
    }
   ],
   "source": [
    "import numpy as np\n",
    "final_data = np.random.randint(0, 1000, (5, 3))\n",
    "\n",
    "print(final_data)\n",
    "print(final_data * 5)\n",
    "print(final_data + 100)"
   ]
  },
  {
   "cell_type": "markdown",
   "metadata": {},
   "source": [
    "## Conditional Array Operations\n",
    "### Task 2\n",
    "Using the *where* operation shown in your notes, take your program above and produce an ndarray where every value less than 100 is set to zero.\n",
    "Print the original array, then the modified array, to show this in action."
   ]
  },
  {
   "cell_type": "code",
   "execution_count": 18,
   "metadata": {},
   "outputs": [
    {
     "name": "stdout",
     "output_type": "stream",
     "text": [
      "[[548  76 923]\n",
      " [428 632 550]\n",
      " [580 741 654]\n",
      " [570  33  36]\n",
      " [885 197 365]]\n",
      "[[548   0 923]\n",
      " [428 632 550]\n",
      " [580 741 654]\n",
      " [570   0   0]\n",
      " [885 197 365]]\n"
     ]
    }
   ],
   "source": [
    "import numpy as np\n",
    "final_data = np.random.randint(0, 1000, (5, 3))\n",
    "\n",
    "print(final_data)\n",
    "arr2d = np.where(final_data < 100, 0, final_data)\n",
    "print(arr2d)"
   ]
  }
 ],
 "metadata": {
  "kernelspec": {
   "display_name": "Python 3",
   "language": "python",
   "name": "python3"
  },
  "language_info": {
   "codemirror_mode": {
    "name": "ipython",
    "version": 3
   },
   "file_extension": ".py",
   "mimetype": "text/x-python",
   "name": "python",
   "nbconvert_exporter": "python",
   "pygments_lexer": "ipython3",
   "version": "3.7.3"
  }
 },
 "nbformat": 4,
 "nbformat_minor": 2
}
