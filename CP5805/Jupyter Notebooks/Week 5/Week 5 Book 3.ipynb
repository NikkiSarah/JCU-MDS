{
 "cells": [
  {
   "cell_type": "markdown",
   "metadata": {},
   "source": [
    "# Jupyter Notebook - Week 5, Book 3\n",
    "## Boolean Indexing\n",
    "### Task 1\n",
    "Let's start with the examples in the notes.\n",
    "Take the following 2-dimensional array:\n",
    "```python\n",
    "arr2d = np.array([[1, 2, 3], [4, 5, 6], [7, 8, 9]])\n",
    "```\n",
    "And the following array, which we are using as an index:\n",
    "```python\n",
    "names = np.array([\"Alan\", \"Jane\", \"Jesse\"])\n",
    "```\n",
    "Now use boolean indexing to extract the elements of *arr2d* which are linked to 'Jane', and print them on separate lines.\n",
    "Your result should look like:\n",
    "```python\n",
    "4\n",
    "5\n",
    "6\n",
    "```\n",
    "Remember that the result of boolean indexing could be the same dimensionality as the original ndarray, so you will have to handle lists within list (using loops within loops)"
   ]
  },
  {
   "cell_type": "code",
   "execution_count": 8,
   "metadata": {},
   "outputs": [
    {
     "name": "stdout",
     "output_type": "stream",
     "text": [
      "4\n",
      "5\n",
      "6\n"
     ]
    }
   ],
   "source": [
    "import numpy as np\n",
    "\n",
    "arr2d = np.array([[1, 2, 3], [4, 5, 6], [7, 8, 9]])\n",
    "names = np.array([\"Alan\", \"Jane\", \"Jesse\"])\n",
    "\n",
    "for lines in arr2d[names == \"Jane\"]:\n",
    "    for elements in lines:\n",
    "        print(elements)"
   ]
  },
  {
   "cell_type": "markdown",
   "metadata": {},
   "source": [
    "### Task 2\n",
    "Now lets reverse the above program. Instead of listing all elements aligned with 'Jane', I now want all elements aligned with either 'Alan' or 'Jesse'.\n",
    "\n",
    "Print each row on its own line, as shown below:\n",
    "```python\n",
    "[1, 2, 3]\n",
    "[7, 8, 9]\n",
    "```"
   ]
  },
  {
   "cell_type": "code",
   "execution_count": 6,
   "metadata": {},
   "outputs": [
    {
     "name": "stdout",
     "output_type": "stream",
     "text": [
      "[1 2 3]\n",
      "[7 8 9]\n"
     ]
    }
   ],
   "source": [
    "for lines in arr2d[(names == \"Alan\") | (names == \"Jesse\")]:\n",
    "    print(lines)"
   ]
  },
  {
   "cell_type": "markdown",
   "metadata": {},
   "source": [
    "## Fancy Indexing\n",
    "Instead of using a Boolean array as an index (as above) we can use a list of integers, which will be used as indicies. This allows us to select specific dimensions of an ndarray, in a specific order.\n",
    "\n",
    "For example:\n",
    "```python\n",
    "arr2d = np.array([[1, 2, 3], [4, 5, 6], [7, 8, 9]])\n",
    "print(arr2d[[3,1,2]])\n",
    "```\n",
    "would print:\n",
    "```\n",
    "[[7 8 9]\n",
    " [1 2 3]\n",
    " [4 5 6]]\n",
    " ```\n",
    " \n",
    "### Task 3\n",
    "Create an ndarray containing 5 rows, each of which has 3 random numbers within. (Have a loop that runs 3 times, inside a loop running 5 times.) Print the ndarray using a single print statement, and then print the third, second, and fourth rows in order."
   ]
  },
  {
   "cell_type": "code",
   "execution_count": 3,
   "metadata": {},
   "outputs": [
    {
     "name": "stdout",
     "output_type": "stream",
     "text": [
      "[[ 81  67   8]\n",
      " [ 63  78  46]\n",
      " [ 67  64  21]\n",
      " [ 80   8  80]\n",
      " [100  73  37]]\n"
     ]
    },
    {
     "data": {
      "text/plain": [
       "array([[67, 64, 21],\n",
       "       [63, 78, 46],\n",
       "       [80,  8, 80]])"
      ]
     },
     "execution_count": 3,
     "metadata": {},
     "output_type": "execute_result"
    }
   ],
   "source": [
    "import random as r\n",
    "import numpy as np\n",
    "\n",
    "## easy way\n",
    "#array = np.random.randint(0,1000,(5,3))\n",
    "\n",
    "## list comprehension\n",
    "#[[output_expression() for(set of columns to iterate)] for (set of rows to iterate)]\n",
    "#list_of_lists = [[r.randint(0,100) for col in range(3)] for row in range(5)]\n",
    "#print(list_of_lists)\n",
    "#array = np.array(list_of_lists)\n",
    "#print(array)\n",
    "\n",
    "#looping\n",
    "list_of_lists = []\n",
    "for row in range(5):\n",
    "    list_of_lists.append([])\n",
    "    for col in range(3):\n",
    "        list_of_lists[row].append(r.randint(1,100))\n",
    "\n",
    "array = np.array(list_of_lists)\n",
    "print(array)\n",
    "\n",
    "array[[2,1,3]]"
   ]
  }
 ],
 "metadata": {
  "kernelspec": {
   "display_name": "Python 3",
   "language": "python",
   "name": "python3"
  },
  "language_info": {
   "codemirror_mode": {
    "name": "ipython",
    "version": 3
   },
   "file_extension": ".py",
   "mimetype": "text/x-python",
   "name": "python",
   "nbconvert_exporter": "python",
   "pygments_lexer": "ipython3",
   "version": "3.7.4"
  }
 },
 "nbformat": 4,
 "nbformat_minor": 2
}
