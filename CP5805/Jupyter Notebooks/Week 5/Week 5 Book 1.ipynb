{
 "cells": [
  {
   "cell_type": "markdown",
   "metadata": {},
   "source": [
    "# Jupyter Notebook - Week 5, Book 1\n",
    "## Basic ndarrays\n",
    "### Task 1\n",
    "Create an ndarray based on the following list:\n",
    "```python\n",
    "data = [43, 23, 65, 23, 56, 989, 23, 54, 54]\n",
    "```\n",
    "Then print the whole array, its size, shape, and its dimensionality on separate lines."
   ]
  },
  {
   "cell_type": "code",
   "execution_count": 1,
   "metadata": {},
   "outputs": [
    {
     "name": "stdout",
     "output_type": "stream",
     "text": [
      "[43, 23, 65, 23, 56, 989, 23, 54, 54]\n",
      "[ 43  23  65  23  56 989  23  54  54]\n",
      "9\n",
      "1\n",
      "(9,)\n"
     ]
    }
   ],
   "source": [
    "import numpy as np\n",
    "\n",
    "data = [43, 23, 65, 23, 56, 989, 23, 54, 54]\n",
    "data_array = np.array(data)\n",
    "\n",
    "print(data)\n",
    "print(data_array)\n",
    "\n",
    "print(data_array.size)\n",
    "print(data_array.ndim)\n",
    "print(data_array.shape)"
   ]
  },
  {
   "cell_type": "markdown",
   "metadata": {},
   "source": [
    "### Task 2\n",
    "Now print the same data for an ndarray based on the following lists:\n",
    "```python\n",
    "data2 = [[343.2232, 123424.323], [78343, 32, 4, 321, 739], [7823, 687, 725, 109, 23]]\n",
    "```"
   ]
  },
  {
   "cell_type": "code",
   "execution_count": 2,
   "metadata": {},
   "outputs": [
    {
     "name": "stdout",
     "output_type": "stream",
     "text": [
      "[[343.2232, 123424.323], [78343, 32, 4, 321, 739], [7823, 687, 725, 109, 23]]\n",
      "[list([343.2232, 123424.323]) list([78343, 32, 4, 321, 739])\n",
      " list([7823, 687, 725, 109, 23])]\n",
      "3\n",
      "1\n",
      "(3,)\n"
     ]
    }
   ],
   "source": [
    "import numpy as np\n",
    "\n",
    "data2 = [[343.2232, 123424.323], [78343, 32, 4, 321, 739], [7823, 687, 725, 109, 23]]\n",
    "data2_array = np.array(data2)\n",
    "\n",
    "print(data2)\n",
    "print(data2_array)\n",
    "\n",
    "print(data2_array.size)\n",
    "print(data2_array.ndim)\n",
    "print(data2_array.shape)"
   ]
  },
  {
   "cell_type": "markdown",
   "metadata": {},
   "source": [
    "### Task 3\n",
    "Finally, print the data for an ndarry based on the following:\n",
    "```python\n",
    "data3 = [[62, 74, 99, 90, 11], [78343, 32, 4, 321, 739], [7823, 687, 725, 109, 23]]\n",
    "```"
   ]
  },
  {
   "cell_type": "code",
   "execution_count": 3,
   "metadata": {},
   "outputs": [
    {
     "name": "stdout",
     "output_type": "stream",
     "text": [
      "[[63, 74, 99, 90, 11], [78343, 32, 4, 321, 739], [7823, 687, 725, 109, 23]]\n",
      "[[   63    74    99    90    11]\n",
      " [78343    32     4   321   739]\n",
      " [ 7823   687   725   109    23]]\n",
      "15\n",
      "2\n",
      "(3, 5)\n"
     ]
    }
   ],
   "source": [
    "import numpy as np\n",
    "\n",
    "data3 = [[63, 74, 99, 90, 11], [78343, 32, 4, 321, 739], [7823, 687, 725, 109, 23]]\n",
    "data3_array = np.array(data3)\n",
    "\n",
    "print(data3)\n",
    "print(data3_array)\n",
    "\n",
    "print(data3_array.size)\n",
    "print(data3_array.ndim)\n",
    "print(data3_array.shape)"
   ]
  },
  {
   "cell_type": "markdown",
   "metadata": {},
   "source": [
    "Notice the difference in how numpy treats the lists in tasks 2 and 3. "
   ]
  }
 ],
 "metadata": {
  "kernelspec": {
   "display_name": "Python 3",
   "language": "python",
   "name": "python3"
  },
  "language_info": {
   "codemirror_mode": {
    "name": "ipython",
    "version": 3
   },
   "file_extension": ".py",
   "mimetype": "text/x-python",
   "name": "python",
   "nbconvert_exporter": "python",
   "pygments_lexer": "ipython3",
   "version": "3.7.4"
  }
 },
 "nbformat": 4,
 "nbformat_minor": 2
}
