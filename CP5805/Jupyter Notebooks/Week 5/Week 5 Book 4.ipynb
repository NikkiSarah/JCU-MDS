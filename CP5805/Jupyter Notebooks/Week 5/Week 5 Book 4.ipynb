{
 "cells": [
  {
   "cell_type": "markdown",
   "metadata": {},
   "source": [
    "# Jupyter Notebook - Week 5, Book 4\n",
    "## Vectorized Operations\n",
    "### Task 1\n",
    "Take the following code which creates a randomly filled 5 by 3 ndarray:\n",
    "```python\n",
    "final_data = np.random.randint(0, 1000, (5, 3))\n",
    "```\n",
    "After using this to create the ndarray, print the following things to the screen:\n",
    "- the ndarray\n",
    "- the ndarray multiplied by 5\n",
    "- the ndarray with 100 added to each element"
   ]
  },
  {
   "cell_type": "code",
   "execution_count": 2,
   "metadata": {},
   "outputs": [
    {
     "name": "stdout",
     "output_type": "stream",
     "text": [
      "[[982 339 869]\n",
      " [443 390 967]\n",
      " [685 715 299]\n",
      " [  6 159 989]\n",
      " [496 584  63]]\n",
      "[[4910 1695 4345]\n",
      " [2215 1950 4835]\n",
      " [3425 3575 1495]\n",
      " [  30  795 4945]\n",
      " [2480 2920  315]]\n",
      "[[1082  439  969]\n",
      " [ 543  490 1067]\n",
      " [ 785  815  399]\n",
      " [ 106  259 1089]\n",
      " [ 596  684  163]]\n"
     ]
    }
   ],
   "source": [
    "import numpy as np\n",
    "\n",
    "final_data = np.random.randint(0,1000,(5,3))\n",
    "\n",
    "print(final_data)\n",
    "print(final_data * 5)\n",
    "print(final_data + 100)"
   ]
  },
  {
   "cell_type": "markdown",
   "metadata": {},
   "source": [
    "## Conditional Array Operations\n",
    "### Task 2\n",
    "Using the *where* operation shown in your notes, take your program above and produce an ndarray where every value less than 100 is set to zero.\n",
    "Print the original array, then the modified array, to show this in action."
   ]
  },
  {
   "cell_type": "code",
   "execution_count": 3,
   "metadata": {},
   "outputs": [
    {
     "name": "stdout",
     "output_type": "stream",
     "text": [
      "[[982 339 869]\n",
      " [443 390 967]\n",
      " [685 715 299]\n",
      " [  6 159 989]\n",
      " [496 584  63]]\n",
      "[[982 339 869]\n",
      " [443 390 967]\n",
      " [685 715 299]\n",
      " [  0 159 989]\n",
      " [496 584   0]]\n"
     ]
    }
   ],
   "source": [
    "modified_data = np.where(final_data < 100, 0, final_data)\n",
    "\n",
    "print(final_data)\n",
    "print(modified_data)"
   ]
  }
 ],
 "metadata": {
  "kernelspec": {
   "display_name": "Python 3",
   "language": "python",
   "name": "python3"
  },
  "language_info": {
   "codemirror_mode": {
    "name": "ipython",
    "version": 3
   },
   "file_extension": ".py",
   "mimetype": "text/x-python",
   "name": "python",
   "nbconvert_exporter": "python",
   "pygments_lexer": "ipython3",
   "version": "3.7.4"
  }
 },
 "nbformat": 4,
 "nbformat_minor": 2
}
