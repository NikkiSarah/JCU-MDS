{
 "cells": [
  {
   "cell_type": "markdown",
   "metadata": {},
   "source": [
    "# Jupyter Notebook - Week 5, Book 2\n",
    "## Indexing ndarrays\n",
    "\n",
    "Like lists, we use [*index*] to access a specific element of an ndarray. In many cases that 'element' will actually be a subarray of the ndarray, so it will be iterable as well.\n",
    "\n",
    "### Task 1\n",
    "Create an ndarray based on the following lists:\n",
    "```python\n",
    "data3 = [[62, 74, 99, 90, 11], [78343, 32, 4, 321, 739], [7823, 687, 725, 109, 23]]\n",
    "```\n",
    "And write code to iterate over the ndarray, printing it using the following format:\n",
    "\n",
    "```python\n",
    "Row 1\n",
    "62\n",
    "74\n",
    "99\n",
    "90\n",
    "11\n",
    "\n",
    "Row 2\n",
    "78343\n",
    "32\n",
    "4\n",
    "321\n",
    "739\n",
    "\n",
    "Row 3\n",
    "7823\n",
    "687\n",
    "725\n",
    "109\n",
    "23\n",
    "```"
   ]
  },
  {
   "cell_type": "code",
   "execution_count": 1,
   "metadata": {},
   "outputs": [
    {
     "name": "stdout",
     "output_type": "stream",
     "text": [
      "Row 1\n",
      "62\n",
      "74\n",
      "99\n",
      "90\n",
      "11\n",
      "\n",
      "Row 2\n",
      "78343\n",
      "32\n",
      "4\n",
      "321\n",
      "739\n",
      "\n",
      "Row 3\n",
      "7823\n",
      "687\n",
      "725\n",
      "109\n",
      "23\n",
      "\n"
     ]
    }
   ],
   "source": [
    "import numpy as np\n",
    "\n",
    "data3 = [[62, 74, 99, 90, 11], [78343, 32, 4, 321, 739], [7823, 687, 725, 109, 23]]\n",
    "array = np.array(data3)\n",
    "\n",
    "i = 1\n",
    "for row in array:\n",
    "    print(\"Row {}\".format(i))\n",
    "    for element in row:\n",
    "        print(element)\n",
    "    print()\n",
    "    i += 1"
   ]
  },
  {
   "cell_type": "markdown",
   "metadata": {},
   "source": [
    "### Task 2\n",
    "Now take the ndarray you created above and print *only* the second row."
   ]
  },
  {
   "cell_type": "code",
   "execution_count": 26,
   "metadata": {},
   "outputs": [
    {
     "name": "stdout",
     "output_type": "stream",
     "text": [
      "Row 2\n",
      "[78343    32     4   321   739]\n"
     ]
    }
   ],
   "source": [
    "import numpy as np\n",
    "\n",
    "data3 = [[62, 74, 99, 90, 11], [78343, 32, 4, 321, 739], [7823, 687, 725, 109, 23]]\n",
    "array = np.array(data3)\n",
    "\n",
    "row = 2\n",
    "print(\"Row {}\".format(row))\n",
    "print(array[-row])"
   ]
  },
  {
   "cell_type": "markdown",
   "metadata": {},
   "source": [
    "## Slicing lists\n",
    "We can create a 'view' of a list by using ':' to slice up the ndarray the way we can a string or list.\n",
    "\n",
    "### Task 3\n",
    "Take the following ndarray and make a slice containing the third and fourth rows. Display both of them, using a simple print().\n",
    "\n",
    "```python\n",
    "full_data = np.array([[14, 344, 23, 51], [95, 54, 103, 1], [34, 23, 11, 89], [876, 482, 962]])\n",
    "```"
   ]
  },
  {
   "cell_type": "code",
   "execution_count": 19,
   "metadata": {},
   "outputs": [
    {
     "name": "stdout",
     "output_type": "stream",
     "text": [
      "[[ 34  23  11  89]\n",
      " [876 482 962  55]]\n"
     ]
    }
   ],
   "source": [
    "import numpy as np\n",
    "\n",
    "full_data = np.array([[14, 344, 23, 51], [95, 54, 103, 1], [34, 23, 11, 89], [876, 482, 962, 55]])\n",
    "\n",
    "print(full_data[-2:,])"
   ]
  }
 ],
 "metadata": {
  "kernelspec": {
   "display_name": "Python 3",
   "language": "python",
   "name": "python3"
  },
  "language_info": {
   "codemirror_mode": {
    "name": "ipython",
    "version": 3
   },
   "file_extension": ".py",
   "mimetype": "text/x-python",
   "name": "python",
   "nbconvert_exporter": "python",
   "pygments_lexer": "ipython3",
   "version": "3.7.4"
  }
 },
 "nbformat": 4,
 "nbformat_minor": 2
}
