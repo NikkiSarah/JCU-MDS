{
 "cells": [
  {
   "cell_type": "markdown",
   "metadata": {},
   "source": [
    "# Jupyter Notebook - Week 5, Book 5\n",
    "## Series\n",
    "### Task 1\n",
    "Write a program that creates and prints two pandas Series objects. One is to be based off the following dictionary:\n",
    "```python\n",
    "data_dict = {'bill': '353-1234', 'rich': '269-1234', 'jane': '352-1234'}\n",
    "```\n",
    "And the second is to contain 6 integers between 10 and 100. You can hard code these, no need for random generation, and we will use the default index for this Series.\n"
   ]
  },
  {
   "cell_type": "code",
   "execution_count": 1,
   "metadata": {},
   "outputs": [
    {
     "name": "stdout",
     "output_type": "stream",
     "text": [
      "bill    353-1234\n",
      "rich    269-1234\n",
      "jane    352-1234\n",
      "dtype: object\n",
      "\n",
      "0    48\n",
      "1    40\n",
      "2    35\n",
      "3    55\n",
      "4    53\n",
      "5    91\n",
      "dtype: int32\n"
     ]
    }
   ],
   "source": [
    "import numpy as np\n",
    "import pandas as pd\n",
    "\n",
    "def create_pd_objects(data_dict, rand_ints):\n",
    "    pd_data_dict = pd.Series(data_dict)\n",
    "    pd_rand_ints = pd.Series(rand_ints)\n",
    "    \n",
    "    return pd_data_dict, pd_rand_ints\n",
    "\n",
    "def display_pd_objects(pd_data_dict, pd_rand_ints):\n",
    "    print(pd_data_dict)\n",
    "    print(\"\")\n",
    "    print(pd_rand_ints)\n",
    "\n",
    "def main():\n",
    "    data_dict = {'bill': '353-1234', 'rich': '269-1234', 'jane': '352-1234'}\n",
    "    rand_ints = np.random.randint(10, 100, 6)\n",
    "\n",
    "    pd_data_dict, pd_rand_ints = create_pd_objects(data_dict, rand_ints)\n",
    "    display_pd_objects(pd_data_dict, pd_rand_ints)\n",
    "    \n",
    "main()"
   ]
  },
  {
   "cell_type": "markdown",
   "metadata": {},
   "source": [
    "### Task 2\n",
    "Copy the program you wrote above, and add the following names:\n",
    "- index based off the dictionary is called **name**\n",
    "- data based off the dictionary is called **phone_number**\n",
    "- index for the hard coded data is **month**\n",
    "- data for the hard coded data is **rainfall**"
   ]
  },
  {
   "cell_type": "code",
   "execution_count": 2,
   "metadata": {},
   "outputs": [
    {
     "name": "stdout",
     "output_type": "stream",
     "text": [
      "name\n",
      "bill    353-1234\n",
      "rich    269-1234\n",
      "jane    352-1234\n",
      "Name: phone_number, dtype: object\n",
      "\n",
      "month\n",
      "0    74\n",
      "1    85\n",
      "2    85\n",
      "3    67\n",
      "4    54\n",
      "5    19\n",
      "Name: rainfall, dtype: int32\n"
     ]
    }
   ],
   "source": [
    "import numpy as np\n",
    "import pandas as pd\n",
    "\n",
    "def create_pd_objects(data_dict, rand_ints):\n",
    "    pd_data_dict = pd.Series(data_dict)\n",
    "    pd_rand_ints = pd.Series(rand_ints)\n",
    "    \n",
    "    return pd_data_dict, pd_rand_ints\n",
    "\n",
    "def name_pd_objects(pd_data_dict, pd_rand_ints):\n",
    "    pd_data_dict.name = \"phone_number\"\n",
    "    pd_data_dict.index.name = \"name\"\n",
    "    pd_rand_ints.name = \"rainfall\"\n",
    "    pd_rand_ints.index.name = \"month\"\n",
    "    \n",
    "    return pd_data_dict, pd_rand_ints\n",
    "\n",
    "def display_pd_objects(pd_data_dict, pd_rand_ints):\n",
    "    print(pd_data_dict)\n",
    "    print(\"\")\n",
    "    print(pd_rand_ints)\n",
    "\n",
    "def main():\n",
    "    data_dict = {'bill': '353-1234', 'rich': '269-1234', 'jane': '352-1234'}\n",
    "    rand_ints = np.random.randint(10, 100, 6)\n",
    "\n",
    "    pd_data_dict, pd_rand_ints = create_pd_objects(data_dict, rand_ints)\n",
    "    name_pd_objects(pd_data_dict, pd_rand_ints)\n",
    "    display_pd_objects(pd_data_dict, pd_rand_ints)\n",
    "    \n",
    "main()"
   ]
  },
  {
   "cell_type": "markdown",
   "metadata": {},
   "source": [
    "## DataFrame\n",
    "### Task 3\n",
    "\n",
    "Create a DataFrame based off the following data (make a dictionary of lists, and base it off those).\n",
    "\n",
    "|City|Min|Max|Days of Rainfall|\n",
    "|-|-|-|-|\n",
    "|Adelaide|16.5|28.5|4|\n",
    "|Brisbane|20.9|29.1|13|\n",
    "|Darwin|24.8|31.8|21|\n",
    "|Hobart|11.9|21.6|11|\n",
    "|Melbourne|14.3|25.9|8|\n",
    "|Perth|16.9|31.6|2|\n",
    "|Sydney|18.8|26.4|11|\n",
    "\n",
    "Print the entire DataFrame, then print just the city name, and days of rainfall."
   ]
  },
  {
   "cell_type": "code",
   "execution_count": 4,
   "metadata": {},
   "outputs": [
    {
     "name": "stdout",
     "output_type": "stream",
     "text": [
      "        City   Min   Max  Days_of_Rainfall\n",
      "0   Adelaide  16.5  28.5                 4\n",
      "1   Brisbane  20.9  29.1                13\n",
      "2     Darwin  24.8  31.9                21\n",
      "3     Hobart  11.9  21.6                11\n",
      "4  Melbourne  14.3  25.9                 8\n",
      "5      Perth  16.9  31.6                 2\n",
      "6     Sydney  18.8  26.4                11\n"
     ]
    },
    {
     "data": {
      "text/html": [
       "<div>\n",
       "<style scoped>\n",
       "    .dataframe tbody tr th:only-of-type {\n",
       "        vertical-align: middle;\n",
       "    }\n",
       "\n",
       "    .dataframe tbody tr th {\n",
       "        vertical-align: top;\n",
       "    }\n",
       "\n",
       "    .dataframe thead th {\n",
       "        text-align: right;\n",
       "    }\n",
       "</style>\n",
       "<table border=\"1\" class=\"dataframe\">\n",
       "  <thead>\n",
       "    <tr style=\"text-align: right;\">\n",
       "      <th></th>\n",
       "      <th>City</th>\n",
       "      <th>Days_of_Rainfall</th>\n",
       "    </tr>\n",
       "  </thead>\n",
       "  <tbody>\n",
       "    <tr>\n",
       "      <td>0</td>\n",
       "      <td>Adelaide</td>\n",
       "      <td>4</td>\n",
       "    </tr>\n",
       "    <tr>\n",
       "      <td>1</td>\n",
       "      <td>Brisbane</td>\n",
       "      <td>13</td>\n",
       "    </tr>\n",
       "    <tr>\n",
       "      <td>2</td>\n",
       "      <td>Darwin</td>\n",
       "      <td>21</td>\n",
       "    </tr>\n",
       "    <tr>\n",
       "      <td>3</td>\n",
       "      <td>Hobart</td>\n",
       "      <td>11</td>\n",
       "    </tr>\n",
       "    <tr>\n",
       "      <td>4</td>\n",
       "      <td>Melbourne</td>\n",
       "      <td>8</td>\n",
       "    </tr>\n",
       "    <tr>\n",
       "      <td>5</td>\n",
       "      <td>Perth</td>\n",
       "      <td>2</td>\n",
       "    </tr>\n",
       "    <tr>\n",
       "      <td>6</td>\n",
       "      <td>Sydney</td>\n",
       "      <td>11</td>\n",
       "    </tr>\n",
       "  </tbody>\n",
       "</table>\n",
       "</div>"
      ],
      "text/plain": [
       "        City  Days_of_Rainfall\n",
       "0   Adelaide                 4\n",
       "1   Brisbane                13\n",
       "2     Darwin                21\n",
       "3     Hobart                11\n",
       "4  Melbourne                 8\n",
       "5      Perth                 2\n",
       "6     Sydney                11"
      ]
     },
     "execution_count": 4,
     "metadata": {},
     "output_type": "execute_result"
    }
   ],
   "source": [
    "import pandas as pd\n",
    "\n",
    "weather_data = {'City': ['Adelaide', 'Brisbane', 'Darwin', 'Hobart', 'Melbourne', 'Perth', 'Sydney'],\n",
    "               'Min': [16.5, 20.9, 24.8, 11.9, 14.3, 16.9, 18.8],\n",
    "               'Max': [28.5, 29.1, 31.9, 21.6, 25.9, 31.6, 26.4],\n",
    "               'Days_of_Rainfall': [4, 13, 21, 11, 8, 2, 11]}\n",
    "weather_dataframe = pd.DataFrame(weather_data)\n",
    "print(weather_dataframe)\n",
    "\n",
    "pd.concat([weather_dataframe.City, weather_dataframe.Days_of_Rainfall], axis = 1)"
   ]
  }
 ],
 "metadata": {
  "kernelspec": {
   "display_name": "Python 3",
   "language": "python",
   "name": "python3"
  },
  "language_info": {
   "codemirror_mode": {
    "name": "ipython",
    "version": 3
   },
   "file_extension": ".py",
   "mimetype": "text/x-python",
   "name": "python",
   "nbconvert_exporter": "python",
   "pygments_lexer": "ipython3",
   "version": "3.7.4"
  }
 },
 "nbformat": 4,
 "nbformat_minor": 2
}
