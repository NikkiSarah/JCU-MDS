{
 "cells": [
  {
   "cell_type": "markdown",
   "metadata": {},
   "source": [
    "# Jupyter Notebook - Week 5, Book 7\n",
    "## Descriptive Statistics\n",
    "### Task 1\n",
    "Take the following series:\n",
    "```python\n",
    "obj = pd.Series([4.5, 7.2, -5.3, 3.6], index = ['d', 'b', 'a', 'c'])\n",
    "```\n",
    "and print the following stats:\n",
    "- max\n",
    "- min\n",
    "- count\n",
    "- median\n",
    "- standard deviation"
   ]
  },
  {
   "cell_type": "code",
   "execution_count": 1,
   "metadata": {},
   "outputs": [
    {
     "name": "stdout",
     "output_type": "stream",
     "text": [
      "7.2\n",
      "-5.3\n",
      "4\n",
      "4.05\n",
      "5.420332093147061\n"
     ]
    }
   ],
   "source": [
    "import pandas as pd\n",
    "\n",
    "obj = pd.Series([4.5, 7.2, -5.3, 3.6], index = ['d', 'b', 'a', 'c'])\n",
    "\n",
    "print(obj.max())\n",
    "print(obj.min())\n",
    "print(obj.count())\n",
    "print(obj.median())\n",
    "print(obj.std())"
   ]
  },
  {
   "cell_type": "markdown",
   "metadata": {},
   "source": [
    "### Task 2\n",
    "Create a DataFrame based off the following data (you can copy code you've already written):\n",
    "\n",
    "|City|Min|Max|Days of Rainfall|\n",
    "|-|-|-|-|\n",
    "|Adelaide|16.5|28.5|4|\n",
    "|Brisbane|20.9|29.1|13|\n",
    "|Darwin|24.8|31.8|21|\n",
    "|Hobart|11.9|21.6|11|\n",
    "|Melbourne|14.3|25.9|8|\n",
    "|Perth|16.9|31.6|2|\n",
    "|Sydney|18.8|26.4|11|\n",
    "\n",
    "and display the following stats:\n",
    " - mininum of 'Min'\n",
    " - maximum of 'Max'\n",
    " - mean of 'Days of Rainfall"
   ]
  },
  {
   "cell_type": "code",
   "execution_count": 3,
   "metadata": {},
   "outputs": [
    {
     "name": "stdout",
     "output_type": "stream",
     "text": [
      "The lowest mininum is 11.9\n",
      "The highest maximum is 31.9\n",
      "The average number of rainfall days is 10.0\n"
     ]
    }
   ],
   "source": [
    "import pandas as pd\n",
    "\n",
    "weather_data = {'City': ['Adelaide', 'Brisbane', 'Darwin', 'Hobart', 'Melbourne', 'Perth', 'Sydney'],\n",
    "               'Min': [16.5, 20.9, 24.8, 11.9, 14.3, 16.9, 18.8],\n",
    "               'Max': [28.5, 29.1, 31.9, 21.6, 25.9, 31.6, 26.4],\n",
    "               'Days_of_Rainfall': [4, 13, 21, 11, 8, 2, 11]}\n",
    "weather_dataframe = pd.DataFrame(weather_data)\n",
    "weather_dataframe\n",
    "\n",
    "min_minimum = weather_dataframe['Min'].min()\n",
    "max_maximum = weather_dataframe['Max'].max()\n",
    "rainfall_mean = weather_dataframe['Days_of_Rainfall'].mean()\n",
    "\n",
    "print(\"The lowest mininum is\", min_minimum)\n",
    "print(\"The highest maximum is\", max_maximum)\n",
    "print(\"The average number of rainfall days is\", rainfall_mean)"
   ]
  }
 ],
 "metadata": {
  "kernelspec": {
   "display_name": "Python 3",
   "language": "python",
   "name": "python3"
  },
  "language_info": {
   "codemirror_mode": {
    "name": "ipython",
    "version": 3
   },
   "file_extension": ".py",
   "mimetype": "text/x-python",
   "name": "python",
   "nbconvert_exporter": "python",
   "pygments_lexer": "ipython3",
   "version": "3.7.4"
  }
 },
 "nbformat": 4,
 "nbformat_minor": 2
}
