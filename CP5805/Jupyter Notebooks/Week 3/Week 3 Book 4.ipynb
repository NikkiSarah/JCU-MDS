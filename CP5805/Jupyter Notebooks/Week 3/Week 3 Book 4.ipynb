{
 "cells": [
  {
   "cell_type": "markdown",
   "metadata": {},
   "source": [
    "# Jupyter Notebook - Week 3, Book 4\n",
    "## Selections\n",
    "Remember that the structure of a selection is:\n",
    "```python\n",
    "if <condition>:\n",
    "    <code here>\n",
    "elif <condition 2>:\n",
    "    <code here>\n",
    "else:\n",
    "    <code here>\n",
    "```\n",
    "There can be as many elif statements as needed, or none at all. The else block is also optional, but there cannot be more than one.\n",
    "\n",
    "### Task 1\n",
    "Write a program that will ask the user for their name. If their name is \"Fozzie Bear\", then the program will display: \"I will tell Kermit you are here\". If their name is \"Miss Piggy\", then the program will display: \"Kermit says he is not here\". If the user has any other name, then the program will display: \"Welcome to the Muppet Show, you are the guest star for the show this week\"."
   ]
  },
  {
   "cell_type": "code",
   "execution_count": null,
   "metadata": {},
   "outputs": [],
   "source": [
    "name = input(\"Please enter your name: \")\n",
    "if name == \"Fozzie Bear\":\n",
    "    print(\"I will tell Kermit you are here.\")\n",
    "elif name == \"Miss Piggy\":\n",
    "    print(\"Kermit says he is not here.\")\n",
    "else:\n",
    "    print(\"Welcome to the Muppet Show, you are the guest star for the show this week.\")"
   ]
  },
  {
   "cell_type": "markdown",
   "metadata": {},
   "source": [
    "### Task 2\n",
    "Cyclones are categorized based on the winds. The following table shows the category number for hurricanes with varying wind ranges and what the storm surge is.\n",
    "\n",
    "|Cat|Wind speed (km/hr)|\n",
    "|---|------------------|\n",
    "|1|119-153|\n",
    "|2|154-177|\n",
    "|3|178-208|\n",
    "|4|209-251|\n",
    "|5|>251|\n",
    "\n",
    "Write a program that will receive ask the user for the wind speed (as an integer between 0 and 255), and display a string stating the category number of the storm.\n",
    "\n",
    "If the wind speed is less than 119, the program should display “It is not yet a cyclone.”\n",
    "\n",
    "Try to make the conditions as simple as possible, think about the order in which the conditions should be tested.\n"
   ]
  },
  {
   "cell_type": "code",
   "execution_count": null,
   "metadata": {},
   "outputs": [],
   "source": [
    "wind_speed = int(input(\"Please enter the wind speed: \"))\n",
    "if wind_speed < 119:\n",
    "    print(\"It is not yet a cyclone.\")\n",
    "elif wind_speed < 154:\n",
    "    print(\"It is a category 1 storm.\")\n",
    "elif wind_speed < 178:\n",
    "    print(\"It is a category 2 storm.\")\n",
    "elif wind_speed < 209:\n",
    "    print(\"It is a category 3 storm.\")\n",
    "elif wind_speed < 252:\n",
    "    print(\"It is a category 4 storm.\")\n",
    "else:\n",
    "    print(\"It is a category 5 storm.\")"
   ]
  },
  {
   "cell_type": "markdown",
   "metadata": {},
   "source": [
    "## Boolean Decisions\n",
    "Conditions can be a combination of several conditions, joined together using the two binary Boolean operators *and* or *or*. In Python these are both keywords, written in lowercase. The results of both boolean operations are as follows (where A and B are comparisions):\n",
    "\n",
    "|A|B|A and B|A or B|\n",
    "|-|-|-|-|\n",
    "|False|False|False|False|\n",
    "|True|False|False|True|\n",
    "|False|True|False|True|\n",
    "|True|True|True|True|\n",
    "\n",
    "### Task 3\n",
    "Write a program to handle the following problem. In this task you will need to handle multiple conditions using the Boolean operator *and*.\n",
    "\n",
    "The program will ask the user for their age and whether they are currently enrolled to vote (hint: use strings like 'y' and 'n'). If the user is 18 or older and enrolled to vote, the program will display \"Go Vote!\". If the user is 18 or older and is not enrolled the program will display \"You are old enough to vote, but are not enrolled\". If the user is younger than 18 and is enrolled to vote, the program displays \"You are not yet 18 but you are enrolled\". In the case that the student is under 18 and is not enrolled, display \"Go home kid\".\n"
   ]
  },
  {
   "cell_type": "code",
   "execution_count": null,
   "metadata": {},
   "outputs": [],
   "source": [
    "age = int(input(\"Please enter your age: \"))\n",
    "vote = input(\"Please enter whether you are currently enrolled to vote (Y or N): \").upper()\n",
    "if age >= 18 and vote == \"Y\":\n",
    "    print(\"Go Vote!\")\n",
    "elif age >= 18 and vote == \"N\":\n",
    "    print(\"You are old enough to vote, but are not enrolled.\")\n",
    "elif age < 18 and vote == \"Y\":\n",
    "    print(\"You are not yet 18 but you are enrolled.\")\n",
    "else:\n",
    "    print(\"Go home kid.\")"
   ]
  },
  {
   "cell_type": "markdown",
   "metadata": {},
   "source": [
    "## Testing Selections\n",
    "When testing a selection you must make sure to test all results. Take the following example:\n",
    "```python \n",
    "if age > 21:\n",
    "    print(\"Over 21\")\n",
    "else:\n",
    "    print(\"Under 21\")\n",
    "``` \n",
    "\n",
    "We need to test this with at least three values:\n",
    "- One that is over 21 (e.g. 30)\n",
    "- One under 21 (e.g. 19)\n",
    "- 21\n",
    "\n",
    "In this case 21 is the 'boundary condition', and we need to ensure that our decisions behave as expected. To cover all bases we must always check the boundaries. When dealing with a decision with Boolean components we need to check all combinations of results. For example:\n",
    "\n",
    "```python \n",
    "if age > 18 and enrolled_to_vote == True\n",
    "``` \n",
    "\n",
    "would need to be tested with 6 sets of inputs:\n",
    "\n",
    "|age|enrolled_to_vote|\n",
    "|-|-|\n",
    "|Under 18|False|\n",
    "|18|False|\n",
    "|Over 18|False|\n",
    "|Under 18|True|\n",
    "|18|True|\n",
    "|Over 18|True|\n",
    "\n",
    "**Ensure you have completed Tasks 1, 2 and 3 above**\n"
   ]
  }
 ],
 "metadata": {
  "kernelspec": {
   "display_name": "Python 3",
   "language": "python",
   "name": "python3"
  },
  "language_info": {
   "codemirror_mode": {
    "name": "ipython",
    "version": 3
   },
   "file_extension": ".py",
   "mimetype": "text/x-python",
   "name": "python",
   "nbconvert_exporter": "python",
   "pygments_lexer": "ipython3",
   "version": "3.7.4"
  }
 },
 "nbformat": 4,
 "nbformat_minor": 2
}
