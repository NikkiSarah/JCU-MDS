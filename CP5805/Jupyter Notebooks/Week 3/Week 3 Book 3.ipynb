{
 "cells": [
  {
   "cell_type": "markdown",
   "metadata": {},
   "source": [
    "# Jupyter Notebook - Week 3, Book 3\n",
    "\n",
    "## Function recap:\n",
    "\n",
    "We will structure all our Python programs to contain a main function, which is the start of our program. Other functions will be added as needed. Remember that to use functions we must define them, and then use (call) them.\n",
    "\n",
    "### Definition:\n",
    "```python\n",
    "def functionName():\n",
    "   function body\n",
    "```\n",
    "\n",
    "some examples:\n",
    "```python\n",
    "def getValue(prompt):\n",
    "    value = float(input(prompt))\n",
    "    return(value)\n",
    "\n",
    "def getAsCurrency(value):\n",
    "    return(\"$\" + format(value, '.2f'))\n",
    "```\n",
    "Calling:\n",
    "To use a function we use its name. If inputs are needed we pass the appropriate number of arguments, and if the function contains a return statement then the call is assigned to a local variable using the assignment operator (=)\n",
    "For example:\n",
    "\n",
    "```python\n",
    "#define main\n",
    "def main():\n",
    "    price = getValue(\"Enter the price: \")\n",
    "    print(\"The price you entered was\", getAsCurrency(price))\n",
    "\n",
    "#call main\n",
    "main()\n",
    "\n",
    "```\n",
    "Now it’s your turn.\n",
    "For each question below, write the code in the cell below the question.\n",
    "\n",
    "**To complete the workbook you need to complete all four tasks**\n",
    "\n",
    "### Task 1\n",
    "\n",
    "Write a function called getFuel which receives as parameters distance, and fuelRate. Distance will be in kilometres, and fuelRate will be the amount of fuel consumed every 100 kilometres. The function needs to return the total fuel needed to travel the distance given.\n",
    "\n",
    "You also need to write the main() function, which will ask the user for the distance and fuel consumption rate, pass those values to the function above and then display the result to the screen."
   ]
  },
  {
   "cell_type": "code",
   "execution_count": 1,
   "metadata": {},
   "outputs": [
    {
     "name": "stdout",
     "output_type": "stream",
     "text": [
      "Enter the distance travelled in kilometres: 249\n",
      "Enter the fuel consumption per 100 kilometres: 9.8\n",
      "Total fuel needed to travel the given distance is: 2440.20 units\n"
     ]
    }
   ],
   "source": [
    "def getFuel(distance, fuelRate):\n",
    "    fuelCons = distance * fuelRate\n",
    "    return(fuelCons)\n",
    "\n",
    "def main():\n",
    "    distance = float(input(\"Enter the distance travelled in kilometres: \"))\n",
    "    fuelRate = float(input(\"Enter the fuel consumption per 100 kilometres: \"))\n",
    "    print(\"Total fuel needed to travel the given distance is: \" + format(getFuel(distance, fuelRate), '.2f') + \" units\")\n",
    "\n",
    "main()"
   ]
  },
  {
   "cell_type": "markdown",
   "metadata": {},
   "source": [
    "### Task 2\n",
    "Create a function called formatCurrency which takes in a float as input and returns a string containing the number with a $ in front of it, with 2 decimal places."
   ]
  },
  {
   "cell_type": "code",
   "execution_count": 12,
   "metadata": {},
   "outputs": [
    {
     "data": {
      "text/plain": [
       "'$55.68'"
      ]
     },
     "execution_count": 12,
     "metadata": {},
     "output_type": "execute_result"
    }
   ],
   "source": [
    "def formatCurrency(value):\n",
    "    return(\"$\" + format(value, '.2f'))\n",
    "\n",
    "formatCurrency(55.6789)"
   ]
  },
  {
   "cell_type": "markdown",
   "metadata": {},
   "source": [
    "### Task 3\n",
    "Design and write a function which will calculate and **display** the stock level of a product at the end of the day. The function will take as input the initial stock level, the amount we bought and the amount we sold. Write a main() function which asks for these 3 values before passing them to the function.\n",
    "\n",
    "Output would be something like:\n",
    "```python\n",
    "Enter stock at start of day: 20\n",
    "Enter amount of new stock received today: 10\n",
    "Enter amount of stock sold: 25\n",
    "\n",
    "Stock level at end of day: 5\n",
    "```\n"
   ]
  },
  {
   "cell_type": "code",
   "execution_count": 3,
   "metadata": {
    "scrolled": true
   },
   "outputs": [
    {
     "name": "stdout",
     "output_type": "stream",
     "text": [
      "Enter stock level at start of day: 20\n",
      "Enter the amount of new stock received that day: 10\n",
      "Enter the amount of stock sold that day: 25\n",
      "The stock level at the day of the day is/was:  5\n"
     ]
    }
   ],
   "source": [
    "def calculate_stock_at_day_end(stock_at_day_start, new_stock_received, stock_sold):\n",
    "    stock_at_day_end = stock_at_day_start + new_stock_received - stock_sold\n",
    "    return(stock_at_day_end)\n",
    "\n",
    "def main():\n",
    "    stock_at_day_start = int(input(\"Enter stock level at start of day: \"))\n",
    "    new_stock_received = int(input(\"Enter the amount of new stock received that day: \"))\n",
    "    stock_sold = int(input(\"Enter the amount of stock sold that day: \"))\n",
    "    print(\"The stock level at the day of the day is/was: \", calculate_stock_at_day_end(stock_at_day_start, new_stock_received, stock_sold))\n",
    "\n",
    "main()"
   ]
  },
  {
   "cell_type": "markdown",
   "metadata": {},
   "source": [
    "### Task 4\n",
    "Design and write a program consisting of the following functions:\n",
    "\n",
    "- main() – gets the current product price from the user, and display the discounted price correctly formatted as currency\n",
    "- calcDiscount(price) – receives a price, applies a 25% discount and returns the discounted price\n",
    "- formatCurrency(number) – receives a number and returns it as a string with a $ in front of it and two decimal places.\n",
    "\n",
    "                 "
   ]
  },
  {
   "cell_type": "code",
   "execution_count": 10,
   "metadata": {},
   "outputs": [
    {
     "name": "stdout",
     "output_type": "stream",
     "text": [
      "What is the current price of the product? $55.6789\n",
      "The discounted price is $41.76\n"
     ]
    }
   ],
   "source": [
    "def calcDiscount(price):\n",
    "    current_price = float(input(price))\n",
    "    discounted_price = current_price * 0.75\n",
    "    number = discounted_price\n",
    "    return(number)\n",
    "\n",
    "def formatCurrency(number):\n",
    "    return(\"$\" + format(number, '.2f'))\n",
    "\n",
    "def main():\n",
    "    current_price = calcDiscount(\"What is the current price of the product? $\")\n",
    "    print(\"The discounted price is\", formatCurrency(current_price))\n",
    "\n",
    "main()"
   ]
  }
 ],
 "metadata": {
  "kernelspec": {
   "display_name": "Python 3",
   "language": "python",
   "name": "python3"
  },
  "language_info": {
   "codemirror_mode": {
    "name": "ipython",
    "version": 3
   },
   "file_extension": ".py",
   "mimetype": "text/x-python",
   "name": "python",
   "nbconvert_exporter": "python",
   "pygments_lexer": "ipython3",
   "version": "3.7.4"
  }
 },
 "nbformat": 4,
 "nbformat_minor": 2
}
