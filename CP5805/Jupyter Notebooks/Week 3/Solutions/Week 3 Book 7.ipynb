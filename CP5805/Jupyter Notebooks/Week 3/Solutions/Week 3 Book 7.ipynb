{
 "cells": [
  {
   "cell_type": "markdown",
   "metadata": {},
   "source": [
    "# Jupyter Notebook - Week 3, Book 7\n",
    "## Modules\n",
    "Importing modules can be done in one of three ways:\n",
    "\n",
    "1 – The entire module, not in scope\n",
    "2 – The entire library, all methods in scope\n",
    "3 – A single method, in scope\n",
    "\n",
    "Let's look at examples of all three using the *random* module, which contains methods for random number generation.\n",
    "\n",
    "Each of the following 3 programs do the same job (printing 10 random numbers), but in slightly different ways.\n",
    "\n",
    "### Sample 1\n",
    "```python\n",
    "import random\n",
    "\n",
    "def main():\n",
    "    for i in range(10):\n",
    "        number = random.randint(1,50)\n",
    "        print(number)\n",
    "\n",
    "main()\n",
    "```\n",
    "The above code imports the *random* module, but any functions must be called as *part* of that module using the format\n",
    "```python\n",
    "<module>.<function>\n",
    "```\n",
    "This approach is quite common in data science, but since we don't like typing more code than necessary (we call this efficiency, not laziness) we often give a shorthand name to the module (like an alias). We do this using the keyword *as*:\n",
    "```python\n",
    "import random as r\n",
    "\n",
    "def main():\n",
    "    for i in range(10):\n",
    "        number = r.randint(1,50)\n",
    "        print(number)\n",
    "\n",
    "main()\n",
    "```\n",
    "___\n",
    "\n",
    "### Sample 2\n",
    "```python\n",
    "from random import *\n",
    "\n",
    "def main():\n",
    "    for i in range(10):\n",
    "        number = randint(1,50)\n",
    "        print(number)\n",
    "        \n",
    "main()\n",
    "```\n",
    "This example brings the entire library into scope, so we can use each function by name alone. While this is useful there is a potential complication - if we import from more than one module we may have multiple funtions wiuth the same name. if this happens we need to specify which one we wish to use using the same format as above.\n",
    "\n",
    "___\n",
    "\n",
    "### Sample 3\n",
    "```python\n",
    "from random import randint\n",
    "\n",
    "def main():\n",
    "    for i in range(10):\n",
    "        number = randint(1,50)\n",
    "        print(number)\n",
    "               \n",
    "main()\n",
    "```\n",
    "In this example *only* the *randint* function is imported, so there is no chance of overlap. However, if multiple functions need to be imported then this can be quite cumbersome.\n",
    "___\n",
    "The approach to use will depend on what your requirements are. In coming weeks we will see some of the most useful Python modules for Data Science. Now, test each of the three methods shown above, one in each cell."
   ]
  },
  {
   "cell_type": "code",
   "execution_count": null,
   "metadata": {
    "collapsed": true
   },
   "outputs": [],
   "source": [
    "import random as r\n",
    "\n",
    "def main():\n",
    "    for i in range(10):\n",
    "        number = r.randint(1,50)\n",
    "        print(number)\n",
    "\n",
    "main()"
   ]
  },
  {
   "cell_type": "code",
   "execution_count": null,
   "metadata": {
    "collapsed": true
   },
   "outputs": [],
   "source": [
    "from random import *\n",
    "\n",
    "def main():\n",
    "    for i in range(10):\n",
    "        number = randint(1,50)\n",
    "        print(number)\n",
    "\n",
    "main()"
   ]
  },
  {
   "cell_type": "code",
   "execution_count": null,
   "metadata": {
    "collapsed": true
   },
   "outputs": [],
   "source": [
    "from random import randint\n",
    "\n",
    "def main():\n",
    "    for i in range(10):\n",
    "        number = randint(1,50)\n",
    "        print(number)\n",
    "\n",
    "main()"
   ]
  },
  {
   "cell_type": "markdown",
   "metadata": {},
   "source": [
    "## Useful Modules\n",
    "There are many useful modules in Python, and we will look at several in detail in the coming weeks. For now check out the following descriptions in the Python Documentation.\n",
    "\n",
    "[random](https://docs.python.org/3.1/library/random.html#module-random)\n",
    "[cmath](https://docs.python.org/3/library/cmath.html#module-cmath)\n",
    "[csv](https://docs.python.org/3/library/csv.html#module-csv)\n",
    "[os](https://docs.python.org/3/library/os.html#module-os)\n",
    "[numpy](http://www.numpy.org/)\n",
    "[pandas](http://pandas.pydata.org/)"
   ]
  }
 ],
 "metadata": {
  "kernelspec": {
   "display_name": "Python 3",
   "language": "python",
   "name": "python3"
  },
  "language_info": {
   "codemirror_mode": {
    "name": "ipython",
    "version": 3
   },
   "file_extension": ".py",
   "mimetype": "text/x-python",
   "name": "python",
   "nbconvert_exporter": "python",
   "pygments_lexer": "ipython3",
   "version": "3.7.4"
  }
 },
 "nbformat": 4,
 "nbformat_minor": 2
}
