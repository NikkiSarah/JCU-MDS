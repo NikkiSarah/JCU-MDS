{
 "cells": [
  {
   "cell_type": "markdown",
   "metadata": {},
   "source": [
    "# Jupyter Notebook - Week 3, Book 2\n",
    "## Errors, and error messages\n",
    "\n",
    "In this notebook we’ll give you some code with intentional mistakes for you to run. This will let you see the errors displayed by the Python interpreter, so you can start building up some familiarity with them. \n",
    "\n",
    "In each of the following sections you will be given some code to enter, and an empty code cell to use. Run each of the following code sections in the appropriate cell, check the error messages and read the accompanying discussion. Ensure you enter appropriate values when prompted, such as numbers for age, salary etc..\n",
    "\n",
    "**To complete this section of the notebook you need to correct the errors and produce code that runs as expected for each section.**\n",
    "\n",
    "### Code sample 1\n",
    "\n",
    "```python\n",
    "username = input(\"Please enter your name: \")\n",
    "print(\"Hello\", user_name)\n",
    "```"
   ]
  },
  {
   "cell_type": "code",
   "execution_count": null,
   "metadata": {
    "collapsed": true,
    "scrolled": false
   },
   "outputs": [],
   "source": [
    "username = input(\"Please enter your name: \")\n",
    "print(\"Hello\", username)"
   ]
  },
  {
   "cell_type": "markdown",
   "metadata": {},
   "source": [
    "One of the most common errors, “NameError” means that we are trying to use a variable, or function, that does not exist. The keyword ‘name” here means something with a name, so these errors usually mean a mistyped variable or function name. Check spelling and capitalization. If that’s not it then check the order of your instructions (you can’t use a variable if it doesn’t exist yet, and Pythons variables don’t exist prior to creation using the assignment operation (equals sign).\n",
    "\n",
    "### Code Sample 2\n",
    "```python\n",
    "name = input(\"Please enter your name: \")\n",
    "print(\"Hello\", name)\n",
    "age = int(input(\"Please enter your age: \"))\n",
    "print(\"In five years you will be\", age + 5 \"years old\")\n",
    "```\n"
   ]
  },
  {
   "cell_type": "code",
   "execution_count": null,
   "metadata": {
    "collapsed": true
   },
   "outputs": [],
   "source": [
    "name = input(\"Please enter your name: \")\n",
    "print(\"Hello\", name)\n",
    "age = int(input(\"Please enter your age: \"))\n",
    "print(\"In five years you will be\", age + 5, \"years old\")"
   ]
  },
  {
   "cell_type": "markdown",
   "metadata": {},
   "source": [
    "This is one of the most irritating errors, just because it is so unhelpful. Typically this means that something unexpected appeared, and Python doesn’t know how to handle it. In this case it is a missing comma between ‘age + 5’ and ‘“years old”’. This error is also commonly caused by missing brackets as shown below:\n",
    "```python\n",
    "name = input(\"Please enter your name: \"\n",
    "```\n",
    "\n",
    "### Code Sample 3\n",
    "\n",
    "```python\n",
    "name = input(\"Please enter your name: \")\n",
    "print(\"Hello\", name)\n",
    "age = input(\"Please enter your age: \")\n",
    "print(\"In five years you will be\", age + 5, \"years old\")\n",
    "```\n"
   ]
  },
  {
   "cell_type": "code",
   "execution_count": null,
   "metadata": {
    "collapsed": true
   },
   "outputs": [],
   "source": [
    "name = input(\"Please enter your name: \")\n",
    "print(\"Hello\", name)\n",
    "age = int(input(\"Please enter your age: \"))\n",
    "print(\"In five years you will be\", age + 5, \"years old\")"
   ]
  },
  {
   "cell_type": "markdown",
   "metadata": {},
   "source": [
    "Forgetting to convert numerical input to a numerical type is very easy, and so is the fix 😊 Just use the integer type-cast method int(). Remember, getting code right on the first try is not as important as being able to fix your mistakes! In fact studies show that fixing errors produces better coders 😊\n",
    "\n",
    "**Don't forget to make sure you have corrected all the errors above!!!**\n",
    "\n",
    "### Code Sample 4\n",
    "```python\n",
    "name = input(\"Please enter your name: \")\n",
    "print(\"Hello\", name)\n",
    "salary = int(input(\"Please enter your salary: \"))\n",
    "print(\"After your next raise you will be earning $\" + salary * 1.05, \"per year\")\n",
    "```\n"
   ]
  },
  {
   "cell_type": "code",
   "execution_count": null,
   "metadata": {
    "collapsed": true
   },
   "outputs": [],
   "source": [
    "name = input(\"Please enter your name: \")\n",
    "print(\"Hello\", name)\n",
    "salary = int(input(\"Please enter your salary: \"))\n",
    "print(\"After your next raise you will be earning $\" + str(salary * 1.05), \"per year\")"
   ]
  },
  {
   "cell_type": "markdown",
   "metadata": {},
   "source": [
    "Here we see a common alternative way to print variables (like salary) and literal values (the flavour text). Rather than separating them from each pther with commas we join them together with the concatenation operator (+). This is often used when we don’t want the space inserted as usual (for currency values, for example). BUT, this fails because here we are trying to add a string to a number, and that doesn’t work. Python can add two numbers, or two strings, but not a mix of the two. For this to work we must convert the new salary to a string, using the string conversion function str().\n",
    "\n",
    "### Code Sample 5\n",
    "\n",
    "```python\n",
    "name = input(\"Please enter your name: \")\n",
    "    print(\"Hello\", name)\n",
    "age = int(input(\"Please enter your age: \")\n",
    "print(\"In five years you will be\", age + 5, \"years old\")\n",
    "``` "
   ]
  },
  {
   "cell_type": "code",
   "execution_count": null,
   "metadata": {
    "collapsed": true
   },
   "outputs": [],
   "source": [
    "name = input(\"Please enter your name: \")\n",
    "print(\"Hello\", name)\n",
    "age = int(input(\"Please enter your age: \"))\n",
    "print(\"In five years you will be\", age + 5, \"years old\")"
   ]
  },
  {
   "attachments": {
    "image.png": {
     "image/png": "[encoded data removed]"
    }
   },
   "cell_type": "markdown",
   "metadata": {},
   "source": [
    "Python uses indentation for identifying the start and end of code blocks (functions, selections, loops and so on). Messing with indentation causes problems, so errors like this mean you need to check there are no extra or missing spaces or tabs in your code.\n",
    "\n",
    "**Before you move on make sure all the obove code has been corrected in your code cells!**\n",
    "\n",
    "## String Formatting\n",
    "\n",
    "Often we want to print values and text together, and being able to control how this looks is useful. We’re not going to mess around with fonts, sizes or colours or anything like that, but we will look at controlling the width, alignment and precision of our outputs using the ‘format’ function.\n",
    "\n",
    "Format returns a string and takes two inputs: the value to format, and the formatting specifications. The specs are given inside single quotes, and follow a set format:\n",
    "\n",
    "![image.png](attachment:image.png)\n",
    "\n",
    "all of these are listed in [], which means they are optional. Don’t use the square brackets in your actual code, and we are only concerned with width, alignment and precision. There are only three types we will worry about:\n",
    "- strings, indicated by the 's'\n",
    "- whole numbers, indicated by the 'd' or 'n' (n can add separators, like commas, based on locale settings)\n",
    "- floating-point numbers, indicated by the 'f'\n",
    "\n",
    "Don't worry about the others for now.\n",
    "\n",
    "Below is an example of code which prints a number with a width of 5, and with no decimal places:\n",
    "```python\n",
    "print(format(35212.877, '5.0f'))\n",
    "```\n",
    "Run this below if you like, and see what happens when you change values around.\n",
    "\n",
    "**Complete this task to finalise this workbook**\n",
    "\n",
    "Rewrite the following code to print the given value with 4 decimal places, centred in a space 20 characters wide (width of 20, precision of 4):\n",
    "```python\n",
    "print(format(678.62382036, '3.0f'))\n",
    "```"
   ]
  },
  {
   "cell_type": "code",
   "execution_count": 1,
   "metadata": {},
   "outputs": [
    {
     "data": {
      "text/plain": [
       "'678.423'"
      ]
     },
     "execution_count": 1,
     "metadata": {},
     "output_type": "execute_result"
    }
   ],
   "source": [
    "'{:.3f}'.format(678.423423423)"
   ]
  },
  {
   "cell_type": "code",
   "execution_count": 2,
   "metadata": {},
   "outputs": [
    {
     "name": "stdout",
     "output_type": "stream",
     "text": [
      "5.589\n"
     ]
    }
   ],
   "source": [
    "number = 5.5894\n",
    "print(f'{number:.3f}')"
   ]
  },
  {
   "cell_type": "code",
   "execution_count": null,
   "metadata": {},
   "outputs": [],
   "source": []
  }
 ],
 "metadata": {
  "kernelspec": {
   "display_name": "Python 3",
   "language": "python",
   "name": "python3"
  },
  "language_info": {
   "codemirror_mode": {
    "name": "ipython",
    "version": 3
   },
   "file_extension": ".py",
   "mimetype": "text/x-python",
   "name": "python",
   "nbconvert_exporter": "python",
   "pygments_lexer": "ipython3",
   "version": "3.7.3"
  }
 },
 "nbformat": 4,
 "nbformat_minor": 2
}
