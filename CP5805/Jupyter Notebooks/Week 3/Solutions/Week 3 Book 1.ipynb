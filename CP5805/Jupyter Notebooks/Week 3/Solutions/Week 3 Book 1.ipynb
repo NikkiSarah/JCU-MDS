{
 "cells": [
  {
   "cell_type": "markdown",
   "metadata": {},
   "source": [
    "# Jupyter Notebook - Week 3, Book 1\n",
    "## Getting Started\n",
    "\n",
    "To get started we need to see how we can run Python Code in our notebooks.\n",
    "The simplest (and traditionally the first) computer program is one that simply displays 'Hello World' to the screen. The python code to do this is just:\n",
    "```python\n",
    "print(\"Hello World\")\n",
    "```\n",
    "and that's it. No indentation, and be sure to have the brackets and quotes in the right places. Now, enter this into the cell below and then run your code by clicking the Play arrow above (or go to Cell>Run in the menu bar)."
   ]
  },
  {
   "cell_type": "code",
   "execution_count": null,
   "metadata": {},
   "outputs": [],
   "source": [
    "print(\"Hello World\")"
   ]
  },
  {
   "cell_type": "markdown",
   "metadata": {
    "raw_mimetype": "text/markdown"
   },
   "source": [
    "Hopefully you were able to get that running with no problems :)\n",
    "If not, double check that you typed everything exactly as you were supposed to, including spelling, lower-case, and the brackets and double quotes.\n",
    "Be careful copy-pasting code from editors like MS Word, as they often use different characters (even though they may look the same) for things like quotation-marks.\n",
    "\n",
    "## Input and Output\n",
    "Now for some input and output. We can already print something (you just did it) so now let's get a name, and then print that as well to make sure we can get input, create a variable to store it, and display it. Write the following two lines in the cell below:\n",
    "\n",
    "```python\n",
    "name = input(\"Please enter your name: \")\n",
    "print(\"Hello\", name)\n",
    "```"
   ]
  },
  {
   "cell_type": "code",
   "execution_count": null,
   "metadata": {},
   "outputs": [],
   "source": [
    "name = input(\"Please enter your name: \")\n",
    "print(\"Hello\", name)"
   ]
  },
  {
   "cell_type": "markdown",
   "metadata": {},
   "source": [
    "the input function will always return a string, so remember to convert it to a numerical type if needed. Add the following two lines to the cell above and check that it still runs as you would expect.\n",
    "\n",
    "```python\n",
    "     name = input(\"Please enter your name: \")\n",
    "     print(\"Hello\", name)\n",
    "     age = int(input(\"Please enter your age: \"))\n",
    "     print(\"In five years you will be\", age + 5, \"years old\")\n",
    "```\n",
    "\n",
    "Once you have done that it's time to write your first actual Puthon program.\n",
    "\n",
    "### Complete this task to complete this workbook\n",
    "\n",
    "In the cell below, write a program that asks the user for two numbers, and then prints the total to the screen"
   ]
  },
  {
   "cell_type": "code",
   "execution_count": null,
   "metadata": {},
   "outputs": [],
   "source": [
    "number_1 = int(input(\"Please enter number 1: \"))\n",
    "number_2 = int(input(\"Please enter number 2: \"))\n",
    "print(\"The total is\", number_1 + number_2)"
   ]
  }
 ],
 "metadata": {
  "kernelspec": {
   "display_name": "Python 3",
   "language": "python",
   "name": "python3"
  },
  "language_info": {
   "codemirror_mode": {
    "name": "ipython",
    "version": 3
   },
   "file_extension": ".py",
   "mimetype": "text/x-python",
   "name": "python",
   "nbconvert_exporter": "python",
   "pygments_lexer": "ipython3",
   "version": "3.7.3"
  }
 },
 "nbformat": 4,
 "nbformat_minor": 2
}
