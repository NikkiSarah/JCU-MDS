{
 "cells": [
  {
   "cell_type": "markdown",
   "metadata": {},
   "source": [
    "# Jupyter Notebook - Week 3, Book 6\n",
    "## Exceptions\n",
    "Exceptions allow us to ‘catch’ errors before they stop our programs running. These will typically be errors caused by things external to our programs (user error, or missing files etc.)\n",
    "\n",
    "To use exceptions we put the code which causes problems inside a ‘try’ block, which will be followed by one or more ‘except’ blocks. The simplest use of exceptions is to have a single ‘except’ block to handle all errors, but we can tailor our handling of the issues with blocks that handle specific errors.\n",
    "\n",
    "When testing exceptions we must ensure that the work both ways, that is they handle the errors correctly, while allowing the program to behave as expected in all other circumstances.\n",
    "\n",
    "### Numerical input handling\n",
    "```python\n",
    "def main():\n",
    "    validated = False\n",
    "    while not validated:\n",
    "         try:\n",
    "              value = int(input(\"Enter a number: \"))\n",
    "              validated = True\n",
    "         except:\n",
    "              print(\"That is not a number. Only numerical values are permitted.\")\n",
    "    print(\"The number you entered was\", value)\n",
    "\n",
    "main()\n",
    "```\n",
    "\n",
    "Run and test the above code, and see what happens when you enter a string instead of a number (if you can't think of one try 'hello').\n",
    "Other common uses of exception handling are found when using files for input or output. We will see examples of these later on. For now we will practice handling the most common numerical and mathematical errors:\n",
    "\n",
    "ValueError – occurs when the value of a variable makes an operation impossible (e.g. trying to convert the string “five” to an integer is impossible, buy the string “5” would be fine.\n",
    "\n",
    "ZeroDivisionError – occurs whenever a value is divided by zero.\n",
    "\n",
    "If you are unsure which error is occurring, simply remove the exception handling blocks and allow the error to occur. The error message will tell us what the error is 😊 We then use the name of the error to separate our except blocks:\n",
    "\n",
    "Take the following code and test it with the input listed in the table below to see each possible outcome.\n",
    "```python\n",
    "\n",
    "def main():\n",
    "    value = int(input(\"Enter a number: \"))\n",
    "    result = 100/value\n",
    "    print(\"The number you entered was\", value, \"and the result of 100 divided by\", value, \"is\", result)\n",
    "\n",
    "main()\n",
    "```\n",
    "|Input|Expected result|\n",
    "|-:|:-|\n",
    "|Fifty-nine|ValueError|\n",
    "|0|DivideByZeroError|\n",
    "|5|The number you entered was 5 and the result of 100 divided by 5 is 20|\n"
   ]
  },
  {
   "cell_type": "code",
   "execution_count": 1,
   "metadata": {},
   "outputs": [
    {
     "name": "stdout",
     "output_type": "stream",
     "text": [
      "Enter a number: l\n",
      "That is not a number. Only numerical values are permitted.\n",
      "Enter a number: 4\n",
      "The number you entered was 4\n"
     ]
    }
   ],
   "source": [
    "def main():\n",
    "    validated = False\n",
    "    while not validated:\n",
    "         try:\n",
    "              value = int(input(\"Enter a number: \"))\n",
    "              validated = True\n",
    "         except:\n",
    "              print(\"That is not a number. Only numerical values are permitted.\")\n",
    "    print(\"The number you entered was\", value)\n",
    "\n",
    "main()"
   ]
  },
  {
   "cell_type": "code",
   "execution_count": 3,
   "metadata": {},
   "outputs": [
    {
     "name": "stdout",
     "output_type": "stream",
     "text": [
      "Enter a number: 5\n",
      "The number you entered was 5 and the result of 100 divided by 5 is 20.0\n"
     ]
    }
   ],
   "source": [
    "def main():\n",
    "    value = int(input(\"Enter a number: \"))\n",
    "    result = 100/value\n",
    "    print(\"The number you entered was\", value, \"and the result of 100 divided by\", value, \"is\", result)\n",
    "\n",
    "main()"
   ]
  },
  {
   "cell_type": "markdown",
   "metadata": {},
   "source": [
    "Now take the following code, with exception handling added, and test it again. Now the program will elegantly handle invalid user inputs which would usually cause a crash.\n",
    "\n",
    "You can use this in your future programs to prevent runtime errors.\n",
    "```python\n",
    "def main():\n",
    "    validated = False\n",
    "    while not validated:\n",
    "         try:\n",
    "              value = int(input(\"Enter a number: \"))\n",
    "              result = 100/value\n",
    "              validated = True\n",
    "         except ValueError:\n",
    "              print(\"That is not a number. Only numerical values are permitted.\")\n",
    "         except ZeroDivisionError:\n",
    "              print(\"Zero is not a permitted value.\")\n",
    "\n",
    "    print(\"The number you entered was\", value, \"and the result of 100 divided by\", value, \"is\", result)\n",
    "\n",
    "main()\n",
    "```"
   ]
  },
  {
   "cell_type": "code",
   "execution_count": 4,
   "metadata": {},
   "outputs": [
    {
     "name": "stdout",
     "output_type": "stream",
     "text": [
      "Enter a number: Fifty-nine\n",
      "That is not a number. Only numerical values are permitted.\n",
      "Enter a number: 0\n",
      "Zero is not a permitted value.\n",
      "Enter a number: 5\n",
      "The number you entered was 5 and the result of 100 divided by 5 is 20.0\n"
     ]
    }
   ],
   "source": [
    "def main():\n",
    "    validated = False\n",
    "    while not validated:\n",
    "         try:\n",
    "              value = int(input(\"Enter a number: \"))\n",
    "              result = 100/value\n",
    "              validated = True\n",
    "         except ValueError:\n",
    "              print(\"That is not a number. Only numerical values are permitted.\")\n",
    "         except ZeroDivisionError:\n",
    "              print(\"Zero is not a permitted value.\")\n",
    "\n",
    "    print(\"The number you entered was\", value, \"and the result of 100 divided by\", value, \"is\", result)\n",
    "\n",
    "main()"
   ]
  }
 ],
 "metadata": {
  "kernelspec": {
   "display_name": "Python 3",
   "language": "python",
   "name": "python3"
  },
  "language_info": {
   "codemirror_mode": {
    "name": "ipython",
    "version": 3
   },
   "file_extension": ".py",
   "mimetype": "text/x-python",
   "name": "python",
   "nbconvert_exporter": "python",
   "pygments_lexer": "ipython3",
   "version": "3.7.4"
  }
 },
 "nbformat": 4,
 "nbformat_minor": 2
}
