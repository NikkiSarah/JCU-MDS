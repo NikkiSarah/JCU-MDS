{
 "cells": [
  {
   "cell_type": "markdown",
   "metadata": {},
   "source": [
    "# Jupyter Notebook - Week 4, Book 2\n",
    "## 2D Lists\n",
    "\n",
    "### Task 1\n",
    "Write a program that prompts the user for 5 numbers and then stores each of these in a list called numbers. The program should then output various interesting things, as in the output below (green represents user input).\n",
    "\n",
    "Note that you can use the functions min, max, sum and len, and you can use the append method to add a number to a list.\n",
    "```python\n",
    "Number: 5\n",
    "Number: 20\n",
    "Number: 1\n",
    "Number: 2\n",
    "Number: 3\n",
    "```\n",
    "```\n",
    "The first number is 5\n",
    "The last number is 3\n",
    "The smallest number is 1\n",
    "The largest number is 20\n",
    "The average of the numbers is 6.2\n",
    "```\n"
   ]
  },
  {
   "cell_type": "code",
   "execution_count": null,
   "metadata": {},
   "outputs": [],
   "source": [
    "number_list = []\n",
    "for i in range(5):\n",
    "    number = int(input(\"Number: \"))\n",
    "    number_list.append(number)\n",
    "\n",
    "print()\n",
    "print(\"The first number is\", number_list[0])\n",
    "print(\"The last number is\", number_list[-1])#\n",
    "print(\"The smallest number is\", min(number_list))\n",
    "print(\"The largest number is\", max(number_list))\n",
    "print(\"The average of the numbers is\", sum(number_list) / len(number_list))"
   ]
  },
  {
   "cell_type": "markdown",
   "metadata": {},
   "source": [
    "### Task 2\n",
    "Write Python code that will get 5 strings from a user and save them in a list. Once the list is filled the program should print the contents of the list in ascending order.\n",
    "\n",
    "You may find Python's [sort()](https://docs.python.org/3/library/stdtypes.html#list.sort) function useful."
   ]
  },
  {
   "cell_type": "code",
   "execution_count": null,
   "metadata": {},
   "outputs": [],
   "source": [
    "data_list = []\n",
    "data_list1 = []\n",
    "for i in range(5):\n",
    "    data = input(\"Please enter a value: \")\n",
    "    data_list.append(data)\n",
    "    data_list1.append(data)\n",
    "\n",
    "print(data_list)\n",
    "data_list.sort() #sort() function sorts in-place, returns  None\n",
    "print(data_list)\n",
    "\n",
    "print(data_list1)\n",
    "#sorted() returns a new, sorted version of a list without changing the original list.\n",
    "print(sorted(data_list1))"
   ]
  },
  {
   "cell_type": "markdown",
   "metadata": {},
   "source": [
    "### Task 3\n",
    "Once you have tested your previous code (from Task 2) with some words test it with five numbers, like these:\n",
    "34, 120, 230, 330, 12\n",
    "\n",
    "What do you notice about the sorting with these values?\n",
    "The reason they aren't sorted correctly is because they are being sorted as strings, not as numbers.\n",
    "\n",
    "Create a second version of your program below which converts inputs to ints before appending them to your list."
   ]
  },
  {
   "cell_type": "code",
   "execution_count": 1,
   "metadata": {},
   "outputs": [
    {
     "name": "stdout",
     "output_type": "stream",
     "text": [
      "Please enter a value: 34\n",
      "Please enter a value: 120\n",
      "Please enter a value: 230\n",
      "Please enter a value: 33\n",
      "Please enter a value: 12\n",
      "[34, 120, 230, 33, 12]\n",
      "[12, 33, 34, 120, 230]\n"
     ]
    }
   ],
   "source": [
    "data_list = []\n",
    "data_list1 = []\n",
    "for i in range(5):\n",
    "    data = int(input(\"Please enter a value: \"))\n",
    "    data_list.append(data)\n",
    "\n",
    "print(data_list)\n",
    "data_list.sort() #sort() function sorts in-place, return None\n",
    "print(data_list)"
   ]
  },
  {
   "cell_type": "markdown",
   "metadata": {},
   "source": [
    "### Sorting exception\n",
    "When we sort lists we need to be sure that all list elements can be compared with each other. When this is not ythe case a new exception will be caused, run the following code to see what it is:\n",
    "\n",
    "```python\n",
    "def main():\n",
    "    bad_list = [\"Hello\", 42]\n",
    "    bad_list.sort()\n",
    "    \n",
    "main()\n",
    "```\n"
   ]
  },
  {
   "cell_type": "code",
   "execution_count": null,
   "metadata": {},
   "outputs": [],
   "source": [
    "def main():\n",
    "    bad_list = [\"Hello\", 42]\n",
    "    bad_list.sort()\n",
    "\n",
    "main()"
   ]
  },
  {
   "cell_type": "markdown",
   "metadata": {},
   "source": [
    "## Slicing Lists\n",
    "We already know that we can access an element of a list using an index in square brackets. We can also access a *slice* of a list, be specifying the beginning and end. These two indicies are separated by a colon, and the slice will start at the first index, and go up to but **not including** the second index. It looks like list_name[*start*:*stop*] Run and play with the following code to see this in action.\n",
    "\n",
    "```python\n",
    "def main():\n",
    "    crew = [\"Mal\", \"Zoe\", \"Wash\", \"Book\", \"Kaylee\", \"Jayne\", \"Inara\", \"River\", \"Simon\"]\n",
    "    doomed = crew[2:4]\n",
    "    \n",
    "    print(doomed)\n",
    "    \n",
    "main()\n",
    "```\n",
    "\n"
   ]
  },
  {
   "cell_type": "code",
   "execution_count": null,
   "metadata": {},
   "outputs": [],
   "source": [
    "def main():\n",
    "    crew = [\"Mal\", \"Zoe\", \"Wash\", \"Book\", \"Kaylee\", \"Jayne\", \"Inara\", \"River\", \"Simon\"]\n",
    "    doomed = crew[2:4]\n",
    "\n",
    "    print(doomed)\n",
    "\n",
    "main()"
   ]
  },
  {
   "cell_type": "markdown",
   "metadata": {},
   "source": [
    "We can slice in reverse, by having the start and stop values reversed, and the default values for start and stop are 0 and the length of the list, respectively. Try the above code with *only* a colon in the square brackets to see what happens.\n",
    "\n",
    "Finally it is sometime helpful to use negative indicies, which count from the end of the list rather than the start.\n",
    "\n",
    "## List comprehensions\n",
    "List comprehensions allow us to perform an action for an entire list, similar to using a for loop. The advantage of a list comprehension is that they produce more consise code. Take a look at the program below, and run it. The code uses a loop and a comprehension to do the same thing.\n",
    "\n",
    "```python\n",
    "def main():\n",
    "    names = [\"Robb\", \"Sansa\", \"Arya\", \"Bran\", \"Rickon\"]\n",
    "\n",
    "    # for loop that creates a new list containing the first letter of each name\n",
    "    first_initials = []\n",
    "    for name in names:\n",
    "        first_initials.append(name[0])\n",
    "    print(first_initials)\n",
    "\n",
    "    # list comprehension that does the same thing\n",
    "    first_initials = [name[0] for name in names]\n",
    "    print(first_initials)\n",
    "\n",
    "main()\n",
    "```\n"
   ]
  },
  {
   "cell_type": "code",
   "execution_count": null,
   "metadata": {},
   "outputs": [],
   "source": [
    "def main():\n",
    "    names = [\"Robb\", \"Sansa\", \"Arya\", \"Bran\", \"Rickon\"]\n",
    "\n",
    "    # for loop that creates a new list containing the first letter of each name\n",
    "    first_initials = []\n",
    "    for name in names:\n",
    "        first_initials.append(name[0])\n",
    "    print(first_initials)\n",
    "\n",
    "    # list comprehension that does the same thing\n",
    "    first_initials = [name[0] for name in names]\n",
    "    print(first_initials)\n",
    "\n",
    "main()"
   ]
  },
  {
   "cell_type": "markdown",
   "metadata": {},
   "source": [
    "### Task 4\n",
    "\n",
    "Take the following code and complete it following the comments. Once you have done this you have completed this workbook.\n",
    "\n",
    "```python\n",
    "\n",
    "def main():\n",
    "    names = [\"Robb\", \"Sansa\", \"Arya\", \"Bran\", \"Rickon\"]\n",
    "    almost_numbers = ['0', '1', '2', '3', '4', '5', '6', '7', '8', '9']\n",
    "\n",
    "    # use a list comprehension to create a list of integers from this list of strings\n",
    "    numbers =\n",
    "\n",
    "    # use a list comprehension to create a list of all of the names in lowercase\n",
    "    lowercase_full_names =\n",
    "\n",
    "main()\n",
    "```"
   ]
  },
  {
   "cell_type": "code",
   "execution_count": null,
   "metadata": {},
   "outputs": [],
   "source": [
    "def main():\n",
    "    names = [\"Robb\", \"Sansa\", \"Arya\", \"Bran\", \"Rickon\"]\n",
    "    almost_numbers = ['0', '1', '2', '3', '4', '5', '6', '7', '8', '9']\n",
    "\n",
    "    # use a list comprehension to create a list of integers from this list of strings\n",
    "    numbers = [int(almost_number) for almost_number in almost_numbers]\n",
    "    print(numbers)\n",
    "\n",
    "    # use a list comprehension to create a list of all of the names in lowercase\n",
    "    lowercase_full_names = [names.lower() for names in names]\n",
    "    print(lowercase_full_names)\n",
    "\n",
    "main()"
   ]
  }
 ],
 "metadata": {
  "kernelspec": {
   "display_name": "Python 3",
   "language": "python",
   "name": "python3"
  },
  "language_info": {
   "codemirror_mode": {
    "name": "ipython",
    "version": 3
   },
   "file_extension": ".py",
   "mimetype": "text/x-python",
   "name": "python",
   "nbconvert_exporter": "python",
   "pygments_lexer": "ipython3",
   "version": "3.7.4"
  }
 },
 "nbformat": 4,
 "nbformat_minor": 2
}
