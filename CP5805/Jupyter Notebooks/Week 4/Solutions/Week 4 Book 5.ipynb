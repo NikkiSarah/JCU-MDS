{
 "cells": [
  {
   "cell_type": "markdown",
   "metadata": {},
   "source": [
    "# Jupyter Notebook - Week 4, Book 5\n",
    "## Files in Python\n",
    "Remember that to open a file in Python we say:\n",
    "\n",
    "```python\n",
    "<variable_name> = open(<file_name>, <mode>)\n",
    "```\n",
    "\n",
    "*variable_name* will be the name we use in code to refer to the file, *file_name* is the name of the file on the computer, and *mode* will typically be:\n",
    "- 'r' for read\n",
    "- 'w' for write\n",
    "- 'a' for append\n",
    "\n",
    "If the file does not exist when it is opened then the mode dictates the result:\n",
    "- read mode - the program will throw a *FileNotFoundError* exception\n",
    "- write/append mode - the file is created, and opened\n",
    "\n",
    "If the file *does* exist then write and append behave differently:\n",
    "- write mode - empties the file and prepares to write into the empty file\n",
    "- append mode - leaves the current data in the file and prepares to write new things at the end of the file\n",
    "\n",
    "When you are done with a file you need to close it with:\n",
    "```python\n",
    "<variable_name>.close()\n",
    "```\n",
    "\n",
    "## Writing to files\n",
    "Once a file is open in write or append mode we can print to it, the same way we would to the screen. There are two things to keep in mind:\n",
    "1. Things will look the same in the file as they do on the screen. Spaces, commas, formatting, everything.\n",
    "2. Everything to be printed to a file *must* be a string. Numbers must be typecast using str().\n",
    "\n",
    "The following statement will print to the screen:\n",
    "```python\n",
    "print(\"Hello World\")\n",
    "```\n",
    "while *this* statement will print to a file:\n",
    "```python\n",
    "print(\"Hello World\", file=<file_variable_name>)\n",
    "\n",
    "```\n",
    "\n",
    "### Task 1\n",
    "Write a program that asks the user for five names, and then stores those names in a file, one on each line. Make sure you close the file before you exit."
   ]
  },
  {
   "cell_type": "code",
   "execution_count": 3,
   "metadata": {},
   "outputs": [],
   "source": [
    "file = open(\"week4_book5_t1.txt\", \"w\")\n",
    "for i in range(5):\n",
    "    name = input(\"Enter a name: \")\n",
    "    file.write(name + \"\\n\")\n",
    "\n",
    "file.close()"
   ]
  },
  {
   "cell_type": "markdown",
   "metadata": {},
   "source": [
    "### Task 2\n",
    "Write a program that prints the numbers 1 to 100 to a file, on separate lines. Don't forget to close the file!"
   ]
  },
  {
   "cell_type": "code",
   "execution_count": null,
   "metadata": {
    "collapsed": true
   },
   "outputs": [],
   "source": [
    "file_name = open(\"week4_book5_t2.txt\", \"w\")\n",
    "for i in range(1, 101):\n",
    "    print(str(i), file=file_name)\n",
    "\n",
    "file_name.close()"
   ]
  },
  {
   "cell_type": "markdown",
   "metadata": {},
   "source": [
    "## Reading from files\n",
    "There are a few ways to read from a file. We will practice the most common ones here. Remember we can:\n",
    "- read the *whole* file into a string using read(),\n",
    "- read a single line into a string using readline(), or\n",
    "- read the *whole* file, into a *list* of strings using readlines() - (each line is its own string)\n",
    "\n",
    "These approaches are useful when processing parts of a file, or the whole file at once. Often we will need to process the entire file, line by line. This can be done in a loop, using either readline() or readlines(), but we can also use a for loop to iterate *directly over the file*. **When we use a loop we do not need to use *readline()* or any other reading method**.\n",
    "\n",
    "**Remember** - everything read in from a file is a string. If want numbers, you *must* typecast them using int() or float().\n",
    "\n",
    "The following code creates a file containing 5 numbers, then displays it to the screen. Enter and run it to see this in action:\n",
    "```python\n",
    "def write_numbers(num_list):\n",
    "    out_file = open(\"numbers.txt\", 'w')\n",
    "    for number in num_list:\n",
    "        print(str(number), file=out_file)\n",
    "    out_file.close()\n",
    "\n",
    "\n",
    "def read_numbers():\n",
    "    in_file = open(\"numbers.txt\", 'r')\n",
    "    numbers = []\n",
    "    for line in in_file:\n",
    "        numbers.append(int(line.strip()))\n",
    "    in_file.close()\n",
    "    return numbers\n",
    "    \n",
    "    \n",
    "def main():\n",
    "    from random import randint\n",
    "    nums = []\n",
    "    for i in range(5):\n",
    "        nums.append(randint(1,100))\n",
    "        \n",
    "    write_numbers(nums)    \n",
    "    numbers_from_file = read_numbers()\n",
    "    \n",
    "    for number in numbers_from_file:\n",
    "        print(number)\n",
    "        \n",
    "main()\n",
    "```\n"
   ]
  },
  {
   "cell_type": "code",
   "execution_count": null,
   "metadata": {},
   "outputs": [],
   "source": [
    "def write_numbers(num_list):\n",
    "    out_file = open(\"numbers.txt\", 'w')\n",
    "    for number in num_list:\n",
    "        print(str(number), file=out_file)\n",
    "    out_file.close()\n",
    "\n",
    "\n",
    "def read_numbers():\n",
    "    in_file = open(\"numbers.txt\", 'r')\n",
    "    numbers = []\n",
    "    for line in in_file:\n",
    "        numbers.append(int(line.strip()))\n",
    "    in_file.close()\n",
    "    return numbers\n",
    "\n",
    "\n",
    "def main():\n",
    "    from random import randint\n",
    "    nums = []\n",
    "    for i in range(5):\n",
    "        nums.append(randint(1,100))\n",
    "\n",
    "    write_numbers(nums)\n",
    "    numbers_from_file = read_numbers()\n",
    "\n",
    "    for number in numbers_from_file:\n",
    "        print(number)\n",
    "\n",
    "main()"
   ]
  },
  {
   "cell_type": "markdown",
   "metadata": {},
   "source": [
    "### Task 3\n",
    "Write a program which asks the user for a name, and then opens the file you created in Task 1 to search for that name. If it is there, print \"Welcome, *name*\" and display their name. Otherwise, print \"Invalid name. User not found\" and exit."
   ]
  },
  {
   "cell_type": "code",
   "execution_count": null,
   "metadata": {
    "collapsed": true
   },
   "outputs": [],
   "source": [
    "name = input(\"Enter a name: \")\n",
    "\n",
    "in_file = open(\"week4_book5_t1.txt\", 'r')\n",
    "name_list = []\n",
    "for line in in_file:\n",
    "    name_list.append(line.strip())\n",
    "in_file.close()\n",
    "\n",
    "if name in name_list:\n",
    "    print(\"Welcome, {}\".format(name))\n",
    "else:\n",
    "    print(\"Invalid name. User not found\")"
   ]
  }
 ],
 "metadata": {
  "kernelspec": {
   "display_name": "Python 3",
   "language": "python",
   "name": "python3"
  },
  "language_info": {
   "codemirror_mode": {
    "name": "ipython",
    "version": 3
   },
   "file_extension": ".py",
   "mimetype": "text/x-python",
   "name": "python",
   "nbconvert_exporter": "python",
   "pygments_lexer": "ipython3",
   "version": "3.7.4"
  }
 },
 "nbformat": 4,
 "nbformat_minor": 2
}
