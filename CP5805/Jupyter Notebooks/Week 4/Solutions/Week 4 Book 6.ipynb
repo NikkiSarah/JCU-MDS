{
 "cells": [
  {
   "cell_type": "markdown",
   "metadata": {},
   "source": [
    "# Jupyter Notebook - Week 4, Book 6\n",
    "## CSV files\n",
    "Reading and writing csv file is useful, especially when data is provided to us in a simple format. As mentioned in the notes, not every app uses the csv format consistently, so we use an extra library so we don't have to worry about this :)\n",
    "\n",
    "First we need to import the csv library, then we need to change how we open our file. Opening a normal file would be a single line of code:\n",
    "```python\n",
    "in_data = open(\"myData.csv\", 'r')\n",
    "```\n",
    "but to safely process a csv file we need to add an additional line:\n",
    "```python\n",
    "#assuming our import statement was just 'import csv'\n",
    "data_reader = csv.reader(in_data)\n",
    "```\n",
    "\n",
    "Once this has been done we can iterate over the csv file just like a normal file, in a for loop.\n",
    "\n",
    "We can also write to files, using the following two lines to open a file for writing:\n",
    "```python\n",
    "out_data = open(\"myData.csv\", 'w', newline='')\n",
    "data_writer = csv.writer(out_data)\n",
    "```\n",
    "**IMPORTANT** - when opening a csv file for writing in this way, we need to tell Python to use the blank string '' as the newline character. If we don't, the csv file will contain blank lines between each line of data :(\n",
    "\n",
    "We can then write lines to the file using the *writerow* method:\n",
    "```python\n",
    "data_writer.writerow([\"Name\", \"Quiz 1\", \"Quiz 2\", \"Final\"])\n",
    "data_writer.writerow([\"Kate\", \"89\", \"78\", \"88\"])\n",
    "data_writer.writerow([\"Sara\", \"56\", \"48\", \"65\"])\n",
    "data_writer.writerow([\"Simon\", \"78\", \"81\", \"71\"])\n",
    "```\n",
    "\n",
    "### Task 1\n",
    "Take the samples given above and write a program which creates a csv file containing the data given in the 4 'writerow'lines above."
   ]
  },
  {
   "cell_type": "code",
   "execution_count": 1,
   "metadata": {},
   "outputs": [],
   "source": [
    "import csv\n",
    "\n",
    "out_data = open(\"myData.csv\", 'w', newline='')\n",
    "data_writer = csv.writer(out_data)\n",
    "\n",
    "data_writer.writerow([\"Name\", \"Quiz 1\", \"Quiz 2\", \"Final\"])\n",
    "data_writer.writerow([\"Kate\", \"89\", \"78\", \"88\"])\n",
    "data_writer.writerow([\"Sara\", \"56\", \"48\", \"65\"])\n",
    "data_writer.writerow([\"Simon\", \"78\", \"81\", \"71\"])\n",
    "\n",
    "out_data.close()"
   ]
  },
  {
   "cell_type": "markdown",
   "metadata": {},
   "source": [
    "### Task 2\n",
    "Now write a program which opens and reads the csv file you just created, and prints each line to the screen with some nice formatting (i.e. do NOT just print the list, iterate over it and print it nicely)\n",
    "*Hint* - you can stop each print statement from printing on a separate line by specifying the 'end' character in a print statement. The below example prints 5 numbers, one after the other, separated by spaces:\n",
    "```python\n",
    "for i in range(5):\n",
    "    print(i, end=\" \")\n",
    "```\n"
   ]
  },
  {
   "cell_type": "code",
   "execution_count": 2,
   "metadata": {},
   "outputs": [
    {
     "name": "stdout",
     "output_type": "stream",
     "text": [
      "Name Quiz 1 Quiz 2 Final \n",
      "Kate 89 78 88 \n",
      "Sara 56 48 65 \n",
      "Simon 78 81 71 \n"
     ]
    }
   ],
   "source": [
    "in_data = open(\"myData.csv\", 'r')\n",
    "data_reader = csv.reader(in_data)\n",
    "for data in data_reader:\n",
    "    for item in data:\n",
    "        print(item, end=\" \")\n",
    "    print(\"\\n\", end=\"\")"
   ]
  },
  {
   "cell_type": "code",
   "execution_count": null,
   "metadata": {},
   "outputs": [],
   "source": []
  }
 ],
 "metadata": {
  "kernelspec": {
   "display_name": "Python 3",
   "language": "python",
   "name": "python3"
  },
  "language_info": {
   "codemirror_mode": {
    "name": "ipython",
    "version": 3
   },
   "file_extension": ".py",
   "mimetype": "text/x-python",
   "name": "python",
   "nbconvert_exporter": "python",
   "pygments_lexer": "ipython3",
   "version": "3.7.3"
  }
 },
 "nbformat": 4,
 "nbformat_minor": 2
}
