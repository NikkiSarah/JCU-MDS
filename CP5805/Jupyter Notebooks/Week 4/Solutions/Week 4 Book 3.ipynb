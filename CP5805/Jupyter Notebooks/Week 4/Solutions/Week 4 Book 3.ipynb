{
 "cells": [
  {
   "cell_type": "markdown",
   "metadata": {},
   "source": [
    "# Jupyter Notebook - Week 4, Book 3\n",
    "## Tuples\n",
    "Tuples are like lists, with two major differences:\n",
    "- they are immutable (elements cannot be changed)\n",
    "- they do **not** have the same set of built in functions\n",
    "\n",
    "Tuples are more lightweight (they use less memory) than lists, but can still be iterated over using for loops (exactly like lists).\n",
    "\n",
    "Run the following code to see a tuple in action:\n",
    "\n",
    "```python\n",
    "def main():\n",
    "    values = (42, 34, 54, 1, 65, 32)\n",
    "    \n",
    "    for value in values:\n",
    "        print(value)\n",
    "        \n",
    "    print(\"The smallest value is\", min(values))\n",
    "    print(\"The largest value is\", max(values))\n",
    "    print(\"The total of the values is\", sum(values))\n",
    "    \n",
    "main()\n",
    "```\n"
   ]
  },
  {
   "cell_type": "code",
   "execution_count": null,
   "metadata": {},
   "outputs": [],
   "source": [
    "def main():\n",
    "    values = (42, 34, 54, 1, 65, 32)\n",
    "\n",
    "    for value in values:\n",
    "        print(value)\n",
    "\n",
    "    print(\"The smallest value is\", min(values))\n",
    "    print(\"The largest value is\", max(values))\n",
    "    print(\"The total of the values is\", sum(values))\n",
    "\n",
    "main()"
   ]
  },
  {
   "cell_type": "markdown",
   "metadata": {},
   "source": [
    "### Task 1\n",
    "Write a program that contains a predefined tuple of passwords (\"secret\", \"password\", \"1234abcd\", \"admin\"). The user will be asked to enter a password and the program will respond in one of two ways:\n",
    "- \"Access Granted\" if the password is in the tuple\n",
    "- \"Access Denied\" if it is not\n",
    "\n",
    "**note that these are all terrible passwords, and that storing passwords in plaintext for a comparison like this should never be done!**"
   ]
  },
  {
   "cell_type": "code",
   "execution_count": null,
   "metadata": {},
   "outputs": [],
   "source": [
    "passwords = (\"secret\", \"password\", \"1234abcd\", \"admin\")\n",
    "\n",
    "password = input(\"Enter a password: \")\n",
    "\n",
    "while not password in passwords:\n",
    "    print(\"Access Denied.\")\n",
    "    password = input(\"Enter a password: \")\n",
    "    \n",
    "print(\"Access Granted.\")"
   ]
  }
 ],
 "metadata": {
  "kernelspec": {
   "display_name": "Python 3",
   "language": "python",
   "name": "python3"
  },
  "language_info": {
   "codemirror_mode": {
    "name": "ipython",
    "version": 3
   },
   "file_extension": ".py",
   "mimetype": "text/x-python",
   "name": "python",
   "nbconvert_exporter": "python",
   "pygments_lexer": "ipython3",
   "version": "3.7.3"
  }
 },
 "nbformat": 4,
 "nbformat_minor": 2
}
