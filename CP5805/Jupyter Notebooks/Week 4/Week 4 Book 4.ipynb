{
 "cells": [
  {
   "cell_type": "markdown",
   "metadata": {},
   "source": [
    "# Juptyer Notebook - Week 4, Book 4\n",
    "## Dictionaries\n",
    "Remember that dictionaries are Python's 'Associative Array', we associate a key with a value, and we use that key to access the vakue. Think of it like a phonebook, where we use the name to find the number (except that in this phonebook everyone has a unique name :))\n",
    "\n",
    "### Creating a dictionary \n",
    "```python\n",
    "def main():\n",
    "    #create a dictionary with data\n",
    "    contacts = {'bill': '353-1234', 'rich': '269-1234', 'jane': '352-1234'}\n",
    "\n",
    "    #create an empty dictionary\n",
    "    scores = {}\n",
    "    #add to a dictionary (will overwrite if key exists)\n",
    "    scores[\"Kelly\"] = 42\n",
    "\n",
    "    print(contacts)\n",
    "    print(scores)\n",
    "\n",
    "main()\n",
    "```\n",
    "Run the above code to check you understand how dictionaries work. "
   ]
  },
  {
   "cell_type": "code",
   "execution_count": 1,
   "metadata": {},
   "outputs": [
    {
     "name": "stdout",
     "output_type": "stream",
     "text": [
      "{'bill': '353-1234', 'rich': '269-1234', 'jane': '352-1234'}\n",
      "{'Kelly': 42}\n"
     ]
    }
   ],
   "source": [
    "def main():\n",
    "    #create a dictionary with data\n",
    "    contacts = {'bill': '353-1234', 'rich': '269-1234', 'jane': '352-1234'}\n",
    "\n",
    "    #create an empty dictionary\n",
    "    scores = {}\n",
    "    #add to a dictionary (will overwrite if key exists)\n",
    "    scores[\"Kelly\"] = 42\n",
    "\n",
    "    print(contacts)\n",
    "    print(scores)\n",
    "\n",
    "main()"
   ]
  },
  {
   "cell_type": "markdown",
   "metadata": {},
   "source": [
    "One other useful thing to note is that we (typically) don't ever want to print an entire dictionary, so we usually don't loop over them (but we can if we want :)) Usually we're accessing a single value at a time, or possibly a list of keys (as an index).\n",
    "\n",
    "### Task 1\n",
    "\n",
    "Given the existing dictionary:\n",
    "ages_dict = {\"Bill\": 21, \"Jane\": 34, \"Jack\": 56}\n",
    "\n",
    "Write code to prompt the user for a name and then display the name and associated age to the screen. If the name doesn't exist then display \"Name not found in dictionary\" and exit. (hint - this can be done with exceptions, or a built-in dictionary function. Your choice...)"
   ]
  },
  {
   "cell_type": "code",
   "execution_count": null,
   "metadata": {},
   "outputs": [],
   "source": [
    "def main():\n",
    "    name = input(\"Please enter a name: \")\n",
    "    \n",
    "    ages_dict = {\"Bill\": 21, \"Jane\": 34, \"Jack\": 56}\n",
    "    \n",
    "    try:\n",
    "        print(name + \"'s age is\", ages_dict[name])        \n",
    "    except KeyError:\n",
    "        print(\"Name not found in dictionary\")\n",
    "\n",
    "main()"
   ]
  },
  {
   "cell_type": "markdown",
   "metadata": {},
   "source": [
    "## Dictionary Comprehensions\n",
    "Like lists, we can apply an operation to each element in a dictionary (or do something *with* each element) using a comprehension instead of a loop. Here's another example to test and run. Before you run it, try and work out what it does...\n",
    "\n",
    "```python\n",
    "def main():\n",
    "    ages_dict = {\"Bill\": 17, \"Jane\": 34, \"Jack\": 56, \"Sven\": 13}\n",
    "    new_ones = {name: age for name, age in ages_dict.items() if age < 18}\n",
    "    print(new_ones)\n",
    "\n",
    "main()\n",
    "```\n"
   ]
  },
  {
   "cell_type": "code",
   "execution_count": 2,
   "metadata": {},
   "outputs": [
    {
     "name": "stdout",
     "output_type": "stream",
     "text": [
      "{'Bill': 17, 'Sven': 13}\n"
     ]
    }
   ],
   "source": [
    "def main():\n",
    "    ages_dict = {\"Bill\": 17, \"Jane\": 34, \"Jack\": 56, \"Sven\": 13}\n",
    "    new_ones = {name: age for name, age in ages_dict.items() if age < 18}\n",
    "    print(new_ones)\n",
    "\n",
    "main()"
   ]
  },
  {
   "cell_type": "markdown",
   "metadata": {},
   "source": [
    "The comprehension above is the same as the following loop:\n",
    "\n",
    "```python\n",
    "def main():\n",
    "    ages_dict = {\"Bill\": 17, \"Jane\": 34, \"Jack\": 56, \"Sven\": 13}\n",
    "    new_ones = {}\n",
    "    for name, age in ages_dict.items():\n",
    "        if age < 18:\n",
    "            new_ones[name] = age\n",
    "    print(new_ones)\n",
    "\n",
    "main()\n",
    "```\n",
    "\n",
    "### Task 3\n",
    "Take the dictionary:\n",
    "fahrenheit = {'Jan': 73, 'Feb': 68, 'Mar': 65, 'Apr': 60}\n",
    "\n",
    "and use a dictionary comprehension to produce a second dictionary with the same keys, but the temperature in Celsius\n",
    "(the conversion formula is: celsius = 5.0/9.0 * farenheit-32).\n",
    "Then print this second dictionary, using a simple print as shown above."
   ]
  },
  {
   "cell_type": "code",
   "execution_count": 3,
   "metadata": {},
   "outputs": [
    {
     "name": "stdout",
     "output_type": "stream",
     "text": [
      "{'Jan': 8.6, 'Feb': 5.8, 'Mar': 4.1, 'Apr': 1.3}\n"
     ]
    }
   ],
   "source": [
    "def main():\n",
    "    fahrenheit = {'Jan': 73, 'Feb': 68, 'Mar': 65, 'Apr': 60}\n",
    "    celcius = {month: (round((5.0 / 9.0 * temperature - 32), 1)) for month, temperature in fahrenheit.items()}\n",
    "    print(celcius)    \n",
    "main()"
   ]
  },
  {
   "cell_type": "code",
   "execution_count": null,
   "metadata": {},
   "outputs": [],
   "source": [
    "# for loop\n",
    "def main():\n",
    "    fahrenheit = {'Jan': 73, 'Feb': 68, 'Mar': 65, 'Apr': 60}\n",
    "    celcius = {}\n",
    "    for month, temperature in fahrenheit.items():\n",
    "        celcius[month] = round((5.0 / 9.0 * temperature - 32), 1)\n",
    "    print(celcius)   \n",
    "    \n",
    "main()"
   ]
  }
 ],
 "metadata": {
  "kernelspec": {
   "display_name": "Python 3",
   "language": "python",
   "name": "python3"
  },
  "language_info": {
   "codemirror_mode": {
    "name": "ipython",
    "version": 3
   },
   "file_extension": ".py",
   "mimetype": "text/x-python",
   "name": "python",
   "nbconvert_exporter": "python",
   "pygments_lexer": "ipython3",
   "version": "3.7.4"
  }
 },
 "nbformat": 4,
 "nbformat_minor": 2
}
