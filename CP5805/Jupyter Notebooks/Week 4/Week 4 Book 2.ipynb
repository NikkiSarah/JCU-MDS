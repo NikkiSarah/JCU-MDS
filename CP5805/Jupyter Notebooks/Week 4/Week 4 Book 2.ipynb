{
 "cells": [
  {
   "cell_type": "markdown",
   "metadata": {},
   "source": [
    "# Jupyter Notebook - Week 4, Book 2\n",
    "## 2D Lists\n",
    "\n",
    "### Task 1\n",
    "Write a program that prompts the user for 5 numbers and then stores each of these in a list called numbers. The program should then output various interesting things, as in the output below (green represents user input).\n",
    "\n",
    "Note that you can use the functions min, max, sum and len, and you can use the append method to add a number to a list.\n",
    "```python\n",
    "Number: 5\n",
    "Number: 20\n",
    "Number: 1\n",
    "Number: 2\n",
    "Number: 3\n",
    "```\n",
    "```\n",
    "The first number is 5\n",
    "The last number is 3\n",
    "The smallest number is 1\n",
    "The largest number is 20\n",
    "The average of the numbers is 6.2\n",
    "```\n"
   ]
  },
  {
   "cell_type": "code",
   "execution_count": 2,
   "metadata": {},
   "outputs": [
    {
     "name": "stdout",
     "output_type": "stream",
     "text": [
      "Please enter a number: 5\n",
      "Please enter a number: 20\n",
      "Please enter a number: 1\n",
      "Please enter a number: 2\n",
      "Please enter a number: 3\n",
      "\n",
      "The first number is 5\n",
      "The last number is 3\n",
      "The smallest number is 1\n",
      "The largest number is 20\n",
      "The average of the numbers is 6.2\n"
     ]
    }
   ],
   "source": [
    "def main():\n",
    "    numbers_list = []\n",
    "\n",
    "    for count in range(0,5):\n",
    "        number = int(input(\"Please enter a number: \"))\n",
    "        numbers_list.append(number)\n",
    "        count += 1\n",
    "\n",
    "    print(\"\")   \n",
    "    print(\"The first number is\", numbers_list[0])\n",
    "    print(\"The last number is\", numbers_list[len(numbers_list) - 1])\n",
    "    print(\"The smallest number is\", min(numbers_list))\n",
    "    print(\"The largest number is\", max(numbers_list))\n",
    "    print(\"The average of the numbers is\", sum(numbers_list) / len(numbers_list))\n",
    "\n",
    "main()"
   ]
  },
  {
   "cell_type": "markdown",
   "metadata": {},
   "source": [
    "### Task 2\n",
    "Write Python code that will get 5 strings from a user and save them in a list. Once the list is filled the program should print the contents of the list in ascending order.\n",
    "\n",
    "You may find Python's [sort()](https://docs.python.org/3/library/stdtypes.html#list.sort) function useful."
   ]
  },
  {
   "cell_type": "code",
   "execution_count": 8,
   "metadata": {},
   "outputs": [
    {
     "name": "stdout",
     "output_type": "stream",
     "text": [
      "Please enter a string: Archie\n",
      "Please enter a string: Grace\n",
      "Please enter a string: Angel\n",
      "Please enter a string: Sapphire\n",
      "Please enter a string: Charlie\n",
      "\n",
      "['Angel', 'Archie', 'Charlie', 'Grace', 'Sapphire']\n"
     ]
    }
   ],
   "source": [
    "strings_list = []\n",
    "\n",
    "for count in range(0,5):\n",
    "    string = input(\"Please enter a string: \")\n",
    "    strings_list.append(string)\n",
    "    count += 1\n",
    "\n",
    "strings_list.sort()\n",
    "print(\"\")\n",
    "print(strings_list)"
   ]
  },
  {
   "cell_type": "markdown",
   "metadata": {},
   "source": [
    "### Task 3\n",
    "Once you have tested your previous code (from Task 2) with some words test it with five numbers, like these:\n",
    "34, 120, 230, 330, 12\n",
    "\n",
    "What do you notice about the sorting with these values?\n",
    "The reason they aren't sorted correctly is because they are being sorted as strings, not as numbers.\n",
    "\n",
    "Create a second version of your program below which converts inputs to ints before appending them to your list."
   ]
  },
  {
   "cell_type": "code",
   "execution_count": 9,
   "metadata": {},
   "outputs": [
    {
     "name": "stdout",
     "output_type": "stream",
     "text": [
      "Please enter a string: 34\n",
      "Please enter a string: 120\n",
      "Please enter a string: 230\n",
      "Please enter a string: 330\n",
      "Please enter a string: 12\n",
      "\n",
      "['12', '120', '230', '330', '34']\n"
     ]
    }
   ],
   "source": [
    "strings_list = []\n",
    "\n",
    "for count in range(0,5):\n",
    "    string = input(\"Please enter a string: \")\n",
    "    strings_list.append(string)\n",
    "    count += 1\n",
    "\n",
    "strings_list.sort()\n",
    "print(\"\")\n",
    "print(strings_list)"
   ]
  },
  {
   "cell_type": "code",
   "execution_count": 10,
   "metadata": {},
   "outputs": [
    {
     "name": "stdout",
     "output_type": "stream",
     "text": [
      "Please enter a string: 34\n",
      "Please enter a string: 120\n",
      "Please enter a string: 230\n",
      "Please enter a string: 330\n",
      "Please enter a string: 12\n",
      "\n",
      "[12, 34, 120, 230, 330]\n"
     ]
    }
   ],
   "source": [
    "strings_list = []\n",
    "\n",
    "for count in range(0,5):\n",
    "    string = int(input(\"Please enter a string: \"))\n",
    "    strings_list.append(string)\n",
    "    count += 1\n",
    "\n",
    "strings_list.sort()\n",
    "print(\"\")\n",
    "print(strings_list)"
   ]
  },
  {
   "cell_type": "markdown",
   "metadata": {},
   "source": [
    "### Sorting exception\n",
    "When we sort lists we need to be sure that all list elements can be compared with each other. When this is not the case a new exception will be caused, run the following code to see what it is:\n",
    "\n",
    "```python\n",
    "def main():\n",
    "    bad_list = [\"Hello\", 42]\n",
    "    bad_list.sort()\n",
    "    \n",
    "main()\n",
    "```\n"
   ]
  },
  {
   "cell_type": "code",
   "execution_count": 11,
   "metadata": {},
   "outputs": [
    {
     "ename": "TypeError",
     "evalue": "'<' not supported between instances of 'int' and 'str'",
     "output_type": "error",
     "traceback": [
      "\u001b[1;31m---------------------------------------------------------------------------\u001b[0m",
      "\u001b[1;31mTypeError\u001b[0m                                 Traceback (most recent call last)",
      "\u001b[1;32m<ipython-input-11-1cbb528103ae>\u001b[0m in \u001b[0;36m<module>\u001b[1;34m\u001b[0m\n\u001b[0;32m      3\u001b[0m     \u001b[0mbad_list\u001b[0m\u001b[1;33m.\u001b[0m\u001b[0msort\u001b[0m\u001b[1;33m(\u001b[0m\u001b[1;33m)\u001b[0m\u001b[1;33m\u001b[0m\u001b[1;33m\u001b[0m\u001b[0m\n\u001b[0;32m      4\u001b[0m \u001b[1;33m\u001b[0m\u001b[0m\n\u001b[1;32m----> 5\u001b[1;33m \u001b[0mmain\u001b[0m\u001b[1;33m(\u001b[0m\u001b[1;33m)\u001b[0m\u001b[1;33m\u001b[0m\u001b[1;33m\u001b[0m\u001b[0m\n\u001b[0m",
      "\u001b[1;32m<ipython-input-11-1cbb528103ae>\u001b[0m in \u001b[0;36mmain\u001b[1;34m()\u001b[0m\n\u001b[0;32m      1\u001b[0m \u001b[1;32mdef\u001b[0m \u001b[0mmain\u001b[0m\u001b[1;33m(\u001b[0m\u001b[1;33m)\u001b[0m\u001b[1;33m:\u001b[0m\u001b[1;33m\u001b[0m\u001b[1;33m\u001b[0m\u001b[0m\n\u001b[0;32m      2\u001b[0m     \u001b[0mbad_list\u001b[0m \u001b[1;33m=\u001b[0m \u001b[1;33m[\u001b[0m\u001b[1;34m\"Hello\"\u001b[0m\u001b[1;33m,\u001b[0m \u001b[1;36m42\u001b[0m\u001b[1;33m]\u001b[0m\u001b[1;33m\u001b[0m\u001b[1;33m\u001b[0m\u001b[0m\n\u001b[1;32m----> 3\u001b[1;33m     \u001b[0mbad_list\u001b[0m\u001b[1;33m.\u001b[0m\u001b[0msort\u001b[0m\u001b[1;33m(\u001b[0m\u001b[1;33m)\u001b[0m\u001b[1;33m\u001b[0m\u001b[1;33m\u001b[0m\u001b[0m\n\u001b[0m\u001b[0;32m      4\u001b[0m \u001b[1;33m\u001b[0m\u001b[0m\n\u001b[0;32m      5\u001b[0m \u001b[0mmain\u001b[0m\u001b[1;33m(\u001b[0m\u001b[1;33m)\u001b[0m\u001b[1;33m\u001b[0m\u001b[1;33m\u001b[0m\u001b[0m\n",
      "\u001b[1;31mTypeError\u001b[0m: '<' not supported between instances of 'int' and 'str'"
     ]
    }
   ],
   "source": [
    "def main():\n",
    "    bad_list = [\"Hello\", 42]\n",
    "    bad_list.sort()\n",
    "\n",
    "main()"
   ]
  },
  {
   "cell_type": "markdown",
   "metadata": {},
   "source": [
    "## Slicing Lists\n",
    "We already know that we can access an element of a list using an index in square brackets. We can also access a *slice* of a list, by specifying the beginning and end. These two indicies are separated by a colon, and the slice will start at the first index, and go up to but **not including** the second index. It looks like list_name[*start*:*stop*] Run and play with the following code to see this in action.\n",
    "\n",
    "```python\n",
    "def main():\n",
    "    crew = [\"Mal\", \"Zoe\", \"Wash\", \"Book\", \"Kaylee\", \"Jayne\", \"Inara\", \"River\", \"Simon\"]\n",
    "    doomed = crew[2:4]\n",
    "    \n",
    "    print(doomed)\n",
    "    \n",
    "main()\n",
    "```\n",
    "\n"
   ]
  },
  {
   "cell_type": "code",
   "execution_count": 12,
   "metadata": {},
   "outputs": [
    {
     "name": "stdout",
     "output_type": "stream",
     "text": [
      "['Wash', 'Book']\n"
     ]
    }
   ],
   "source": [
    "def main():\n",
    "    crew = [\"Mal\", \"Zoe\", \"Wash\", \"Book\", \"Kaylee\", \"Jayne\", \"Inara\", \"River\", \"Simon\"]\n",
    "    doomed = crew[2:4]\n",
    "\n",
    "    print(doomed)\n",
    "\n",
    "main()"
   ]
  },
  {
   "cell_type": "markdown",
   "metadata": {},
   "source": [
    "We can slice in reverse, by having the start and stop values reversed, and the default values for start and stop are 0 and the length of the list, respectively. Try the above code with *only* a colon in the square brackets to see what happens.\n",
    "\n",
    "Finally it is sometime helpful to use negative indicies, which count from the end of the list rather than the start."
   ]
  },
  {
   "cell_type": "code",
   "execution_count": 13,
   "metadata": {},
   "outputs": [
    {
     "name": "stdout",
     "output_type": "stream",
     "text": [
      "['Mal', 'Zoe', 'Wash', 'Book', 'Kaylee', 'Jayne', 'Inara', 'River', 'Simon']\n"
     ]
    }
   ],
   "source": [
    "def main():\n",
    "    crew = [\"Mal\", \"Zoe\", \"Wash\", \"Book\", \"Kaylee\", \"Jayne\", \"Inara\", \"River\", \"Simon\"]\n",
    "    doomed = crew[:]\n",
    "\n",
    "    print(doomed)\n",
    "\n",
    "main()"
   ]
  },
  {
   "cell_type": "markdown",
   "metadata": {},
   "source": [
    "## List comprehensions\n",
    "List comprehensions allow us to perform an action for an entire list, similar to using a for loop. The advantage of a list comprehension is that they produce more consise code. Take a look at the program below, and run it. The code uses a loop and a comprehension to do the same thing.\n",
    "\n",
    "```python\n",
    "def main():\n",
    "    names = [\"Robb\", \"Sansa\", \"Arya\", \"Bran\", \"Rickon\"]\n",
    "\n",
    "    # for loop that creates a new list containing the first letter of each name\n",
    "    first_initials = []\n",
    "    for name in names:\n",
    "        first_initials.append(name[0])\n",
    "    print(first_initials)\n",
    "\n",
    "    # list comprehension that does the same thing\n",
    "    first_initials = [name[0] for name in names]\n",
    "    print(first_initials)\n",
    "\n",
    "main()\n",
    "```\n"
   ]
  },
  {
   "cell_type": "code",
   "execution_count": 1,
   "metadata": {},
   "outputs": [
    {
     "name": "stdout",
     "output_type": "stream",
     "text": [
      "['R', 'S', 'A', 'B', 'R']\n",
      "['R', 'S', 'A', 'B', 'R']\n"
     ]
    }
   ],
   "source": [
    "def main():\n",
    "    names = [\"Robb\", \"Sansa\", \"Arya\", \"Bran\", \"Rickon\"]\n",
    "\n",
    "    # for loop that creates a new list containing the first letter of each name\n",
    "    first_initials = []\n",
    "    for name in names:\n",
    "        first_initials.append(name[0])\n",
    "    print(first_initials)\n",
    "\n",
    "    # list comprehension that does the same thing\n",
    "    first_initials = [name[0] for name in names]\n",
    "    print(first_initials)\n",
    "\n",
    "main()"
   ]
  },
  {
   "cell_type": "markdown",
   "metadata": {},
   "source": [
    "### Task 4\n",
    "\n",
    "Take the following code and complete it following the comments. Once you have done this you have completed this workbook.\n",
    "\n",
    "```python\n",
    "\n",
    "def main():\n",
    "    names = [\"Robb\", \"Sansa\", \"Arya\", \"Bran\", \"Rickon\"]\n",
    "    almost_numbers = ['0', '1', '2', '3', '4', '5', '6', '7', '8', '9']\n",
    "\n",
    "    # use a list comprehension to create a list of integers from this list of strings\n",
    "    numbers =\n",
    "\n",
    "    # use a list comprehension to create a list of all of the names in lowercase\n",
    "    lowercase_full_names =\n",
    "\n",
    "main()\n",
    "```"
   ]
  },
  {
   "cell_type": "code",
   "execution_count": 1,
   "metadata": {},
   "outputs": [
    {
     "name": "stdout",
     "output_type": "stream",
     "text": [
      "[0, 1, 2, 3, 4, 5, 6, 7, 8, 9]\n",
      "['robb', 'sansa', 'arya', 'bran', 'rickon']\n"
     ]
    }
   ],
   "source": [
    "def main():\n",
    "    names = [\"Robb\", \"Sansa\", \"Arya\", \"Bran\", \"Rickon\"]\n",
    "    almost_numbers = ['0', '1', '2', '3', '4', '5', '6', '7', '8', '9']\n",
    "\n",
    "    # use a list comprehension to create a list of integers from this list of strings\n",
    "    numbers = [int(almost_number) for almost_number in almost_numbers]\n",
    "    print(numbers)\n",
    "    \n",
    "    # use a list comprehension to create a list of all of the names in lowercase\n",
    "    lowercase_full_names = [name.lower() for name in names]\n",
    "    print(lowercase_full_names)\n",
    "\n",
    "main()"
   ]
  }
 ],
 "metadata": {
  "kernelspec": {
   "display_name": "Python 3",
   "language": "python",
   "name": "python3"
  },
  "language_info": {
   "codemirror_mode": {
    "name": "ipython",
    "version": 3
   },
   "file_extension": ".py",
   "mimetype": "text/x-python",
   "name": "python",
   "nbconvert_exporter": "python",
   "pygments_lexer": "ipython3",
   "version": "3.7.4"
  }
 },
 "nbformat": 4,
 "nbformat_minor": 2
}
