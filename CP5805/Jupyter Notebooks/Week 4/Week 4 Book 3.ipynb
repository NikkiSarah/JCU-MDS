{
 "cells": [
  {
   "cell_type": "markdown",
   "metadata": {},
   "source": [
    "# Jupyter Notebook - Week 4, Book 3\n",
    "## Tuples\n",
    "Tuples are like lists, with two major differences:\n",
    "- they are immutable (elements cannot be changed)\n",
    "- they do **not** have the same set of built in functions\n",
    "\n",
    "Tuples are more lightweight (they use less memory) than lists, but can still be iterated over using for loops (exactly like lists).\n",
    "\n",
    "Run the following code to see a tuple in action:\n",
    "\n",
    "```python\n",
    "def main():\n",
    "    values = (42, 34, 54, 1, 65, 32)\n",
    "    \n",
    "    for value in values:\n",
    "        print(value)\n",
    "        \n",
    "    print(\"The smallest value is\", min(values))\n",
    "    print(\"The largest value is\", max(values))\n",
    "    print(\"The total of the values is\", sum(values))\n",
    "    \n",
    "main()\n",
    "```\n"
   ]
  },
  {
   "cell_type": "code",
   "execution_count": 1,
   "metadata": {},
   "outputs": [
    {
     "name": "stdout",
     "output_type": "stream",
     "text": [
      "42\n",
      "34\n",
      "54\n",
      "1\n",
      "65\n",
      "32\n",
      "The smallest value is 1\n",
      "The largest value is 65\n",
      "The total of the values is 228\n"
     ]
    }
   ],
   "source": [
    "def main():\n",
    "    values = (42, 34, 54, 1, 65, 32)\n",
    "\n",
    "    for value in values:\n",
    "        print(value)\n",
    "\n",
    "    print(\"The smallest value is\", min(values))\n",
    "    print(\"The largest value is\", max(values))\n",
    "    print(\"The total of the values is\", sum(values))\n",
    "\n",
    "main()"
   ]
  },
  {
   "cell_type": "markdown",
   "metadata": {},
   "source": [
    "### Task 1\n",
    "Write a program that contains a predefined tuple of passwords (\"secret\", \"password\", \"1234abcd\", \"admin\"). The user will be asked to enter a password and the program will respond in one of two ways:\n",
    "- \"Access Granted\" if the password is in the tuple\n",
    "- \"Access Denied\" if it is not\n",
    "\n",
    "**note that these are all terrible passwords, and that storing passwords in plaintext for a comparison like this should never be done!**"
   ]
  },
  {
   "cell_type": "code",
   "execution_count": null,
   "metadata": {},
   "outputs": [],
   "source": [
    "def main():\n",
    "    passwords = (\"secret\", \"password\", \"1234abcd\", \"admin\")\n",
    "    \n",
    "    password = input(\"Please enter a password: \")\n",
    "    \n",
    "    while not password in passwords:\n",
    "        print(\"Access Denied\")\n",
    "        password = input(\"Please enter a password: \")\n",
    "    else:\n",
    "        print(\"Access Granted\")\n",
    "\n",
    "main()"
   ]
  }
 ],
 "metadata": {
  "kernelspec": {
   "display_name": "Python 3",
   "language": "python",
   "name": "python3"
  },
  "language_info": {
   "codemirror_mode": {
    "name": "ipython",
    "version": 3
   },
   "file_extension": ".py",
   "mimetype": "text/x-python",
   "name": "python",
   "nbconvert_exporter": "python",
   "pygments_lexer": "ipython3",
   "version": "3.7.4"
  }
 },
 "nbformat": 4,
 "nbformat_minor": 2
}
