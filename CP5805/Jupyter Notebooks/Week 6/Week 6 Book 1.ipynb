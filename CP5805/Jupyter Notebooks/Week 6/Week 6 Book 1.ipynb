{
 "cells": [
  {
   "cell_type": "markdown",
   "metadata": {},
   "source": [
    "# Jupyter Notebook - Week 6, Book 1\n",
    "## Files in pandas\n",
    "For the first 3 tasks you will need the .csv files provided.\n",
    "\n",
    "### Task 1\n",
    "Let's start simply. Write a program which opens task1.csv and reads its contents into a DataFrame. Then, display this DataFrame to the screen."
   ]
  },
  {
   "cell_type": "code",
   "execution_count": 10,
   "metadata": {},
   "outputs": [
    {
     "data": {
      "text/html": [
       "<div>\n",
       "<style scoped>\n",
       "    .dataframe tbody tr th:only-of-type {\n",
       "        vertical-align: middle;\n",
       "    }\n",
       "\n",
       "    .dataframe tbody tr th {\n",
       "        vertical-align: top;\n",
       "    }\n",
       "\n",
       "    .dataframe thead th {\n",
       "        text-align: right;\n",
       "    }\n",
       "</style>\n",
       "<table border=\"1\" class=\"dataframe\">\n",
       "  <thead>\n",
       "    <tr style=\"text-align: right;\">\n",
       "      <th></th>\n",
       "      <th>ProductID</th>\n",
       "      <th>Name</th>\n",
       "      <th>Price</th>\n",
       "    </tr>\n",
       "  </thead>\n",
       "  <tbody>\n",
       "    <tr>\n",
       "      <td>0</td>\n",
       "      <td>DG35823G</td>\n",
       "      <td>Wilson Flange</td>\n",
       "      <td>1311</td>\n",
       "    </tr>\n",
       "    <tr>\n",
       "      <td>1</td>\n",
       "      <td>GS23829H</td>\n",
       "      <td>Handle Girder</td>\n",
       "      <td>213</td>\n",
       "    </tr>\n",
       "    <tr>\n",
       "      <td>2</td>\n",
       "      <td>KH63532G</td>\n",
       "      <td>Nimble Tractor</td>\n",
       "      <td>328</td>\n",
       "    </tr>\n",
       "    <tr>\n",
       "      <td>3</td>\n",
       "      <td>HS98234B</td>\n",
       "      <td>Addison Silencer</td>\n",
       "      <td>2321</td>\n",
       "    </tr>\n",
       "    <tr>\n",
       "      <td>4</td>\n",
       "      <td>FG65251N</td>\n",
       "      <td>Peterson Gorge</td>\n",
       "      <td>7263</td>\n",
       "    </tr>\n",
       "    <tr>\n",
       "      <td>5</td>\n",
       "      <td>MN87383H</td>\n",
       "      <td>Limber Drumble</td>\n",
       "      <td>637</td>\n",
       "    </tr>\n",
       "  </tbody>\n",
       "</table>\n",
       "</div>"
      ],
      "text/plain": [
       "  ProductID              Name  Price\n",
       "0  DG35823G     Wilson Flange   1311\n",
       "1  GS23829H     Handle Girder    213\n",
       "2  KH63532G    Nimble Tractor    328\n",
       "3  HS98234B  Addison Silencer   2321\n",
       "4  FG65251N    Peterson Gorge   7263\n",
       "5  MN87383H    Limber Drumble    637"
      ]
     },
     "execution_count": 10,
     "metadata": {},
     "output_type": "execute_result"
    }
   ],
   "source": [
    "import pandas as pd\n",
    "\n",
    "df = pd.read_csv('Book 1 Task 1.csv')\n",
    "df"
   ]
  },
  {
   "cell_type": "markdown",
   "metadata": {},
   "source": [
    "### Task 2\n",
    "The file task2.csv needs to be loaded into our program, but it doesn't contain a header row. Write two functions here, and test both from main(). The first will use automaticlly generated headers when loading the file, and the second will use the following headers: \"ProductID\", \"Name\", \"Price\"\n",
    "\n",
    "Both functions need to read the task2.csv file in appropriately, and then print it.\n"
   ]
  },
  {
   "cell_type": "code",
   "execution_count": 11,
   "metadata": {},
   "outputs": [
    {
     "name": "stdout",
     "output_type": "stream",
     "text": [
      "                  0     1         2\n",
      "0     Wilson Flange  1311  DG35823G\n",
      "1     Handle Girder   213  GS23829H\n",
      "2    Nimble Tractor   328  KH63532G\n",
      "3  Addison Silencer  2321  HS98234B\n",
      "4    Peterson Gorge  7263  FG65251N\n",
      "5    Limber Drumble   637  MN87383H\n",
      "\n",
      "               Name  Price ProductID\n",
      "0     Wilson Flange   1311  DG35823G\n",
      "1     Handle Girder    213  GS23829H\n",
      "2    Nimble Tractor    328  KH63532G\n",
      "3  Addison Silencer   2321  HS98234B\n",
      "4    Peterson Gorge   7263  FG65251N\n",
      "5    Limber Drumble    637  MN87383H\n"
     ]
    }
   ],
   "source": [
    "import pandas as pd\n",
    "\n",
    "def main():\n",
    "    load_file_with_auto_generated_headers()\n",
    "    print()\n",
    "    load_file_with_user_assigned_headers()\n",
    "    \n",
    "def load_file_with_auto_generated_headers():\n",
    "    df_auto = pd.read_csv('Book 1 Task 2.csv', header = None)\n",
    "    print(df_auto)\n",
    "\n",
    "def load_file_with_user_assigned_headers():\n",
    "    df_user_assigned = pd.read_csv('Book 1 Task 2.csv', names = ['Name', 'Price', 'ProductID'])\n",
    "    print(df_user_assigned)\n",
    "\n",
    "main()"
   ]
  },
  {
   "cell_type": "markdown",
   "metadata": {},
   "source": [
    "### Task 3\n",
    "Now write a program which loads the file task3.csv into a DataFrame, using the existing header row, and using the \"ID\" column as the index."
   ]
  },
  {
   "cell_type": "code",
   "execution_count": 7,
   "metadata": {},
   "outputs": [
    {
     "data": {
      "text/html": [
       "<div>\n",
       "<style scoped>\n",
       "    .dataframe tbody tr th:only-of-type {\n",
       "        vertical-align: middle;\n",
       "    }\n",
       "\n",
       "    .dataframe tbody tr th {\n",
       "        vertical-align: top;\n",
       "    }\n",
       "\n",
       "    .dataframe thead th {\n",
       "        text-align: right;\n",
       "    }\n",
       "</style>\n",
       "<table border=\"1\" class=\"dataframe\">\n",
       "  <thead>\n",
       "    <tr style=\"text-align: right;\">\n",
       "      <th></th>\n",
       "      <th>Name</th>\n",
       "      <th>Price</th>\n",
       "    </tr>\n",
       "    <tr>\n",
       "      <th>ProductID</th>\n",
       "      <th></th>\n",
       "      <th></th>\n",
       "    </tr>\n",
       "  </thead>\n",
       "  <tbody>\n",
       "    <tr>\n",
       "      <td>DG35823G</td>\n",
       "      <td>Wilson Flange</td>\n",
       "      <td>1311</td>\n",
       "    </tr>\n",
       "    <tr>\n",
       "      <td>GS23829H</td>\n",
       "      <td>Handle Girder</td>\n",
       "      <td>213</td>\n",
       "    </tr>\n",
       "    <tr>\n",
       "      <td>KH63532G</td>\n",
       "      <td>Nimble Tractor</td>\n",
       "      <td>328</td>\n",
       "    </tr>\n",
       "    <tr>\n",
       "      <td>HS98234B</td>\n",
       "      <td>Addison Silencer</td>\n",
       "      <td>2321</td>\n",
       "    </tr>\n",
       "    <tr>\n",
       "      <td>FG65251N</td>\n",
       "      <td>Peterson Gorge</td>\n",
       "      <td>7263</td>\n",
       "    </tr>\n",
       "    <tr>\n",
       "      <td>MN87383H</td>\n",
       "      <td>Limber Drumble</td>\n",
       "      <td>637</td>\n",
       "    </tr>\n",
       "  </tbody>\n",
       "</table>\n",
       "</div>"
      ],
      "text/plain": [
       "                       Name  Price\n",
       "ProductID                         \n",
       "DG35823G      Wilson Flange   1311\n",
       "GS23829H      Handle Girder    213\n",
       "KH63532G     Nimble Tractor    328\n",
       "HS98234B   Addison Silencer   2321\n",
       "FG65251N     Peterson Gorge   7263\n",
       "MN87383H     Limber Drumble    637"
      ]
     },
     "execution_count": 7,
     "metadata": {},
     "output_type": "execute_result"
    }
   ],
   "source": [
    "import pandas as pd\n",
    "\n",
    "df = pd.read_csv('Book 1 Task 3.csv', index_col = 'ProductID')\n",
    "df"
   ]
  },
  {
   "cell_type": "markdown",
   "metadata": {},
   "source": [
    "### Task 4\n",
    "Take the following DataFrame:\n",
    "```python\n",
    "data = { 'state' : [ 'Ohio' , 'Ohio' , 'Ohio' , 'Nevada' , 'Nevada' , 'Nevada' ],\n",
    "'year' : [ 2000 , 2001 , 2002 , 2001 , 2002 , 2003 ],\n",
    "'pop' : [ 1.5 , 1.7 , 3.6 , 2.4 , 2.9 , 3.2 ]}\n",
    "frame = pd.DataFrame (data)\n",
    "```\n",
    "and save it three times, using the following names and requirements:\n",
    "\n",
    "|Filename|Requirements|\n",
    "|-:|:-|\n",
    "|full_frame.csv|Contains the data, headers, and index labels|\n",
    "|data.csv|Contains data and headers, but no index|\n",
    "|state_data.csv|Contains data and headers, in the order \"state\", \"year\", \"pop\". No index|"
   ]
  },
  {
   "cell_type": "code",
   "execution_count": 18,
   "metadata": {},
   "outputs": [],
   "source": [
    "data = { 'state' : [ 'Ohio' , 'Ohio' , 'Ohio' , 'Nevada' , 'Nevada' , 'Nevada' ],\n",
    "'year' : [ 2000 , 2001 , 2002 , 2001 , 2002 , 2003 ],\n",
    "'pop' : [ 1.5 , 1.7 , 3.6 , 2.4 , 2.9 , 3.2 ]}\n",
    "frame = pd.DataFrame(data)\n",
    "\n",
    "frame.to_csv('full_frame.csv')\n",
    "frame.to_csv('data.csv', index = False)\n",
    "frame.to_csv('state_data.csv', index = False, columns = ['state', 'year', 'pop'])"
   ]
  }
 ],
 "metadata": {
  "kernelspec": {
   "display_name": "Python 3",
   "language": "python",
   "name": "python3"
  },
  "language_info": {
   "codemirror_mode": {
    "name": "ipython",
    "version": 3
   },
   "file_extension": ".py",
   "mimetype": "text/x-python",
   "name": "python",
   "nbconvert_exporter": "python",
   "pygments_lexer": "ipython3",
   "version": "3.7.4"
  }
 },
 "nbformat": 4,
 "nbformat_minor": 2
}
