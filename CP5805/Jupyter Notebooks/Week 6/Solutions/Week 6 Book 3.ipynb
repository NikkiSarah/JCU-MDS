{
 "cells": [
  {
   "cell_type": "markdown",
   "metadata": {},
   "source": [
    "# Jupyter Notebook - Week 6, Book 3\n",
    "### Discretizing Data\n",
    "For each of the following tasks begin with this list:\n",
    "```python\n",
    "my_data = [43, 37, 94, 64, 89, 57, 12, 32, 98, 74, 39, 56, 91, 61, 53, 36, 94, 34, 23, 62, 59, 92, 85, 86, 52]\n",
    "```\n",
    "### Task 1\n",
    "Take *my_data* and break it into 5 buckets using the following ranges:\n",
    "```\n",
    "|0-49|50-64|65-74|75-84|85-100|\n",
    "```"
   ]
  },
  {
   "cell_type": "code",
   "execution_count": 2,
   "metadata": {},
   "outputs": [
    {
     "name": "stdout",
     "output_type": "stream",
     "text": [
      "IntervalIndex([(0, 49], (49, 64], (64, 74], (74, 84], (84, 100]],\n",
      "              closed='right',\n",
      "              dtype='interval[int64]')\n"
     ]
    }
   ],
   "source": [
    "import pandas as pd\n",
    "\n",
    "my_data = [43, 37, 94, 64, 89, 57, 12, 32, 98, 74, 39, 56, 91, 61, 53, 36, 94, 34, 23, 62, 59, 92, 85, 86, 52]\n",
    "\n",
    "bins = [0, 49, 64, 74, 84, 100]\n",
    "buckets = pd.cut(my_data, bins)"
   ]
  },
  {
   "cell_type": "markdown",
   "metadata": {},
   "source": [
    "### Task 2\n",
    "Take *my_data* and break it into 5 buckets of equal range."
   ]
  },
  {
   "cell_type": "code",
   "execution_count": 3,
   "metadata": {},
   "outputs": [
    {
     "name": "stdout",
     "output_type": "stream",
     "text": [
      "[(29.2, 46.4], (29.2, 46.4], (80.8, 98.0], (63.6, 80.8], (80.8, 98.0], ..., (46.4, 63.6], (80.8, 98.0], (80.8, 98.0], (80.8, 98.0], (46.4, 63.6]]\n",
      "Length: 25\n",
      "Categories (5, interval[float64]): [(11.914, 29.2] < (29.2, 46.4] < (46.4, 63.6] < (63.6, 80.8] < (80.8, 98.0]]\n"
     ]
    }
   ],
   "source": [
    "import pandas as pd\n",
    "\n",
    "my_data = [43, 37, 94, 64, 89, 57, 12, 32, 98, 74, 39, 56, 91, 61, 53, 36, 94, 34, 23, 62, 59, 92, 85, 86, 52]\n",
    "\n",
    "buckets = pd.cut(my_data, 5)"
   ]
  },
  {
   "cell_type": "markdown",
   "metadata": {},
   "source": [
    "### Task 3\n",
    "Take *my_data* and break it into 5 buckets of equal size (similar number of elements)"
   ]
  },
  {
   "cell_type": "code",
   "execution_count": 5,
   "metadata": {},
   "outputs": [
    {
     "name": "stdout",
     "output_type": "stream",
     "text": [
      "[(36.8, 54.8], (36.8, 54.8], (89.4, 98.0], (62.8, 89.4], (62.8, 89.4], ..., (54.8, 62.8], (89.4, 98.0], (62.8, 89.4], (62.8, 89.4], (36.8, 54.8]]\n",
      "Length: 25\n",
      "Categories (5, interval[float64]): [(11.999, 36.8] < (36.8, 54.8] < (54.8, 62.8] < (62.8, 89.4] < (89.4, 98.0]]\n"
     ]
    }
   ],
   "source": [
    "import pandas as pd\n",
    "\n",
    "my_data = [43, 37, 94, 64, 89, 57, 12, 32, 98, 74, 39, 56, 91, 61, 53, 36, 94, 34, 23, 62, 59, 92, 85, 86, 52]\n",
    "\n",
    "buckets = pd.qcut(my_data, 5)"
   ]
  }
 ],
 "metadata": {
  "kernelspec": {
   "display_name": "Python 3",
   "language": "python",
   "name": "python3"
  },
  "language_info": {
   "codemirror_mode": {
    "name": "ipython",
    "version": 3
   },
   "file_extension": ".py",
   "mimetype": "text/x-python",
   "name": "python",
   "nbconvert_exporter": "python",
   "pygments_lexer": "ipython3",
   "version": "3.7.4"
  }
 },
 "nbformat": 4,
 "nbformat_minor": 2
}
